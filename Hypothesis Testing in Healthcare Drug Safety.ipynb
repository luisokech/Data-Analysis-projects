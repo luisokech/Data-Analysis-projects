{
 "cells": [
  {
   "cell_type": "markdown",
   "id": "59090772-03e5-4a43-a7c7-eebdfa709342",
   "metadata": {},
   "source": [
    "# Hypothesis Testing in Healthcare: Drug Safety\n",
    "\n",
    "A pharmaceutical company GlobalXYZ has just completed a randomized controlled drug trial. To promote transparency and reproducibility of the drug's outcome, they (GlobalXYZ) have presented the dataset to your organization, a non-profit that focuses primarily on drug safety.\n",
    "\n",
    "The dataset provided contained five adverse effects, demographic data, vital signs, etc. Your organization is primarily interested in the drug's adverse reactions. It wants to know if the adverse reactions, if any, are of significant proportions. It has asked you to explore and answer some questions from the data.\n",
    "\n",
    "The dataset `drug_safety.csv` was obtained from [Hbiostat](https://hbiostat.org/data/) courtesy of the Vanderbilt University Department of Biostatistics. It contained five adverse effects: headache, abdominal pain, dyspepsia, upper respiratory infection, chronic obstructive airway disease (COAD), demographic data, vital signs, lab measures, etc. The ratio of drug observations to placebo observations is 2 to 1.\n",
    "\n",
    "For this project, the dataset has been modified to reflect the presence and absence of adverse effects `adverse_effects` and the number of adverse effects in a single individual `num_effects`.\n",
    "\n",
    "The columns in the modified dataset are: \n",
    "\n",
    "| Column | Description |\n",
    "|--------|-------------|\n",
    "|`sex` | The gender of the individual |\n",
    "|`age` | The age of the individual |\n",
    "|`week` | The week of the drug testing |\n",
    "|`trx` | The treatment (Drug) and control (Placebo) groups | \n",
    "|`wbc` | The count of white blood cells |\n",
    "|`rbc` | The count of red blood cells |\n",
    "|`adverse_effects` | The presence of at least a single adverse effect |\n",
    "|`num_effects` | The number of adverse effects experienced by a single individual |\n",
    "\n",
    "The original dataset can be found [here](https://hbiostat.org/data/repo/safety.rda).\n",
    "\n",
    "Your organization has asked you to explore and answer some questions from the data collected. See the project instructions."
   ]
  },
  {
   "cell_type": "code",
   "execution_count": 1,
   "id": "62dc2a93-8a9c-4757-8aac-214c5de63e74",
   "metadata": {
    "executionCancelledAt": null,
    "executionTime": 4615,
    "lastExecutedAt": 1711012510271,
    "lastScheduledRunId": null,
    "lastSuccessfullyExecutedCode": "# Import packages\nimport numpy as np\nimport pandas as pd\nfrom statsmodels.stats.proportion import proportions_ztest\nimport pingouin\nimport seaborn as sns\nimport matplotlib.pyplot as plt\n\n# Load the dataset\ndrug_safety = pd.read_csv(\"drug_safety.csv\")\n\ndrug_safety.head()"
   },
   "outputs": [
    {
     "data": {
      "text/html": [
       "<div>\n",
       "<style scoped>\n",
       "    .dataframe tbody tr th:only-of-type {\n",
       "        vertical-align: middle;\n",
       "    }\n",
       "\n",
       "    .dataframe tbody tr th {\n",
       "        vertical-align: top;\n",
       "    }\n",
       "\n",
       "    .dataframe thead th {\n",
       "        text-align: right;\n",
       "    }\n",
       "</style>\n",
       "<table border=\"1\" class=\"dataframe\">\n",
       "  <thead>\n",
       "    <tr style=\"text-align: right;\">\n",
       "      <th></th>\n",
       "      <th>age</th>\n",
       "      <th>sex</th>\n",
       "      <th>trx</th>\n",
       "      <th>week</th>\n",
       "      <th>wbc</th>\n",
       "      <th>rbc</th>\n",
       "      <th>adverse_effects</th>\n",
       "      <th>num_effects</th>\n",
       "    </tr>\n",
       "  </thead>\n",
       "  <tbody>\n",
       "    <tr>\n",
       "      <th>0</th>\n",
       "      <td>62</td>\n",
       "      <td>male</td>\n",
       "      <td>Drug</td>\n",
       "      <td>0</td>\n",
       "      <td>7.3</td>\n",
       "      <td>5.1</td>\n",
       "      <td>No</td>\n",
       "      <td>0</td>\n",
       "    </tr>\n",
       "    <tr>\n",
       "      <th>1</th>\n",
       "      <td>62</td>\n",
       "      <td>male</td>\n",
       "      <td>Drug</td>\n",
       "      <td>1</td>\n",
       "      <td>NaN</td>\n",
       "      <td>NaN</td>\n",
       "      <td>No</td>\n",
       "      <td>0</td>\n",
       "    </tr>\n",
       "    <tr>\n",
       "      <th>2</th>\n",
       "      <td>62</td>\n",
       "      <td>male</td>\n",
       "      <td>Drug</td>\n",
       "      <td>12</td>\n",
       "      <td>5.6</td>\n",
       "      <td>5.0</td>\n",
       "      <td>No</td>\n",
       "      <td>0</td>\n",
       "    </tr>\n",
       "    <tr>\n",
       "      <th>3</th>\n",
       "      <td>62</td>\n",
       "      <td>male</td>\n",
       "      <td>Drug</td>\n",
       "      <td>16</td>\n",
       "      <td>NaN</td>\n",
       "      <td>NaN</td>\n",
       "      <td>No</td>\n",
       "      <td>0</td>\n",
       "    </tr>\n",
       "    <tr>\n",
       "      <th>4</th>\n",
       "      <td>62</td>\n",
       "      <td>male</td>\n",
       "      <td>Drug</td>\n",
       "      <td>2</td>\n",
       "      <td>6.6</td>\n",
       "      <td>5.1</td>\n",
       "      <td>No</td>\n",
       "      <td>0</td>\n",
       "    </tr>\n",
       "  </tbody>\n",
       "</table>\n",
       "</div>"
      ],
      "text/plain": [
       "   age   sex   trx  week  wbc  rbc adverse_effects  num_effects\n",
       "0   62  male  Drug     0  7.3  5.1              No            0\n",
       "1   62  male  Drug     1  NaN  NaN              No            0\n",
       "2   62  male  Drug    12  5.6  5.0              No            0\n",
       "3   62  male  Drug    16  NaN  NaN              No            0\n",
       "4   62  male  Drug     2  6.6  5.1              No            0"
      ]
     },
     "execution_count": 1,
     "metadata": {},
     "output_type": "execute_result"
    }
   ],
   "source": [
    "# Import packages\n",
    "import numpy as np\n",
    "import pandas as pd\n",
    "from statsmodels.stats.proportion import proportions_ztest\n",
    "import pingouin\n",
    "import seaborn as sns\n",
    "import matplotlib.pyplot as plt\n",
    "\n",
    "# Load the dataset\n",
    "drug_safety = pd.read_csv(\"drug_safety.csv\")\n",
    "\n",
    "drug_safety.head()"
   ]
  },
  {
   "cell_type": "code",
   "execution_count": 2,
   "id": "694c23a2-40b9-4aaf-9392-a1374945a3e4",
   "metadata": {
    "executionCancelledAt": null,
    "executionTime": 14,
    "lastExecutedAt": 1711014159528,
    "lastScheduledRunId": null,
    "lastSuccessfullyExecutedCode": "adv_eff_by_trx = drug_safety.groupby(\"trx\")['adverse_effects'].value_counts()\nadv_eff_by_trx"
   },
   "outputs": [
    {
     "data": {
      "text/plain": [
       "trx      adverse_effects\n",
       "Drug     No                 9703\n",
       "         Yes                1024\n",
       "Placebo  No                 4864\n",
       "         Yes                 512\n",
       "Name: count, dtype: int64"
      ]
     },
     "execution_count": 2,
     "metadata": {},
     "output_type": "execute_result"
    }
   ],
   "source": [
    "adv_eff_by_trx = drug_safety.groupby(\"trx\")['adverse_effects'].value_counts()\n",
    "adv_eff_by_trx"
   ]
  },
  {
   "cell_type": "code",
   "execution_count": 3,
   "id": "15fb67b4-6efb-4204-9090-adc0a5868aea",
   "metadata": {
    "executionCancelledAt": null,
    "executionTime": 14,
    "lastExecutedAt": 1711015299863,
    "lastScheduledRunId": null,
    "lastSuccessfullyExecutedCode": "# Compute total rows in each group\nadv_eff_by_trx_totals = adv_eff_by_trx.groupby(\"trx\").sum()\nadv_eff_by_trx_totals"
   },
   "outputs": [
    {
     "data": {
      "text/plain": [
       "trx\n",
       "Drug       10727\n",
       "Placebo     5376\n",
       "Name: count, dtype: int64"
      ]
     },
     "execution_count": 3,
     "metadata": {},
     "output_type": "execute_result"
    }
   ],
   "source": [
    "# Compute total rows in each group\n",
    "adv_eff_by_trx_totals = adv_eff_by_trx.groupby(\"trx\").sum()\n",
    "adv_eff_by_trx_totals"
   ]
  },
  {
   "cell_type": "code",
   "execution_count": 4,
   "id": "0825bf77-86ae-459d-8f1b-a5c349def31f",
   "metadata": {
    "executionCancelledAt": null,
    "executionTime": 13,
    "lastExecutedAt": 1711015300339,
    "lastScheduledRunId": null,
    "lastSuccessfullyExecutedCode": "# Create an array of the \"Yes\" counts for each group\nyeses = [adv_eff_by_trx[\"Drug\"][\"Yes\"], adv_eff_by_trx[\"Placebo\"][\"Yes\"]]\nyeses"
   },
   "outputs": [
    {
     "data": {
      "text/plain": [
       "[1024, 512]"
      ]
     },
     "execution_count": 4,
     "metadata": {},
     "output_type": "execute_result"
    }
   ],
   "source": [
    "# Create an array of the \"Yes\" counts for each group\n",
    "yeses = [adv_eff_by_trx[\"Drug\"][\"Yes\"], adv_eff_by_trx[\"Placebo\"][\"Yes\"]]\n",
    "yeses"
   ]
  },
  {
   "cell_type": "code",
   "execution_count": 5,
   "id": "19e2b236-62df-4f2f-ab0f-c8c1d1cbb168",
   "metadata": {
    "executionCancelledAt": null,
    "executionTime": 13,
    "lastExecutedAt": 1711015302229,
    "lastScheduledRunId": null,
    "lastSuccessfullyExecutedCode": "# Create an array of the total number of rows in each group\nn = [adv_eff_by_trx_totals[\"Drug\"], adv_eff_by_trx_totals[\"Placebo\"]]\nn"
   },
   "outputs": [
    {
     "data": {
      "text/plain": [
       "[10727, 5376]"
      ]
     },
     "execution_count": 5,
     "metadata": {},
     "output_type": "execute_result"
    }
   ],
   "source": [
    "# Create an array of the total number of rows in each group\n",
    "n = [adv_eff_by_trx_totals[\"Drug\"], adv_eff_by_trx_totals[\"Placebo\"]]\n",
    "n"
   ]
  },
  {
   "cell_type": "markdown",
   "id": "b3a35ab7",
   "metadata": {},
   "source": [
    "## There is no significant difference in the proportion of adverse effects observed between the Drug and Placebo groups"
   ]
  },
  {
   "cell_type": "code",
   "execution_count": 11,
   "id": "ef144a15-5654-4134-8b8c-3b1ba6913e80",
   "metadata": {
    "executionCancelledAt": null,
    "executionTime": 13,
    "lastExecutedAt": 1711015308954,
    "lastScheduledRunId": null,
    "lastSuccessfullyExecutedCode": "# Perform a two-sided z-test on the two proportions\ntwo_sample_results = proportions_ztest(yeses, n)\ntwo_sample_results"
   },
   "outputs": [
    {
     "data": {
      "text/plain": [
       "(0.0452182684494942, 0.9639333330262475)"
      ]
     },
     "execution_count": 11,
     "metadata": {},
     "output_type": "execute_result"
    }
   ],
   "source": [
    "# Perform a two-sided z-test on the two proportions\n",
    "two_sample_results = proportions_ztest(yeses, n)\n",
    "print(two_sample_results)\n",
    "two_sample_p_value = two_sample_results[1] # Store the p-value\n",
    "# No significant difference in the proportion of adverse effects between the Drug and Placebo groups"
   ]
  },
  {
   "cell_type": "code",
   "execution_count": 40,
   "id": "d85b6657-0869-43ff-8262-2637cfca804c",
   "metadata": {
    "executionCancelledAt": null,
    "executionTime": 52,
    "lastExecutedAt": 1705397155196,
    "lastScheduledRunId": null,
    "lastSuccessfullyExecutedCode": "# Store the p-value\ntwo_sample_p_value = two_sample_results[1]\n\n# Determine if num_effects and trx are independent\nnum_effects_groups = pingouin.chi2_independence(\n    data=drug_safety, x=\"num_effects\", y=\"trx\")\nnum_effects_groups"
   },
   "outputs": [
    {
     "data": {
      "text/plain": [
       "(trx                 Drug      Placebo\n",
       " num_effects                          \n",
       " 0            9703.794883  4863.205117\n",
       " 1             960.587096   481.412904\n",
       " 2              58.621126    29.378874\n",
       " 3               3.996895     2.003105,\n",
       " trx          Drug  Placebo\n",
       " num_effects               \n",
       " 0            9703     4864\n",
       " 1             956      486\n",
       " 2              63       25\n",
       " 3               5        1,\n",
       "                  test    lambda      chi2  dof      pval    cramer     power\n",
       " 0             pearson  1.000000  1.799644  3.0  0.615012  0.010572  0.176275\n",
       " 1        cressie-read  0.666667  1.836006  3.0  0.607131  0.010678  0.179153\n",
       " 2      log-likelihood  0.000000  1.922495  3.0  0.588648  0.010926  0.186033\n",
       " 3       freeman-tukey -0.500000  2.001752  3.0  0.572043  0.011149  0.192379\n",
       " 4  mod-log-likelihood -1.000000  2.096158  3.0  0.552690  0.011409  0.199984\n",
       " 5              neyman -2.000000  2.344303  3.0  0.504087  0.012066  0.220189)"
      ]
     },
     "execution_count": 40,
     "metadata": {},
     "output_type": "execute_result"
    }
   ],
   "source": [
    "# Determine if num_effects and trx are independent\n",
    "num_effects_groups = pingouin.chi2_independence(\n",
    "    data=drug_safety, x=\"num_effects\", y=\"trx\")\n",
    "num_effects_groups"
   ]
  },
  {
   "cell_type": "markdown",
   "id": "b14d4d15",
   "metadata": {},
   "source": [
    "## The treatment has no effect on the occurrence of adverse effects."
   ]
  },
  {
   "cell_type": "code",
   "execution_count": 41,
   "id": "1deb71b4-69b4-44aa-9410-5cd8827fcb16",
   "metadata": {
    "executionCancelledAt": null,
    "executionTime": 52,
    "lastExecutedAt": 1705397155248,
    "lastScheduledRunId": null,
    "lastSuccessfullyExecutedCode": "# Extract the p-value\nnum_effects_p_value = num_effects_groups[2][\"pval\"][0]\nnum_effects_p_value"
   },
   "outputs": [
    {
     "data": {
      "text/plain": [
       "0.6150123339426765"
      ]
     },
     "execution_count": 41,
     "metadata": {},
     "output_type": "execute_result"
    }
   ],
   "source": [
    "# Extract the p-value\n",
    "# we do not have sufficient evidence to conclude that the treatment has an effect on the occurrence of adverse effects.\n",
    "num_effects_p_value = num_effects_groups[2][\"pval\"][0]\n",
    "num_effects_p_value"
   ]
  },
  {
   "cell_type": "code",
   "execution_count": 42,
   "id": "7e54cc6a-1054-4c9f-942c-354c1e420df2",
   "metadata": {
    "executionCancelledAt": null,
    "executionTime": 308,
    "lastExecutedAt": 1705397155556,
    "lastScheduledRunId": null,
    "lastSuccessfullyExecutedCode": "# Create a histogram with Seaborn\nsns.histplot(data=drug_safety, x=\"age\", hue=\"trx\")"
   },
   "outputs": [
    {
     "data": {
      "text/plain": [
       "<AxesSubplot: xlabel='age', ylabel='Count'>"
      ]
     },
     "execution_count": 42,
     "metadata": {},
     "output_type": "execute_result"
    },
    {
     "data": {
      "image/png": "[encoded data removed]",
      "text/plain": [
       "<Figure size 640x480 with 1 Axes>"
      ]
     },
     "metadata": {},
     "output_type": "display_data"
    }
   ],
   "source": [
    "# Create a histogram with Seaborn\n",
    "sns.histplot(data=drug_safety, x=\"age\", hue=\"trx\")"
   ]
  },
  {
   "cell_type": "code",
   "execution_count": 9,
   "id": "e5e8542a",
   "metadata": {},
   "outputs": [
    {
     "data": {
      "image/png": "[encoded data removed]",
      "text/plain": [
       "<Figure size 432x288 with 1 Axes>"
      ]
     },
     "metadata": {
      "needs_background": "light"
     },
     "output_type": "display_data"
    }
   ],
   "source": [
    "sns.countplot(x=\"num_effects\", data=drug_safety, hue='trx')\n",
    "plt.xlabel(\"Number of Adverse Effects\")\n",
    "plt.title(\"Distribution of the Number of Effects Between the Groups\")\n",
    "plt.show()"
   ]
  },
  {
   "cell_type": "code",
   "execution_count": 43,
   "id": "82d549cd-ede7-4b3b-aaad-30878c9450cc",
   "metadata": {
    "chartConfig": {
     "bar": {
      "hasRoundedCorners": true,
      "stacked": false
     },
     "type": "bar",
     "version": "v1"
    },
    "executionCancelledAt": null,
    "executionTime": 51,
    "lastExecutedAt": 1705397155607,
    "lastScheduledRunId": null,
    "lastSuccessfullyExecutedCode": "# Optionally - confirm the histogram's output by conducting a normality test\n# To choose between unpaired t-test and Wilcoxon-Mann-Whitney test\nnormality = pingouin.normality(\n    data=drug_safety,\n    dv='age',\n    group='trx',\n    method='shapiro', # the default\n    alpha=0.05) # 0.05 is also the default\nnormality",
    "outputsMetadata": {
     "0": {
      "height": 121,
      "type": "dataFrame"
     }
    },
    "visualizeDataframe": false
   },
   "outputs": [
    {
     "data": {
      "application/com.datacamp.data-table.v2+json": {
       "table": {
        "data": {
         "W": [
          0.9767849445,
          0.9755954742
         ],
         "normal": [
          false,
          false
         ],
         "pval": [
          2.189152322e-38,
          2.224949828e-29
         ],
         "trx": [
          "Drug",
          "Placebo"
         ]
        },
        "schema": {
         "fields": [
          {
           "name": "trx",
           "type": "string"
          },
          {
           "name": "W",
           "type": "number"
          },
          {
           "name": "pval",
           "type": "number"
          },
          {
           "name": "normal",
           "type": "boolean"
          }
         ],
         "pandas_version": "1.4.0",
         "primaryKey": [
          "trx"
         ]
        }
       },
       "total_rows": 2,
       "truncation_type": null
      },
      "text/html": [
       "<div>\n",
       "<style scoped>\n",
       "    .dataframe tbody tr th:only-of-type {\n",
       "        vertical-align: middle;\n",
       "    }\n",
       "\n",
       "    .dataframe tbody tr th {\n",
       "        vertical-align: top;\n",
       "    }\n",
       "\n",
       "    .dataframe thead th {\n",
       "        text-align: right;\n",
       "    }\n",
       "</style>\n",
       "<table border=\"1\" class=\"dataframe\">\n",
       "  <thead>\n",
       "    <tr style=\"text-align: right;\">\n",
       "      <th></th>\n",
       "      <th>W</th>\n",
       "      <th>pval</th>\n",
       "      <th>normal</th>\n",
       "    </tr>\n",
       "    <tr>\n",
       "      <th>trx</th>\n",
       "      <th></th>\n",
       "      <th></th>\n",
       "      <th></th>\n",
       "    </tr>\n",
       "  </thead>\n",
       "  <tbody>\n",
       "    <tr>\n",
       "      <th>Drug</th>\n",
       "      <td>0.976785</td>\n",
       "      <td>2.189152e-38</td>\n",
       "      <td>False</td>\n",
       "    </tr>\n",
       "    <tr>\n",
       "      <th>Placebo</th>\n",
       "      <td>0.975595</td>\n",
       "      <td>2.224950e-29</td>\n",
       "      <td>False</td>\n",
       "    </tr>\n",
       "  </tbody>\n",
       "</table>\n",
       "</div>"
      ],
      "text/plain": [
       "                W          pval  normal\n",
       "trx                                    \n",
       "Drug     0.976785  2.189152e-38   False\n",
       "Placebo  0.975595  2.224950e-29   False"
      ]
     },
     "execution_count": 43,
     "metadata": {},
     "output_type": "execute_result"
    }
   ],
   "source": [
    "# Optionally - confirm the histogram's output by conducting a normality test\n",
    "# To choose between unpaired t-test and Wilcoxon-Mann-Whitney test\n",
    "normality = pingouin.normality(\n",
    "    data=drug_safety,\n",
    "    dv='age',\n",
    "    group='trx',\n",
    "    method='shapiro', # the default\n",
    "    alpha=0.05) # 0.05 is also the default\n",
    "normality"
   ]
  },
  {
   "cell_type": "code",
   "execution_count": 10,
   "id": "0217a920",
   "metadata": {
    "code_folding": [
     0
    ]
   },
   "outputs": [
    {
     "data": {
      "image/png": "[encoded data removed]",
      "text/plain": [
       "<Figure size 864x432 with 2 Axes>"
      ]
     },
     "metadata": {
      "needs_background": "light"
     },
     "output_type": "display_data"
    }
   ],
   "source": [
    "# Creating histograms to visualize the distribution of ages by treatment\n",
    "# Create the plot axes. Increase the figure size\n",
    "_, (ax1, ax2) = plt.subplots(1, 2, figsize=(12, 6))\n",
    "\n",
    "# Set x and y axes labels\n",
    "xlabel = \"Age (years)\"\n",
    "ylabel = \"Frequency\"\n",
    "\n",
    "# The Drug group's age distribution\n",
    "ax1.hist(x=\"age\", data=drug_safety[drug_safety[\"trx\"] == \"Drug\"], bins=30)\n",
    "ax1.set_xlabel(xlabel)\n",
    "ax1.set_ylabel(ylabel)\n",
    "ax1.set_title(\"Distribution of Age in the Drug Group\")\n",
    "\n",
    "# The Placebo group's age distribution\n",
    "ax2.hist(x=\"age\", data=drug_safety[drug_safety[\"trx\"] == \"Placebo\"], bins=30)\n",
    "ax2.set_xlabel(xlabel)\n",
    "ax2.set_ylabel(ylabel)\n",
    "ax2.set_title(\"Distribution of Age in the Placebo Group\")\n",
    "\n",
    "# Select the age of the Drug group\n",
    "age_trx = drug_safety.loc[drug_safety[\"trx\"] == \"Drug\", \"age\"]\n",
    "\n",
    "# Select the age of the Placebo group\n",
    "age_placebo = drug_safety.loc[drug_safety[\"trx\"] == \"Placebo\", \"age\"]\n"
   ]
  },
  {
   "cell_type": "code",
   "execution_count": 44,
   "id": "f21fbd9f-5ff1-44a6-ac0b-6490c47b7748",
   "metadata": {
    "executionCancelledAt": null,
    "executionTime": 52,
    "lastExecutedAt": 1705397155659,
    "lastScheduledRunId": null,
    "lastSuccessfullyExecutedCode": "# Select the age of the Drug group\nage_trx = drug_safety.loc[drug_safety[\"trx\"] == \"Drug\", \"age\"]\nage_trx.head()"
   },
   "outputs": [
    {
     "data": {
      "text/plain": [
       "0    62\n",
       "1    62\n",
       "2    62\n",
       "3    62\n",
       "4    62\n",
       "Name: age, dtype: int64"
      ]
     },
     "execution_count": 44,
     "metadata": {},
     "output_type": "execute_result"
    }
   ],
   "source": [
    "# Select the age of the Drug group\n",
    "age_trx = drug_safety.loc[drug_safety[\"trx\"] == \"Drug\", \"age\"]\n",
    "age_trx.head()"
   ]
  },
  {
   "cell_type": "code",
   "execution_count": 45,
   "id": "3c83b1c2-4d60-49b4-a297-3ab970a4df7b",
   "metadata": {
    "executionCancelledAt": null,
    "executionTime": 53,
    "lastExecutedAt": 1705397155712,
    "lastScheduledRunId": null,
    "lastSuccessfullyExecutedCode": "# Select the age of the Placebo group\nage_placebo = drug_safety.loc[drug_safety[\"trx\"] == \"Placebo\", \"age\"]\nage_placebo.head()"
   },
   "outputs": [
    {
     "data": {
      "text/plain": [
       "32    73\n",
       "33    73\n",
       "34    73\n",
       "35    73\n",
       "36    73\n",
       "Name: age, dtype: int64"
      ]
     },
     "execution_count": 45,
     "metadata": {},
     "output_type": "execute_result"
    }
   ],
   "source": [
    "# Select the age of the Placebo group\n",
    "age_placebo = drug_safety.loc[drug_safety[\"trx\"] == \"Placebo\", \"age\"]\n",
    "age_placebo.head()"
   ]
  },
  {
   "cell_type": "code",
   "execution_count": 46,
   "id": "6d09e891-3a6b-4ac9-805b-5f0d38723c71",
   "metadata": {
    "executionCancelledAt": null,
    "executionTime": 264,
    "lastExecutedAt": 1705397155976,
    "lastScheduledRunId": null,
    "lastSuccessfullyExecutedCode": "# Since the data distribution is not normal\n# Conduct a two-sided Mann-Whitney U test\nage_group_effects = pingouin.mwu(age_trx, age_placebo)\nage_group_effects",
    "outputsMetadata": {
     "0": {
      "columns": {
       "alternative": {
        "wrap": true
       }
      },
      "height": 96,
      "type": "dataFrame"
     }
    }
   },
   "outputs": [
    {
     "data": {
      "application/com.datacamp.data-table.v2+json": {
       "table": {
        "data": {
         "CLES": [
          0.5054651033
         ],
         "RBC": [
          -0.0109302066
         ],
         "U-val": [
          29149339.5
         ],
         "alternative": [
          "two-sided"
         ],
         "index": [
          "MWU"
         ],
         "p-val": [
          0.25696267
         ]
        },
        "schema": {
         "fields": [
          {
           "name": "index",
           "type": "string"
          },
          {
           "name": "U-val",
           "type": "number"
          },
          {
           "name": "alternative",
           "type": "string"
          },
          {
           "name": "p-val",
           "type": "number"
          },
          {
           "name": "RBC",
           "type": "number"
          },
          {
           "name": "CLES",
           "type": "number"
          }
         ],
         "pandas_version": "1.4.0",
         "primaryKey": [
          "index"
         ]
        }
       },
       "total_rows": 1,
       "truncation_type": null
      },
      "text/html": [
       "<div>\n",
       "<style scoped>\n",
       "    .dataframe tbody tr th:only-of-type {\n",
       "        vertical-align: middle;\n",
       "    }\n",
       "\n",
       "    .dataframe tbody tr th {\n",
       "        vertical-align: top;\n",
       "    }\n",
       "\n",
       "    .dataframe thead th {\n",
       "        text-align: right;\n",
       "    }\n",
       "</style>\n",
       "<table border=\"1\" class=\"dataframe\">\n",
       "  <thead>\n",
       "    <tr style=\"text-align: right;\">\n",
       "      <th></th>\n",
       "      <th>U-val</th>\n",
       "      <th>alternative</th>\n",
       "      <th>p-val</th>\n",
       "      <th>RBC</th>\n",
       "      <th>CLES</th>\n",
       "    </tr>\n",
       "  </thead>\n",
       "  <tbody>\n",
       "    <tr>\n",
       "      <th>MWU</th>\n",
       "      <td>29149339.5</td>\n",
       "      <td>two-sided</td>\n",
       "      <td>0.256963</td>\n",
       "      <td>-0.01093</td>\n",
       "      <td>0.505465</td>\n",
       "    </tr>\n",
       "  </tbody>\n",
       "</table>\n",
       "</div>"
      ],
      "text/plain": [
       "          U-val alternative     p-val      RBC      CLES\n",
       "MWU  29149339.5   two-sided  0.256963 -0.01093  0.505465"
      ]
     },
     "execution_count": 46,
     "metadata": {},
     "output_type": "execute_result"
    }
   ],
   "source": [
    "# Since the data distribution is not normal\n",
    "# Conduct a two-sided Mann-Whitney U test\n",
    "age_group_effects = pingouin.mwu(age_trx, age_placebo)\n",
    "age_group_effects"
   ]
  },
  {
   "cell_type": "markdown",
   "id": "cbc4e391",
   "metadata": {
    "executionCancelledAt": null,
    "executionTime": 12,
    "lastExecutedAt": 1711019903671,
    "lastScheduledRunId": null,
    "lastSuccessfullyExecutedCode": "## There is no significant difference between the ages of the Drug and Placebo groups"
   },
   "source": [
    "## There is no significant difference between the ages of the Drug and Placebo groups"
   ]
  },
  {
   "cell_type": "code",
   "execution_count": 47,
   "id": "51203f46-b506-42ab-b76e-9e83c4dad4c5",
   "metadata": {
    "executionCancelledAt": null,
    "executionTime": 52,
    "lastExecutedAt": 1705397156028,
    "lastScheduledRunId": null,
    "lastSuccessfullyExecutedCode": "# Extract the p-value\nage_group_effects_p_value = age_group_effects[\"p-val\"]\nage_group_effects_p_value"
   },
   "outputs": [
    {
     "data": {
      "text/plain": [
       "MWU    0.256963\n",
       "Name: p-val, dtype: float64"
      ]
     },
     "execution_count": 47,
     "metadata": {},
     "output_type": "execute_result"
    }
   ],
   "source": [
    "# Extract the p-value\n",
    "age_group_effects_p_value = age_group_effects[\"p-val\"]\n",
    "age_group_effects_p_value"
   ]
  }
 ],
 "metadata": {
  "colab": {
   "name": "Welcome to DataCamp Workspaces.ipynb",
   "provenance": []
  },
  "kernelspec": {
   "display_name": "Python 3 (ipykernel)",
   "language": "python",
   "name": "python3"
  },
  "language_info": {
   "codemirror_mode": {
    "name": "ipython",
    "version": 3
   },
   "file_extension": ".py",
   "mimetype": "text/x-python",
   "name": "python",
   "nbconvert_exporter": "python",
   "pygments_lexer": "ipython3",
   "version": "3.9.7"
  },
  "toc": {
   "base_numbering": 1,
   "nav_menu": {},
   "number_sections": true,
   "sideBar": true,
   "skip_h1_title": false,
   "title_cell": "Table of Contents",
   "title_sidebar": "Contents",
   "toc_cell": false,
   "toc_position": {},
   "toc_section_display": true,
   "toc_window_display": false
  },
  "varInspector": {
   "cols": {
    "lenName": 16,
    "lenType": 16,
    "lenVar": 40
   },
   "kernels_config": {
    "python": {
     "delete_cmd_postfix": "",
     "delete_cmd_prefix": "del ",
     "library": "var_list.py",
     "varRefreshCmd": "print(var_dic_list())"
    },
    "r": {
     "delete_cmd_postfix": ") ",
     "delete_cmd_prefix": "rm(",
     "library": "var_list.r",
     "varRefreshCmd": "cat(var_dic_list()) "
    }
   },
   "types_to_exclude": [
    "module",
    "function",
    "builtin_function_or_method",
    "instance",
    "_Feature"
   ],
   "window_display": false
  }
 },
 "nbformat": 4,
 "nbformat_minor": 5
}
