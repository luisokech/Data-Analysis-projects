{
 "cells": [
  {
   "cell_type": "markdown",
   "id": "59090772-03e5-4a43-a7c7-eebdfa709342",
   "metadata": {},
   "source": [
    "# Hypothesis Testing in Healthcare: Drug Safety\n",
    "\n",
    "A pharmaceutical company GlobalXYZ has just completed a randomized controlled drug trial. To promote transparency and reproducibility of the drug's outcome, they (GlobalXYZ) have presented the dataset to your organization, a non-profit that focuses primarily on drug safety.\n",
    "\n",
    "The dataset provided contained five adverse effects, demographic data, vital signs, etc. Your organization is primarily interested in the drug's adverse reactions. It wants to know if the adverse reactions, if any, are of significant proportions. It has asked you to explore and answer some questions from the data.\n",
    "\n",
    "The dataset `drug_safety.csv` was obtained from [Hbiostat](https://hbiostat.org/data/) courtesy of the Vanderbilt University Department of Biostatistics. It contained five adverse effects: headache, abdominal pain, dyspepsia, upper respiratory infection, chronic obstructive airway disease (COAD), demographic data, vital signs, lab measures, etc. The ratio of drug observations to placebo observations is 2 to 1.\n",
    "\n",
    "For this project, the dataset has been modified to reflect the presence and absence of adverse effects `adverse_effects` and the number of adverse effects in a single individual `num_effects`.\n",
    "\n",
    "The columns in the modified dataset are: \n",
    "\n",
    "| Column | Description |\n",
    "|--------|-------------|\n",
    "|`sex` | The gender of the individual |\n",
    "|`age` | The age of the individual |\n",
    "|`week` | The week of the drug testing |\n",
    "|`trx` | The treatment (Drug) and control (Placebo) groups | \n",
    "|`wbc` | The count of white blood cells |\n",
    "|`rbc` | The count of red blood cells |\n",
    "|`adverse_effects` | The presence of at least a single adverse effect |\n",
    "|`num_effects` | The number of adverse effects experienced by a single individual |\n",
    "\n",
    "The original dataset can be found [here](https://hbiostat.org/data/repo/safety.rda)"
   ]
  },
  {
   "cell_type": "code",
   "execution_count": 1,
   "id": "62dc2a93-8a9c-4757-8aac-214c5de63e74",
   "metadata": {
    "executionCancelledAt": null,
    "executionTime": 37,
    "lastExecutedAt": 1696499996492,
    "lastScheduledRunId": null,
    "lastSuccessfullyExecutedCode": "# Import packages\nimport numpy as np\nimport pandas as pd\nfrom scipy.stats import norm\nfrom statsmodels.stats.proportion import proportions_ztest\nimport pingouin\nimport seaborn as sns\nimport matplotlib.pyplot as plt\n\n# Load the dataset\ndrug_safety = pd.read_csv(\"drug_safety.csv\")\n\ndrug_safety.head()",
    "outputsMetadata": {
     "0": {
      "height": 190,
      "type": "dataFrame"
     }
    }
   },
   "outputs": [
    {
     "data": {
      "text/html": [
       "<div>\n",
       "<style scoped>\n",
       "    .dataframe tbody tr th:only-of-type {\n",
       "        vertical-align: middle;\n",
       "    }\n",
       "\n",
       "    .dataframe tbody tr th {\n",
       "        vertical-align: top;\n",
       "    }\n",
       "\n",
       "    .dataframe thead th {\n",
       "        text-align: right;\n",
       "    }\n",
       "</style>\n",
       "<table border=\"1\" class=\"dataframe\">\n",
       "  <thead>\n",
       "    <tr style=\"text-align: right;\">\n",
       "      <th></th>\n",
       "      <th>age</th>\n",
       "      <th>sex</th>\n",
       "      <th>trx</th>\n",
       "      <th>week</th>\n",
       "      <th>wbc</th>\n",
       "      <th>rbc</th>\n",
       "      <th>adverse_effects</th>\n",
       "      <th>num_effects</th>\n",
       "    </tr>\n",
       "  </thead>\n",
       "  <tbody>\n",
       "    <tr>\n",
       "      <th>0</th>\n",
       "      <td>62</td>\n",
       "      <td>male</td>\n",
       "      <td>Drug</td>\n",
       "      <td>0</td>\n",
       "      <td>7.3</td>\n",
       "      <td>5.1</td>\n",
       "      <td>No</td>\n",
       "      <td>0</td>\n",
       "    </tr>\n",
       "    <tr>\n",
       "      <th>1</th>\n",
       "      <td>62</td>\n",
       "      <td>male</td>\n",
       "      <td>Drug</td>\n",
       "      <td>1</td>\n",
       "      <td>NaN</td>\n",
       "      <td>NaN</td>\n",
       "      <td>No</td>\n",
       "      <td>0</td>\n",
       "    </tr>\n",
       "    <tr>\n",
       "      <th>2</th>\n",
       "      <td>62</td>\n",
       "      <td>male</td>\n",
       "      <td>Drug</td>\n",
       "      <td>12</td>\n",
       "      <td>5.6</td>\n",
       "      <td>5.0</td>\n",
       "      <td>No</td>\n",
       "      <td>0</td>\n",
       "    </tr>\n",
       "    <tr>\n",
       "      <th>3</th>\n",
       "      <td>62</td>\n",
       "      <td>male</td>\n",
       "      <td>Drug</td>\n",
       "      <td>16</td>\n",
       "      <td>NaN</td>\n",
       "      <td>NaN</td>\n",
       "      <td>No</td>\n",
       "      <td>0</td>\n",
       "    </tr>\n",
       "    <tr>\n",
       "      <th>4</th>\n",
       "      <td>62</td>\n",
       "      <td>male</td>\n",
       "      <td>Drug</td>\n",
       "      <td>2</td>\n",
       "      <td>6.6</td>\n",
       "      <td>5.1</td>\n",
       "      <td>No</td>\n",
       "      <td>0</td>\n",
       "    </tr>\n",
       "  </tbody>\n",
       "</table>\n",
       "</div>"
      ],
      "text/plain": [
       "   age   sex   trx  week  wbc  rbc adverse_effects  num_effects\n",
       "0   62  male  Drug     0  7.3  5.1              No            0\n",
       "1   62  male  Drug     1  NaN  NaN              No            0\n",
       "2   62  male  Drug    12  5.6  5.0              No            0\n",
       "3   62  male  Drug    16  NaN  NaN              No            0\n",
       "4   62  male  Drug     2  6.6  5.1              No            0"
      ]
     },
     "execution_count": 1,
     "metadata": {},
     "output_type": "execute_result"
    }
   ],
   "source": [
    "# Import packages\n",
    "import numpy as np\n",
    "import pandas as pd\n",
    "from scipy.stats import norm\n",
    "from statsmodels.stats.proportion import proportions_ztest\n",
    "import pingouin\n",
    "import seaborn as sns\n",
    "import matplotlib.pyplot as plt\n",
    "\n",
    "# Load the dataset\n",
    "drug_safety = pd.read_csv(\"drug_safety.csv\")\n",
    "\n",
    "drug_safety.head()"
   ]
  },
  {
   "cell_type": "code",
   "execution_count": 2,
   "id": "b2af7e59-b000-469a-b638-2abd69704df5",
   "metadata": {
    "executionCancelledAt": null,
    "executionTime": 178,
    "lastExecutedAt": 1696499996670,
    "lastScheduledRunId": null,
    "lastSuccessfullyExecutedCode": "plot_num_eff = sns.countplot(x=\"num_effects\", data=drug_safety, hue='trx')\nplt.xlabel(\"Number of Adverse Effects\")\nplt.title(\"Distribution of the Number of Effects Between the Groups\")\nplt.show()"
   },
   "outputs": [
    {
     "data": {
      "image/png": "[encoded data removed]",
      "text/plain": [
       "<Figure size 432x288 with 1 Axes>"
      ]
     },
     "metadata": {
      "needs_background": "light"
     },
     "output_type": "display_data"
    }
   ],
   "source": [
    "plot_num_eff = sns.countplot(x=\"num_effects\", data=drug_safety, hue='trx')\n",
    "plt.xlabel(\"Number of Adverse Effects\")\n",
    "plt.title(\"Distribution of the Number of Effects Between the Groups\")\n",
    "plt.show()"
   ]
  },
  {
   "cell_type": "code",
   "execution_count": 5,
   "id": "aa80ca12-38a2-4fed-97fa-53007876a4f5",
   "metadata": {
    "executionCancelledAt": null,
    "executionTime": 52,
    "lastExecutedAt": 1696499996722,
    "lastScheduledRunId": null,
    "lastSuccessfullyExecutedCode": "# Count the adverse_effects column values for each trx group\nadv_eff_by_trx = drug_safety.groupby(\"trx\").adverse_effects.value_counts()\n\n# Compute total rows in each group\nadv_eff_by_trx_totals = adv_eff_by_trx.groupby(\"trx\").sum()\n\n# Create arrays of the \"Yes\" counts and total number of rows in each group\nyeses = [adv_eff_by_trx[\"Drug\"][\"Yes\"], adv_eff_by_trx[\"Placebo\"][\"Yes\"]]\nn = [adv_eff_by_trx_totals[\"Drug\"], adv_eff_by_trx_totals[\"Placebo\"]]\n\n# Perform a two-sided z-test on the two proportions\ntwo_samp_z_stat, two_samp_z_p_value = proportions_ztest(yeses, n)\n\n# Round to three decimal places\ntwo_samp_z_stat = np.round(two_samp_z_stat, 3)\ntwo_samp_z_p_value = np.round(two_samp_z_p_value, 3)\ntwo_samp_z_stat,two_samp_z_p_value"
   },
   "outputs": [
    {
     "data": {
      "text/plain": [
       "(0.045, 0.964)"
      ]
     },
     "execution_count": 5,
     "metadata": {},
     "output_type": "execute_result"
    }
   ],
   "source": [
    "# Count the adverse_effects column values for each trx group\n",
    "adv_eff_by_trx = drug_safety.groupby(\"trx\").adverse_effects.value_counts()\n",
    "\n",
    "# Compute total rows in each group\n",
    "adv_eff_by_trx_totals = adv_eff_by_trx.groupby(\"trx\").sum()\n",
    "\n",
    "# Create arrays of the \"Yes\" counts and total number of rows in each group\n",
    "yeses = [adv_eff_by_trx[\"Drug\"][\"Yes\"], adv_eff_by_trx[\"Placebo\"][\"Yes\"]]\n",
    "n = [adv_eff_by_trx_totals[\"Drug\"], adv_eff_by_trx_totals[\"Placebo\"]]\n",
    "\n",
    "# Perform a two-sided z-test on the two proportions\n",
    "two_samp_z_stat, two_samp_z_p_value = proportions_ztest(yeses, n)\n",
    "\n",
    "# Round to three decimal places\n",
    "two_samp_z_stat = np.round(two_samp_z_stat, 3)\n",
    "two_samp_z_p_value = np.round(two_samp_z_p_value, 3)\n",
    "two_samp_z_stat,two_samp_z_p_value"
   ]
  },
  {
   "cell_type": "code",
   "execution_count": 97,
   "id": "541da206-8ce7-43f2-ad43-38da60466d4d",
   "metadata": {
    "executionCancelledAt": null,
    "executionTime": 52,
    "lastExecutedAt": 1696499996774,
    "lastScheduledRunId": null,
    "lastSuccessfullyExecutedCode": "# Determine if num_effects and trx are independent\nexpected, observed, stats = pingouin.chi2_independence(\n    data=drug_safety, x=\"num_effects\", y=\"trx\")\n\n# Round the test statistics to three decimal places\nstats = stats.round(3)\n# Extract the Pearson row as pearson_num_effect_trx\npearson_num_effect_trx = stats[stats[\"test\"] == \"pearson\"]\npearson_num_effect_trx",
    "outputsMetadata": {
     "0": {
      "height": 93,
      "type": "dataFrame"
     }
    }
   },
   "outputs": [
    {
     "data": {
      "application/com.datacamp.data-table.v1+json": {
       "table": {
        "data": [
         {
          "chi2": 1.8,
          "cramer": 0.011,
          "dof": 3,
          "index": 0,
          "lambda": 1,
          "power": 0.176,
          "pval": 0.615,
          "test": "pearson"
         }
        ],
        "schema": {
         "fields": [
          {
           "name": "index",
           "type": "integer"
          },
          {
           "name": "test",
           "type": "string"
          },
          {
           "name": "lambda",
           "type": "number"
          },
          {
           "name": "chi2",
           "type": "number"
          },
          {
           "name": "dof",
           "type": "number"
          },
          {
           "name": "pval",
           "type": "number"
          },
          {
           "name": "cramer",
           "type": "number"
          },
          {
           "name": "power",
           "type": "number"
          }
         ],
         "pandas_version": "1.4.0",
         "primaryKey": [
          "index"
         ]
        }
       },
       "total_rows": 1,
       "truncation_type": null
      },
      "text/html": [
       "<div>\n",
       "<style scoped>\n",
       "    .dataframe tbody tr th:only-of-type {\n",
       "        vertical-align: middle;\n",
       "    }\n",
       "\n",
       "    .dataframe tbody tr th {\n",
       "        vertical-align: top;\n",
       "    }\n",
       "\n",
       "    .dataframe thead th {\n",
       "        text-align: right;\n",
       "    }\n",
       "</style>\n",
       "<table border=\"1\" class=\"dataframe\">\n",
       "  <thead>\n",
       "    <tr style=\"text-align: right;\">\n",
       "      <th></th>\n",
       "      <th>test</th>\n",
       "      <th>lambda</th>\n",
       "      <th>chi2</th>\n",
       "      <th>dof</th>\n",
       "      <th>pval</th>\n",
       "      <th>cramer</th>\n",
       "      <th>power</th>\n",
       "    </tr>\n",
       "  </thead>\n",
       "  <tbody>\n",
       "    <tr>\n",
       "      <th>0</th>\n",
       "      <td>pearson</td>\n",
       "      <td>1.0</td>\n",
       "      <td>1.8</td>\n",
       "      <td>3.0</td>\n",
       "      <td>0.615</td>\n",
       "      <td>0.011</td>\n",
       "      <td>0.176</td>\n",
       "    </tr>\n",
       "  </tbody>\n",
       "</table>\n",
       "</div>"
      ],
      "text/plain": [
       "      test  lambda  chi2  dof   pval  cramer  power\n",
       "0  pearson     1.0   1.8  3.0  0.615   0.011  0.176"
      ]
     },
     "execution_count": 97,
     "metadata": {},
     "output_type": "execute_result"
    }
   ],
   "source": [
    "# Determine if num_effects and trx are independent\n",
    "expected, observed, stats = pingouin.chi2_independence(\n",
    "    data=drug_safety, x=\"num_effects\", y=\"trx\")\n",
    "\n",
    "# Round the test statistics to three decimal places\n",
    "stats = stats.round(3)\n",
    "# Extract the Pearson row as pearson_num_effect_trx\n",
    "pearson_num_effect_trx = stats[stats[\"test\"] == \"pearson\"]\n",
    "pearson_num_effect_trx"
   ]
  },
  {
   "cell_type": "code",
   "execution_count": 98,
   "id": "b7b67351-0036-40f6-a7d5-1aba25956ba7",
   "metadata": {
    "executionCancelledAt": null,
    "executionTime": 386,
    "lastExecutedAt": 1696499997160,
    "lastScheduledRunId": null,
    "lastSuccessfullyExecutedCode": "# Creating histograms to visualize the distribution of ages by treatment\n# Create the plot axes. Increase the figure size\n_, (ax1, ax2) = plt.subplots(1, 2, figsize=(12, 6))\n\n# Set x and y axes labels\nxlabel = \"Age (years)\"\nylabel = \"Frequency\"\n\n# The Drug group's age distribution\nax1.hist(x=\"age\", data=drug_safety[drug_safety[\"trx\"] == \"Drug\"], bins=30)\nax1.set_xlabel(xlabel)\nax1.set_ylabel(ylabel)\nax1.set_title(\"Distribution of Age in the Drug Group\")\n\n# The Placebo group's age distribution\nax2.hist(x=\"age\", data=drug_safety[drug_safety[\"trx\"] == \"Placebo\"], bins=30)\nax2.set_xlabel(xlabel)\nax2.set_ylabel(ylabel)\nax2.set_title(\"Distribution of Age in the Placebo Group\")\n\n# Select the age of the Drug group\nage_trx = drug_safety.loc[drug_safety[\"trx\"] == \"Drug\", \"age\"]\n\n# Select the age of the Placebo group\nage_placebo = drug_safety.loc[drug_safety[\"trx\"] == \"Placebo\", \"age\"]\n"
   },
   "outputs": [
    {
     "data": {
      "image/png": "[encoded data removed]",
      "text/plain": [
       "<Figure size 1200x600 with 2 Axes>"
      ]
     },
     "metadata": {},
     "output_type": "display_data"
    }
   ],
   "source": [
    "# Creating histograms to visualize the distribution of ages by treatment\n",
    "# Create the plot axes. Increase the figure size\n",
    "_, (ax1, ax2) = plt.subplots(1, 2, figsize=(12, 6))\n",
    "\n",
    "# Set x and y axes labels\n",
    "xlabel = \"Age (years)\"\n",
    "ylabel = \"Frequency\"\n",
    "\n",
    "# The Drug group's age distribution\n",
    "ax1.hist(x=\"age\", data=drug_safety[drug_safety[\"trx\"] == \"Drug\"], bins=30)\n",
    "ax1.set_xlabel(xlabel)\n",
    "ax1.set_ylabel(ylabel)\n",
    "ax1.set_title(\"Distribution of Age in the Drug Group\")\n",
    "\n",
    "# The Placebo group's age distribution\n",
    "ax2.hist(x=\"age\", data=drug_safety[drug_safety[\"trx\"] == \"Placebo\"], bins=30)\n",
    "ax2.set_xlabel(xlabel)\n",
    "ax2.set_ylabel(ylabel)\n",
    "ax2.set_title(\"Distribution of Age in the Placebo Group\")\n",
    "\n",
    "# Select the age of the Drug group\n",
    "age_trx = drug_safety.loc[drug_safety[\"trx\"] == \"Drug\", \"age\"]\n",
    "\n",
    "# Select the age of the Placebo group\n",
    "age_placebo = drug_safety.loc[drug_safety[\"trx\"] == \"Placebo\", \"age\"]\n"
   ]
  },
  {
   "cell_type": "code",
   "execution_count": 99,
   "id": "9ba3925d-ed72-47a1-98a1-630a58d5c66d",
   "metadata": {
    "executionCancelledAt": null,
    "executionTime": 279,
    "lastExecutedAt": 1696499997439,
    "lastScheduledRunId": null,
    "lastSuccessfullyExecutedCode": "# The distributions strongly suggest a non-parametric independent samples test.\n# Conduct a two-sided Wilcoxon-Mann-Whitney test and round to three decimal places\ntwo_ind_samp_results = pingouin.mwu(age_trx, age_placebo).round(3)\ntwo_ind_samp_results",
    "outputsMetadata": {
     "0": {
      "height": 93,
      "type": "dataFrame"
     }
    }
   },
   "outputs": [
    {
     "data": {
      "application/com.datacamp.data-table.v1+json": {
       "table": {
        "data": [
         {
          "CLES": 0.505,
          "RBC": -0.011,
          "U-val": 29149339.5,
          "alternative": "two-sided",
          "index": "MWU",
          "p-val": 0.257
         }
        ],
        "schema": {
         "fields": [
          {
           "name": "index",
           "type": "string"
          },
          {
           "name": "U-val",
           "type": "number"
          },
          {
           "name": "alternative",
           "type": "string"
          },
          {
           "name": "p-val",
           "type": "number"
          },
          {
           "name": "RBC",
           "type": "number"
          },
          {
           "name": "CLES",
           "type": "number"
          }
         ],
         "pandas_version": "1.4.0",
         "primaryKey": [
          "index"
         ]
        }
       },
       "total_rows": 1,
       "truncation_type": null
      },
      "text/html": [
       "<div>\n",
       "<style scoped>\n",
       "    .dataframe tbody tr th:only-of-type {\n",
       "        vertical-align: middle;\n",
       "    }\n",
       "\n",
       "    .dataframe tbody tr th {\n",
       "        vertical-align: top;\n",
       "    }\n",
       "\n",
       "    .dataframe thead th {\n",
       "        text-align: right;\n",
       "    }\n",
       "</style>\n",
       "<table border=\"1\" class=\"dataframe\">\n",
       "  <thead>\n",
       "    <tr style=\"text-align: right;\">\n",
       "      <th></th>\n",
       "      <th>U-val</th>\n",
       "      <th>alternative</th>\n",
       "      <th>p-val</th>\n",
       "      <th>RBC</th>\n",
       "      <th>CLES</th>\n",
       "    </tr>\n",
       "  </thead>\n",
       "  <tbody>\n",
       "    <tr>\n",
       "      <th>MWU</th>\n",
       "      <td>29149339.5</td>\n",
       "      <td>two-sided</td>\n",
       "      <td>0.257</td>\n",
       "      <td>-0.011</td>\n",
       "      <td>0.505</td>\n",
       "    </tr>\n",
       "  </tbody>\n",
       "</table>\n",
       "</div>"
      ],
      "text/plain": [
       "          U-val alternative  p-val    RBC   CLES\n",
       "MWU  29149339.5   two-sided  0.257 -0.011  0.505"
      ]
     },
     "execution_count": 99,
     "metadata": {},
     "output_type": "execute_result"
    }
   ],
   "source": [
    "# The distributions strongly suggest a non-parametric independent samples test.\n",
    "# Conduct a two-sided Wilcoxon-Mann-Whitney test and round to three decimal places\n",
    "two_ind_samp_results = pingouin.mwu(age_trx, age_placebo).round(3)\n",
    "two_ind_samp_results"
   ]
  }
 ],
 "metadata": {
  "colab": {
   "name": "Welcome to DataCamp Workspaces.ipynb",
   "provenance": []
  },
  "kernelspec": {
   "display_name": "Python 3 (ipykernel)",
   "language": "python",
   "name": "python3"
  },
  "language_info": {
   "codemirror_mode": {
    "name": "ipython",
    "version": 3
   },
   "file_extension": ".py",
   "mimetype": "text/x-python",
   "name": "python",
   "nbconvert_exporter": "python",
   "pygments_lexer": "ipython3",
   "version": "3.9.12"
  },
  "latex_envs": {
   "LaTeX_envs_menu_present": true,
   "autoclose": false,
   "autocomplete": true,
   "bibliofile": "biblio.bib",
   "cite_by": "apalike",
   "current_citInitial": 1,
   "eqLabelWithNumbers": true,
   "eqNumInitial": 1,
   "hotkeys": {
    "equation": "Ctrl-E",
    "itemize": "Ctrl-I"
   },
   "labels_anchors": false,
   "latex_user_defs": false,
   "report_style_numbering": false,
   "user_envs_cfg": false
  },
  "toc": {
   "base_numbering": 1,
   "nav_menu": {},
   "number_sections": true,
   "sideBar": true,
   "skip_h1_title": false,
   "title_cell": "Table of Contents",
   "title_sidebar": "Contents",
   "toc_cell": false,
   "toc_position": {},
   "toc_section_display": true,
   "toc_window_display": false
  }
 },
 "nbformat": 4,
 "nbformat_minor": 5
}
