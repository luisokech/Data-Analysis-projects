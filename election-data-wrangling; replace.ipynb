{
 "cells": [
  {
   "cell_type": "markdown",
   "metadata": {
    "_uuid": "95055c89375cd0210e670e88459dc49a7da6020d"
   },
   "source": [
    "<h1> Data Wrangling of Electoral Data</h1>\n",
    "<h2>Get our environment set up</h2>\n",
    "The first thing we'll need to do is load in the libraries we'll be using."
   ]
  },
  {
   "cell_type": "code",
   "execution_count": 14,
   "metadata": {
    "_uuid": "59869c2685245e108d192ad4dc58c9c0d54dc3a1"
   },
   "outputs": [],
   "source": [
    "import numpy as np # linear algebra\n",
    "import pandas as pd # data processing, CSV file I/O (e.g. pd.read_csv)\n",
    "\n",
    "import fuzzywuzzy\n",
    "from fuzzywuzzy import process\n",
    "import chardet\n",
    "import re\n",
    "\n",
    "from subprocess import check_output"
   ]
  },
  {
   "cell_type": "markdown",
   "metadata": {
    "_uuid": "27f8c741738b2ae90171abd092ab5e8cbe19b8d4"
   },
   "source": [
    "<h2>Load Data</h2>\n"
   ]
  },
  {
   "cell_type": "code",
   "execution_count": 6,
   "metadata": {
    "_uuid": "55d471c1a1c4984c9378e746b1e837b9c303c0f4"
   },
   "outputs": [
    {
     "name": "stdout",
     "output_type": "stream",
     "text": [
      "Data Dimensions are:  (1793, 11)\n",
      "Data Dimensions are:  (2316, 11)\n",
      "Data Dimensions are:  (4510, 11)\n"
     ]
    }
   ],
   "source": [
    "# Input data files are available in the \"../input/\" directory.\n",
    "# For example, running this (by clicking run or pressing Shift+Enter) will list the files in the input directory\n",
    "\n",
    "\n",
    "#print(check_output([\"ls\", \"../input\"]).decode(\"utf8\"))\n",
    "\n",
    "# Any results you write to the current directory are saved as output.\n",
    "\n",
    "NA2 = pd.read_csv(\"data/National Assembly 2002 - Updated.csv\", encoding = \"ISO-8859-1\")\n",
    "NA8 = pd.read_csv(\"data/National Assembly 2008.csv\", encoding = \"ISO-8859-1\")\n",
    "NA13 = pd.read_csv(\"data/National Assembly 2013.csv\", encoding = \"ISO-8859-1\")\n",
    "print(\"Data Dimensions are: \", NA2.shape)\n",
    "print(\"Data Dimensions are: \", NA8.shape)\n",
    "print(\"Data Dimensions are: \", NA13.shape)"
   ]
  },
  {
   "cell_type": "markdown",
   "metadata": {
    "_uuid": "5c67f78d3d25dbf7e4a9a48b40737f3e53ec7b91"
   },
   "source": [
    "<h2>Data Info</h2>\n",
    "\n",
    "Let's look into the info of provided dataset."
   ]
  },
  {
   "cell_type": "code",
   "execution_count": 7,
   "metadata": {
    "_uuid": "812173bde1b8ca847f4d927dc83d764fe06cc2cb"
   },
   "outputs": [
    {
     "name": "stdout",
     "output_type": "stream",
     "text": [
      "NA 2002.csv\n",
      "<class 'pandas.core.frame.DataFrame'>\n",
      "RangeIndex: 1793 entries, 0 to 1792\n",
      "Data columns (total 11 columns):\n",
      " #   Column                   Non-Null Count  Dtype  \n",
      "---  ------                   --------------  -----  \n",
      " 0   District                 1793 non-null   object \n",
      " 1   Seat                     1793 non-null   object \n",
      " 2   Constituency_title       1793 non-null   object \n",
      " 3   Candidate_Name           1793 non-null   object \n",
      " 4   Party                    1793 non-null   object \n",
      " 5   Votes                    1793 non-null   int64  \n",
      " 6   Total_Valid_Votes        1793 non-null   int64  \n",
      " 7   Total_Rejected_Votes     1793 non-null   int64  \n",
      " 8   Total_Votes              1793 non-null   int64  \n",
      " 9   Total_Registered_Voters  1793 non-null   int64  \n",
      " 10  Turnout                  1793 non-null   float64\n",
      "dtypes: float64(1), int64(5), object(5)\n",
      "memory usage: 154.2+ KB\n",
      "\n",
      "NA 2008.csv\n",
      "<class 'pandas.core.frame.DataFrame'>\n",
      "RangeIndex: 2316 entries, 0 to 2315\n",
      "Data columns (total 11 columns):\n",
      " #   Column                 Non-Null Count  Dtype \n",
      "---  ------                 --------------  ----- \n",
      " 0   Unnamed: 0             2316 non-null   int64 \n",
      " 1   Seat                   2316 non-null   object\n",
      " 2   ConstituencyTitle      2316 non-null   object\n",
      " 3   CandidateName          2316 non-null   object\n",
      " 4   Party                  2316 non-null   object\n",
      " 5   Votes                  2316 non-null   int64 \n",
      " 6   TotalValidVotes        2316 non-null   int64 \n",
      " 7   TotalRejectedVotes     2316 non-null   int64 \n",
      " 8   TotalVotes             2316 non-null   int64 \n",
      " 9   TotalRegisteredVoters  2316 non-null   int64 \n",
      " 10  Turnout                2316 non-null   object\n",
      "dtypes: int64(6), object(5)\n",
      "memory usage: 199.2+ KB\n",
      "\n",
      "NA 2013.csv\n",
      "<class 'pandas.core.frame.DataFrame'>\n",
      "RangeIndex: 4510 entries, 0 to 4509\n",
      "Data columns (total 11 columns):\n",
      " #   Column                 Non-Null Count  Dtype \n",
      "---  ------                 --------------  ----- \n",
      " 0   Unnamed: 0             4510 non-null   int64 \n",
      " 1   Seat                   4510 non-null   object\n",
      " 2   ConstituencyTitle      4510 non-null   object\n",
      " 3   CandidateName          4510 non-null   object\n",
      " 4   Party                  4510 non-null   object\n",
      " 5   Votes                  4510 non-null   int64 \n",
      " 6   TotalValidVotes        4510 non-null   int64 \n",
      " 7   TotalRejectedVotes     4510 non-null   int64 \n",
      " 8   TotalVotes             4510 non-null   int64 \n",
      " 9   TotalRegisteredVoters  4510 non-null   int64 \n",
      " 10  Turnout                4510 non-null   object\n",
      "dtypes: int64(6), object(5)\n",
      "memory usage: 387.7+ KB\n"
     ]
    }
   ],
   "source": [
    "print(\"NA 2002.csv\")\n",
    "NA2.info()\n",
    "print(\"\\nNA 2008.csv\")\n",
    "NA8.info()\n",
    "print(\"\\nNA 2013.csv\")\n",
    "NA13.info()"
   ]
  },
  {
   "cell_type": "markdown",
   "metadata": {
    "_uuid": "47b1efc6986b1fdfc30d5b598e4cf6e0dec57664"
   },
   "source": [
    "All three files have 11 columns. Row details are as follow:\n",
    "\n",
    "* NA 2002: 1,792\n",
    "* NA 2008: 2,315\n",
    "* NA 2013: 4,541\n",
    "\n",
    "NA 2002.cv file has fine data types. \n",
    "\n",
    "In NA 2008 & NA 2013 files:\n",
    "* 1st column name is missing and showing that it have int64 data type. \n",
    "* Turnout column has read as object.\n",
    "\n",
    "<h2>Data Wrangling </h2>\n",
    "Lets observe the 1st file in order to fix next two and merge them all into one dataframe."
   ]
  },
  {
   "cell_type": "code",
   "execution_count": 8,
   "metadata": {
    "_uuid": "e0ad4fc2ba5ef8573374efe2d0284901cfb262e0"
   },
   "outputs": [
    {
     "name": "stdout",
     "output_type": "stream",
     "text": [
      "   District        Seat Constituency_title  \\\n",
      "0  PESHAWAR  PESHAWAR-I               NA-1   \n",
      "1  PESHAWAR  PESHAWAR-I               NA-1   \n",
      "2  PESHAWAR  PESHAWAR-I               NA-1   \n",
      "3  PESHAWAR  PESHAWAR-I               NA-1   \n",
      "4  PESHAWAR  PESHAWAR-I               NA-1   \n",
      "\n",
      "                       Candidate_Name                              Party  \\\n",
      "0                   Mr Sajid Abdullah           Pakistan Tehreek-e-Insaf   \n",
      "1                     Mr Shabir Ahmad  Muttahidda Majlis-e-Amal Pakistan   \n",
      "2              Mr Usman Bashir Bilour               Awami National Party   \n",
      "3  Mr Muhammad Khurshid Khan Advocate                        Independent   \n",
      "4            Mr Muhammad Muazzam Butt         Pakistan Muslim League(QA)   \n",
      "\n",
      "   Votes  Total_Valid_Votes  Total_Rejected_Votes  Total_Votes  \\\n",
      "0   2029              65642                  1552        67194   \n",
      "1  37179              65642                  1552        67194   \n",
      "2  23002              65642                  1552        67194   \n",
      "3   1537              65642                  1552        67194   \n",
      "4   1417              65642                  1552        67194   \n",
      "\n",
      "   Total_Registered_Voters  Turnout  \n",
      "0                   233907    28.73  \n",
      "1                   233907    28.73  \n",
      "2                   233907    28.73  \n",
      "3                   233907    28.73  \n",
      "4                   233907    28.73  \n",
      "   Unnamed: 0        Seat ConstituencyTitle              CandidateName  \\\n",
      "0           0  Peshawar-1              NA-1               Abdullah Jan   \n",
      "1           1  Peshawar-1              NA-1               Ashoni Kumar   \n",
      "2           2  Peshawar-1              NA-1                  Aurangzeb   \n",
      "3           3  Peshawar-1              NA-1                  Ayub Shah   \n",
      "4           4  Peshawar-1              NA-1  Fakhri Alam Khan  Paracha   \n",
      "\n",
      "                                     Party  Votes  TotalValidVotes  \\\n",
      "0                              Independent    313            88325   \n",
      "1                              Independent    156            88325   \n",
      "2                              Independent    261            88325   \n",
      "3  Pakistan Peoples Party Parliamentarians  37682            88325   \n",
      "4                              Independent    184            88325   \n",
      "\n",
      "   TotalRejectedVotes  TotalVotes  TotalRegisteredVoters  Turnout  \n",
      "0                 629       88913                 387083  22.97 %  \n",
      "1                 629       88913                 387083  22.97 %  \n",
      "2                 629       88913                 387083  22.97 %  \n",
      "3                 629       88913                 387083  22.97 %  \n",
      "4                 629       88913                 387083  22.97 %  \n",
      "   Unnamed: 0        Seat ConstituencyTitle               CandidateName  \\\n",
      "0           0  PESHAWAR-I              NA-1        Aamir Shehzad Hashmi   \n",
      "1           1  PESHAWAR-I              NA-1                  Akram Khan   \n",
      "2           2  PESHAWAR-I              NA-1  Alhaaj Ghulam Ahmad Bilour   \n",
      "3           3  PESHAWAR-I              NA-1                   Amir Syed   \n",
      "4           4  PESHAWAR-I              NA-1         Bashir Ahmad Afridi   \n",
      "\n",
      "                                     Party  Votes  TotalValidVotes  \\\n",
      "0                       Mustaqbil Pakistan     77           145924   \n",
      "1                              Independent    182           145924   \n",
      "2                     Awami National Party  24468           145924   \n",
      "3  Pakistan Peoples Party (Shaheed Bhutto)    454           145924   \n",
      "4        Muttahida Qaumi Movement Pakistan    117           145924   \n",
      "\n",
      "   TotalRejectedVotes  TotalVotes  TotalRegisteredVoters  Turnout  \n",
      "0                2103      146044                 320578   46.18%  \n",
      "1                2103      146044                 320578  46.18 %  \n",
      "2                2103      146044                 320578  46.18 %  \n",
      "3                2103      146044                 320578  46.18 %  \n",
      "4                2103      146044                 320578  46.18 %  \n",
      "Index(['Unnamed: 0', 'Seat', 'ConstituencyTitle', 'CandidateName', 'Party',\n",
      "       'Votes', 'TotalValidVotes', 'TotalRejectedVotes', 'TotalVotes',\n",
      "       'TotalRegisteredVoters', 'Turnout'],\n",
      "      dtype='object') \n",
      ">>\n",
      " Index(['Unnamed: 0', 'Seat', 'ConstituencyTitle', 'CandidateName', 'Party',\n",
      "       'Votes', 'TotalValidVotes', 'TotalRejectedVotes', 'TotalVotes',\n",
      "       'TotalRegisteredVoters', 'Turnout'],\n",
      "      dtype='object')\n"
     ]
    }
   ],
   "source": [
    "print(NA2.head())\n",
    "print(NA8.head())\n",
    "print(NA13.head())\n",
    "print(NA8.columns, \"\\n>>\\n\", NA13.columns)"
   ]
  },
  {
   "cell_type": "markdown",
   "metadata": {
    "_uuid": "9b64e6155afef8a2b21f4b0b29235a5579ce5795"
   },
   "source": [
    "So the first column should be District. We will extract district names from Seat column.\n",
    "We will drop last column from NA13 because it contain no value..\n",
    "\n",
    "<b>Rename Column and Replace Values </b>"
   ]
  },
  {
   "cell_type": "code",
   "execution_count": 9,
   "metadata": {
    "_uuid": "229364fde1007f6a1d631f2a5fa58cd508670680"
   },
   "outputs": [
    {
     "name": "stdout",
     "output_type": "stream",
     "text": [
      "NA 8:  Index(['District', 'Seat', 'ConstituencyTitle', 'CandidateName', 'Party',\n",
      "       'Votes', 'TotalValidVotes', 'TotalRejectedVotes', 'TotalVotes',\n",
      "       'TotalRegisteredVoters', 'Turnout'],\n",
      "      dtype='object') \n",
      "NA 13:  Index(['District', 'Seat', 'ConstituencyTitle', 'CandidateName', 'Party',\n",
      "       'Votes', 'TotalValidVotes', 'TotalRejectedVotes', 'TotalVotes',\n",
      "       'TotalRegisteredVoters', 'Turnout'],\n",
      "      dtype='object')\n"
     ]
    }
   ],
   "source": [
    "\n",
    "NA8.rename(columns={'Unnamed: 0':'District'}, inplace=True)\n",
    "NA13.rename(columns={'Unnamed: 0':'District'}, inplace=True)\n",
    "print(\"NA 8: \", NA8.columns, \"\\nNA 13: \", NA13.columns)\n",
    "#NA13 = NA13.drop('Unnamed: 11', axis=1)"
   ]
  },
  {
   "cell_type": "code",
   "execution_count": 10,
   "metadata": {},
   "outputs": [],
   "source": [
    "NA8.District = NA8.Seat"
   ]
  },
  {
   "cell_type": "code",
   "execution_count": 11,
   "metadata": {},
   "outputs": [
    {
     "name": "stderr",
     "output_type": "stream",
     "text": [
      "C:\\Users\\HP\\AppData\\Local\\Temp\\ipykernel_8976\\1769182689.py:1: FutureWarning: The default value of regex will change from True to False in a future version. In addition, single character regular expressions will *not* be treated as literal strings when regex=True.\n",
      "  NA8['District'] = NA8['District'].str.replace(\".\",\" \") # to deal with D.I. Khan\n"
     ]
    },
    {
     "data": {
      "text/plain": [
       "array(['Peshawar-1', 'Peshawar-II', 'Peshawar-III', 'Peshawar-IV',\n",
       "       'Nowshera-I', 'Nowshera-II', 'Charsadda-I', 'Mardan-I',\n",
       "       'Mardan-II', 'Mardan-III', 'Swabi-I', 'Swabi-II', 'Kohat', 'Karak',\n",
       "       'Hangu', 'Abbottabad-I', 'Abbottabad-II', 'Haripur', 'Mansehra-I',\n",
       "       'Mansehra-II', 'Battagram', 'Kohistan', 'D I Khan',\n",
       "       'D I Khan-com-Tank', 'Bannu', 'Lakki Marwat', 'Buner', 'Swat-I',\n",
       "       'Swat-II', 'Shangla', 'Chitral',\n",
       "       'Upper Dir-cum-Lower Dir (Old Upper Dir', 'Lower Dir',\n",
       "       'Malakand P A', 'Tribal Area-I', 'Tribal Area-II',\n",
       "       'Tribal Area-III', 'Tribal Area-IV', 'Tribal Area-V',\n",
       "       'Tribal Area-VI', 'Tribal Area-VII', 'Tribal Area-VIII',\n",
       "       'Tribal Area-IX', 'Tribal Area-X', 'Tribal Area-XI',\n",
       "       'Tribal Area-XII', 'Islamabad-I', 'Islamabad-II', 'Rawalpindi-I',\n",
       "       'Rawalpindi -II', 'Rawalpindi-III', 'Rawalpindi-IV',\n",
       "       'Rawalpindi \\x96V', 'Rawalpindi-VI', 'Rawalpindi-VII', 'Attock-I',\n",
       "       'Attock-II', 'Attock-III', 'Chakwal-I', 'Chakwal-II', 'Jhelum-I',\n",
       "       'Jhelum-II', 'Sargodha-I', 'Sargodha-II', 'Sargodha-III',\n",
       "       'Sargodha-IV', 'Sargodha-V', 'Khushab-I', 'Khushab-II',\n",
       "       'Mianwali-I', 'Mianwali-II', 'Bhakkar-I', 'Bhakkar-II',\n",
       "       'Faisalabad-I', 'Faisalabad-II', 'Faisalabad-III', 'Faisalabad-IV',\n",
       "       'Faisalabad-V', 'Faisalabad-VI', 'Faisalabad-VII',\n",
       "       'Faisalabad-VIII', 'Faisalabad-IX', 'Faisalabad-X',\n",
       "       'Faisalabad-XI', 'Jhang-I', 'Jhang-II', 'Jhang-III', 'Jhang-IV',\n",
       "       'Jhang-V', 'Jhang-VI', 'Toba Tek Singh-I', 'Toba Tek Singh-II',\n",
       "       'Toba Tek Singh-III', 'Gujranwala-I', 'Gujranwala-II',\n",
       "       'Gujranwala-III', 'Gujranwala-IV', 'Gujranwala-V', 'Gujranwala-VI',\n",
       "       'Gujranwala-VII', 'Hafizabad-I', 'Hafizabad-II', 'Gujrat-I',\n",
       "       'Gujrat-II', 'Gujrat-III', 'Gujrat-IV', 'M B Din-I', 'M B Din-II',\n",
       "       'Sialkot-I', 'Sialkot-II', 'Sialkot-III', 'Sialkot-IV',\n",
       "       'Sialkot-V', 'Narowal-I', 'Narowal-II', 'Narowal-III', 'Lahore-I',\n",
       "       'Lahore-III', 'Lahore-IV', 'Lahore-V', 'Lahore-VI', 'Lahore-VII',\n",
       "       'Lahore-VIII', 'Lahore-IX', 'Lahore-X', 'Lahore-XI', 'Lahore-XII',\n",
       "       'Lahore-XIII', 'Sheikhupura-I',\n",
       "       'Sheikhupura-Cum-Nankana Sahib-I (Old Sheikhupura-I',\n",
       "       'Sheikhupura-II (Old Sheikhupura-III',\n",
       "       'Sheikhupura-Cum-Nankana Sahib-II (Old Sheikhupura-',\n",
       "       'Nanka Sahib-I (Old Sheikhupura-V',\n",
       "       'Nankana Sahib-cum- Sheikhupura (Old Sheikhupura-VI',\n",
       "       'Nankana Sahib-II (Old Sheikhupura-VII', 'Kasur-I', 'Kasur-II',\n",
       "       'Kasur-III', 'Kasur-IV', 'Kasur-V', 'Okara-I', 'Okara-II',\n",
       "       'Okara-III', 'Okara-IV', 'Okara-V', 'Multan-I', 'Multan-II',\n",
       "       'Multan-III', 'Multan-IV', 'Multan-V', 'Multan-VI', 'Lodhran-I',\n",
       "       'Lodhran-II', 'Khanewal-I', 'Khanewal-II', 'Khanewal-III',\n",
       "       'Khanewal-IV', 'Sahiwal-I', 'Sahiwal-II', 'Sahiwal-III',\n",
       "       'Sahiwal-IV', 'Pakpattan-I', 'Pakpattan-II', 'Pakpattan-III',\n",
       "       'Vehari-I', 'Vehari-II', 'Vehari-III', 'Vehari-IV',\n",
       "       'Dera Ghazi Khan-I', 'Dera Ghazi Khan-II', 'Dera Ghazi Khan-III',\n",
       "       'Rajanpur-I', 'Rajanpur-II', 'Muzaffargarh-I', 'Muzaffargarh-II',\n",
       "       'Muzaffargarh-III', 'Muzaffargarh-IV', 'Muzaffargarh-V',\n",
       "       'Layyah-I', 'Layyah-II', 'Bahawalpur-I', 'Bahawalpur-II',\n",
       "       'Bahawalpur-III', 'Bahawalpur-IV', 'Bahawalpur-V',\n",
       "       'Bahawalnagar-I', 'Bahawalnagar-II', 'Bahawalnagar-III',\n",
       "       'Bahawalnagar-IV', 'Rahimyar Khan-I', 'Rahimyar Khan-II',\n",
       "       'Rahimyar Khan-III', 'Rahimyar Khan-IV', 'Rahimyar Khan-V',\n",
       "       'Rahimyar Khan-VI', 'Sukkur cum Shikarpur(I',\n",
       "       'Sukkur cum Shikarpur(II', 'Ghotki-I', 'Ghotki-II',\n",
       "       'Shikarpur (Old Shikarpur-I',\n",
       "       'Shikarpur-cum-Sukkur-cum-Larkana (Old Shikarpur-II',\n",
       "       'Larkana (Old Larkana I',\n",
       "       'Larka cum-Kamber Shahdadkot (Old Larkana II',\n",
       "       'Kamber Shahdadkot (Old Larkana III',\n",
       "       'Jacobabad  (Old Jacobabad-I',\n",
       "       'Jacobabad-cum-Kashmore (Old Jacobabad-II',\n",
       "       'Kashmore (Old Jacobabad-III', 'Naushero Feroze-I',\n",
       "       'Naushero Feroze-II', 'Nawabshah-I', 'Nawabshah-II', 'Khairpur-I',\n",
       "       'Khairpur-II', 'Khairpur-III',\n",
       "       'Matiari-cum-Hyderabad (Old Hyderabad-I',\n",
       "       'Hyderabad-I (Old Hyderabad-II', 'Hyderabad-II (Old Hyderabad-III',\n",
       "       'Hyderabad-cum-Matiari (Old Hyderabad-IV',\n",
       "       'Tando Muhammad Khan-cum-Hyderabad-cum-Badin (Old H',\n",
       "       'Tando Allahyar-cum-Matiari (Old Hyderabad-VI',\n",
       "       'Badin-cum-Tando Muhammad Khan-I (Old Badin-I',\n",
       "       'Badin-cum-Tando Muhammad Khan-II', 'Mirpurkhas-cum-Umerkot(I',\n",
       "       'Mirpurkhas-cum-Umerkot(II', 'Umerkot (Old Mirpurkhas-III',\n",
       "       'Tharparkar-I', 'Tharparkar-II ', 'Jamshoro (Old Dadu-I',\n",
       "       'Dadu-I (Old Dadu-II', 'Dadu-II (Old Dadu-III', 'Sanghar-I',\n",
       "       'Sanghar-II (Old Sanghar-III', 'Thatta-I', 'Thatta-II',\n",
       "       'Karachi-I', 'Karachi-II', 'Karachi-III', 'Karachi-IV',\n",
       "       'Karachi-V', 'Karachi-VI', 'Karachi-VII', 'Karachi-VIII',\n",
       "       'Karachi-IX', 'Karachi-X', 'Karachi-XI', 'Karachi-XII',\n",
       "       'Karachi-XIII', 'Karachi-XIV', 'Karachi-XV', 'Karachi-XVI',\n",
       "       'Karachi-XVII', 'Karachi-XVIII', 'Karachi-XIX', 'Karachi-XX',\n",
       "       'Quetta', 'Quetta-cum-Chagai-cum-Nushki (Old Quetta-cum-Chaga',\n",
       "       'Pishin-cum-Ziarat', 'Killa Abdullah',\n",
       "       'Loralai-cum-Musakhel-cum-Barkhan (Old Loralai',\n",
       "       'Zhob-cum-Sherani-cum-Killa Saifullah(Old Zhob-cum-',\n",
       "       'Sibi-cum-Kohlu-cum-Dera Bugti-cum-Hernai(Old Sibi-',\n",
       "       'Bolan-cum-Jhal Magsi (Old Kachhi', 'Kalat-cum-Mastung ',\n",
       "       'Khuzdar ', 'Awaran-cum-Lasbela ',\n",
       "       'Kharan-cum-Washuk-cum-Panjgur(Old Kharan-cum-Panjg',\n",
       "       'Kech-cum-Gwadar '], dtype=object)"
      ]
     },
     "execution_count": 11,
     "metadata": {},
     "output_type": "execute_result"
    }
   ],
   "source": [
    "NA8['District'] = NA8['District'].str.replace(\".\",\" \") # to deal with D.I. Khan\n",
    "NA8.District.unique()"
   ]
  },
  {
   "cell_type": "code",
   "execution_count": 12,
   "metadata": {},
   "outputs": [
    {
     "name": "stderr",
     "output_type": "stream",
     "text": [
      "C:\\Users\\HP\\AppData\\Local\\Temp\\ipykernel_8976\\1912675360.py:4: FutureWarning: The default value of regex will change from True to False in a future version.\n",
      "  NA8['District'] = NA8['District'].str.replace(r\"\\(.*?\",\"\")\n"
     ]
    },
    {
     "data": {
      "text/plain": [
       "array(['Peshawar-1', 'Peshawar-II', 'Peshawar-III', 'Peshawar-IV',\n",
       "       'Nowshera-I', 'Nowshera-II', 'Charsadda-I', 'Mardan-I',\n",
       "       'Mardan-II', 'Mardan-III', 'Swabi-I', 'Swabi-II', 'Kohat', 'Karak',\n",
       "       'Hangu', 'Abbottabad-I', 'Abbottabad-II', 'Haripur', 'Mansehra-I',\n",
       "       'Mansehra-II', 'Battagram', 'Kohistan', 'D I Khan',\n",
       "       'D I Khan-com-Tank', 'Bannu', 'Lakki Marwat', 'Buner', 'Swat-I',\n",
       "       'Swat-II', 'Shangla', 'Chitral',\n",
       "       'Upper Dir-cum-Lower Dir Old Upper Dir', 'Lower Dir',\n",
       "       'Malakand P A', 'Tribal Area-I', 'Tribal Area-II',\n",
       "       'Tribal Area-III', 'Tribal Area-IV', 'Tribal Area-V',\n",
       "       'Tribal Area-VI', 'Tribal Area-VII', 'Tribal Area-VIII',\n",
       "       'Tribal Area-IX', 'Tribal Area-X', 'Tribal Area-XI',\n",
       "       'Tribal Area-XII', 'Islamabad-I', 'Islamabad-II', 'Rawalpindi-I',\n",
       "       'Rawalpindi -II', 'Rawalpindi-III', 'Rawalpindi-IV',\n",
       "       'Rawalpindi \\x96V', 'Rawalpindi-VI', 'Rawalpindi-VII', 'Attock-I',\n",
       "       'Attock-II', 'Attock-III', 'Chakwal-I', 'Chakwal-II', 'Jhelum-I',\n",
       "       'Jhelum-II', 'Sargodha-I', 'Sargodha-II', 'Sargodha-III',\n",
       "       'Sargodha-IV', 'Sargodha-V', 'Khushab-I', 'Khushab-II',\n",
       "       'Mianwali-I', 'Mianwali-II', 'Bhakkar-I', 'Bhakkar-II',\n",
       "       'Faisalabad-I', 'Faisalabad-II', 'Faisalabad-III', 'Faisalabad-IV',\n",
       "       'Faisalabad-V', 'Faisalabad-VI', 'Faisalabad-VII',\n",
       "       'Faisalabad-VIII', 'Faisalabad-IX', 'Faisalabad-X',\n",
       "       'Faisalabad-XI', 'Jhang-I', 'Jhang-II', 'Jhang-III', 'Jhang-IV',\n",
       "       'Jhang-V', 'Jhang-VI', 'Toba Tek Singh-I', 'Toba Tek Singh-II',\n",
       "       'Toba Tek Singh-III', 'Gujranwala-I', 'Gujranwala-II',\n",
       "       'Gujranwala-III', 'Gujranwala-IV', 'Gujranwala-V', 'Gujranwala-VI',\n",
       "       'Gujranwala-VII', 'Hafizabad-I', 'Hafizabad-II', 'Gujrat-I',\n",
       "       'Gujrat-II', 'Gujrat-III', 'Gujrat-IV', 'M B Din-I', 'M B Din-II',\n",
       "       'Sialkot-I', 'Sialkot-II', 'Sialkot-III', 'Sialkot-IV',\n",
       "       'Sialkot-V', 'Narowal-I', 'Narowal-II', 'Narowal-III', 'Lahore-I',\n",
       "       'Lahore-III', 'Lahore-IV', 'Lahore-V', 'Lahore-VI', 'Lahore-VII',\n",
       "       'Lahore-VIII', 'Lahore-IX', 'Lahore-X', 'Lahore-XI', 'Lahore-XII',\n",
       "       'Lahore-XIII', 'Sheikhupura-I',\n",
       "       'Sheikhupura-Cum-Nankana Sahib-I Old Sheikhupura-I',\n",
       "       'Sheikhupura-II Old Sheikhupura-III',\n",
       "       'Sheikhupura-Cum-Nankana Sahib-II Old Sheikhupura-',\n",
       "       'Nanka Sahib-I Old Sheikhupura-V',\n",
       "       'Nankana Sahib-cum- Sheikhupura Old Sheikhupura-VI',\n",
       "       'Nankana Sahib-II Old Sheikhupura-VII', 'Kasur-I', 'Kasur-II',\n",
       "       'Kasur-III', 'Kasur-IV', 'Kasur-V', 'Okara-I', 'Okara-II',\n",
       "       'Okara-III', 'Okara-IV', 'Okara-V', 'Multan-I', 'Multan-II',\n",
       "       'Multan-III', 'Multan-IV', 'Multan-V', 'Multan-VI', 'Lodhran-I',\n",
       "       'Lodhran-II', 'Khanewal-I', 'Khanewal-II', 'Khanewal-III',\n",
       "       'Khanewal-IV', 'Sahiwal-I', 'Sahiwal-II', 'Sahiwal-III',\n",
       "       'Sahiwal-IV', 'Pakpattan-I', 'Pakpattan-II', 'Pakpattan-III',\n",
       "       'Vehari-I', 'Vehari-II', 'Vehari-III', 'Vehari-IV',\n",
       "       'Dera Ghazi Khan-I', 'Dera Ghazi Khan-II', 'Dera Ghazi Khan-III',\n",
       "       'Rajanpur-I', 'Rajanpur-II', 'Muzaffargarh-I', 'Muzaffargarh-II',\n",
       "       'Muzaffargarh-III', 'Muzaffargarh-IV', 'Muzaffargarh-V',\n",
       "       'Layyah-I', 'Layyah-II', 'Bahawalpur-I', 'Bahawalpur-II',\n",
       "       'Bahawalpur-III', 'Bahawalpur-IV', 'Bahawalpur-V',\n",
       "       'Bahawalnagar-I', 'Bahawalnagar-II', 'Bahawalnagar-III',\n",
       "       'Bahawalnagar-IV', 'Rahimyar Khan-I', 'Rahimyar Khan-II',\n",
       "       'Rahimyar Khan-III', 'Rahimyar Khan-IV', 'Rahimyar Khan-V',\n",
       "       'Rahimyar Khan-VI', 'Sukkur cum ShikarpurI',\n",
       "       'Sukkur cum ShikarpurII', 'Ghotki-I', 'Ghotki-II',\n",
       "       'Shikarpur Old Shikarpur-I',\n",
       "       'Shikarpur-cum-Sukkur-cum-Larkana Old Shikarpur-II',\n",
       "       'Larkana Old Larkana I',\n",
       "       'Larka cum-Kamber Shahdadkot Old Larkana II',\n",
       "       'Kamber Shahdadkot Old Larkana III', 'Jacobabad  Old Jacobabad-I',\n",
       "       'Jacobabad-cum-Kashmore Old Jacobabad-II',\n",
       "       'Kashmore Old Jacobabad-III', 'Naushero Feroze-I',\n",
       "       'Naushero Feroze-II', 'Nawabshah-I', 'Nawabshah-II', 'Khairpur-I',\n",
       "       'Khairpur-II', 'Khairpur-III',\n",
       "       'Matiari-cum-Hyderabad Old Hyderabad-I',\n",
       "       'Hyderabad-I Old Hyderabad-II', 'Hyderabad-II Old Hyderabad-III',\n",
       "       'Hyderabad-cum-Matiari Old Hyderabad-IV',\n",
       "       'Tando Muhammad Khan-cum-Hyderabad-cum-Badin Old H',\n",
       "       'Tando Allahyar-cum-Matiari Old Hyderabad-VI',\n",
       "       'Badin-cum-Tando Muhammad Khan-I Old Badin-I',\n",
       "       'Badin-cum-Tando Muhammad Khan-II', 'Mirpurkhas-cum-UmerkotI',\n",
       "       'Mirpurkhas-cum-UmerkotII', 'Umerkot Old Mirpurkhas-III',\n",
       "       'Tharparkar-I', 'Tharparkar-II ', 'Jamshoro Old Dadu-I',\n",
       "       'Dadu-I Old Dadu-II', 'Dadu-II Old Dadu-III', 'Sanghar-I',\n",
       "       'Sanghar-II Old Sanghar-III', 'Thatta-I', 'Thatta-II', 'Karachi-I',\n",
       "       'Karachi-II', 'Karachi-III', 'Karachi-IV', 'Karachi-V',\n",
       "       'Karachi-VI', 'Karachi-VII', 'Karachi-VIII', 'Karachi-IX',\n",
       "       'Karachi-X', 'Karachi-XI', 'Karachi-XII', 'Karachi-XIII',\n",
       "       'Karachi-XIV', 'Karachi-XV', 'Karachi-XVI', 'Karachi-XVII',\n",
       "       'Karachi-XVIII', 'Karachi-XIX', 'Karachi-XX', 'Quetta',\n",
       "       'Quetta-cum-Chagai-cum-Nushki Old Quetta-cum-Chaga',\n",
       "       'Pishin-cum-Ziarat', 'Killa Abdullah',\n",
       "       'Loralai-cum-Musakhel-cum-Barkhan Old Loralai',\n",
       "       'Zhob-cum-Sherani-cum-Killa SaifullahOld Zhob-cum-',\n",
       "       'Sibi-cum-Kohlu-cum-Dera Bugti-cum-HernaiOld Sibi-',\n",
       "       'Bolan-cum-Jhal Magsi Old Kachhi', 'Kalat-cum-Mastung ',\n",
       "       'Khuzdar ', 'Awaran-cum-Lasbela ',\n",
       "       'Kharan-cum-Washuk-cum-PanjgurOld Kharan-cum-Panjg',\n",
       "       'Kech-cum-Gwadar '], dtype=object)"
      ]
     },
     "execution_count": 12,
     "metadata": {},
     "output_type": "execute_result"
    }
   ],
   "source": [
    "# remove all those substring with () \n",
    "    # Search for opening bracket in the name followed by (explained more in the practice data)\n",
    "    # .* means zero or more instances of whatever precedes it\n",
    "NA8['District'] = NA8['District'].str.replace(r\"\\(.*?\",\"\")\n",
    "NA8.District.unique()\n",
    "# OR"
   ]
  },
  {
   "cell_type": "code",
   "execution_count": 15,
   "metadata": {
    "scrolled": true
   },
   "outputs": [
    {
     "data": {
      "text/plain": [
       "array(['Peshawar-1', 'Peshawar-II', 'Peshawar-III', 'Peshawar-IV',\n",
       "       'Nowshera-I', 'Nowshera-II', 'Charsadda-I', 'Mardan-I',\n",
       "       'Mardan-II', 'Mardan-III', 'Swabi-I', 'Swabi-II', 'Kohat', 'Karak',\n",
       "       'Hangu', 'Abbottabad-I', 'Abbottabad-II', 'Haripur', 'Mansehra-I',\n",
       "       'Mansehra-II', 'Battagram', 'Kohistan', 'D I Khan',\n",
       "       'D I Khan-com-Tank', 'Bannu', 'Lakki Marwat', 'Buner', 'Swat-I',\n",
       "       'Swat-II', 'Shangla', 'Chitral',\n",
       "       'Upper Dir-cum-Lower Dir Old Upper Dir', 'Lower Dir',\n",
       "       'Malakand P A', 'Tribal Area-I', 'Tribal Area-II',\n",
       "       'Tribal Area-III', 'Tribal Area-IV', 'Tribal Area-V',\n",
       "       'Tribal Area-VI', 'Tribal Area-VII', 'Tribal Area-VIII',\n",
       "       'Tribal Area-IX', 'Tribal Area-X', 'Tribal Area-XI',\n",
       "       'Tribal Area-XII', 'Islamabad-I', 'Islamabad-II', 'Rawalpindi-I',\n",
       "       'Rawalpindi -II', 'Rawalpindi-III', 'Rawalpindi-IV',\n",
       "       'Rawalpindi \\x96V', 'Rawalpindi-VI', 'Rawalpindi-VII', 'Attock-I',\n",
       "       'Attock-II', 'Attock-III', 'Chakwal-I', 'Chakwal-II', 'Jhelum-I',\n",
       "       'Jhelum-II', 'Sargodha-I', 'Sargodha-II', 'Sargodha-III',\n",
       "       'Sargodha-IV', 'Sargodha-V', 'Khushab-I', 'Khushab-II',\n",
       "       'Mianwali-I', 'Mianwali-II', 'Bhakkar-I', 'Bhakkar-II',\n",
       "       'Faisalabad-I', 'Faisalabad-II', 'Faisalabad-III', 'Faisalabad-IV',\n",
       "       'Faisalabad-V', 'Faisalabad-VI', 'Faisalabad-VII',\n",
       "       'Faisalabad-VIII', 'Faisalabad-IX', 'Faisalabad-X',\n",
       "       'Faisalabad-XI', 'Jhang-I', 'Jhang-II', 'Jhang-III', 'Jhang-IV',\n",
       "       'Jhang-V', 'Jhang-VI', 'Toba Tek Singh-I', 'Toba Tek Singh-II',\n",
       "       'Toba Tek Singh-III', 'Gujranwala-I', 'Gujranwala-II',\n",
       "       'Gujranwala-III', 'Gujranwala-IV', 'Gujranwala-V', 'Gujranwala-VI',\n",
       "       'Gujranwala-VII', 'Hafizabad-I', 'Hafizabad-II', 'Gujrat-I',\n",
       "       'Gujrat-II', 'Gujrat-III', 'Gujrat-IV', 'M B Din-I', 'M B Din-II',\n",
       "       'Sialkot-I', 'Sialkot-II', 'Sialkot-III', 'Sialkot-IV',\n",
       "       'Sialkot-V', 'Narowal-I', 'Narowal-II', 'Narowal-III', 'Lahore-I',\n",
       "       'Lahore-III', 'Lahore-IV', 'Lahore-V', 'Lahore-VI', 'Lahore-VII',\n",
       "       'Lahore-VIII', 'Lahore-IX', 'Lahore-X', 'Lahore-XI', 'Lahore-XII',\n",
       "       'Lahore-XIII', 'Sheikhupura-I',\n",
       "       'Sheikhupura-Cum-Nankana Sahib-I Old Sheikhupura-I',\n",
       "       'Sheikhupura-II Old Sheikhupura-III',\n",
       "       'Sheikhupura-Cum-Nankana Sahib-II Old Sheikhupura-',\n",
       "       'Nanka Sahib-I Old Sheikhupura-V',\n",
       "       'Nankana Sahib-cum- Sheikhupura Old Sheikhupura-VI',\n",
       "       'Nankana Sahib-II Old Sheikhupura-VII', 'Kasur-I', 'Kasur-II',\n",
       "       'Kasur-III', 'Kasur-IV', 'Kasur-V', 'Okara-I', 'Okara-II',\n",
       "       'Okara-III', 'Okara-IV', 'Okara-V', 'Multan-I', 'Multan-II',\n",
       "       'Multan-III', 'Multan-IV', 'Multan-V', 'Multan-VI', 'Lodhran-I',\n",
       "       'Lodhran-II', 'Khanewal-I', 'Khanewal-II', 'Khanewal-III',\n",
       "       'Khanewal-IV', 'Sahiwal-I', 'Sahiwal-II', 'Sahiwal-III',\n",
       "       'Sahiwal-IV', 'Pakpattan-I', 'Pakpattan-II', 'Pakpattan-III',\n",
       "       'Vehari-I', 'Vehari-II', 'Vehari-III', 'Vehari-IV',\n",
       "       'Dera Ghazi Khan-I', 'Dera Ghazi Khan-II', 'Dera Ghazi Khan-III',\n",
       "       'Rajanpur-I', 'Rajanpur-II', 'Muzaffargarh-I', 'Muzaffargarh-II',\n",
       "       'Muzaffargarh-III', 'Muzaffargarh-IV', 'Muzaffargarh-V',\n",
       "       'Layyah-I', 'Layyah-II', 'Bahawalpur-I', 'Bahawalpur-II',\n",
       "       'Bahawalpur-III', 'Bahawalpur-IV', 'Bahawalpur-V',\n",
       "       'Bahawalnagar-I', 'Bahawalnagar-II', 'Bahawalnagar-III',\n",
       "       'Bahawalnagar-IV', 'Rahimyar Khan-I', 'Rahimyar Khan-II',\n",
       "       'Rahimyar Khan-III', 'Rahimyar Khan-IV', 'Rahimyar Khan-V',\n",
       "       'Rahimyar Khan-VI', 'Sukkur cum ShikarpurI',\n",
       "       'Sukkur cum ShikarpurII', 'Ghotki-I', 'Ghotki-II',\n",
       "       'Shikarpur Old Shikarpur-I',\n",
       "       'Shikarpur-cum-Sukkur-cum-Larkana Old Shikarpur-II',\n",
       "       'Larkana Old Larkana I',\n",
       "       'Larka cum-Kamber Shahdadkot Old Larkana II',\n",
       "       'Kamber Shahdadkot Old Larkana III', 'Jacobabad  Old Jacobabad-I',\n",
       "       'Jacobabad-cum-Kashmore Old Jacobabad-II',\n",
       "       'Kashmore Old Jacobabad-III', 'Naushero Feroze-I',\n",
       "       'Naushero Feroze-II', 'Nawabshah-I', 'Nawabshah-II', 'Khairpur-I',\n",
       "       'Khairpur-II', 'Khairpur-III',\n",
       "       'Matiari-cum-Hyderabad Old Hyderabad-I',\n",
       "       'Hyderabad-I Old Hyderabad-II', 'Hyderabad-II Old Hyderabad-III',\n",
       "       'Hyderabad-cum-Matiari Old Hyderabad-IV',\n",
       "       'Tando Muhammad Khan-cum-Hyderabad-cum-Badin Old H',\n",
       "       'Tando Allahyar-cum-Matiari Old Hyderabad-VI',\n",
       "       'Badin-cum-Tando Muhammad Khan-I Old Badin-I',\n",
       "       'Badin-cum-Tando Muhammad Khan-II', 'Mirpurkhas-cum-UmerkotI',\n",
       "       'Mirpurkhas-cum-UmerkotII', 'Umerkot Old Mirpurkhas-III',\n",
       "       'Tharparkar-I', 'Tharparkar-II ', 'Jamshoro Old Dadu-I',\n",
       "       'Dadu-I Old Dadu-II', 'Dadu-II Old Dadu-III', 'Sanghar-I',\n",
       "       'Sanghar-II Old Sanghar-III', 'Thatta-I', 'Thatta-II', 'Karachi-I',\n",
       "       'Karachi-II', 'Karachi-III', 'Karachi-IV', 'Karachi-V',\n",
       "       'Karachi-VI', 'Karachi-VII', 'Karachi-VIII', 'Karachi-IX',\n",
       "       'Karachi-X', 'Karachi-XI', 'Karachi-XII', 'Karachi-XIII',\n",
       "       'Karachi-XIV', 'Karachi-XV', 'Karachi-XVI', 'Karachi-XVII',\n",
       "       'Karachi-XVIII', 'Karachi-XIX', 'Karachi-XX', 'Quetta',\n",
       "       'Quetta-cum-Chagai-cum-Nushki Old Quetta-cum-Chaga',\n",
       "       'Pishin-cum-Ziarat', 'Killa Abdullah',\n",
       "       'Loralai-cum-Musakhel-cum-Barkhan Old Loralai',\n",
       "       'Zhob-cum-Sherani-cum-Killa SaifullahOld Zhob-cum-',\n",
       "       'Sibi-cum-Kohlu-cum-Dera Bugti-cum-HernaiOld Sibi-',\n",
       "       'Bolan-cum-Jhal Magsi Old Kachhi', 'Kalat-cum-Mastung ',\n",
       "       'Khuzdar ', 'Awaran-cum-Lasbela ',\n",
       "       'Kharan-cum-Washuk-cum-PanjgurOld Kharan-cum-Panjg',\n",
       "       'Kech-cum-Gwadar '], dtype=object)"
      ]
     },
     "execution_count": 15,
     "metadata": {},
     "output_type": "execute_result"
    }
   ],
   "source": [
    "def remove_bracket_substrings(text):\n",
    "#     pattern = r\"\\(.*?\\)\"  # Regex pattern to match substrings within round brackets\n",
    "    pattern = r\"\\(.*?\"  # Regex pattern to match substrings with openning bracket and instances preceding it\n",
    "\n",
    "    return re.sub(pattern, \"\", text)\n",
    "                  \n",
    "# Apply the function to the 'Text' column of the DataFrame\n",
    "NA8['District'] = NA8['District'].apply(remove_bracket_substrings)\n",
    "NA8.District.unique()"
   ]
  },
  {
   "cell_type": "code",
   "execution_count": 16,
   "metadata": {
    "scrolled": true
   },
   "outputs": [
    {
     "name": "stderr",
     "output_type": "stream",
     "text": [
      "C:\\Users\\HP\\AppData\\Local\\Temp\\ipykernel_8976\\15992113.py:3: FutureWarning: The default value of regex will change from True to False in a future version.\n",
      "  NA8['District']  = NA8['District'] .str.replace('[^a-zA-Z -]', '')\n"
     ]
    },
    {
     "data": {
      "text/plain": [
       "array(['Peshawar-', 'Peshawar-II', 'Peshawar-III', 'Peshawar-IV',\n",
       "       'Nowshera-I', 'Nowshera-II', 'Charsadda-I', 'Mardan-I',\n",
       "       'Mardan-II', 'Mardan-III', 'Swabi-I', 'Swabi-II', 'Kohat', 'Karak',\n",
       "       'Hangu', 'Abbottabad-I', 'Abbottabad-II', 'Haripur', 'Mansehra-I',\n",
       "       'Mansehra-II', 'Battagram', 'Kohistan', 'D I Khan',\n",
       "       'D I Khan-com-Tank', 'Bannu', 'Lakki Marwat', 'Buner', 'Swat-I',\n",
       "       'Swat-II', 'Shangla', 'Chitral',\n",
       "       'Upper Dir-cum-Lower Dir Old Upper Dir', 'Lower Dir',\n",
       "       'Malakand P A', 'Tribal Area-I', 'Tribal Area-II',\n",
       "       'Tribal Area-III', 'Tribal Area-IV', 'Tribal Area-V',\n",
       "       'Tribal Area-VI', 'Tribal Area-VII', 'Tribal Area-VIII',\n",
       "       'Tribal Area-IX', 'Tribal Area-X', 'Tribal Area-XI',\n",
       "       'Tribal Area-XII', 'Islamabad-I', 'Islamabad-II', 'Rawalpindi-I',\n",
       "       'Rawalpindi -II', 'Rawalpindi-III', 'Rawalpindi-IV',\n",
       "       'Rawalpindi V', 'Rawalpindi-VI', 'Rawalpindi-VII', 'Attock-I',\n",
       "       'Attock-II', 'Attock-III', 'Chakwal-I', 'Chakwal-II', 'Jhelum-I',\n",
       "       'Jhelum-II', 'Sargodha-I', 'Sargodha-II', 'Sargodha-III',\n",
       "       'Sargodha-IV', 'Sargodha-V', 'Khushab-I', 'Khushab-II',\n",
       "       'Mianwali-I', 'Mianwali-II', 'Bhakkar-I', 'Bhakkar-II',\n",
       "       'Faisalabad-I', 'Faisalabad-II', 'Faisalabad-III', 'Faisalabad-IV',\n",
       "       'Faisalabad-V', 'Faisalabad-VI', 'Faisalabad-VII',\n",
       "       'Faisalabad-VIII', 'Faisalabad-IX', 'Faisalabad-X',\n",
       "       'Faisalabad-XI', 'Jhang-I', 'Jhang-II', 'Jhang-III', 'Jhang-IV',\n",
       "       'Jhang-V', 'Jhang-VI', 'Toba Tek Singh-I', 'Toba Tek Singh-II',\n",
       "       'Toba Tek Singh-III', 'Gujranwala-I', 'Gujranwala-II',\n",
       "       'Gujranwala-III', 'Gujranwala-IV', 'Gujranwala-V', 'Gujranwala-VI',\n",
       "       'Gujranwala-VII', 'Hafizabad-I', 'Hafizabad-II', 'Gujrat-I',\n",
       "       'Gujrat-II', 'Gujrat-III', 'Gujrat-IV', 'M B Din-I', 'M B Din-II',\n",
       "       'Sialkot-I', 'Sialkot-II', 'Sialkot-III', 'Sialkot-IV',\n",
       "       'Sialkot-V', 'Narowal-I', 'Narowal-II', 'Narowal-III', 'Lahore-I',\n",
       "       'Lahore-III', 'Lahore-IV', 'Lahore-V', 'Lahore-VI', 'Lahore-VII',\n",
       "       'Lahore-VIII', 'Lahore-IX', 'Lahore-X', 'Lahore-XI', 'Lahore-XII',\n",
       "       'Lahore-XIII', 'Sheikhupura-I',\n",
       "       'Sheikhupura-Cum-Nankana Sahib-I Old Sheikhupura-I',\n",
       "       'Sheikhupura-II Old Sheikhupura-III',\n",
       "       'Sheikhupura-Cum-Nankana Sahib-II Old Sheikhupura-',\n",
       "       'Nanka Sahib-I Old Sheikhupura-V',\n",
       "       'Nankana Sahib-cum- Sheikhupura Old Sheikhupura-VI',\n",
       "       'Nankana Sahib-II Old Sheikhupura-VII', 'Kasur-I', 'Kasur-II',\n",
       "       'Kasur-III', 'Kasur-IV', 'Kasur-V', 'Okara-I', 'Okara-II',\n",
       "       'Okara-III', 'Okara-IV', 'Okara-V', 'Multan-I', 'Multan-II',\n",
       "       'Multan-III', 'Multan-IV', 'Multan-V', 'Multan-VI', 'Lodhran-I',\n",
       "       'Lodhran-II', 'Khanewal-I', 'Khanewal-II', 'Khanewal-III',\n",
       "       'Khanewal-IV', 'Sahiwal-I', 'Sahiwal-II', 'Sahiwal-III',\n",
       "       'Sahiwal-IV', 'Pakpattan-I', 'Pakpattan-II', 'Pakpattan-III',\n",
       "       'Vehari-I', 'Vehari-II', 'Vehari-III', 'Vehari-IV',\n",
       "       'Dera Ghazi Khan-I', 'Dera Ghazi Khan-II', 'Dera Ghazi Khan-III',\n",
       "       'Rajanpur-I', 'Rajanpur-II', 'Muzaffargarh-I', 'Muzaffargarh-II',\n",
       "       'Muzaffargarh-III', 'Muzaffargarh-IV', 'Muzaffargarh-V',\n",
       "       'Layyah-I', 'Layyah-II', 'Bahawalpur-I', 'Bahawalpur-II',\n",
       "       'Bahawalpur-III', 'Bahawalpur-IV', 'Bahawalpur-V',\n",
       "       'Bahawalnagar-I', 'Bahawalnagar-II', 'Bahawalnagar-III',\n",
       "       'Bahawalnagar-IV', 'Rahimyar Khan-I', 'Rahimyar Khan-II',\n",
       "       'Rahimyar Khan-III', 'Rahimyar Khan-IV', 'Rahimyar Khan-V',\n",
       "       'Rahimyar Khan-VI', 'Sukkur cum ShikarpurI',\n",
       "       'Sukkur cum ShikarpurII', 'Ghotki-I', 'Ghotki-II',\n",
       "       'Shikarpur Old Shikarpur-I',\n",
       "       'Shikarpur-cum-Sukkur-cum-Larkana Old Shikarpur-II',\n",
       "       'Larkana Old Larkana I',\n",
       "       'Larka cum-Kamber Shahdadkot Old Larkana II',\n",
       "       'Kamber Shahdadkot Old Larkana III', 'Jacobabad  Old Jacobabad-I',\n",
       "       'Jacobabad-cum-Kashmore Old Jacobabad-II',\n",
       "       'Kashmore Old Jacobabad-III', 'Naushero Feroze-I',\n",
       "       'Naushero Feroze-II', 'Nawabshah-I', 'Nawabshah-II', 'Khairpur-I',\n",
       "       'Khairpur-II', 'Khairpur-III',\n",
       "       'Matiari-cum-Hyderabad Old Hyderabad-I',\n",
       "       'Hyderabad-I Old Hyderabad-II', 'Hyderabad-II Old Hyderabad-III',\n",
       "       'Hyderabad-cum-Matiari Old Hyderabad-IV',\n",
       "       'Tando Muhammad Khan-cum-Hyderabad-cum-Badin Old H',\n",
       "       'Tando Allahyar-cum-Matiari Old Hyderabad-VI',\n",
       "       'Badin-cum-Tando Muhammad Khan-I Old Badin-I',\n",
       "       'Badin-cum-Tando Muhammad Khan-II', 'Mirpurkhas-cum-UmerkotI',\n",
       "       'Mirpurkhas-cum-UmerkotII', 'Umerkot Old Mirpurkhas-III',\n",
       "       'Tharparkar-I', 'Tharparkar-II ', 'Jamshoro Old Dadu-I',\n",
       "       'Dadu-I Old Dadu-II', 'Dadu-II Old Dadu-III', 'Sanghar-I',\n",
       "       'Sanghar-II Old Sanghar-III', 'Thatta-I', 'Thatta-II', 'Karachi-I',\n",
       "       'Karachi-II', 'Karachi-III', 'Karachi-IV', 'Karachi-V',\n",
       "       'Karachi-VI', 'Karachi-VII', 'Karachi-VIII', 'Karachi-IX',\n",
       "       'Karachi-X', 'Karachi-XI', 'Karachi-XII', 'Karachi-XIII',\n",
       "       'Karachi-XIV', 'Karachi-XV', 'Karachi-XVI', 'Karachi-XVII',\n",
       "       'Karachi-XVIII', 'Karachi-XIX', 'Karachi-XX', 'Quetta',\n",
       "       'Quetta-cum-Chagai-cum-Nushki Old Quetta-cum-Chaga',\n",
       "       'Pishin-cum-Ziarat', 'Killa Abdullah',\n",
       "       'Loralai-cum-Musakhel-cum-Barkhan Old Loralai',\n",
       "       'Zhob-cum-Sherani-cum-Killa SaifullahOld Zhob-cum-',\n",
       "       'Sibi-cum-Kohlu-cum-Dera Bugti-cum-HernaiOld Sibi-',\n",
       "       'Bolan-cum-Jhal Magsi Old Kachhi', 'Kalat-cum-Mastung ',\n",
       "       'Khuzdar ', 'Awaran-cum-Lasbela ',\n",
       "       'Kharan-cum-Washuk-cum-PanjgurOld Kharan-cum-Panjg',\n",
       "       'Kech-cum-Gwadar '], dtype=object)"
      ]
     },
     "execution_count": 16,
     "metadata": {},
     "output_type": "execute_result"
    }
   ],
   "source": [
    "# remove numeric \n",
    "# [a-zA-Z] means any a-z or A-Z at the start of a line [^a-zA-Z] means any character that IS NOT a-z OR A-Z\n",
    "NA8['District']  = NA8['District'] .str.replace('[^a-zA-Z -]', '')\n",
    "NA8.District.unique()"
   ]
  },
  {
   "cell_type": "markdown",
   "metadata": {},
   "source": [
    "https://stackoverflow.com/questions/33022051/regex-explanation#:~:text=%40CharlieParker%20%5E%20is%20beginning%20of%20the%20line%20and%20%24%20is%20end%20of%20the%20line.%20So%20if%20you%20have%20pattern%3A%20xyz%24%2C%20it%20will%20match%20the%20value%3A%20abcxyz.%20However%20pattern%3A%20%5Exyz%24%20will%20not%20match.%20Then%20pattern%3A%20%5Eabc%20will%20also%20match%20value%3A%20abcxyz%20and%20pattern%3A%20%5Eabc%24%20will%20not."
   ]
  },
  {
   "cell_type": "code",
   "execution_count": 17,
   "metadata": {
    "scrolled": true
   },
   "outputs": [
    {
     "name": "stderr",
     "output_type": "stream",
     "text": [
      "C:\\Users\\HP\\AppData\\Local\\Temp\\ipykernel_8976\\352808575.py:1: FutureWarning: The default value of regex will change from True to False in a future version.\n",
      "  NA8['District']  = NA8['District'] .str.replace(r\" (XX|IX|X?I{0,3})(IX|IV|V?I{0,3})$\", '')\n"
     ]
    },
    {
     "data": {
      "text/plain": [
       "array(['Peshawar-', 'Peshawar-II', 'Peshawar-III', 'Peshawar-IV',\n",
       "       'Nowshera-I', 'Nowshera-II', 'Charsadda-I', 'Mardan-I',\n",
       "       'Mardan-II', 'Mardan-III', 'Swabi-I', 'Swabi-II', 'Kohat', 'Karak',\n",
       "       'Hangu', 'Abbottabad-I', 'Abbottabad-II', 'Haripur', 'Mansehra-I',\n",
       "       'Mansehra-II', 'Battagram', 'Kohistan', 'D I Khan',\n",
       "       'D I Khan-com-Tank', 'Bannu', 'Lakki Marwat', 'Buner', 'Swat-I',\n",
       "       'Swat-II', 'Shangla', 'Chitral',\n",
       "       'Upper Dir-cum-Lower Dir Old Upper Dir', 'Lower Dir',\n",
       "       'Malakand P A', 'Tribal Area-I', 'Tribal Area-II',\n",
       "       'Tribal Area-III', 'Tribal Area-IV', 'Tribal Area-V',\n",
       "       'Tribal Area-VI', 'Tribal Area-VII', 'Tribal Area-VIII',\n",
       "       'Tribal Area-IX', 'Tribal Area-X', 'Tribal Area-XI',\n",
       "       'Tribal Area-XII', 'Islamabad-I', 'Islamabad-II', 'Rawalpindi-I',\n",
       "       'Rawalpindi -II', 'Rawalpindi-III', 'Rawalpindi-IV', 'Rawalpindi',\n",
       "       'Rawalpindi-VI', 'Rawalpindi-VII', 'Attock-I', 'Attock-II',\n",
       "       'Attock-III', 'Chakwal-I', 'Chakwal-II', 'Jhelum-I', 'Jhelum-II',\n",
       "       'Sargodha-I', 'Sargodha-II', 'Sargodha-III', 'Sargodha-IV',\n",
       "       'Sargodha-V', 'Khushab-I', 'Khushab-II', 'Mianwali-I',\n",
       "       'Mianwali-II', 'Bhakkar-I', 'Bhakkar-II', 'Faisalabad-I',\n",
       "       'Faisalabad-II', 'Faisalabad-III', 'Faisalabad-IV', 'Faisalabad-V',\n",
       "       'Faisalabad-VI', 'Faisalabad-VII', 'Faisalabad-VIII',\n",
       "       'Faisalabad-IX', 'Faisalabad-X', 'Faisalabad-XI', 'Jhang-I',\n",
       "       'Jhang-II', 'Jhang-III', 'Jhang-IV', 'Jhang-V', 'Jhang-VI',\n",
       "       'Toba Tek Singh-I', 'Toba Tek Singh-II', 'Toba Tek Singh-III',\n",
       "       'Gujranwala-I', 'Gujranwala-II', 'Gujranwala-III', 'Gujranwala-IV',\n",
       "       'Gujranwala-V', 'Gujranwala-VI', 'Gujranwala-VII', 'Hafizabad-I',\n",
       "       'Hafizabad-II', 'Gujrat-I', 'Gujrat-II', 'Gujrat-III', 'Gujrat-IV',\n",
       "       'M B Din-I', 'M B Din-II', 'Sialkot-I', 'Sialkot-II',\n",
       "       'Sialkot-III', 'Sialkot-IV', 'Sialkot-V', 'Narowal-I',\n",
       "       'Narowal-II', 'Narowal-III', 'Lahore-I', 'Lahore-III', 'Lahore-IV',\n",
       "       'Lahore-V', 'Lahore-VI', 'Lahore-VII', 'Lahore-VIII', 'Lahore-IX',\n",
       "       'Lahore-X', 'Lahore-XI', 'Lahore-XII', 'Lahore-XIII',\n",
       "       'Sheikhupura-I',\n",
       "       'Sheikhupura-Cum-Nankana Sahib-I Old Sheikhupura-I',\n",
       "       'Sheikhupura-II Old Sheikhupura-III',\n",
       "       'Sheikhupura-Cum-Nankana Sahib-II Old Sheikhupura-',\n",
       "       'Nanka Sahib-I Old Sheikhupura-V',\n",
       "       'Nankana Sahib-cum- Sheikhupura Old Sheikhupura-VI',\n",
       "       'Nankana Sahib-II Old Sheikhupura-VII', 'Kasur-I', 'Kasur-II',\n",
       "       'Kasur-III', 'Kasur-IV', 'Kasur-V', 'Okara-I', 'Okara-II',\n",
       "       'Okara-III', 'Okara-IV', 'Okara-V', 'Multan-I', 'Multan-II',\n",
       "       'Multan-III', 'Multan-IV', 'Multan-V', 'Multan-VI', 'Lodhran-I',\n",
       "       'Lodhran-II', 'Khanewal-I', 'Khanewal-II', 'Khanewal-III',\n",
       "       'Khanewal-IV', 'Sahiwal-I', 'Sahiwal-II', 'Sahiwal-III',\n",
       "       'Sahiwal-IV', 'Pakpattan-I', 'Pakpattan-II', 'Pakpattan-III',\n",
       "       'Vehari-I', 'Vehari-II', 'Vehari-III', 'Vehari-IV',\n",
       "       'Dera Ghazi Khan-I', 'Dera Ghazi Khan-II', 'Dera Ghazi Khan-III',\n",
       "       'Rajanpur-I', 'Rajanpur-II', 'Muzaffargarh-I', 'Muzaffargarh-II',\n",
       "       'Muzaffargarh-III', 'Muzaffargarh-IV', 'Muzaffargarh-V',\n",
       "       'Layyah-I', 'Layyah-II', 'Bahawalpur-I', 'Bahawalpur-II',\n",
       "       'Bahawalpur-III', 'Bahawalpur-IV', 'Bahawalpur-V',\n",
       "       'Bahawalnagar-I', 'Bahawalnagar-II', 'Bahawalnagar-III',\n",
       "       'Bahawalnagar-IV', 'Rahimyar Khan-I', 'Rahimyar Khan-II',\n",
       "       'Rahimyar Khan-III', 'Rahimyar Khan-IV', 'Rahimyar Khan-V',\n",
       "       'Rahimyar Khan-VI', 'Sukkur cum ShikarpurI',\n",
       "       'Sukkur cum ShikarpurII', 'Ghotki-I', 'Ghotki-II',\n",
       "       'Shikarpur Old Shikarpur-I',\n",
       "       'Shikarpur-cum-Sukkur-cum-Larkana Old Shikarpur-II',\n",
       "       'Larkana Old Larkana', 'Larka cum-Kamber Shahdadkot Old Larkana',\n",
       "       'Kamber Shahdadkot Old Larkana', 'Jacobabad  Old Jacobabad-I',\n",
       "       'Jacobabad-cum-Kashmore Old Jacobabad-II',\n",
       "       'Kashmore Old Jacobabad-III', 'Naushero Feroze-I',\n",
       "       'Naushero Feroze-II', 'Nawabshah-I', 'Nawabshah-II', 'Khairpur-I',\n",
       "       'Khairpur-II', 'Khairpur-III',\n",
       "       'Matiari-cum-Hyderabad Old Hyderabad-I',\n",
       "       'Hyderabad-I Old Hyderabad-II', 'Hyderabad-II Old Hyderabad-III',\n",
       "       'Hyderabad-cum-Matiari Old Hyderabad-IV',\n",
       "       'Tando Muhammad Khan-cum-Hyderabad-cum-Badin Old H',\n",
       "       'Tando Allahyar-cum-Matiari Old Hyderabad-VI',\n",
       "       'Badin-cum-Tando Muhammad Khan-I Old Badin-I',\n",
       "       'Badin-cum-Tando Muhammad Khan-II', 'Mirpurkhas-cum-UmerkotI',\n",
       "       'Mirpurkhas-cum-UmerkotII', 'Umerkot Old Mirpurkhas-III',\n",
       "       'Tharparkar-I', 'Tharparkar-II', 'Jamshoro Old Dadu-I',\n",
       "       'Dadu-I Old Dadu-II', 'Dadu-II Old Dadu-III', 'Sanghar-I',\n",
       "       'Sanghar-II Old Sanghar-III', 'Thatta-I', 'Thatta-II', 'Karachi-I',\n",
       "       'Karachi-II', 'Karachi-III', 'Karachi-IV', 'Karachi-V',\n",
       "       'Karachi-VI', 'Karachi-VII', 'Karachi-VIII', 'Karachi-IX',\n",
       "       'Karachi-X', 'Karachi-XI', 'Karachi-XII', 'Karachi-XIII',\n",
       "       'Karachi-XIV', 'Karachi-XV', 'Karachi-XVI', 'Karachi-XVII',\n",
       "       'Karachi-XVIII', 'Karachi-XIX', 'Karachi-XX', 'Quetta',\n",
       "       'Quetta-cum-Chagai-cum-Nushki Old Quetta-cum-Chaga',\n",
       "       'Pishin-cum-Ziarat', 'Killa Abdullah',\n",
       "       'Loralai-cum-Musakhel-cum-Barkhan Old Loralai',\n",
       "       'Zhob-cum-Sherani-cum-Killa SaifullahOld Zhob-cum-',\n",
       "       'Sibi-cum-Kohlu-cum-Dera Bugti-cum-HernaiOld Sibi-',\n",
       "       'Bolan-cum-Jhal Magsi Old Kachhi', 'Kalat-cum-Mastung', 'Khuzdar',\n",
       "       'Awaran-cum-Lasbela',\n",
       "       'Kharan-cum-Washuk-cum-PanjgurOld Kharan-cum-Panjg',\n",
       "       'Kech-cum-Gwadar'], dtype=object)"
      ]
     },
     "execution_count": 17,
     "metadata": {},
     "output_type": "execute_result"
    }
   ],
   "source": [
    "NA8['District']  = NA8['District'] .str.replace(r\" (XX|IX|X?I{0,3})(IX|IV|V?I{0,3})$\", '')\n",
    "# NA8['District']  = NA8['District'] .str.replace(r\" (XX|IX|X?I{0,3})(IX|IV|V?I{0,3})$\", '')\n",
    "NA8.District.unique()"
   ]
  },
  {
   "cell_type": "code",
   "execution_count": 18,
   "metadata": {
    "_uuid": "8298f7a093015d4b7127564b09637945484b5b99"
   },
   "outputs": [
    {
     "name": "stderr",
     "output_type": "stream",
     "text": [
      "C:\\Users\\HP\\AppData\\Local\\Temp\\ipykernel_8976\\2539223980.py:4: FutureWarning: The default value of regex will change from True to False in a future version. In addition, single character regular expressions will *not* be treated as literal strings when regex=True.\n",
      "  NA8['District'] = NA8['District'].str.replace(\".\",\" \") # to deal with D.I. Khan\n",
      "C:\\Users\\HP\\AppData\\Local\\Temp\\ipykernel_8976\\2539223980.py:6: FutureWarning: The default value of regex will change from True to False in a future version.\n",
      "  NA8['District'] = NA8['District'].str.replace(r\"\\(.*\\)\",\"\")\n",
      "C:\\Users\\HP\\AppData\\Local\\Temp\\ipykernel_8976\\2539223980.py:8: FutureWarning: The default value of regex will change from True to False in a future version.\n",
      "  NA8['District']  = NA8['District'] .str.replace('[^a-zA-Z -]', '')\n",
      "C:\\Users\\HP\\AppData\\Local\\Temp\\ipykernel_8976\\2539223980.py:13: FutureWarning: The default value of regex will change from True to False in a future version.\n",
      "  NA8['District'] = NA8['District'].str.replace(r\"-.*\",\"\")\n",
      "C:\\Users\\HP\\AppData\\Local\\Temp\\ipykernel_8976\\2539223980.py:14: FutureWarning: The default value of regex will change from True to False in a future version.\n",
      "  NA8['District']  = NA8['District'] .str.replace(r\" (XX|IX|X?I{0,3})(IX|IV|V?I{0,3})$\", '')\n",
      "C:\\Users\\HP\\AppData\\Local\\Temp\\ipykernel_8976\\2539223980.py:15: FutureWarning: The default value of regex will change from True to False in a future version.\n",
      "  NA8['District']  = NA8['District'] .str.replace(r\" (XX|IX|X?I{0,3})(IX|IV|V?I{0,3})$\", '')\n"
     ]
    },
    {
     "data": {
      "text/plain": [
       "array(['Peshawar', 'Nowshera', 'Charsadda', 'Mardan', 'Swabi', 'Kohat',\n",
       "       'Karak', 'Hangu', 'Abbottabad', 'Haripur', 'Mansehra', 'Battagram',\n",
       "       'Kohistan', 'D I Khan', 'Bannu', 'Lakki Marwat', 'Buner', 'Swat',\n",
       "       'Shangla', 'Chitral', 'Upper Dir', 'Lower Dir', 'Malakand P A',\n",
       "       'Tribal Area', 'Islamabad', 'Rawalpindi', 'Attock', 'Chakwal',\n",
       "       'Jhelum', 'Sargodha', 'Khushab', 'Mianwali', 'Bhakkar',\n",
       "       'Faisalabad', 'Jhang', 'Toba Tek Singh', 'Gujranwala', 'Hafizabad',\n",
       "       'Gujrat', 'M B Din', 'Sialkot', 'Narowal', 'Lahore', 'Sheikhupura',\n",
       "       'Nanka Sahib', 'Nankana Sahib', 'Kasur', 'Okara', 'Multan',\n",
       "       'Lodhran', 'Khanewal', 'Sahiwal', 'Pakpattan', 'Vehari',\n",
       "       'Dera Ghazi Khan', 'Rajanpur', 'Muzaffargarh', 'Layyah',\n",
       "       'Bahawalpur', 'Bahawalnagar', 'Rahimyar Khan',\n",
       "       'Sukkur cum ShikarpurI', 'Sukkur cum ShikarpurII', 'Ghotki',\n",
       "       'Shikarpur Old Shikarpur', 'Shikarpur', 'Larkana Old Larkana',\n",
       "       'Larka cum', 'Kamber Shahdadkot Old Larkana',\n",
       "       'Jacobabad  Old Jacobabad', 'Jacobabad', 'Kashmore Old Jacobabad',\n",
       "       'Naushero Feroze', 'Nawabshah', 'Khairpur', 'Matiari', 'Hyderabad',\n",
       "       'Tando Muhammad Khan', 'Tando Allahyar', 'Badin', 'Mirpurkhas',\n",
       "       'Umerkot Old Mirpurkhas', 'Tharparkar', 'Jamshoro Old Dadu',\n",
       "       'Dadu', 'Sanghar', 'Thatta', 'Karachi', 'Quetta', 'Pishin',\n",
       "       'Killa Abdullah', 'Loralai', 'Zhob', 'Sibi', 'Bolan', 'Kalat',\n",
       "       'Khuzdar', 'Awaran', 'Kharan', 'Kech'], dtype=object)"
      ]
     },
     "execution_count": 18,
     "metadata": {},
     "output_type": "execute_result"
    }
   ],
   "source": [
    "NA8.District = NA8.Seat#.str.split(\"-\", expand=True)[0]\n",
    "#Add District column\n",
    "#NA8['District'] = NA8['Seat']\n",
    "NA8['District'] = NA8['District'].str.replace(\".\",\" \") # to deal with D.I. Khan\n",
    "# remove all those substring with () \n",
    "NA8['District'] = NA8['District'].str.replace(r\"\\(.*\\)\",\"\")\n",
    "# remove numeric\n",
    "NA8['District']  = NA8['District'] .str.replace('[^a-zA-Z -]', '')\n",
    "#NA8['District'] = NA8['District'].str.replace(r\"Cum.*\",\"\")\n",
    "#NA8['District'] = NA8['District'].str.replace(r\"cum.*\",\"\")\n",
    "#na18['District'] = na18['District'].str.replace(r\"KUM.*\",\"\")\n",
    "# to convert Tribal Area III - Mohman into Tribal Area III\n",
    "NA8['District'] = NA8['District'].str.replace(r\"-.*\",\"\")\n",
    "NA8['District']  = NA8['District'] .str.replace(r\" (XX|IX|X?I{0,3})(IX|IV|V?I{0,3})$\", '')\n",
    "NA8['District']  = NA8['District'] .str.replace(r\" (XX|IX|X?I{0,3})(IX|IV|V?I{0,3})$\", '')\n",
    "NA8['District'].unique()"
   ]
  },
  {
   "cell_type": "code",
   "execution_count": 19,
   "metadata": {
    "_uuid": "7010e17818bcb92213397480fb3c9903a8b20839"
   },
   "outputs": [
    {
     "name": "stderr",
     "output_type": "stream",
     "text": [
      "C:\\Users\\HP\\AppData\\Local\\Temp\\ipykernel_8976\\3229997259.py:4: FutureWarning: The default value of regex will change from True to False in a future version. In addition, single character regular expressions will *not* be treated as literal strings when regex=True.\n",
      "  NA13['District'] = NA8['District'].str.replace(\".\",\" \") # to deal with D.I. Khan\n",
      "C:\\Users\\HP\\AppData\\Local\\Temp\\ipykernel_8976\\3229997259.py:6: FutureWarning: The default value of regex will change from True to False in a future version.\n",
      "  NA13['District'] = NA13['District'].str.replace(r\"\\(.*\\)\",\"\")\n",
      "C:\\Users\\HP\\AppData\\Local\\Temp\\ipykernel_8976\\3229997259.py:8: FutureWarning: The default value of regex will change from True to False in a future version.\n",
      "  NA13['District']  = NA13['District'] .str.replace('[^a-zA-Z -]', '')\n",
      "C:\\Users\\HP\\AppData\\Local\\Temp\\ipykernel_8976\\3229997259.py:9: FutureWarning: The default value of regex will change from True to False in a future version.\n",
      "  NA13['District'] = NA13['District'].str.replace(r\"Cum.*\",\"\")\n",
      "C:\\Users\\HP\\AppData\\Local\\Temp\\ipykernel_8976\\3229997259.py:12: FutureWarning: The default value of regex will change from True to False in a future version.\n",
      "  NA13['District'] = NA13['District'].str.replace(r\"-.*\",\"\")\n",
      "C:\\Users\\HP\\AppData\\Local\\Temp\\ipykernel_8976\\3229997259.py:13: FutureWarning: The default value of regex will change from True to False in a future version.\n",
      "  NA13['District']  = NA13['District'] .str.replace(r\" (XX|IX|X?I{0,3})(IX|IV|V?I{0,3})$\", '')\n",
      "C:\\Users\\HP\\AppData\\Local\\Temp\\ipykernel_8976\\3229997259.py:14: FutureWarning: The default value of regex will change from True to False in a future version.\n",
      "  NA13['District']  = NA13['District'] .str.replace(r\" (XX|IX|X?I{0,3})(IX|IV|V?I{0,3})$\", '')\n"
     ]
    },
    {
     "data": {
      "text/plain": [
       "array(['Peshawar', 'Nowshera', 'Charsadda', 'Mardan', 'Swabi', 'Kohat',\n",
       "       'Karak', 'Hangu', 'Abbottabad', 'Haripur', 'Mansehra', 'Battagram',\n",
       "       'Kohistan', 'D I Khan', 'Bannu', 'Lakki Marwat', 'Buner', 'Swat',\n",
       "       'Shangla', 'Chitral', 'Upper Dir', 'Lower Dir', 'Malakand P A',\n",
       "       'Tribal Area', 'Islamabad', 'Rawalpindi', 'Attock', 'Chakwal',\n",
       "       'Jhelum', 'Sargodha', 'Khushab', 'Mianwali', 'Bhakkar',\n",
       "       'Faisalabad', 'Jhang', 'Toba Tek Singh', 'Gujranwala', 'Hafizabad',\n",
       "       'Gujrat', 'M B Din', 'Sialkot', 'Narowal', 'Lahore', 'Sheikhupura',\n",
       "       'Nanka Sahib', 'Nankana Sahib', 'Kasur', 'Okara', 'Multan',\n",
       "       'Lodhran', 'Khanewal', 'Sahiwal', 'Pakpattan', 'Vehari',\n",
       "       'Dera Ghazi Khan', 'Rajanpur', 'Muzaffargarh', 'Layyah',\n",
       "       'Bahawalpur', 'Bahawalnagar', 'Rahimyar Khan',\n",
       "       'Sukkur cum ShikarpurI', 'Sukkur cum ShikarpurII', 'Ghotki',\n",
       "       'Shikarpur Old Shikarpur', 'Shikarpur', 'Larkana Old Larkana',\n",
       "       'Larka cum', 'Kamber Shahdadkot Old Larkana',\n",
       "       'Jacobabad  Old Jacobabad', 'Jacobabad', 'Kashmore Old Jacobabad',\n",
       "       'Naushero Feroze', 'Nawabshah', 'Khairpur', 'Matiari', 'Hyderabad',\n",
       "       'Tando Muhammad Khan', 'Tando Allahyar', 'Badin', 'Mirpurkhas',\n",
       "       'Umerkot Old Mirpurkhas', 'Tharparkar', 'Jamshoro Old Dadu',\n",
       "       'Dadu', 'Sanghar', 'Thatta', 'Karachi', 'Quetta', 'Pishin',\n",
       "       'Killa Abdullah', 'Loralai', 'Zhob', 'Sibi', 'Bolan', 'Kalat',\n",
       "       'Khuzdar', 'Awaran', 'Kharan', 'Kech', nan], dtype=object)"
      ]
     },
     "execution_count": 19,
     "metadata": {},
     "output_type": "execute_result"
    }
   ],
   "source": [
    "NA13.District = NA13.Seat #.str.split(\"-\", expand=True)[0]\n",
    "#Add District column\n",
    "#NA13['District'] = NA13['Seat']\n",
    "NA13['District'] = NA8['District'].str.replace(\".\",\" \") # to deal with D.I. Khan\n",
    "# remove all those substring with () \n",
    "NA13['District'] = NA13['District'].str.replace(r\"\\(.*\\)\",\"\")\n",
    "# remove numeric\n",
    "NA13['District']  = NA13['District'] .str.replace('[^a-zA-Z -]', '')\n",
    "NA13['District'] = NA13['District'].str.replace(r\"Cum.*\",\"\")\n",
    "#na18['District'] = na18['Distirct'].str.replace(r\"KUM.*\",\"\")\n",
    "# to convert Tribal Area III - Mohman into Tribal Area III\n",
    "NA13['District'] = NA13['District'].str.replace(r\"-.*\",\"\")\n",
    "NA13['District']  = NA13['District'] .str.replace(r\" (XX|IX|X?I{0,3})(IX|IV|V?I{0,3})$\", '')\n",
    "NA13['District']  = NA13['District'] .str.replace(r\" (XX|IX|X?I{0,3})(IX|IV|V?I{0,3})$\", '')\n",
    "NA13['District'].unique()"
   ]
  },
  {
   "cell_type": "code",
   "execution_count": 20,
   "metadata": {
    "_uuid": "13d8e4eb980c9428ea10131fbfea165f2052e266"
   },
   "outputs": [
    {
     "data": {
      "text/html": [
       "<div>\n",
       "<style scoped>\n",
       "    .dataframe tbody tr th:only-of-type {\n",
       "        vertical-align: middle;\n",
       "    }\n",
       "\n",
       "    .dataframe tbody tr th {\n",
       "        vertical-align: top;\n",
       "    }\n",
       "\n",
       "    .dataframe thead th {\n",
       "        text-align: right;\n",
       "    }\n",
       "</style>\n",
       "<table border=\"1\" class=\"dataframe\">\n",
       "  <thead>\n",
       "    <tr style=\"text-align: right;\">\n",
       "      <th></th>\n",
       "      <th>District</th>\n",
       "      <th>Seat</th>\n",
       "      <th>ConstituencyTitle</th>\n",
       "      <th>CandidateName</th>\n",
       "      <th>Party</th>\n",
       "      <th>Votes</th>\n",
       "      <th>TotalValidVotes</th>\n",
       "      <th>TotalRejectedVotes</th>\n",
       "      <th>TotalVotes</th>\n",
       "      <th>TotalRegisteredVoters</th>\n",
       "      <th>Turnout</th>\n",
       "    </tr>\n",
       "  </thead>\n",
       "  <tbody>\n",
       "    <tr>\n",
       "      <th>0</th>\n",
       "      <td>Peshawar</td>\n",
       "      <td>PESHAWAR-I</td>\n",
       "      <td>NA-1</td>\n",
       "      <td>Aamir Shehzad Hashmi</td>\n",
       "      <td>Mustaqbil Pakistan</td>\n",
       "      <td>77</td>\n",
       "      <td>145924</td>\n",
       "      <td>2103</td>\n",
       "      <td>146044</td>\n",
       "      <td>320578</td>\n",
       "      <td>46.18%</td>\n",
       "    </tr>\n",
       "    <tr>\n",
       "      <th>1</th>\n",
       "      <td>Peshawar</td>\n",
       "      <td>PESHAWAR-I</td>\n",
       "      <td>NA-1</td>\n",
       "      <td>Akram Khan</td>\n",
       "      <td>Independent</td>\n",
       "      <td>182</td>\n",
       "      <td>145924</td>\n",
       "      <td>2103</td>\n",
       "      <td>146044</td>\n",
       "      <td>320578</td>\n",
       "      <td>46.18 %</td>\n",
       "    </tr>\n",
       "    <tr>\n",
       "      <th>2</th>\n",
       "      <td>Peshawar</td>\n",
       "      <td>PESHAWAR-I</td>\n",
       "      <td>NA-1</td>\n",
       "      <td>Alhaaj Ghulam Ahmad Bilour</td>\n",
       "      <td>Awami National Party</td>\n",
       "      <td>24468</td>\n",
       "      <td>145924</td>\n",
       "      <td>2103</td>\n",
       "      <td>146044</td>\n",
       "      <td>320578</td>\n",
       "      <td>46.18 %</td>\n",
       "    </tr>\n",
       "    <tr>\n",
       "      <th>3</th>\n",
       "      <td>Peshawar</td>\n",
       "      <td>PESHAWAR-I</td>\n",
       "      <td>NA-1</td>\n",
       "      <td>Amir Syed</td>\n",
       "      <td>Pakistan Peoples Party (Shaheed Bhutto)</td>\n",
       "      <td>454</td>\n",
       "      <td>145924</td>\n",
       "      <td>2103</td>\n",
       "      <td>146044</td>\n",
       "      <td>320578</td>\n",
       "      <td>46.18 %</td>\n",
       "    </tr>\n",
       "    <tr>\n",
       "      <th>4</th>\n",
       "      <td>Peshawar</td>\n",
       "      <td>PESHAWAR-I</td>\n",
       "      <td>NA-1</td>\n",
       "      <td>Bashir Ahmad Afridi</td>\n",
       "      <td>Muttahida Qaumi Movement Pakistan</td>\n",
       "      <td>117</td>\n",
       "      <td>145924</td>\n",
       "      <td>2103</td>\n",
       "      <td>146044</td>\n",
       "      <td>320578</td>\n",
       "      <td>46.18 %</td>\n",
       "    </tr>\n",
       "  </tbody>\n",
       "</table>\n",
       "</div>"
      ],
      "text/plain": [
       "   District        Seat ConstituencyTitle               CandidateName  \\\n",
       "0  Peshawar  PESHAWAR-I              NA-1        Aamir Shehzad Hashmi   \n",
       "1  Peshawar  PESHAWAR-I              NA-1                  Akram Khan   \n",
       "2  Peshawar  PESHAWAR-I              NA-1  Alhaaj Ghulam Ahmad Bilour   \n",
       "3  Peshawar  PESHAWAR-I              NA-1                   Amir Syed   \n",
       "4  Peshawar  PESHAWAR-I              NA-1         Bashir Ahmad Afridi   \n",
       "\n",
       "                                     Party  Votes  TotalValidVotes  \\\n",
       "0                       Mustaqbil Pakistan     77           145924   \n",
       "1                              Independent    182           145924   \n",
       "2                     Awami National Party  24468           145924   \n",
       "3  Pakistan Peoples Party (Shaheed Bhutto)    454           145924   \n",
       "4        Muttahida Qaumi Movement Pakistan    117           145924   \n",
       "\n",
       "   TotalRejectedVotes  TotalVotes  TotalRegisteredVoters  Turnout  \n",
       "0                2103      146044                 320578   46.18%  \n",
       "1                2103      146044                 320578  46.18 %  \n",
       "2                2103      146044                 320578  46.18 %  \n",
       "3                2103      146044                 320578  46.18 %  \n",
       "4                2103      146044                 320578  46.18 %  "
      ]
     },
     "execution_count": 20,
     "metadata": {},
     "output_type": "execute_result"
    }
   ],
   "source": [
    "NA13.head()"
   ]
  },
  {
   "cell_type": "markdown",
   "metadata": {
    "_uuid": "597e75aef4ebcce75b518fbbd3671f45330e3d42"
   },
   "source": [
    "We are all set with first issue. Turnout column has % symbol in it which makes it object datatype. We will remove non-numeric characters and change datatype.\n",
    "\n",
    "<b>Change the datatype of Turnout column </b>"
   ]
  },
  {
   "cell_type": "code",
   "execution_count": 21,
   "metadata": {
    "_uuid": "aa75d20cab697b22c024c2cf29fc416b4059b87d"
   },
   "outputs": [
    {
     "data": {
      "text/plain": [
       "0    22.97\n",
       "1    22.97\n",
       "2    22.97\n",
       "3    22.97\n",
       "4    22.97\n",
       "Name: Turnout, dtype: float64"
      ]
     },
     "execution_count": 21,
     "metadata": {},
     "output_type": "execute_result"
    }
   ],
   "source": [
    "#  rstrip - Remove the trailing characters\n",
    "NA8['Turnout'] = NA8['Turnout'].str.rstrip('%')\n",
    "NA13['Turnout'] = NA13['Turnout'].str.rstrip('%')\n",
    "NA8['Turnout'] = pd.to_numeric(NA8['Turnout'], errors='coerce')\n",
    "NA13['Turnout'] = pd.to_numeric(NA13['Turnout'], errors='coerce')\n",
    "NA8['Turnout'].head()"
   ]
  },
  {
   "cell_type": "markdown",
   "metadata": {
    "_uuid": "ea9bb1081a0cd0da282a2130d47f16f899a6a84a"
   },
   "source": [
    "Now our dataset is aligned and ready to merge. But before merging, lets add another column  'Year'. "
   ]
  },
  {
   "cell_type": "code",
   "execution_count": 22,
   "metadata": {
    "_uuid": "b856886e8b3fc6c73039b958b67b8c0f4b8d787c"
   },
   "outputs": [],
   "source": [
    "NA2['Year'] = \"2002\"\n",
    "NA8['Year'] = \"2008\"\n",
    "NA13['Year'] = \"2013\""
   ]
  },
  {
   "cell_type": "code",
   "execution_count": 23,
   "metadata": {
    "_uuid": "43789824a12e91a73c09a0dc51d39fc308311483"
   },
   "outputs": [
    {
     "name": "stdout",
     "output_type": "stream",
     "text": [
      "   District        Seat Constituency_title  \\\n",
      "0  PESHAWAR  PESHAWAR-I               NA-1   \n",
      "1  PESHAWAR  PESHAWAR-I               NA-1   \n",
      "2  PESHAWAR  PESHAWAR-I               NA-1   \n",
      "3  PESHAWAR  PESHAWAR-I               NA-1   \n",
      "4  PESHAWAR  PESHAWAR-I               NA-1   \n",
      "\n",
      "                       Candidate_Name                              Party  \\\n",
      "0                   Mr Sajid Abdullah           Pakistan Tehreek-e-Insaf   \n",
      "1                     Mr Shabir Ahmad  Muttahidda Majlis-e-Amal Pakistan   \n",
      "2              Mr Usman Bashir Bilour               Awami National Party   \n",
      "3  Mr Muhammad Khurshid Khan Advocate                        Independent   \n",
      "4            Mr Muhammad Muazzam Butt         Pakistan Muslim League(QA)   \n",
      "\n",
      "   Votes  Total_Valid_Votes  Total_Rejected_Votes  Total_Votes  \\\n",
      "0   2029              65642                  1552        67194   \n",
      "1  37179              65642                  1552        67194   \n",
      "2  23002              65642                  1552        67194   \n",
      "3   1537              65642                  1552        67194   \n",
      "4   1417              65642                  1552        67194   \n",
      "\n",
      "   Total_Registered_Voters  Turnout  Year  \n",
      "0                   233907    28.73  2002  \n",
      "1                   233907    28.73  2002  \n",
      "2                   233907    28.73  2002  \n",
      "3                   233907    28.73  2002  \n",
      "4                   233907    28.73  2002   \n",
      "    District        Seat ConstituencyTitle              CandidateName  \\\n",
      "0  Peshawar  Peshawar-1              NA-1               Abdullah Jan   \n",
      "1  Peshawar  Peshawar-1              NA-1               Ashoni Kumar   \n",
      "2  Peshawar  Peshawar-1              NA-1                  Aurangzeb   \n",
      "3  Peshawar  Peshawar-1              NA-1                  Ayub Shah   \n",
      "4  Peshawar  Peshawar-1              NA-1  Fakhri Alam Khan  Paracha   \n",
      "\n",
      "                                     Party  Votes  TotalValidVotes  \\\n",
      "0                              Independent    313            88325   \n",
      "1                              Independent    156            88325   \n",
      "2                              Independent    261            88325   \n",
      "3  Pakistan Peoples Party Parliamentarians  37682            88325   \n",
      "4                              Independent    184            88325   \n",
      "\n",
      "   TotalRejectedVotes  TotalVotes  TotalRegisteredVoters  Turnout  Year  \n",
      "0                 629       88913                 387083    22.97  2008  \n",
      "1                 629       88913                 387083    22.97  2008  \n",
      "2                 629       88913                 387083    22.97  2008  \n",
      "3                 629       88913                 387083    22.97  2008  \n",
      "4                 629       88913                 387083    22.97  2008   \n",
      "    District        Seat ConstituencyTitle               CandidateName  \\\n",
      "0  Peshawar  PESHAWAR-I              NA-1        Aamir Shehzad Hashmi   \n",
      "1  Peshawar  PESHAWAR-I              NA-1                  Akram Khan   \n",
      "2  Peshawar  PESHAWAR-I              NA-1  Alhaaj Ghulam Ahmad Bilour   \n",
      "3  Peshawar  PESHAWAR-I              NA-1                   Amir Syed   \n",
      "4  Peshawar  PESHAWAR-I              NA-1         Bashir Ahmad Afridi   \n",
      "\n",
      "                                     Party  Votes  TotalValidVotes  \\\n",
      "0                       Mustaqbil Pakistan     77           145924   \n",
      "1                              Independent    182           145924   \n",
      "2                     Awami National Party  24468           145924   \n",
      "3  Pakistan Peoples Party (Shaheed Bhutto)    454           145924   \n",
      "4        Muttahida Qaumi Movement Pakistan    117           145924   \n",
      "\n",
      "   TotalRejectedVotes  TotalVotes  TotalRegisteredVoters  Turnout  Year  \n",
      "0                2103      146044                 320578    46.18  2013  \n",
      "1                2103      146044                 320578    46.18  2013  \n",
      "2                2103      146044                 320578    46.18  2013  \n",
      "3                2103      146044                 320578    46.18  2013  \n",
      "4                2103      146044                 320578    46.18  2013  \n"
     ]
    }
   ],
   "source": [
    "print(NA2.head(), \"\\n\", NA8.head(), \"\\n\", NA13.head())"
   ]
  },
  {
   "cell_type": "markdown",
   "metadata": {
    "_uuid": "9eaa6e44982048d15e28c17ed0622bdaaf7ec18b"
   },
   "source": [
    "<h2>NAN Values</h2>\n",
    "Lets check the status of NA values"
   ]
  },
  {
   "cell_type": "code",
   "execution_count": 24,
   "metadata": {
    "_uuid": "70a0346667bc412a25dffda78c32eca2aff45725"
   },
   "outputs": [
    {
     "name": "stdout",
     "output_type": "stream",
     "text": [
      "NA2 District                   False\n",
      "Seat                       False\n",
      "Constituency_title         False\n",
      "Candidate_Name             False\n",
      "Party                      False\n",
      "Votes                      False\n",
      "Total_Valid_Votes          False\n",
      "Total_Rejected_Votes       False\n",
      "Total_Votes                False\n",
      "Total_Registered_Voters    False\n",
      "Turnout                    False\n",
      "Year                       False\n",
      "dtype: bool \n",
      "NA8:  District                 False\n",
      "Seat                     False\n",
      "ConstituencyTitle        False\n",
      "CandidateName            False\n",
      "Party                    False\n",
      "Votes                    False\n",
      "TotalValidVotes          False\n",
      "TotalRejectedVotes       False\n",
      "TotalVotes               False\n",
      "TotalRegisteredVoters    False\n",
      "Turnout                  False\n",
      "Year                     False\n",
      "dtype: bool \n",
      "NA13: District                  True\n",
      "Seat                     False\n",
      "ConstituencyTitle        False\n",
      "CandidateName            False\n",
      "Party                    False\n",
      "Votes                    False\n",
      "TotalValidVotes          False\n",
      "TotalRejectedVotes       False\n",
      "TotalVotes               False\n",
      "TotalRegisteredVoters    False\n",
      "Turnout                  False\n",
      "Year                     False\n",
      "dtype: bool\n"
     ]
    }
   ],
   "source": [
    "print(\"NA2\", NA2.isnull().any(), \"\\nNA8: \", NA8.isnull().any(), \"\\nNA13:\", NA13.isnull().any())"
   ]
  },
  {
   "cell_type": "markdown",
   "metadata": {
    "_uuid": "38605aec70afa458af28f9ff00b6cbb4791ebc8e"
   },
   "source": [
    "There is no null record.\n",
    "\n",
    "Final step before merging:\n",
    "\n",
    "Just to confirm that column names are similar in all files."
   ]
  },
  {
   "cell_type": "code",
   "execution_count": 25,
   "metadata": {
    "_uuid": "d2edebec251d77a9531d9081d4555360a45db9c3"
   },
   "outputs": [
    {
     "name": "stdout",
     "output_type": "stream",
     "text": [
      "\n",
      " NA2 Index(['District', 'Seat', 'Constituency_title', 'Candidate_Name', 'Party',\n",
      "       'Votes', 'Total_Valid_Votes', 'Total_Rejected_Votes', 'Total_Votes',\n",
      "       'Total_Registered_Voters', 'Turnout', 'Year'],\n",
      "      dtype='object') \n",
      " NA8 Index(['District', 'Seat', 'ConstituencyTitle', 'CandidateName', 'Party',\n",
      "       'Votes', 'TotalValidVotes', 'TotalRejectedVotes', 'TotalVotes',\n",
      "       'TotalRegisteredVoters', 'Turnout', 'Year'],\n",
      "      dtype='object') \n",
      " NA13 Index(['District', 'Seat', 'ConstituencyTitle', 'CandidateName', 'Party',\n",
      "       'Votes', 'TotalValidVotes', 'TotalRejectedVotes', 'TotalVotes',\n",
      "       'TotalRegisteredVoters', 'Turnout', 'Year'],\n",
      "      dtype='object')\n"
     ]
    }
   ],
   "source": [
    "print(\"\\n NA2\", NA2.columns, \"\\n NA8\", NA8.columns, \"\\n NA13\", NA13.columns)"
   ]
  },
  {
   "cell_type": "code",
   "execution_count": 26,
   "metadata": {
    "_uuid": "fa8741bb25808e1162845e8d177ed1c3bf264504"
   },
   "outputs": [
    {
     "data": {
      "text/plain": [
       "Index(['District', 'Seat', 'ConstituencyTitle', 'CandidateName', 'Party',\n",
       "       'Votes', 'TotalValidVotes', 'TotalRejectedVotes', 'TotalVotes',\n",
       "       'TotalRegisteredVoters', 'Turnout', 'Year'],\n",
       "      dtype='object')"
      ]
     },
     "execution_count": 26,
     "metadata": {},
     "output_type": "execute_result"
    }
   ],
   "source": [
    "NA2.rename(columns={'Constituency_title':'ConstituencyTitle', 'Candidate_Name':'CandidateName', 'Total_Valid_Votes':'TotalValidVotes', 'Total_Rejected_Votes':'TotalRejectedVotes', 'Total_Votes':'TotalVotes', 'Total_Registered_Voters':'TotalRegisteredVoters', }, inplace=True)\n",
    "NA2.columns"
   ]
  },
  {
   "cell_type": "markdown",
   "metadata": {
    "_uuid": "c912e3ac7f56391f972b17b520f44ad5d7dc6bb3",
    "collapsed": true
   },
   "source": [
    "<h2>Concatenate All 3 Datasets </h3>"
   ]
  },
  {
   "cell_type": "code",
   "execution_count": 27,
   "metadata": {
    "_uuid": "1b2073dfd633f9899f208defe0c4e82535ea6fe5"
   },
   "outputs": [
    {
     "data": {
      "text/html": [
       "<div>\n",
       "<style scoped>\n",
       "    .dataframe tbody tr th:only-of-type {\n",
       "        vertical-align: middle;\n",
       "    }\n",
       "\n",
       "    .dataframe tbody tr th {\n",
       "        vertical-align: top;\n",
       "    }\n",
       "\n",
       "    .dataframe thead th {\n",
       "        text-align: right;\n",
       "    }\n",
       "</style>\n",
       "<table border=\"1\" class=\"dataframe\">\n",
       "  <thead>\n",
       "    <tr style=\"text-align: right;\">\n",
       "      <th></th>\n",
       "      <th>District</th>\n",
       "      <th>Seat</th>\n",
       "      <th>ConstituencyTitle</th>\n",
       "      <th>CandidateName</th>\n",
       "      <th>Party</th>\n",
       "      <th>Votes</th>\n",
       "      <th>TotalValidVotes</th>\n",
       "      <th>TotalRejectedVotes</th>\n",
       "      <th>TotalVotes</th>\n",
       "      <th>TotalRegisteredVoters</th>\n",
       "      <th>Turnout</th>\n",
       "      <th>Year</th>\n",
       "    </tr>\n",
       "  </thead>\n",
       "  <tbody>\n",
       "    <tr>\n",
       "      <th>0</th>\n",
       "      <td>PESHAWAR</td>\n",
       "      <td>PESHAWAR-I</td>\n",
       "      <td>NA-1</td>\n",
       "      <td>Mr Sajid Abdullah</td>\n",
       "      <td>Pakistan Tehreek-e-Insaf</td>\n",
       "      <td>2029</td>\n",
       "      <td>65642</td>\n",
       "      <td>1552</td>\n",
       "      <td>67194</td>\n",
       "      <td>233907</td>\n",
       "      <td>28.73</td>\n",
       "      <td>2002</td>\n",
       "    </tr>\n",
       "    <tr>\n",
       "      <th>1</th>\n",
       "      <td>PESHAWAR</td>\n",
       "      <td>PESHAWAR-I</td>\n",
       "      <td>NA-1</td>\n",
       "      <td>Mr Shabir Ahmad</td>\n",
       "      <td>Muttahidda Majlis-e-Amal Pakistan</td>\n",
       "      <td>37179</td>\n",
       "      <td>65642</td>\n",
       "      <td>1552</td>\n",
       "      <td>67194</td>\n",
       "      <td>233907</td>\n",
       "      <td>28.73</td>\n",
       "      <td>2002</td>\n",
       "    </tr>\n",
       "    <tr>\n",
       "      <th>2</th>\n",
       "      <td>PESHAWAR</td>\n",
       "      <td>PESHAWAR-I</td>\n",
       "      <td>NA-1</td>\n",
       "      <td>Mr Usman Bashir Bilour</td>\n",
       "      <td>Awami National Party</td>\n",
       "      <td>23002</td>\n",
       "      <td>65642</td>\n",
       "      <td>1552</td>\n",
       "      <td>67194</td>\n",
       "      <td>233907</td>\n",
       "      <td>28.73</td>\n",
       "      <td>2002</td>\n",
       "    </tr>\n",
       "    <tr>\n",
       "      <th>3</th>\n",
       "      <td>PESHAWAR</td>\n",
       "      <td>PESHAWAR-I</td>\n",
       "      <td>NA-1</td>\n",
       "      <td>Mr Muhammad Khurshid Khan Advocate</td>\n",
       "      <td>Independent</td>\n",
       "      <td>1537</td>\n",
       "      <td>65642</td>\n",
       "      <td>1552</td>\n",
       "      <td>67194</td>\n",
       "      <td>233907</td>\n",
       "      <td>28.73</td>\n",
       "      <td>2002</td>\n",
       "    </tr>\n",
       "    <tr>\n",
       "      <th>4</th>\n",
       "      <td>PESHAWAR</td>\n",
       "      <td>PESHAWAR-I</td>\n",
       "      <td>NA-1</td>\n",
       "      <td>Mr Muhammad Muazzam Butt</td>\n",
       "      <td>Pakistan Muslim League(QA)</td>\n",
       "      <td>1417</td>\n",
       "      <td>65642</td>\n",
       "      <td>1552</td>\n",
       "      <td>67194</td>\n",
       "      <td>233907</td>\n",
       "      <td>28.73</td>\n",
       "      <td>2002</td>\n",
       "    </tr>\n",
       "  </tbody>\n",
       "</table>\n",
       "</div>"
      ],
      "text/plain": [
       "   District        Seat ConstituencyTitle                       CandidateName  \\\n",
       "0  PESHAWAR  PESHAWAR-I              NA-1                   Mr Sajid Abdullah   \n",
       "1  PESHAWAR  PESHAWAR-I              NA-1                     Mr Shabir Ahmad   \n",
       "2  PESHAWAR  PESHAWAR-I              NA-1              Mr Usman Bashir Bilour   \n",
       "3  PESHAWAR  PESHAWAR-I              NA-1  Mr Muhammad Khurshid Khan Advocate   \n",
       "4  PESHAWAR  PESHAWAR-I              NA-1            Mr Muhammad Muazzam Butt   \n",
       "\n",
       "                               Party  Votes  TotalValidVotes  \\\n",
       "0           Pakistan Tehreek-e-Insaf   2029            65642   \n",
       "1  Muttahidda Majlis-e-Amal Pakistan  37179            65642   \n",
       "2               Awami National Party  23002            65642   \n",
       "3                        Independent   1537            65642   \n",
       "4         Pakistan Muslim League(QA)   1417            65642   \n",
       "\n",
       "   TotalRejectedVotes  TotalVotes  TotalRegisteredVoters  Turnout  Year  \n",
       "0                1552       67194                 233907    28.73  2002  \n",
       "1                1552       67194                 233907    28.73  2002  \n",
       "2                1552       67194                 233907    28.73  2002  \n",
       "3                1552       67194                 233907    28.73  2002  \n",
       "4                1552       67194                 233907    28.73  2002  "
      ]
     },
     "execution_count": 27,
     "metadata": {},
     "output_type": "execute_result"
    }
   ],
   "source": [
    "df = pd.concat([NA2, NA8, NA13])\n",
    "df.shape\n",
    "df.head()"
   ]
  },
  {
   "cell_type": "code",
   "execution_count": 28,
   "metadata": {
    "_uuid": "9948a85db8c185419b44e2d2a52ebc4cf83545d7"
   },
   "outputs": [
    {
     "data": {
      "text/plain": [
       "District                  True\n",
       "Seat                     False\n",
       "ConstituencyTitle        False\n",
       "CandidateName            False\n",
       "Party                    False\n",
       "Votes                    False\n",
       "TotalValidVotes          False\n",
       "TotalRejectedVotes       False\n",
       "TotalVotes               False\n",
       "TotalRegisteredVoters    False\n",
       "Turnout                  False\n",
       "Year                     False\n",
       "dtype: bool"
      ]
     },
     "execution_count": 28,
     "metadata": {},
     "output_type": "execute_result"
    }
   ],
   "source": [
    "df.isnull().any()"
   ]
  },
  {
   "cell_type": "markdown",
   "metadata": {
    "_uuid": "dc92b7a7c3a20d9c6955bdbe5d4c76cd3dc21f0c"
   },
   "source": [
    "<h2>Some Preliminary Text Pre-processing</h2>\n",
    "Here, I'm interested in cleaning up all Text columns to make sure there's no data entry inconsistencies in it. We could go through and check each row by hand, of course, and hand-correct inconsistencies when we find them. There's a more efficient way to do this though!"
   ]
  },
  {
   "cell_type": "code",
   "execution_count": 29,
   "metadata": {
    "_uuid": "67cab52c107ddfcbc8409f7d9ecbd9c19f1411a6"
   },
   "outputs": [
    {
     "data": {
      "text/plain": [
       "array(['PESHAWAR', 'NOWSHERA', 'Nowshera', 'Charsadda', 'Charsdda',\n",
       "       'Mardan', 'Sawabi', 'Kohat', 'Karak', 'Hangu', 'Abbottabad',\n",
       "       'Haripur', 'Mansehra', 'Batagram', 'Kohistan', 'Dera Ismail Khan',\n",
       "       'Dera Ismail Khan cum Tank', 'Bannu', 'Lakki Marwat', 'Buner',\n",
       "       'Sawat', 'Shangla', 'Chitral', 'Upper Dir', 'Lower Dir',\n",
       "       'Malakand', 'Tribal Area', 'Islamabad', 'Rawalpindi', 'Attock',\n",
       "       'Chakwal', 'Jhelum', 'Sargodha', 'Khushab', 'khushab', 'Mianwali',\n",
       "       'Bhakkar', 'Faisalabad', 'Jhang', 'Toba Tek Singh', 'Gujranwala',\n",
       "       'Hafizabad', 'Gujrat', 'Mandi Bahauddin', 'Sialkot', 'Narowal',\n",
       "       'Lahore', 'Sheikhupura', 'Sheiklhupura', 'Kasur', 'Okara',\n",
       "       'Multan', 'Lodhran', 'Khanewal', 'Sahiwal', 'Pakpattan', 'Vehari',\n",
       "       'Dera Ghazi Khan', 'Rajanpur', 'Muzaffargarh', 'Layyah',\n",
       "       'Bahawalpur', 'Bahawalnagar', 'Rahimyar Khan', 'SUKKUR', 'Ghotki',\n",
       "       'Shikarpur', 'Shikarapur', 'Larkana', 'Jacobabad',\n",
       "       'Nausheroferoze', 'Nawabshah', 'Khairpur', 'Hyderabad', 'Badin',\n",
       "       'Mirpurkhas', 'Tharparkar', 'Dadu', 'Sanghar', 'Thatta', 'Karachi',\n",
       "       'Quetta', 'Quetta Cum Chagai cum Mastung', 'Pishin Cum Ziarat',\n",
       "       'Killa', 'Loralai', 'Zhob Cum Killa Saifullah',\n",
       "       'Sibi Cum Kolhu Cum Dera Bugti', 'Nasirabad', 'Kachhi',\n",
       "       'Kalat Cum Mastung', 'Khuzdar', 'Awaran Cum Lasbela',\n",
       "       'Kharan Cum Panjgur', 'Kech Cum Gwadar', 'Peshawar', 'Swabi',\n",
       "       'Battagram', 'D I Khan', 'Swat', 'Malakand P A', 'M B Din',\n",
       "       'Nanka Sahib', 'Nankana Sahib', 'Sukkur cum ShikarpurI',\n",
       "       'Sukkur cum ShikarpurII', 'Shikarpur Old Shikarpur',\n",
       "       'Larkana Old Larkana', 'Larka cum',\n",
       "       'Kamber Shahdadkot Old Larkana', 'Jacobabad  Old Jacobabad',\n",
       "       'Kashmore Old Jacobabad', 'Naushero Feroze', 'Matiari',\n",
       "       'Tando Muhammad Khan', 'Tando Allahyar', 'Umerkot Old Mirpurkhas',\n",
       "       'Jamshoro Old Dadu', 'Pishin', 'Killa Abdullah', 'Zhob', 'Sibi',\n",
       "       'Bolan', 'Kalat', 'Awaran', 'Kharan', 'Kech', nan], dtype=object)"
      ]
     },
     "execution_count": 29,
     "metadata": {},
     "output_type": "execute_result"
    }
   ],
   "source": [
    "# get all the unique values in the 'District' column\n",
    "#df['District'] = df['District'].astype(str)\n",
    "dist = df['District'].unique()\n",
    "#dist.sort()\n",
    "dist"
   ]
  },
  {
   "cell_type": "markdown",
   "metadata": {
    "_uuid": "bcb35ba0138919a336bc96e13c208aaf9b4f43d9"
   },
   "source": [
    "Just looking at this, We can see some problems due to inconsistent data entry: 'PESHAWAR' and Peshawar ', for example, or 'Charsadda' and 'Charsdda'.\n",
    "\n",
    "The first thing we are going to do is make everything lower case (we can change it back at the end if need) and remove any white spaces at the beginning and end of cells. Inconsistencies in capitalizations and trailing white spaces are very common in text data and you can fix a good 80% of your text data entry inconsistencies by doing this."
   ]
  },
  {
   "cell_type": "code",
   "execution_count": 30,
   "metadata": {
    "_uuid": "815fc35cf0a97084b03dcf7c962a67e0eed868fa"
   },
   "outputs": [],
   "source": [
    "# convert to lower case\n",
    "df['District'] = df['District'].str.lower()\n",
    "# remove trailing white spaces\n",
    "df['District'] = df['District'].str.strip()"
   ]
  },
  {
   "cell_type": "markdown",
   "metadata": {
    "_uuid": "c630f0146bad5d255ec46b7ac08d2c4d8a8fb8fa"
   },
   "source": [
    "<h2>Use fuzzy matching to correct inconsistent data entry</h2>\n",
    "Alright, let's take another look at the district column and see if there's any more data cleaning we need to do."
   ]
  },
  {
   "cell_type": "code",
   "execution_count": 31,
   "metadata": {
    "_uuid": "99a482c70e661ddc45454e0e688b12e447182fa5"
   },
   "outputs": [
    {
     "data": {
      "text/plain": [
       "array(['peshawar', 'nowshera', 'charsadda', 'charsdda', 'mardan',\n",
       "       'sawabi', 'kohat', 'karak', 'hangu', 'abbottabad', 'haripur',\n",
       "       'mansehra', 'batagram', 'kohistan', 'dera ismail khan',\n",
       "       'dera ismail khan cum tank', 'bannu', 'lakki marwat', 'buner',\n",
       "       'sawat', 'shangla', 'chitral', 'upper dir', 'lower dir',\n",
       "       'malakand', 'tribal area', 'islamabad', 'rawalpindi', 'attock',\n",
       "       'chakwal', 'jhelum', 'sargodha', 'khushab', 'mianwali', 'bhakkar',\n",
       "       'faisalabad', 'jhang', 'toba tek singh', 'gujranwala', 'hafizabad',\n",
       "       'gujrat', 'mandi bahauddin', 'sialkot', 'narowal', 'lahore',\n",
       "       'sheikhupura', 'sheiklhupura', 'kasur', 'okara', 'multan',\n",
       "       'lodhran', 'khanewal', 'sahiwal', 'pakpattan', 'vehari',\n",
       "       'dera ghazi khan', 'rajanpur', 'muzaffargarh', 'layyah',\n",
       "       'bahawalpur', 'bahawalnagar', 'rahimyar khan', 'sukkur', 'ghotki',\n",
       "       'shikarpur', 'shikarapur', 'larkana', 'jacobabad',\n",
       "       'nausheroferoze', 'nawabshah', 'khairpur', 'hyderabad', 'badin',\n",
       "       'mirpurkhas', 'tharparkar', 'dadu', 'sanghar', 'thatta', 'karachi',\n",
       "       'quetta', 'quetta cum chagai cum mastung', 'pishin cum ziarat',\n",
       "       'killa', 'loralai', 'zhob cum killa saifullah',\n",
       "       'sibi cum kolhu cum dera bugti', 'nasirabad', 'kachhi',\n",
       "       'kalat cum mastung', 'khuzdar', 'awaran cum lasbela',\n",
       "       'kharan cum panjgur', 'kech cum gwadar', 'swabi', 'battagram',\n",
       "       'd i khan', 'swat', 'malakand p a', 'm b din', 'nanka sahib',\n",
       "       'nankana sahib', 'sukkur cum shikarpuri', 'sukkur cum shikarpurii',\n",
       "       'shikarpur old shikarpur', 'larkana old larkana', 'larka cum',\n",
       "       'kamber shahdadkot old larkana', 'jacobabad  old jacobabad',\n",
       "       'kashmore old jacobabad', 'naushero feroze', 'matiari',\n",
       "       'tando muhammad khan', 'tando allahyar', 'umerkot old mirpurkhas',\n",
       "       'jamshoro old dadu', 'pishin', 'killa abdullah', 'zhob', 'sibi',\n",
       "       'bolan', 'kalat', 'awaran', 'kharan', 'kech', nan], dtype=object)"
      ]
     },
     "execution_count": 31,
     "metadata": {},
     "output_type": "execute_result"
    }
   ],
   "source": [
    "dist = df['District'].unique()\n",
    "#dist.sort()\n",
    "dist"
   ]
  },
  {
   "cell_type": "markdown",
   "metadata": {
    "_uuid": "58aa1b97218fb18536009ef4cf9449c2dfbc376e"
   },
   "source": [
    "It does look like there are some remaining inconsistencies: 'charsadda' and 'charsdda' should probably be the same. \n",
    "\n",
    "We are going to use the fuzzywuzzy package to help identify which string are closest to each other. \n",
    "> <b>Fuzzy matching:</b> The process of automatically finding text strings that are very similar to the target string. In general, a string is considered \"closer\" to another one the fewer characters you'd need to change if you were transforming one string into another. So \"apple\" and \"snapple\" are two changes away from each other (add \"s\" and \"n\") while \"in\" and \"on\" and one change away (rplace \"i\" with \"o\"). You won't always be able to rely on fuzzy matching 100%, but it will usually end up saving you at least a little time.\n",
    "\n",
    "Fuzzywuzzy returns a ratio given two strings. The closer the ratio is to 100, the smaller the edit distance between the two strings. Here, we're going to get the ten strings from our list of districts that have the closest distance to \"charsadda\"."
   ]
  },
  {
   "cell_type": "code",
   "execution_count": 32,
   "metadata": {
    "_uuid": "1fbbaf4606b11e3574784dd75dee5c74a7212bf3"
   },
   "outputs": [
    {
     "data": {
      "text/plain": [
       "[('charsadda', 100),\n",
       " ('charsdda', 94),\n",
       " ('mardan', 53),\n",
       " ('tharparkar', 53),\n",
       " ('kharan', 53),\n",
       " ('chakwal', 50),\n",
       " ('larkana', 50),\n",
       " ('rahimyar khan', 45),\n",
       " ('hafizabad', 44),\n",
       " ('jacobabad', 44)]"
      ]
     },
     "execution_count": 32,
     "metadata": {},
     "output_type": "execute_result"
    }
   ],
   "source": [
    "# get the top 10 closest matches to \"charsadda\"\n",
    "matches = fuzzywuzzy.process.extract(\"charsadda\", dist, limit=10, scorer=fuzzywuzzy.fuzz.token_sort_ratio)\n",
    "\n",
    "# take a look at them\n",
    "matches"
   ]
  },
  {
   "cell_type": "markdown",
   "metadata": {
    "_uuid": "815e022247d27710f9761653dc3bd7796be66690"
   },
   "source": [
    "We can see that two of the items in the districts are very close to \"charsadda\": 'charsadda; and 'charsdda'.\n",
    "\n",
    "Let's replace all rows in our District column that have a ratio of > 90 with \"charsadda\".\n",
    "\n",
    "For the reusability,  I'm going to write a function to fix all these challenges ASAP."
   ]
  },
  {
   "cell_type": "code",
   "execution_count": 33,
   "metadata": {
    "_uuid": "8327d743cc7e537b130ef1c34584672d9deccf91"
   },
   "outputs": [],
   "source": [
    "# function to replace rows in the provided column of the provided dataframe\n",
    "# that match the provided string above the provided ratio with the provided string\n",
    "def replace_matches_in_column(df, column, string_to_match, min_ratio = 90):\n",
    "    # get a list of unique strings\n",
    "    strings = df[column].unique()\n",
    "    \n",
    "    # get the top 10 closest matches to our input string\n",
    "    matches = fuzzywuzzy.process.extract(string_to_match, strings, \n",
    "                                         limit=10, scorer=fuzzywuzzy.fuzz.token_sort_ratio)\n",
    "\n",
    "    # only get matches with a ratio > 90\n",
    "    close_matches = [matches[0] for matches in matches if matches[1] >= min_ratio]\n",
    "\n",
    "    # get the rows of all the close matches in our dataframe\n",
    "    rows_with_matches = df[column].isin(close_matches)\n",
    "\n",
    "    # replace all rows with close matches with the input matches \n",
    "    df.loc[rows_with_matches, column] = string_to_match"
   ]
  },
  {
   "cell_type": "markdown",
   "metadata": {
    "_uuid": "2885eb318d277808b06a7578d82c6007472207da"
   },
   "source": [
    "To test the funtion"
   ]
  },
  {
   "cell_type": "code",
   "execution_count": 34,
   "metadata": {
    "_uuid": "573f78b4cfd2d56220a7c0796116f0d2313e928b"
   },
   "outputs": [],
   "source": [
    "# use the function we just wrote to replace close matches to \"charsadda\" \n",
    "replace_matches_in_column(df=df, column='District', string_to_match=\"charsadda\")"
   ]
  },
  {
   "cell_type": "code",
   "execution_count": 35,
   "metadata": {},
   "outputs": [],
   "source": [
    "# OR\n",
    "# use the function we just wrote to replace close matches to \"charsadda\" \n",
    "replace_matches_in_column(df=df, column='District', string_to_match=\"charsadda\")"
   ]
  },
  {
   "cell_type": "code",
   "execution_count": 36,
   "metadata": {
    "_uuid": "d0da09117f9c35d19c0f353f778908f186370871"
   },
   "outputs": [
    {
     "data": {
      "text/plain": [
       "array(['peshawar', 'nowshera', 'charsadda', 'mardan', 'sawabi', 'kohat',\n",
       "       'karak', 'hangu', 'abbottabad', 'haripur', 'mansehra', 'batagram',\n",
       "       'kohistan', 'dera ismail khan', 'dera ismail khan cum tank',\n",
       "       'bannu', 'lakki marwat', 'buner', 'sawat', 'shangla', 'chitral',\n",
       "       'upper dir', 'lower dir', 'malakand', 'tribal area', 'islamabad',\n",
       "       'rawalpindi', 'attock', 'chakwal', 'jhelum', 'sargodha', 'khushab',\n",
       "       'mianwali', 'bhakkar', 'faisalabad', 'jhang', 'toba tek singh',\n",
       "       'gujranwala', 'hafizabad', 'gujrat', 'mandi bahauddin', 'sialkot',\n",
       "       'narowal', 'lahore', 'sheikhupura', 'sheiklhupura', 'kasur',\n",
       "       'okara', 'multan', 'lodhran', 'khanewal', 'sahiwal', 'pakpattan',\n",
       "       'vehari', 'dera ghazi khan', 'rajanpur', 'muzaffargarh', 'layyah',\n",
       "       'bahawalpur', 'bahawalnagar', 'rahimyar khan', 'sukkur', 'ghotki',\n",
       "       'shikarpur', 'shikarapur', 'larkana', 'jacobabad',\n",
       "       'nausheroferoze', 'nawabshah', 'khairpur', 'hyderabad', 'badin',\n",
       "       'mirpurkhas', 'tharparkar', 'dadu', 'sanghar', 'thatta', 'karachi',\n",
       "       'quetta', 'quetta cum chagai cum mastung', 'pishin cum ziarat',\n",
       "       'killa', 'loralai', 'zhob cum killa saifullah',\n",
       "       'sibi cum kolhu cum dera bugti', 'nasirabad', 'kachhi',\n",
       "       'kalat cum mastung', 'khuzdar', 'awaran cum lasbela',\n",
       "       'kharan cum panjgur', 'kech cum gwadar', 'swabi', 'battagram',\n",
       "       'd i khan', 'swat', 'malakand p a', 'm b din', 'nanka sahib',\n",
       "       'nankana sahib', 'sukkur cum shikarpuri', 'sukkur cum shikarpurii',\n",
       "       'shikarpur old shikarpur', 'larkana old larkana', 'larka cum',\n",
       "       'kamber shahdadkot old larkana', 'jacobabad  old jacobabad',\n",
       "       'kashmore old jacobabad', 'naushero feroze', 'matiari',\n",
       "       'tando muhammad khan', 'tando allahyar', 'umerkot old mirpurkhas',\n",
       "       'jamshoro old dadu', 'pishin', 'killa abdullah', 'zhob', 'sibi',\n",
       "       'bolan', 'kalat', 'awaran', 'kharan', 'kech', nan], dtype=object)"
      ]
     },
     "execution_count": 36,
     "metadata": {},
     "output_type": "execute_result"
    }
   ],
   "source": [
    "dist = df['District'].unique()\n",
    "#dist.sort()\n",
    "dist"
   ]
  },
  {
   "cell_type": "markdown",
   "metadata": {
    "_uuid": "fded207417e99111d1f3e0a1149b3a7131c5c0ea"
   },
   "source": [
    "Lets fix few more"
   ]
  },
  {
   "cell_type": "code",
   "execution_count": 37,
   "metadata": {
    "_uuid": "024db41d4f95601b4dfd40041c5a0f0f9987bb68"
   },
   "outputs": [],
   "source": [
    "replace_matches_in_column(df=df, column='District', string_to_match=\"nowshera\")\n",
    "replace_matches_in_column(df=df, column='District', string_to_match=\"rawalpindi\")\n",
    "replace_matches_in_column(df=df, column='District', string_to_match=\"sheikhupura\")\n",
    "replace_matches_in_column(df=df, column='District', string_to_match=\"shikarpur\")\n",
    "replace_matches_in_column(df=df, column='District', string_to_match=\"nankana sahib\")"
   ]
  },
  {
   "cell_type": "markdown",
   "metadata": {
    "_uuid": "9fee111be182e7217f8261fb1cb65ff7a1320768"
   },
   "source": [
    "<h3>Lets Clean data around Party & Candidates Name </h3>"
   ]
  },
  {
   "cell_type": "code",
   "execution_count": 38,
   "metadata": {
    "_uuid": "65c0cb302dd32c8d8fd3a3d0026778585ac77cd6"
   },
   "outputs": [
    {
     "data": {
      "text/plain": [
       "array(['Aap Janab Sarkar Party', 'Afghan Qumi Movement (Pakistan)',\n",
       "       'All Pakistan Bayrozgar Party', 'All Pakistan Muslim League',\n",
       "       'All Pakistan Youth Working Party',\n",
       "       'Awami Himayat Tehreek Pakistan', 'Awami Jamhuri Ittehad Pakistan',\n",
       "       'Awami Justice Party', 'Awami Muslim League Pakistan',\n",
       "       'Awami National Party', 'Awami Qaidat Party', 'Awami Qiadat Party',\n",
       "       'Awami Workers Party', 'Azad Pakistan Party',\n",
       "       'Bahawalpur National Awami Party', 'Balochistan National Congress',\n",
       "       'Balochistan National Democratic Party',\n",
       "       'Balochistan National Movement', 'Balochistan National Party',\n",
       "       'Balochistan National Party (Awami)',\n",
       "       'Balohistan National Movement', 'Christian Progressive Movement',\n",
       "       'Communist Party of Pakistan', 'Ghareeb Awam Party',\n",
       "       'Hazara Awami Ittehad Pakistan', 'Hazara Democratic Party',\n",
       "       'Hazara Quami Mahaz', 'IndeIndependentdent',\n",
       "       'IndeIndependentdentE', 'Independent', 'Independent (RETIRED)',\n",
       "       'Independentt', 'Indepndent', 'Islami Inqalab Party',\n",
       "       'Islami Tehreek Pakistan', 'Islamic Republican Party',\n",
       "       'Istehkaam-e-Pakistan Movement Party', 'Istiqlal Party',\n",
       "       'Istiqlil Party', 'Ittehad Milli Hazara',\n",
       "       'Jamaat-e-Islami Pakistan',\n",
       "       'Jamait Ahle-Hadith Pakistan(Elahi Zaheer)',\n",
       "       'Jamhoori Wattan Party', 'Jamiat Ulama-e-Islam (F)',\n",
       "       'Jamiat Ulama-e-Islam (S)', 'Jamiat Ulama-e-Pakistan  (Noorani)',\n",
       "       'Jamiat Ulema-e-Pakistan (Niazi)',\n",
       "       'JamiatUlema-e-pakistan(Nifaz-e-Shariat)', 'Jamote Qami Movement',\n",
       "       'Jamote Qaumi Movement', 'Jannat Pakistan Party',\n",
       "       'Jumiat Ulma-e-Islam(Nazryati)', 'Kakar Jamhoori Party Pakistan',\n",
       "       'Karwan-i-Millat Pakistan', 'Labour Party Pakistan',\n",
       "       'Labour Party Pakistan(Krandi)', 'Laboyr Party Pakistan',\n",
       "       'MUTAHIDA DEENI MAHAZ', 'MUTTHIDA\\xa0MAJLIS-E-AMAL\\xa0PAKISTAN',\n",
       "       'Majlis-e-Wahdat-e-Muslimeen Pakistan', 'Markazi Jamat-al-Hadais',\n",
       "       'Markazi Jamiat Mushaikh Pakistan', 'Menecracy action Party',\n",
       "       'Millat Party', 'Mohajar Qaumi Movement Pakistan',\n",
       "       'Mohajir Ittehad Tehrik', 'Mohajir Kashmir Movement',\n",
       "       'Mohajir Qaumi Movement Pakistan',\n",
       "       'Mohib-e-Wattan Nowjawan Inqilabion Ki Anjuman (MNAKA)',\n",
       "       'Mohib-e-Wattan Nowjawan Inqilabion Ki Anjuman(MNAKA)',\n",
       "       'Mustaqbil Pakistan', 'Mutahida Baloch Movement Pakistan',\n",
       "       'Mutahidda Qabail Party', 'Muttahida Qaumi Moement',\n",
       "       'Muttahida Qaumi Moment', 'Muttahida Qaumi Movement',\n",
       "       'Muttahida Qaumi Movement Pakistan', 'Muttahidda Majlis-e-Amal',\n",
       "       'Muttahidda Majlis-e-Amal Pakistan', 'National Alliance',\n",
       "       'National Party', 'National People Party Worker Group',\n",
       "       'National Peoples Party', 'Nazim-e-Mistafa',\n",
       "       'Nizam-e-Mustafa Party', 'PAK MUSLIM ALLIANCE',\n",
       "       'Pak Justic Party (Haqiqi)', 'Pak Muslim Alliance',\n",
       "       'Pak Wattan Party', 'Pakista Muslim League(J)',\n",
       "       'Pakistan Amn Party', 'Pakistan Awami Inqalab',\n",
       "       'Pakistan Awami Party', 'Pakistan Awami Quwat Party',\n",
       "       'Pakistan Awami Tehreek', 'Pakistan Awami Tehrik-e-Inqilab',\n",
       "       'Pakistan Awami party', 'Pakistan Bachao Party',\n",
       "       'Pakistan Brohi Party', 'Pakistan Citizen Movement',\n",
       "       'Pakistan Conservative Party', 'Pakistan Democratic Party',\n",
       "       'Pakistan Democratic party', 'Pakistan Falah Party',\n",
       "       'Pakistan Freedom Party', 'Pakistan Gharib Party',\n",
       "       'Pakistan Insani Haqook Party (Pakistan Human Rights Party)',\n",
       "       'Pakistan Islami Justice Party', 'Pakistan Ittehad Tehreek',\n",
       "       'Pakistan Justice Party', 'Pakistan Kissan Ittehad',\n",
       "       'Pakistan Mazdoor Kissan Party', 'Pakistan Motherland Party',\n",
       "       'Pakistan Muhafiz Party', 'Pakistan Muhafiz Watan Party',\n",
       "       'Pakistan Muhajir League', 'Pakistan Muhammadi Party',\n",
       "       'Pakistan Mulim League(QA)', 'Pakistan Muslim League',\n",
       "       'Pakistan Muslim League (F)', 'Pakistan Muslim League (J)',\n",
       "       'Pakistan Muslim League (N)', 'Pakistan Muslim League (Safdar)',\n",
       "       'Pakistan Muslim League (Sher-e-Bangal)',\n",
       "       'Pakistan Muslim League (Zehri Group)',\n",
       "       'Pakistan Muslim League Council',\n",
       "       'Pakistan Muslim League Humkhiyal (Like Minded)',\n",
       "       'Pakistan Muslim League \\x93H\\x94 Haqiqi',\n",
       "       'Pakistan Muslim League(F)', 'Pakistan Muslim League(J)',\n",
       "       'Pakistan Muslim League(N)', 'Pakistan Muslim League(QA)',\n",
       "       'Pakistan Muslim League(Z)', 'Pakistan National Democratic Party',\n",
       "       'Pakistan National Muslim League',\n",
       "       'Pakistan Pakhtoonkhawa Milli Awami Party',\n",
       "       'Pakistan Patriotic Movement',\n",
       "       'Pakistan Peoples Party (Shaheed Bhutto)',\n",
       "       'Pakistan Peoples Party Parliamentarian',\n",
       "       'Pakistan Peoples Party Parliamentarians',\n",
       "       'Pakistan Peoples Party Parlimentarians',\n",
       "       'Pakistan Peoples Party(Sheed Bhutto)',\n",
       "       'Pakistan Peoples Party(Sherpao)',\n",
       "       'Pakistan Peoples party(Shaheed Bhutto)',\n",
       "       'Pakistan Peoples party(Sherpao)', 'Pakistan Qaumi League',\n",
       "       'Pakistan Qaumi Party', 'Pakistan Sariaki Party',\n",
       "       'Pakistan Shia Political Party', 'Pakistan Sunni Tehreek',\n",
       "       'Pakistan Tahreek-e-Insaf', 'Pakistan Tehreek-e-Insaf',\n",
       "       'Pakistan Tehrek-e-Inqalab', 'Pakistan Workers Party',\n",
       "       'Pakistan mazdoor Kissan Party',\n",
       "       'Pakistan peoples Party Parlimentarians',\n",
       "       'Pakistan peoples party(Sherpao)', 'Pasban',\n",
       "       'Pashtoonkhwa Milli Awami Party', 'Punjab National Party',\n",
       "       'Qaumi Inqilab Party', 'Qaumi Jamhoori Party',\n",
       "       'Qaumi Tahaffaz party', 'Qaumi Watan Party (Sherpao)',\n",
       "       'Qomi Awami Tehreek', 'Sairkistan Qaumi Ittehad',\n",
       "       'Saraiki Sooba Movement Pakistan',\n",
       "       'Seraiki Sooba Movement Pakistan', 'Shan-e-Pakistan Party',\n",
       "       'Sindh Dost Ittehad', 'Sindh Taraqi Passand Party (STP)',\n",
       "       'Sindh United Party', 'Sindh Urban-Rurel Alliance',\n",
       "       'Sunni Ittehad Council', 'Sunni Tehreek',\n",
       "       'Tameer-e-Pakistan Party', 'Tehreek Hussainia Pakistan',\n",
       "       'Tehreek Tabdili Nizam Pakistan', 'Tehreek-e-Insaniat Pakistan',\n",
       "       'Tehreek-e-Istehkaam Pakistan', 'Tehreek-e-Itehad Pakistan.',\n",
       "       'Tehreek-e-Ittehad Ummat Pakistan',\n",
       "       'Tehreek-e-Pasmanada Awam Pakistan', 'Tehreek-e-Suba Hazara',\n",
       "       'Tehreek-e-Wafaq Pakistan', 'Tehrik-e-Istaqlal',\n",
       "       'Tehrik-e-Masawaat', 'pakistan Social Democratic party'],\n",
       "      dtype=object)"
      ]
     },
     "execution_count": 38,
     "metadata": {},
     "output_type": "execute_result"
    }
   ],
   "source": [
    "del dist\n",
    "\n",
    "pty = df['Party'].unique()\n",
    "pty.sort()\n",
    "pty"
   ]
  },
  {
   "cell_type": "code",
   "execution_count": 39,
   "metadata": {
    "_uuid": "d932deaa579655ab33ef090245e9877128643e57"
   },
   "outputs": [],
   "source": [
    "df['Party'] = df['Party'].replace(['MUTTHIDA\\xa0MAJLIS-E-AMAL\\xa0PAKISTAN'], 'Muttahidda Majlis-e-Amal Pakistan')\n",
    "df['Party'] = df['Party'].replace(['Pakistan Muslim League'], 'Pakistan Muslim League (QA)')\n",
    "#converting text to lower case & removing white spaces\n",
    "df['Party'] = df['Party'].str.lower()\n",
    "df['Party'] = df['Party'].str.strip()"
   ]
  },
  {
   "cell_type": "code",
   "execution_count": 40,
   "metadata": {
    "_uuid": "0b35d39d4928b46d840015f8bcd3f110092bf86f",
    "scrolled": true
   },
   "outputs": [],
   "source": [
    "# As I coded this earlier, I wouldn't change it due to lower case letters. \n",
    "replace_matches_in_column(df=df, column='Party', string_to_match=\"Balochistan National Movement\")\n",
    "replace_matches_in_column(df=df, column='Party', string_to_match=\"Independent\")\n",
    "replace_matches_in_column(df=df, column='Party', string_to_match=\"Istiqlal Party\")\n",
    "replace_matches_in_column(df=df, column='Party', string_to_match=\"Jamote Qaumi Movement\")\n",
    "replace_matches_in_column(df=df, column='Party', string_to_match=\"Labour Party Pakistan\")\n",
    "replace_matches_in_column(df=df, column='Party', string_to_match=\"Mohib-e-Wattan Nowjawan Inqilabion Ki Anjuman (MNAKA)\")\n",
    "replace_matches_in_column(df=df, column='Party', string_to_match=\"Muttahida Qaumi Movement\") # Muttahida Qaumi Movement Pakistan\n",
    "replace_matches_in_column(df=df, column='Party', string_to_match=\"Muttahidda Majlis-e-Amal\") # Muttahidda Majlis-e-Amal Pakistan\n",
    "replace_matches_in_column(df=df, column='Party', string_to_match=\"National Peoples Party\")\n",
    "replace_matches_in_column(df=df, column='Party', string_to_match=\"Nizam-e-Mustafa Party\")\n",
    "replace_matches_in_column(df=df, column='Party', string_to_match=\"Pak Muslim Alliance\")\n",
    "replace_matches_in_column(df=df, column='Party', string_to_match=\"Pakistan Awami Party\")\n",
    "replace_matches_in_column(df=df, column='Party', string_to_match=\"Pakistan Democratic Party\")\n",
    "# After analyzing each of the below strings.\n",
    "replace_matches_in_column(df=df, column='Party', string_to_match=\"Pakistan Muslim League (QA)\", min_ratio =97)\n",
    "replace_matches_in_column(df=df, column='Party', string_to_match=\"Pakistan Muslim League (N)\", min_ratio =97)\n",
    "replace_matches_in_column(df=df, column='Party', string_to_match=\"Pakistan Muslim League (J)\", min_ratio =97)\n",
    "replace_matches_in_column(df=df, column='Party', string_to_match=\"Pakistan Muslim League (F)\", min_ratio =97)\n",
    "replace_matches_in_column(df=df, column='Party', string_to_match=\"Pakistan Peoples Party Parliamentarians\", min_ratio =97)\n",
    "replace_matches_in_column(df=df, column='Party', string_to_match=\"Pakistan Peoples Party(Shaheed Bhutto)\", min_ratio =95)\n",
    "replace_matches_in_column(df=df, column='Party', string_to_match=\"Pakistan Peoples Party(Sherpao)\", min_ratio =97)\n",
    "replace_matches_in_column(df=df, column='Party', string_to_match=\"Pakistan Tehreek-e-Insaf\", min_ratio =95)\n",
    "replace_matches_in_column(df=df, column='Party', string_to_match=\"Saraiki Sooba Movement Pakistan\", min_ratio =95)\n"
   ]
  },
  {
   "cell_type": "code",
   "execution_count": 41,
   "metadata": {
    "_uuid": "cee89cb9234f1193c34039a4d94bd60bfd5c390d"
   },
   "outputs": [],
   "source": [
    "#fuzzywuzzy.process.extract(\"Pakistan Muslim League (QA)\", pty, limit=10, scorer=fuzzywuzzy.fuzz.token_sort_ratio) # acceptance value >97\n",
    "#fuzzywuzzy.process.extract(\"Pakistan Muslim League (N)\", pty, limit=10, scorer=fuzzywuzzy.fuzz.token_sort_ratio) # acceptance value >97\n",
    "#fuzzywuzzy.process.extract(\"Pakistan Muslim League (J)\", pty, limit=10, scorer=fuzzywuzzy.fuzz.token_sort_ratio) # acceptance value >97\n",
    "#fuzzywuzzy.process.extract(\"Pakistan Muslim League (F)\", pty, limit=10, scorer=fuzzywuzzy.fuzz.token_sort_ratio) # acceptance value >97\n",
    "#fuzzywuzzy.process.extract(\"Pakistan Peoples Party Parliamentarians\", pty, limit=10, scorer=fuzzywuzzy.fuzz.token_sort_ratio) # acceptance value >97\n",
    "#fuzzywuzzy.process.extract(\"Pakistan Peoples Party(Shaheed Bhutto)\", pty, limit=10, scorer=fuzzywuzzy.fuzz.token_sort_ratio) # acceptance value >95\n",
    "#fuzzywuzzy.process.extract(\"Pakistan Peoples Party(Sherpao)\", pty, limit=10, scorer=fuzzywuzzy.fuzz.token_sort_ratio) # acceptance value >97\n",
    "#fuzzywuzzy.process.extract(\"Pakistan Tehreek-e-Insaf\", pty, limit=10, scorer=fuzzywuzzy.fuzz.token_sort_ratio) # acceptance value >95\n",
    "#fuzzywuzzy.process.extract(\"Saraiki Sooba Movement Pakistan\", pty, limit=10, scorer=fuzzywuzzy.fuzz.token_sort_ratio) # acceptance value >95\n"
   ]
  },
  {
   "cell_type": "code",
   "execution_count": 42,
   "metadata": {
    "_uuid": "8311a3342e048d0df4beff59a01fa3342dc8d3a5"
   },
   "outputs": [
    {
     "data": {
      "text/plain": [
       "array(['Majlis Wahdat-e-Muslimeen Pakistan',\n",
       "       'Markazi Jamiat Ahl-e-Hadith',\n",
       "       'Muhib-e-Watan Noujawan Anqlabion Ki Anjuman (MNAKA)',\n",
       "       'Pakistan Siraiki Party (T)', 'aap janab sarkar party',\n",
       "       'afghan qumi movement (pakistan)', 'all pakistan bayrozgar party',\n",
       "       'all pakistan muslim league', 'all pakistan youth working party',\n",
       "       'awami himayat tehreek pakistan', 'awami jamhuri ittehad pakistan',\n",
       "       'awami justice party pakistan', 'awami muslim league pakistan',\n",
       "       'awami national party', 'awami qaidat party', 'awami qiadat party',\n",
       "       'awami workers party', 'azad pakistan party',\n",
       "       'bahawalpur national awami party', 'balochistan national congress',\n",
       "       'balochistan national democratic party',\n",
       "       'balochistan national movement', 'balochistan national party',\n",
       "       'balochistan national party (awami)',\n",
       "       'christian progressive movement', 'communist party of pakistan',\n",
       "       'ghareeb awam party', 'hazara awami ittehad pakistan',\n",
       "       'hazara democratic party', 'hazara quami mahaz', 'independent',\n",
       "       'islami inqalab party', 'islami tehreek pakistan',\n",
       "       'islamic republican party', 'istehkaam-e-pakistan movement party',\n",
       "       'istiqlal party', 'ittehad milli hazara',\n",
       "       'jamaat-e-islami pakistan',\n",
       "       'jamait ahle-hadith pakistan(elahi zaheer)',\n",
       "       'jamhoori wattan party', 'jamiat ulama-e-islam (f)',\n",
       "       'jamiat ulama-e-islam (s)', 'jamiat ulama-e-pakistan (noorani)',\n",
       "       'jamiat ulema-e-pakistan (niazi)',\n",
       "       'jamiat ulma-e-islam nazryati pakistan',\n",
       "       'jamiatulema-e-pakistan(nifaz-e-shariat)', 'jamote qaumi movement',\n",
       "       'jannat pakistan party', 'kakar jamhoori party pakistan',\n",
       "       'karwan-i-millat pakistan', 'labour party pakistan',\n",
       "       'labour party pakistan(krandi)',\n",
       "       'markazi jamiat mushaikh pakistan', 'menecracy action party',\n",
       "       'millat party', 'mohajar qaumi movement pakistan',\n",
       "       'mohajir ittehad tehrik', 'mohajir kashmir movement',\n",
       "       'mohajir qaumi movement pakistan', 'mustaqbil pakistan',\n",
       "       'mutahida baloch movement pakistan', 'mutahida deeni mahaz',\n",
       "       'mutahidda qabail party', 'muttahida qaumi movement',\n",
       "       'muttahidda majlis-e-amal', 'national alliance', 'national party',\n",
       "       'national people party worker group', 'national peoples party',\n",
       "       'nizam-e-mustafa party', 'pak justic party (haqiqi)',\n",
       "       'pak muslim alliance', 'pak wattan party',\n",
       "       'pakhtoonkhwa milli Awami party', 'pakistan aman party',\n",
       "       'pakistan awami inqalab', 'pakistan awami party',\n",
       "       'pakistan awami quwat party', 'pakistan awami tehreek',\n",
       "       'pakistan awami tehrik-e-inqilab', 'pakistan bachao party',\n",
       "       'pakistan brohi party', 'pakistan citizen movement',\n",
       "       'pakistan conservative party', 'pakistan democratic party',\n",
       "       'pakistan falah party', 'pakistan freedom movement',\n",
       "       'pakistan gharib party', 'pakistan human rights party',\n",
       "       'pakistan islami justice party', 'pakistan ittehad tehreek',\n",
       "       'pakistan justice party', 'pakistan kissan ittehad',\n",
       "       'pakistan mazdoor kissan party', 'pakistan motherland party',\n",
       "       'pakistan muhafiz party', 'pakistan muhafiz watan party',\n",
       "       'pakistan muhajir league', 'pakistan muhammadi party',\n",
       "       'pakistan muslim league (c)', 'pakistan muslim league (f)',\n",
       "       'pakistan muslim league (j)', 'pakistan muslim league (n)',\n",
       "       'pakistan muslim league (q)', 'pakistan muslim league (safdar)',\n",
       "       'pakistan muslim league (sher-e-bangal)',\n",
       "       'pakistan muslim league (z)',\n",
       "       'pakistan muslim league (zehri group)',\n",
       "       'pakistan muslim league haqiqi',\n",
       "       'pakistan muslim league humkhiyal (like minded)',\n",
       "       'pakistan national democratic party',\n",
       "       'pakistan national muslim league',\n",
       "       'pakistan pakhtoonkhawa milli awami party',\n",
       "       'pakistan patriotic movement',\n",
       "       'pakistan peoples party (shaheed bhutto)',\n",
       "       'pakistan peoples party parliamentarians',\n",
       "       'pakistan peoples party(sherpao)', 'pakistan qaumi league',\n",
       "       'pakistan qaumi party', 'pakistan shia political party',\n",
       "       'pakistan social democratic party', 'pakistan sunni tehreek',\n",
       "       'pakistan tehreek-e-insaf', 'pakistan tehrek-e-inqalab',\n",
       "       'pakistan workers party', 'pasban pakistan',\n",
       "       'punjab national party', 'qaumi inqilab party',\n",
       "       'qaumi jamhoori party', 'qaumi tahaffaz party',\n",
       "       'qaumi watan party', 'qomi awami tehreek',\n",
       "       'sairkistan qaumi ittehad', 'saraiki sooba movement pakistan',\n",
       "       'shan-e-pakistan party', 'sindh dost ittehad',\n",
       "       'sindh taraqi passand party (stp)', 'sindh united party',\n",
       "       'sindh urban-rurel alliance', 'sunni ittehad council',\n",
       "       'sunni tehreek', 'tameer-e-pakistan party',\n",
       "       'tehreek hussainia pakistan', 'tehreek tabdili nizam pakistan',\n",
       "       'tehreek-e-insaniat pakistan', 'tehreek-e-istehkaam pakistan',\n",
       "       'tehreek-e-itehad pakistan.', 'tehreek-e-ittehad ummat pakistan',\n",
       "       'tehreek-e-pasmanada awam pakistan',\n",
       "       'tehreek-e-suba hazara pakistan', 'tehreek-e-wafaq pakistan',\n",
       "       'tehrik-e-istaqlal', 'tehrik-e-masawaat'], dtype=object)"
      ]
     },
     "execution_count": 42,
     "metadata": {},
     "output_type": "execute_result"
    }
   ],
   "source": [
    "df['Party'] = df['Party'].str.lower()\n",
    "# few fixes taken from https://www.kaggle.com/usman786/exploratory-data-analysis-for-interesting-insights/notebook\n",
    "df['Party'].replace(['muttahida qaumi movement pakistan'], 'muttahida qaumi movement', inplace = True)\n",
    "df['Party'].replace(['indeindependentdente','independent (retired)','indepndent'], 'independent',inplace = True)\n",
    "df['Party'].replace(['indeindependentdente','independent (retired)','indepndent'], 'independent',inplace = True)\n",
    "df['Party'].replace(['muttahidda majlis-e-amal pakistan','mutthida\\xa0majlis-e-amal\\xa0pakistan'\n",
    "                     ,'mutthidaï¿½majlis-e-amalï¿½pakistan'] \n",
    "                     ,'muttahidda majlis-e-amal' ,inplace = True)\n",
    "df['Party'].replace(['nazim-e-mistafa'], 'nizam-e-mustafa party' ,inplace = True)\n",
    "df['Party'].replace(['pakistan muslim league (qa)'], 'pakistan muslim league (q)' ,inplace = True)\n",
    "df['Party'].replace(['pakistan muslim league council'], 'pakistan muslim league (c)' ,inplace = True)\n",
    "df['Party'].replace(['pakistan muslim league \\x93h\\x94 haqiqi'], 'pakistan muslim league haqiqi' ,inplace = True)\n",
    "df['Party'].replace(['pakistan muslim league(z)'], 'pakistan muslim league (z)' ,inplace = True)\n",
    "df['Party'].replace(['pakistan peoples party(shaheed bhutto)'], 'pakistan peoples party (shaheed bhutto)' ,inplace = True)\n",
    "df['Party'].replace(['pakistan peoples party parliamentarians'], 'pakistan peoples party parliamentarians' ,inplace = True)\n",
    "df['Party'].replace(['pakistan sariaki party'], 'Pakistan Siraiki Party (T)' ,inplace = True)\n",
    "df['Party'].replace(['pasban'], 'pasban pakistan' ,inplace = True)\n",
    "df['Party'].replace(['qaumi watan party (sherpao)'], 'qaumi watan party' ,inplace = True)\n",
    "df['Party'].replace(['tehreek-e-suba hazara'], 'tehreek-e-suba hazara pakistan' ,inplace = True)\n",
    "#...\n",
    "df['Party'].replace(['pashtoonkhwa milli awami party'], 'pakhtoonkhwa milli Awami party' ,inplace = True)\n",
    "df['Party'].replace(['pakistan amn party'], 'pakistan aman party' ,inplace = True)\n",
    "df['Party'].replace(['pakistan awami inqelabi'], 'Pakistan Awami Inqelabi League' ,inplace = True)\n",
    "df['Party'].replace(['pakistan freedom party'], 'pakistan freedom movement' ,inplace = True)\n",
    "df['Party'].replace(['pakistan insani haqook party (pakistan human rights party)'], 'pakistan human rights party' ,inplace = True)\n",
    "df['Party'].replace(['awami justice party'], 'awami justice party pakistan' ,inplace = True)\n",
    "df['Party'].replace(['indeindependentdent'], 'independent' ,inplace = True)\n",
    "df['Party'].replace(['jamiat ulama-e-pakistan  (noorani)'], 'jamiat ulama-e-pakistan (noorani)' ,inplace = True)\n",
    "df['Party'].replace(['jumiat ulma-e-islam(nazryati)'], 'jamiat ulma-e-islam nazryati pakistan' ,inplace = True)\n",
    "df['Party'].replace(['majlis-e-wahdat-e-muslimeen pakistan'], 'Majlis Wahdat-e-Muslimeen Pakistan' ,inplace = True)\n",
    "df['Party'].replace(['markazi jamat-al-hadais'], 'Markazi Jamiat Ahl-e-Hadith' ,inplace = True)\n",
    "df['Party'].replace(['mohib-e-wattan nowjawan inqilabion ki anjuman (mnaka)'], 'Muhib-e-Watan Noujawan Anqlabion Ki Anjuman (MNAKA)' ,inplace = True)\n",
    "\n",
    "pty = df['Party'].unique()\n",
    "pty.sort()\n",
    "pty"
   ]
  },
  {
   "cell_type": "code",
   "execution_count": 43,
   "metadata": {
    "_uuid": "7c161ce955f3e0e7a016241dea2d6f20ed36ead2"
   },
   "outputs": [
    {
     "data": {
      "text/plain": [
       "0                     mr sajid abdullah\n",
       "1                       mr shabir ahmad\n",
       "2                mr usman bashir bilour\n",
       "3    mr muhammad khurshid khan advocate\n",
       "4              mr muhammad muazzam butt\n",
       "5                 dr arbab alamgir khan\n",
       "6     mr abdul manan akhunzada advocate\n",
       "7                  maulana rehmat ullah\n",
       "8            mr arbab muhammad ayub jan\n",
       "9                 mr iqbal zafar jhagra\n",
       "Name: CandidateName, dtype: object"
      ]
     },
     "execution_count": 43,
     "metadata": {},
     "output_type": "execute_result"
    }
   ],
   "source": [
    "#del pty\n",
    "#convert textual content to lower case & remove trailing white spaces\n",
    "df['CandidateName'] = df['CandidateName'].str.lower()\n",
    "df['CandidateName'] = df['CandidateName'].str.strip()\n",
    "df['CandidateName'].head(10)"
   ]
  },
  {
   "cell_type": "markdown",
   "metadata": {
    "_uuid": "58f8850e6414b488ae234542512b5159861b31db"
   },
   "source": [
    "We will remove Mr Initial from the begining of names, But we will keep Dr Initial because it is worth gaining title. "
   ]
  },
  {
   "cell_type": "code",
   "execution_count": 44,
   "metadata": {
    "_uuid": "36927a5448a83ca368b186afb1c2284e2f3ddc3e"
   },
   "outputs": [
    {
     "data": {
      "text/plain": [
       "0                     sajid abdullah\n",
       "1                       shabir ahmad\n",
       "2                usman bashir bilour\n",
       "3    muhammad khurshid khan advocate\n",
       "4              muhammad muazzam butt\n",
       "5              dr arbab alamgir khan\n",
       "6     abdul manan akhunzada advocate\n",
       "7               maulana rehmat ullah\n",
       "8            arbab muhammad ayub jan\n",
       "9                 iqbal zafar jhagra\n",
       "Name: CandidateName, dtype: object"
      ]
     },
     "execution_count": 44,
     "metadata": {},
     "output_type": "execute_result"
    }
   ],
   "source": [
    "# remove mr at the beginning of names.\n",
    "df['CandidateName'] = df.loc[:, 'CandidateName'].replace(regex=True, to_replace=\"mr \", value=\"\")\n",
    "df['CandidateName'] = df.loc[:, 'CandidateName'].replace(regex=True, to_replace=\"mrs \", value=\"\")\n",
    "df['CandidateName'] = df.loc[:, 'CandidateName'].replace(regex=True, to_replace=\"miss \", value=\"\")\n",
    "#df['CandidateName'] = df.loc[:, 'CandidateName'].replace(regex=True, to_replace=\"mis \", value=\"\")\n",
    "df['CandidateName'].head(10)"
   ]
  },
  {
   "cell_type": "code",
   "execution_count": 45,
   "metadata": {
    "_uuid": "4a5a4f8ec51bc24e0717acb03905b4cc057e7f08"
   },
   "outputs": [
    {
     "name": "stdout",
     "output_type": "stream",
     "text": [
      "cn size:  (7657,) \n",
      "Values:  ['aadil altaf unar' 'aamanullah' 'aamar sohail mughal' ... 'zulqurnain'\n",
      " 'zumarad khan' 'zumurrad khan']\n"
     ]
    }
   ],
   "source": [
    "cn = df['CandidateName'].unique()\n",
    "cn.sort()\n",
    "print(\"cn size: \", cn.shape, \"\\nValues: \", cn) "
   ]
  },
  {
   "cell_type": "code",
   "execution_count": 46,
   "metadata": {
    "_uuid": "902dbc16a9110f95223eb8148cfaed1fd0bd8bfc"
   },
   "outputs": [
    {
     "data": {
      "text/plain": [
       "0                        sajid abdullah\n",
       "1                          shabir ahmad\n",
       "2                   usman bashir bilour\n",
       "3       muhammad khurshid khan advocate\n",
       "4                 muhammad muazzam butt\n",
       "                     ...               \n",
       "4505                       gulab baloch\n",
       "4506              muhammad yasin baloch\n",
       "4507                         nazimuddin\n",
       "4508                    sayed essa nori\n",
       "4509                      zobaida jalal\n",
       "Name: CandidateName, Length: 8619, dtype: object"
      ]
     },
     "execution_count": 46,
     "metadata": {},
     "output_type": "execute_result"
    }
   ],
   "source": [
    "df['CandidateName']"
   ]
  },
  {
   "cell_type": "markdown",
   "metadata": {
    "_uuid": "aa70b61cfb3d2c4b52210d13f946515a6b46c19c"
   },
   "source": [
    "Lets observe few to set the threshold for fuzzywuzzy"
   ]
  },
  {
   "cell_type": "code",
   "execution_count": 47,
   "metadata": {
    "_uuid": "8f30ead8500fde5bb806dd916e43464b0d860014"
   },
   "outputs": [
    {
     "data": {
      "text/plain": [
       "[('zobaida jalal', 100),\n",
       " ('zubada jalal', 88),\n",
       " ('zubeda jalal', 80),\n",
       " ('jalil zahid', 75),\n",
       " ('laiq zada', 64),\n",
       " ('qaisar jamal', 64),\n",
       " ('saida jan', 64),\n",
       " ('zahid ali', 64),\n",
       " ('umaid ali dal', 62),\n",
       " ('aqal zaman', 61)]"
      ]
     },
     "execution_count": 47,
     "metadata": {},
     "output_type": "execute_result"
    }
   ],
   "source": [
    "fuzzywuzzy.process.extract(\"zumurad khan\", cn, limit=10, scorer=fuzzywuzzy.fuzz.token_sort_ratio) # acceptance value >90\n",
    "fuzzywuzzy.process.extract(\"zobaida jalal\", cn, limit=10, scorer=fuzzywuzzy.fuzz.token_sort_ratio) # acceptance value >79\n",
    "#fuzzywuzzy.process.extract(\"barkat ali\", cn, limit=10, scorer=fuzzywuzzy.fuzz.token_sort_ratio) # acceptance value >90\n",
    "#fuzzywuzzy.process.extract(\"sher muhammad baloch\", cn, limit=10, scorer=fuzzywuzzy.fuzz.token_sort_ratio) # acceptance value >90\n",
    "#fuzzywuzzy.process.extract(\"gulab baloch\", cn, limit=10, scorer=fuzzywuzzy.fuzz.token_sort_ratio) # acceptance value >90\n",
    "#fuzzywuzzy.process.extract(\"babu gulab\", cn, limit=10, scorer=fuzzywuzzy.fuzz.token_sort_ratio) # acceptance value >90"
   ]
  },
  {
   "cell_type": "code",
   "execution_count": null,
   "metadata": {
    "_uuid": "4d62cb9fa6a1d8dc84a4b715cc6eeb37fcae9b52"
   },
   "outputs": [],
   "source": [
    "replace_matches_in_column(df=df, column='CandidateName', string_to_match=\"zumurad khan\", min_ratio=92)\n",
    "replace_matches_in_column(df=df, column='CandidateName', string_to_match=\"zobaida jalal\", min_ratio=80)\n",
    "replace_matches_in_column(df=df, column='CandidateName', string_to_match=\"barkat ali\", min_ratio=90)\n",
    "replace_matches_in_column(df=df, column='CandidateName', string_to_match=\"muhammad yasin baloch\", min_ratio=90)\n",
    "\n",
    "for candi in df['CandidateName'].unique(): # 7000\n",
    "    replace_matches_in_column(df=df, column='CandidateName', string_to_match=candi, min_ratio=90)\n",
    "\n",
    "# let us know the loop is completed\n",
    "print(\"All done!\")"
   ]
  },
  {
   "cell_type": "code",
   "execution_count": null,
   "metadata": {
    "_uuid": "80f3aa11745f9bbe333e423193287c125178c8be"
   },
   "outputs": [],
   "source": [
    "#del NA2, NA8, NA13\n",
    "df.to_csv('NA2002-18.csv', index=None) "
   ]
  },
  {
   "cell_type": "markdown",
   "metadata": {
    "_uuid": "49d3f82c0847e28b4e1590a5d49b124fbc7c1d34"
   },
   "source": [
    "<h2>Candidate List & Parties of 2018 Election</h2>\n",
    "Lets se if these 2 files need some cleaning as well. We will merge both files. "
   ]
  },
  {
   "cell_type": "code",
   "execution_count": 49,
   "metadata": {
    "_uuid": "64b5c628e93f343cdb75b42bfedd97fc533082fc"
   },
   "outputs": [
    {
     "name": "stdout",
     "output_type": "stream",
     "text": [
      "(3438, 4) (288, 3) (119, 3)\n"
     ]
    }
   ],
   "source": [
    "cc = pd.read_csv(\"data/National Assembly Candidates List - 2018 Updated.csv\", encoding = \"ISO-8859-1\")\n",
    "na18 = pd.read_csv(\"data/2013-2018 Seat Changes in NA.csv\", encoding = \"ISO-8859-1\") \n",
    "pp = pd.read_csv(\"data/Political Parties in 2018 Elections - Updated.csv\", encoding = \"ISO-8859-1\")\n",
    "print(cc.shape, na18.shape, pp.shape)"
   ]
  },
  {
   "cell_type": "code",
   "execution_count": 50,
   "metadata": {
    "_uuid": "bc7298b783e558777022838288054514b5757ec0"
   },
   "outputs": [
    {
     "name": "stdout",
     "output_type": "stream",
     "text": [
      "Index(['NA#', 'Name', 'Party', 'Province'], dtype='object') Index(['2018 Seat Number', 'Seat Name', '2013 Seat Number'], dtype='object')\n"
     ]
    }
   ],
   "source": [
    "print(cc.columns, na18.columns)"
   ]
  },
  {
   "cell_type": "markdown",
   "metadata": {
    "_uuid": "8131a28623cafdfc3c6b836e6606cb378260b81d"
   },
   "source": [
    "Adding \"NA-\" string in NA# column to merge it with na18 dataset."
   ]
  },
  {
   "cell_type": "code",
   "execution_count": 51,
   "metadata": {
    "_uuid": "59a0fc9149a7fc4231743b069d557b39e35fb3d4"
   },
   "outputs": [],
   "source": [
    "cc['NA#'] = 'NA-' + cc['NA#'].astype(str)"
   ]
  },
  {
   "cell_type": "code",
   "execution_count": 52,
   "metadata": {
    "_uuid": "8556718e260d978f2ab1607e8eb7a346b38570ab"
   },
   "outputs": [
    {
     "name": "stdout",
     "output_type": "stream",
     "text": [
      "(272,)\n",
      "(273,)\n"
     ]
    },
    {
     "data": {
      "text/html": [
       "<div>\n",
       "<style scoped>\n",
       "    .dataframe tbody tr th:only-of-type {\n",
       "        vertical-align: middle;\n",
       "    }\n",
       "\n",
       "    .dataframe tbody tr th {\n",
       "        vertical-align: top;\n",
       "    }\n",
       "\n",
       "    .dataframe thead th {\n",
       "        text-align: right;\n",
       "    }\n",
       "</style>\n",
       "<table border=\"1\" class=\"dataframe\">\n",
       "  <thead>\n",
       "    <tr style=\"text-align: right;\">\n",
       "      <th></th>\n",
       "      <th>NA#</th>\n",
       "      <th>Seat</th>\n",
       "      <th>2013 Seat Number</th>\n",
       "    </tr>\n",
       "  </thead>\n",
       "  <tbody>\n",
       "    <tr>\n",
       "      <th>272</th>\n",
       "      <td>Old Constituency Changed Considerably</td>\n",
       "      <td>Karachi 9 - Central 5</td>\n",
       "      <td>NA-247</td>\n",
       "    </tr>\n",
       "    <tr>\n",
       "      <th>273</th>\n",
       "      <td>Old Constituency Changed Considerably</td>\n",
       "      <td>Karachi 12 - South 3</td>\n",
       "      <td>NA-250</td>\n",
       "    </tr>\n",
       "    <tr>\n",
       "      <th>274</th>\n",
       "      <td>Old Constituency Changed Considerably</td>\n",
       "      <td>Attock III</td>\n",
       "      <td>NA-059</td>\n",
       "    </tr>\n",
       "    <tr>\n",
       "      <th>275</th>\n",
       "      <td>Old Constituency Changed Considerably</td>\n",
       "      <td>Faisalabad 11</td>\n",
       "      <td>NA-085</td>\n",
       "    </tr>\n",
       "    <tr>\n",
       "      <th>276</th>\n",
       "      <td>Old Constituency Changed Considerably</td>\n",
       "      <td>Jhang- Cum-Chiniot (Old NA-87 Jhang-II)</td>\n",
       "      <td>NA-088</td>\n",
       "    </tr>\n",
       "    <tr>\n",
       "      <th>277</th>\n",
       "      <td>Old Constituency Changed Considerably</td>\n",
       "      <td>Gujaranwala 7</td>\n",
       "      <td>NA-101</td>\n",
       "    </tr>\n",
       "    <tr>\n",
       "      <th>278</th>\n",
       "      <td>Old Constituency Changed Considerably</td>\n",
       "      <td>Hafizabad 2</td>\n",
       "      <td>NA-103</td>\n",
       "    </tr>\n",
       "    <tr>\n",
       "      <th>279</th>\n",
       "      <td>Old Constituency Changed Considerably</td>\n",
       "      <td>Narowal 3</td>\n",
       "      <td>NA-117</td>\n",
       "    </tr>\n",
       "    <tr>\n",
       "      <th>280</th>\n",
       "      <td>Old Constituency Changed Considerably</td>\n",
       "      <td>Nankana Sahib-III (Old Sheikhupra-VII)</td>\n",
       "      <td>NA-137</td>\n",
       "    </tr>\n",
       "    <tr>\n",
       "      <th>281</th>\n",
       "      <td>Old Constituency Changed Considerably</td>\n",
       "      <td>Kasur 5</td>\n",
       "      <td>NA-142</td>\n",
       "    </tr>\n",
       "    <tr>\n",
       "      <th>282</th>\n",
       "      <td>Old Constituency Changed Considerably</td>\n",
       "      <td>Okara 5</td>\n",
       "      <td>NA-147</td>\n",
       "    </tr>\n",
       "    <tr>\n",
       "      <th>283</th>\n",
       "      <td>Old Constituency Changed Considerably</td>\n",
       "      <td>Sahiwal 4</td>\n",
       "      <td>NA-163</td>\n",
       "    </tr>\n",
       "    <tr>\n",
       "      <th>284</th>\n",
       "      <td>Old Constituency Changed Considerably</td>\n",
       "      <td>Pakpattan 3</td>\n",
       "      <td>NA-166</td>\n",
       "    </tr>\n",
       "    <tr>\n",
       "      <th>285</th>\n",
       "      <td>Old Constituency Changed Considerably</td>\n",
       "      <td>JACOBABAD-CUM-KASHMORE(OLD JACOBABAD-II)</td>\n",
       "      <td>NA-209</td>\n",
       "    </tr>\n",
       "    <tr>\n",
       "      <th>286</th>\n",
       "      <td>Old Constituency Changed Considerably</td>\n",
       "      <td>Thatta 2</td>\n",
       "      <td>NA-238</td>\n",
       "    </tr>\n",
       "    <tr>\n",
       "      <th>287</th>\n",
       "      <td>Old Constituency Changed Considerably</td>\n",
       "      <td>Kachhi-cum-Jhal Magsi</td>\n",
       "      <td>NA-267</td>\n",
       "    </tr>\n",
       "  </tbody>\n",
       "</table>\n",
       "</div>"
      ],
      "text/plain": [
       "                                       NA#  \\\n",
       "272  Old Constituency Changed Considerably   \n",
       "273  Old Constituency Changed Considerably   \n",
       "274  Old Constituency Changed Considerably   \n",
       "275  Old Constituency Changed Considerably   \n",
       "276  Old Constituency Changed Considerably   \n",
       "277  Old Constituency Changed Considerably   \n",
       "278  Old Constituency Changed Considerably   \n",
       "279  Old Constituency Changed Considerably   \n",
       "280  Old Constituency Changed Considerably   \n",
       "281  Old Constituency Changed Considerably   \n",
       "282  Old Constituency Changed Considerably   \n",
       "283  Old Constituency Changed Considerably   \n",
       "284  Old Constituency Changed Considerably   \n",
       "285  Old Constituency Changed Considerably   \n",
       "286  Old Constituency Changed Considerably   \n",
       "287  Old Constituency Changed Considerably   \n",
       "\n",
       "                                         Seat 2013 Seat Number  \n",
       "272                     Karachi 9 - Central 5           NA-247  \n",
       "273                      Karachi 12 - South 3           NA-250  \n",
       "274                                Attock III           NA-059  \n",
       "275                             Faisalabad 11           NA-085  \n",
       "276   Jhang- Cum-Chiniot (Old NA-87 Jhang-II)           NA-088  \n",
       "277                             Gujaranwala 7           NA-101  \n",
       "278                               Hafizabad 2           NA-103  \n",
       "279                                 Narowal 3           NA-117  \n",
       "280    Nankana Sahib-III (Old Sheikhupra-VII)           NA-137  \n",
       "281                                   Kasur 5           NA-142  \n",
       "282                                   Okara 5           NA-147  \n",
       "283                                 Sahiwal 4           NA-163  \n",
       "284                               Pakpattan 3           NA-166  \n",
       "285  JACOBABAD-CUM-KASHMORE(OLD JACOBABAD-II)           NA-209  \n",
       "286                                  Thatta 2           NA-238  \n",
       "287                     Kachhi-cum-Jhal Magsi           NA-267  "
      ]
     },
     "execution_count": 52,
     "metadata": {},
     "output_type": "execute_result"
    }
   ],
   "source": [
    "print(cc['NA#'].unique().shape) # 272\n",
    "print(na18['2018 Seat Number'].unique().shape) # 273\n",
    "na18.rename(columns={'2018 Seat Number':'NA#'}, inplace=True)\n",
    "na18.rename(columns={'Seat Name':'Seat'}, inplace=True)\n",
    "na18[na18['NA#'] == \"Old Constituency Changed Considerably\"]"
   ]
  },
  {
   "cell_type": "code",
   "execution_count": 53,
   "metadata": {
    "_uuid": "17dfcab3231a059955426a1342adb978d4724b03"
   },
   "outputs": [
    {
     "data": {
      "text/plain": [
       "0    NA-1\n",
       "1    NA-2\n",
       "2    NA-3\n",
       "3    NA-4\n",
       "4    NA-5\n",
       "Name: NA#, dtype: object"
      ]
     },
     "execution_count": 53,
     "metadata": {},
     "output_type": "execute_result"
    }
   ],
   "source": [
    "na18 = na18[na18['NA#'] != \"Old Constituency Changed Considerably\"]\n",
    "na18['NA#'] = na18.loc[:, 'NA#'].replace(regex=True, to_replace=\"NA-\", value=\"\")\n",
    "na18['NA#'] = pd.to_numeric(na18['NA#'])\n",
    "na18['NA#'] = na18['NA#'].astype(np.int64)\n",
    "na18['NA#'] = 'NA-' + na18['NA#'].astype(str)\n",
    "#na18['NA#'] = na18.loc[:, 'NA#'].replace(regex=True, to_replace=\".0\", value=\"\")\n",
    "na18['NA#'].head()"
   ]
  },
  {
   "cell_type": "markdown",
   "metadata": {
    "_uuid": "8b999266250400db5c777988f8d5bf5c7155965d",
    "collapsed": true
   },
   "source": [
    "Lets add District column and do its cleaning"
   ]
  },
  {
   "cell_type": "code",
   "execution_count": 54,
   "metadata": {
    "_uuid": "8d121d617b8a7d6b96f9d0e65648f26c2db9cb91"
   },
   "outputs": [
    {
     "name": "stderr",
     "output_type": "stream",
     "text": [
      "C:\\Users\\HP\\AppData\\Local\\Temp\\ipykernel_8976\\1439453734.py:4: FutureWarning: The default value of regex will change from True to False in a future version.\n",
      "  na18['Distirct'] = na18['Distirct'].str.replace(r\"\\(.*\\)\",\"\")\n",
      "C:\\Users\\HP\\AppData\\Local\\Temp\\ipykernel_8976\\1439453734.py:6: FutureWarning: The default value of regex will change from True to False in a future version.\n",
      "  na18['Distirct']  = na18['Distirct'].str.replace('[^a-zA-Z -]', '')\n",
      "C:\\Users\\HP\\AppData\\Local\\Temp\\ipykernel_8976\\1439453734.py:7: FutureWarning: The default value of regex will change from True to False in a future version.\n",
      "  na18['Distirct'] = na18['Distirct'].str.replace(r\"Cum.*\",\"\")\n",
      "C:\\Users\\HP\\AppData\\Local\\Temp\\ipykernel_8976\\1439453734.py:10: FutureWarning: The default value of regex will change from True to False in a future version.\n",
      "  na18['Distirct'] = na18['Distirct'].str.replace(r\"-.*\",\"\")\n",
      "C:\\Users\\HP\\AppData\\Local\\Temp\\ipykernel_8976\\1439453734.py:11: FutureWarning: The default value of regex will change from True to False in a future version.\n",
      "  na18['Distirct']  = na18['Distirct'] .str.replace(r\" (XX|IX|X?I{0,3})(IX|IV|V?I{0,3})$\", '')\n",
      "C:\\Users\\HP\\AppData\\Local\\Temp\\ipykernel_8976\\1439453734.py:12: FutureWarning: The default value of regex will change from True to False in a future version.\n",
      "  na18['Distirct']  = na18['Distirct'] .str.replace(r\" (XX|IX|X?I{0,3})(IX|IV|V?I{0,3})$\", '')\n"
     ]
    },
    {
     "data": {
      "text/plain": [
       "array(['Chitral', 'Swat', 'Upper Dir', 'Lower Dir', 'Malakand', 'Boner',\n",
       "       'Shangla', 'Kohistan', 'Battagram', 'Mansehra', 'Abottabad',\n",
       "       'Haripur', 'Swabi', 'Mardan', 'Charsadda', 'Nowshera', 'Peshawar',\n",
       "       'Kohat', 'Hangu', 'Karak', 'Bannu', 'Lakki Marwat', 'Tank',\n",
       "       'D I Khan', 'D I Khan KUM Tank', 'Tribal Area', 'Islamabad',\n",
       "       'Attock', 'Rawalpindi', 'Chakwal', 'Jehlum', 'Gujarat', 'Sialkot',\n",
       "       'Narowal', 'Gujaranwala', 'MANDI BAHAUDDIN', 'Hafizabad',\n",
       "       'Sargodha', 'Khushab', 'Mianwali', 'Bhakkar', 'Chiniot',\n",
       "       'Faisalabad', 'Toba Tek Singh', 'Jhang', 'Nankana Sahib',\n",
       "       'Sheikhupura', 'Lahore', 'Kasur', 'Okara', 'Pakpattan', 'Sahiwal',\n",
       "       'Khanewal', 'Multan', 'Lodhran', 'Vehari', 'Bahawalnagar',\n",
       "       'Bahawalpur', 'Rahim Yar Khan', 'Muzaffargarh', 'Layyah',\n",
       "       'Dera Ghazi Khan', 'Rajanpur', 'JACOBABAD', 'KASHMORE',\n",
       "       'SHIKARPUR', 'SHEIKHUPUR', 'Larkana', 'LARKANA',\n",
       "       'KAMBER SHAHDADKOT', 'GHOTKI', 'SUKKUR', 'Khairpur',\n",
       "       'NAUSHEHRO FEROZ', 'Nawabshah', 'Sanghar', 'SANGHAR',\n",
       "       'MIRPUR KHAS', 'MIRPURKHAS', 'UMERKOT', 'Tharparkar', 'MATIARI',\n",
       "       'HYDERABAD', 'TANDO MUHAMMAD KHAN', 'TANDO ALLAHYAR', 'BADIN',\n",
       "       'Sujawal', 'Thatta', 'JAMSHORO', 'DADU', 'Karachi', 'Zhob',\n",
       "       'Loralai', 'Sibi', 'Nasirabad', 'Jaffarabad', 'Pishin',\n",
       "       'Killa Abdullah', 'Quetta', 'Kalat', 'Chaghai', 'Khuzdar',\n",
       "       'Kharan', 'Awaran', 'Kech'], dtype=object)"
      ]
     },
     "execution_count": 54,
     "metadata": {},
     "output_type": "execute_result"
    }
   ],
   "source": [
    "#Add District column & its cleani\n",
    "na18['Distirct'] = na18['Seat']\n",
    "# remove all those substring with () \n",
    "na18['Distirct'] = na18['Distirct'].str.replace(r\"\\(.*\\)\",\"\")\n",
    "# remove numeric\n",
    "na18['Distirct']  = na18['Distirct'].str.replace('[^a-zA-Z -]', '')\n",
    "na18['Distirct'] = na18['Distirct'].str.replace(r\"Cum.*\",\"\")\n",
    "#na18['Distirct'] = na18['Distirct'].str.replace(r\"KUM.*\",\"\")\n",
    "# to convert Tribal Area III - Mohman into Tribal Area III\n",
    "na18['Distirct'] = na18['Distirct'].str.replace(r\"-.*\",\"\")\n",
    "na18['Distirct']  = na18['Distirct'] .str.replace(r\" (XX|IX|X?I{0,3})(IX|IV|V?I{0,3})$\", '')\n",
    "na18['Distirct']  = na18['Distirct'] .str.replace(r\" (XX|IX|X?I{0,3})(IX|IV|V?I{0,3})$\", '')\n",
    "na18['Distirct'].unique()"
   ]
  },
  {
   "cell_type": "code",
   "execution_count": 55,
   "metadata": {
    "_uuid": "5c4b6f9353d0c411fbcddac2212ae763e2a51c9d"
   },
   "outputs": [
    {
     "name": "stdout",
     "output_type": "stream",
     "text": [
      "<class 'pandas.core.frame.DataFrame'>\n",
      "RangeIndex: 3438 entries, 0 to 3437\n",
      "Data columns (total 7 columns):\n",
      " #   Column            Non-Null Count  Dtype \n",
      "---  ------            --------------  ----- \n",
      " 0   NA#               3438 non-null   object\n",
      " 1   Name              3435 non-null   object\n",
      " 2   Party             3438 non-null   object\n",
      " 3   Province          3438 non-null   object\n",
      " 4   Seat              3438 non-null   object\n",
      " 5   2013 Seat Number  3438 non-null   object\n",
      " 6   Distirct          3438 non-null   object\n",
      "dtypes: object(7)\n",
      "memory usage: 188.1+ KB\n"
     ]
    }
   ],
   "source": [
    "cc = cc.join(na18.set_index('NA#'), on='NA#')\n",
    "cc.info()"
   ]
  },
  {
   "cell_type": "code",
   "execution_count": 56,
   "metadata": {
    "_uuid": "6aa2f4d58f8f901a7631d74c1ba442a2ce2c2f34"
   },
   "outputs": [
    {
     "name": "stdout",
     "output_type": "stream",
     "text": [
      "(119, 3)\n"
     ]
    },
    {
     "data": {
      "text/plain": [
       "array(['Aam Admi Tehreek Pakistan', 'Aam Awam Party',\n",
       "       'Aam Log Party Pakistan',\n",
       "       'All Pakistan Minority Movement Pakistan',\n",
       "       'All Pakistan Muslim League',\n",
       "       'All Pakistan Muslim League (Jinnah)', 'All Pakistan Tehreek',\n",
       "       'Allah-O-Akbar Tehreek', 'Amun Taraqqi Party', 'Awam League',\n",
       "       'Awami Justice Party Pakistan', 'Awami Muslim League Pakistan',\n",
       "       'Awami National Party', 'Awami Party Pakistan-S',\n",
       "       'Awami Workers Party', 'Balochistan Awami Party',\n",
       "       'Balochistan National Movement', 'Balochistan National Party',\n",
       "       'Balochistan National Party(Awami)', 'Barabri Party Pakistan',\n",
       "       'Front National Pakistan', 'Grand Democratic Alliance',\n",
       "       'Hazara Democratic Party', 'Humdardan-e-Watan Pakistan',\n",
       "       'Islami Jamhoori Ittehad Pakistan', 'Islami Tehreek Pakistan',\n",
       "       'Ittehad-e-Ummat Pakistan', 'Jamat-e-Islami Pakistan',\n",
       "       'Jamhoori Watan Party', 'Jamiat Ulama-e-Islam Nazaryati Pakistan',\n",
       "       'Jamiat Ulama-e-Islam(F)', 'Jamiat Ulema-e-Pakistan (Noorani)',\n",
       "       'Jamiyat Ulma-e-Islam Pakistan(S)', 'Jamote Qaumi Movement',\n",
       "       'Jannat Pakistan Party', 'Majlis Wahdat-e-Muslimeen Pakistan',\n",
       "       'Markazi Jamiat Ahl-e-Hadith', 'Mohajir Qaumi Movement (Pakistan)',\n",
       "       'Move on Pakistan',\n",
       "       'Muhib-e-Watan Noujawan Anqlabion Ki Anjuman (MNAKA)',\n",
       "       'Mustaqbil Pakistan', 'Mutahida Majlis-e-Amal Pakistan',\n",
       "       'Mutahidda Ulema Mashaikh Council of Pakistan',\n",
       "       'Mutahiddia Qabail Party', 'Mutihida League',\n",
       "       'Muttahida Qaumi Movement Pakistan', 'National Party',\n",
       "       'National Peace Council Party', 'Pak Sarzameen Party',\n",
       "       'Pakhtoonkhwa Milli Awami Party', 'Pakistan Aman Party',\n",
       "       'Pakistan Aman Tehreek', 'Pakistan Awami Inqelabi League',\n",
       "       'Pakistan Awami League', 'Pakistan Awami Raj',\n",
       "       'Pakistan Awami Tehreek', 'Pakistan Citizen Movement',\n",
       "       'Pakistan Conservative Party', 'Pakistan Falah Party',\n",
       "       'Pakistan Falahi Tehreek', 'Pakistan Freedom Movement',\n",
       "       'Pakistan Human Party', 'Pakistan Human Rights Party',\n",
       "       'Pakistan Islamic Republican Party',\n",
       "       'Pakistan Justice and Democratic Party',\n",
       "       'Pakistan Kissan Ittehad (Ch. Anwar)', 'Pakistan Muslim Alliance',\n",
       "       'Pakistan Muslim League', 'Pakistan Muslim League (Council)',\n",
       "       'Pakistan Muslim League (Functional)',\n",
       "       'Pakistan Muslim League (Junejo)', 'Pakistan Muslim League (N)',\n",
       "       'Pakistan Muslim League (Zia-ul-Haq Shaheed)',\n",
       "       'Pakistan Muslim League Organization',\n",
       "       'Pakistan Muslim League SHER-E-BANGAL A.K. Fazal-Ul-Haque',\n",
       "       'Pakistan National Muslim League', 'Pakistan Peoples Party',\n",
       "       'Pakistan Peoples Party (Shaheed Bhutto)',\n",
       "       'Pakistan Peoples Party Parliamentarians',\n",
       "       'Pakistan Peoples Party Workers', 'Pakistan Quami Yakjehti Party',\n",
       "       'Pakistan Reh-e- Haq Party', 'Pakistan Siraiki Party (T)',\n",
       "       'Pakistan Sunni Tehreek', 'Pakistan Supreme Democratic',\n",
       "       'Pakistan Tehreek-e-Insaf', 'Pakistan Tehreek-e-Insaf (Nazriati)',\n",
       "       'Pakistan Tehreek-e-Insaf-Gulalai', 'Pakistan Tehreek-e-Insaniat',\n",
       "       'Pakistan Welfare Party', 'Pakistan Yaqeen Party',\n",
       "       'Pasban Pakistan', 'Peoples Movement of Pakistan',\n",
       "       'Peoples Muslim League (Pakistan)', 'Qaumi Watan Party',\n",
       "       'Roshan Pakistan League', 'Saraikistan Democratic Party',\n",
       "       'Sindh United Party', 'Sunni Ittehad Council', 'Sunni Tehreek',\n",
       "       'Tabdeeli Pasand Party (Pakistan)', 'Tehreek Labbaik Pakistan',\n",
       "       'Tehreek Tabdili Nizam Pakistan', 'Tehreek-e-Difa-e-Pakistan',\n",
       "       'Tehreek-e-Labbaik Islam', 'Tehreek-e-Suba Hazara Pakistan',\n",
       "       'Tehrik Jawanan Pakistan', 'Pakistan Rah-e-Haq Party',\n",
       "       'Tehreek Jawanan Pakistan.', 'Allah-o-Akbar Tehreek',\n",
       "       'Jamiat Ulma-e-Islam Nazryati Pakistan',\n",
       "       'Pakistan Muslim League (Q)',\n",
       "       'Pakistan Justice & Democratic Party',\n",
       "       'Justice and Development Party Pakistan',\n",
       "       'Muttahidda Qaumi Movement Pakistan', 'Muttahida Majlis-e-Amal',\n",
       "       'Pakistan Muslim League-Nawaz ', 'Tehreek Jamhuriat Pakistan',\n",
       "       'Pakistan Muhajir League'], dtype=object)"
      ]
     },
     "execution_count": 56,
     "metadata": {},
     "output_type": "execute_result"
    }
   ],
   "source": [
    "print(pp.shape)\n",
    "pp['Name of Political Party'].unique()"
   ]
  },
  {
   "cell_type": "code",
   "execution_count": 57,
   "metadata": {
    "_uuid": "b66aa300ace4bbea7e9ee53436de5fd055bfa750"
   },
   "outputs": [],
   "source": [
    "pp.rename(columns={'Acronym':'PartyAcro'}, inplace=True)\n",
    "cc.rename(columns={'Party':'PartyAcro'}, inplace=True)\n",
    "pp.rename(columns={'Name of Political Party':'Party'}, inplace=True)"
   ]
  },
  {
   "cell_type": "code",
   "execution_count": 58,
   "metadata": {
    "_uuid": "aa5605f8d1ac59ee5811cc3a0b2f437316474f1a"
   },
   "outputs": [],
   "source": [
    "# Clean Candidate file\n",
    "pp['Party'].replace(['pakistan reh-e- haq party'], 'Pakistan Rah-e- Haq Party' ,inplace = True)\n",
    "pp['Party'].replace(['Pakistan Muslim League SHER-E-BANGAL A.K. Fazal-Ul-Haque'], 'pakistan muslim league (sher-e-bangal)' ,inplace = True)\n",
    "pp['Party'].replace(['Pakistan Muslim League (Zia-ul-Haq Shaheed)'], 'pakistan muslim league (z)' ,inplace = True)\n",
    "pp['Party'].replace(['Pakistan Muslim League (Junejo)'], 'pakistan muslim league (j)' ,inplace = True)\n",
    "pp['Party'].replace(['Pakistan Muslim League (Functional)'], 'pakistan muslim league (f)' ,inplace = True)\n",
    "pp['Party'].replace(['Pakistan Muslim League (Council)'], 'pakistan muslim league (c)' ,inplace = True)\n",
    "pp['Party'].replace(['Pakistan Muslim League-Nawaz'], 'pakistan muslim league (n)' ,inplace = True)\n",
    "pp['Party'].replace(['Pakistan Justice & Democratic Party'], 'Pakistan Justice and Democratic Party' ,inplace = True)\n",
    "pp['Party'].replace(['Pakistan Kissan Ittehad (Ch. Anwar)'], 'Pakistan Kissan Ittehad' ,inplace = True)\n",
    "pp['Party'].replace(['Jamiat Ulma-e-Islam Nazryati Pakistan'], 'Jamiat Ulma-e-Islam Nazaryati Pakistan' ,inplace = True)\n",
    "pp['Party'].replace(['Jamiat Ulma-e-Islam Nazryati Pakistan'], 'Jamiat Ulma-e-Islam Nazaryati Pakistan' ,inplace = True)\n",
    "pp['Party'].replace(['Jamiat Ulama-e-Islam(F)'], 'Jamiat Ulama-e-Islam (F)' ,inplace = True)\n",
    "pp['Party'].replace(['Jamiat Ulama-e-Islam(S)'], 'Jamiat Ulama-e-Islam (S)' ,inplace = True)\n",
    "pp['Party'].replace(['Mohajir Qaumi Movement (Pakistan)'], 'Mohajir Qaumi Movement pakistan' ,inplace = True)\n",
    "pp['Party'].replace(['Mutahida Majlis-e-Amal'], 'Muttahida Majlis-e-Amal' ,inplace = True)\n",
    "pp['Party'].replace(['Muttahidda Qaumi Movement Pakistan'], 'Muttahida Qaumi Movement Pakistan' ,inplace = True)\n"
   ]
  },
  {
   "cell_type": "code",
   "execution_count": 59,
   "metadata": {
    "_uuid": "bcf081d4a7bfebffe0074b280a363a045ed82fa9"
   },
   "outputs": [
    {
     "name": "stdout",
     "output_type": "stream",
     "text": [
      "<class 'pandas.core.frame.DataFrame'>\n",
      "Int64Index: 112 entries, 0 to 118\n",
      "Data columns (total 3 columns):\n",
      " #   Column     Non-Null Count  Dtype \n",
      "---  ------     --------------  ----- \n",
      " 0   Party      112 non-null    object\n",
      " 1   Symbol     106 non-null    object\n",
      " 2   PartyAcro  111 non-null    object\n",
      "dtypes: object(3)\n",
      "memory usage: 3.5+ KB\n"
     ]
    }
   ],
   "source": [
    "# Remove duplicaties\n",
    "pp.drop_duplicates(subset=['PartyAcro'], keep=\"first\", inplace=True)\n",
    "pp.info()"
   ]
  },
  {
   "cell_type": "code",
   "execution_count": 60,
   "metadata": {
    "_uuid": "be7f230ba0d73ef4f87c2a14363ac0cc4e16465d"
   },
   "outputs": [
    {
     "data": {
      "text/html": [
       "<div>\n",
       "<style scoped>\n",
       "    .dataframe tbody tr th:only-of-type {\n",
       "        vertical-align: middle;\n",
       "    }\n",
       "\n",
       "    .dataframe tbody tr th {\n",
       "        vertical-align: top;\n",
       "    }\n",
       "\n",
       "    .dataframe thead th {\n",
       "        text-align: right;\n",
       "    }\n",
       "</style>\n",
       "<table border=\"1\" class=\"dataframe\">\n",
       "  <thead>\n",
       "    <tr style=\"text-align: right;\">\n",
       "      <th></th>\n",
       "      <th>Party</th>\n",
       "      <th>Symbol</th>\n",
       "      <th>PartyAcro</th>\n",
       "    </tr>\n",
       "  </thead>\n",
       "  <tbody>\n",
       "    <tr>\n",
       "      <th>0</th>\n",
       "      <td>Aam Admi Tehreek Pakistan</td>\n",
       "      <td>Mug</td>\n",
       "      <td>AATP</td>\n",
       "    </tr>\n",
       "    <tr>\n",
       "      <th>1</th>\n",
       "      <td>Aam Awam Party</td>\n",
       "      <td>Wheat Bunch</td>\n",
       "      <td>AAP</td>\n",
       "    </tr>\n",
       "    <tr>\n",
       "      <th>2</th>\n",
       "      <td>Aam Log Party Pakistan</td>\n",
       "      <td>Hut</td>\n",
       "      <td>ALPP</td>\n",
       "    </tr>\n",
       "    <tr>\n",
       "      <th>3</th>\n",
       "      <td>All Pakistan Minority Movement Pakistan</td>\n",
       "      <td>Giraffe</td>\n",
       "      <td>APMMP</td>\n",
       "    </tr>\n",
       "    <tr>\n",
       "      <th>4</th>\n",
       "      <td>All Pakistan Muslim League</td>\n",
       "      <td>Eagle</td>\n",
       "      <td>APML</td>\n",
       "    </tr>\n",
       "    <tr>\n",
       "      <th>...</th>\n",
       "      <td>...</td>\n",
       "      <td>...</td>\n",
       "      <td>...</td>\n",
       "    </tr>\n",
       "    <tr>\n",
       "      <th>111</th>\n",
       "      <td>Pakistan Muslim League (Q)</td>\n",
       "      <td>cycle</td>\n",
       "      <td>PMLQ</td>\n",
       "    </tr>\n",
       "    <tr>\n",
       "      <th>112</th>\n",
       "      <td>Pakistan Justice and Democratic Party</td>\n",
       "      <td>NaN</td>\n",
       "      <td>PJDP</td>\n",
       "    </tr>\n",
       "    <tr>\n",
       "      <th>113</th>\n",
       "      <td>Justice and Development Party Pakistan</td>\n",
       "      <td>NaN</td>\n",
       "      <td>JDPP</td>\n",
       "    </tr>\n",
       "    <tr>\n",
       "      <th>117</th>\n",
       "      <td>Tehreek Jamhuriat Pakistan</td>\n",
       "      <td>NaN</td>\n",
       "      <td>TJ</td>\n",
       "    </tr>\n",
       "    <tr>\n",
       "      <th>118</th>\n",
       "      <td>Pakistan Muhajir League</td>\n",
       "      <td>NaN</td>\n",
       "      <td>NaN</td>\n",
       "    </tr>\n",
       "  </tbody>\n",
       "</table>\n",
       "<p>112 rows × 3 columns</p>\n",
       "</div>"
      ],
      "text/plain": [
       "                                       Party       Symbol PartyAcro\n",
       "0                  Aam Admi Tehreek Pakistan          Mug      AATP\n",
       "1                             Aam Awam Party  Wheat Bunch       AAP\n",
       "2                     Aam Log Party Pakistan          Hut      ALPP\n",
       "3    All Pakistan Minority Movement Pakistan      Giraffe     APMMP\n",
       "4                 All Pakistan Muslim League        Eagle      APML\n",
       "..                                       ...          ...       ...\n",
       "111               Pakistan Muslim League (Q)        cycle      PMLQ\n",
       "112    Pakistan Justice and Democratic Party          NaN      PJDP\n",
       "113   Justice and Development Party Pakistan          NaN      JDPP\n",
       "117               Tehreek Jamhuriat Pakistan          NaN        TJ\n",
       "118                  Pakistan Muhajir League          NaN       NaN\n",
       "\n",
       "[112 rows x 3 columns]"
      ]
     },
     "execution_count": 60,
     "metadata": {},
     "output_type": "execute_result"
    }
   ],
   "source": [
    "pp"
   ]
  },
  {
   "cell_type": "code",
   "execution_count": 61,
   "metadata": {
    "_uuid": "4b54805a0fdf705e390112789f9c9f3830b6722d"
   },
   "outputs": [
    {
     "data": {
      "text/html": [
       "<div>\n",
       "<style scoped>\n",
       "    .dataframe tbody tr th:only-of-type {\n",
       "        vertical-align: middle;\n",
       "    }\n",
       "\n",
       "    .dataframe tbody tr th {\n",
       "        vertical-align: top;\n",
       "    }\n",
       "\n",
       "    .dataframe thead th {\n",
       "        text-align: right;\n",
       "    }\n",
       "</style>\n",
       "<table border=\"1\" class=\"dataframe\">\n",
       "  <thead>\n",
       "    <tr style=\"text-align: right;\">\n",
       "      <th></th>\n",
       "      <th>NA#</th>\n",
       "      <th>Name</th>\n",
       "      <th>PartyAcro</th>\n",
       "      <th>Province</th>\n",
       "      <th>Seat</th>\n",
       "      <th>2013 Seat Number</th>\n",
       "      <th>Distirct</th>\n",
       "    </tr>\n",
       "  </thead>\n",
       "  <tbody>\n",
       "    <tr>\n",
       "      <th>10</th>\n",
       "      <td>NA-1</td>\n",
       "      <td>Abdul Latif</td>\n",
       "      <td>PTI</td>\n",
       "      <td>Khyber Pakhtunkhwa</td>\n",
       "      <td>Chitral</td>\n",
       "      <td>NA-032</td>\n",
       "      <td>Chitral</td>\n",
       "    </tr>\n",
       "    <tr>\n",
       "      <th>20</th>\n",
       "      <td>NA-2</td>\n",
       "      <td>Dr. Haider Ali Khan</td>\n",
       "      <td>PTI</td>\n",
       "      <td>Khyber Pakhtunkhwa</td>\n",
       "      <td>Swat I</td>\n",
       "      <td>NA-029</td>\n",
       "      <td>Swat</td>\n",
       "    </tr>\n",
       "    <tr>\n",
       "      <th>28</th>\n",
       "      <td>NA-3</td>\n",
       "      <td>Saleem Rehman</td>\n",
       "      <td>PTI</td>\n",
       "      <td>Khyber Pakhtunkhwa</td>\n",
       "      <td>Swat II</td>\n",
       "      <td>NA-030</td>\n",
       "      <td>Swat</td>\n",
       "    </tr>\n",
       "    <tr>\n",
       "      <th>37</th>\n",
       "      <td>NA-4</td>\n",
       "      <td>Murad Saeed</td>\n",
       "      <td>PTI</td>\n",
       "      <td>Khyber Pakhtunkhwa</td>\n",
       "      <td>Swat III</td>\n",
       "      <td>Newly Added</td>\n",
       "      <td>Swat</td>\n",
       "    </tr>\n",
       "    <tr>\n",
       "      <th>49</th>\n",
       "      <td>NA-5</td>\n",
       "      <td>Sahibzada Sibghat Ullah</td>\n",
       "      <td>PTI</td>\n",
       "      <td>Khyber Pakhtunkhwa</td>\n",
       "      <td>Upper Dir</td>\n",
       "      <td>NA-033</td>\n",
       "      <td>Upper Dir</td>\n",
       "    </tr>\n",
       "  </tbody>\n",
       "</table>\n",
       "</div>"
      ],
      "text/plain": [
       "     NA#                     Name PartyAcro            Province       Seat  \\\n",
       "10  NA-1              Abdul Latif       PTI  Khyber Pakhtunkhwa    Chitral   \n",
       "20  NA-2      Dr. Haider Ali Khan       PTI  Khyber Pakhtunkhwa     Swat I   \n",
       "28  NA-3            Saleem Rehman       PTI  Khyber Pakhtunkhwa    Swat II   \n",
       "37  NA-4              Murad Saeed       PTI  Khyber Pakhtunkhwa   Swat III   \n",
       "49  NA-5  Sahibzada Sibghat Ullah       PTI  Khyber Pakhtunkhwa  Upper Dir   \n",
       "\n",
       "   2013 Seat Number   Distirct  \n",
       "10           NA-032    Chitral  \n",
       "20           NA-029       Swat  \n",
       "28           NA-030       Swat  \n",
       "37      Newly Added       Swat  \n",
       "49           NA-033  Upper Dir  "
      ]
     },
     "execution_count": 61,
     "metadata": {},
     "output_type": "execute_result"
    }
   ],
   "source": [
    "cc[cc['PartyAcro']=='PTI'].head()\n",
    "#pp[pp['PartyAcro']=='PTEI']"
   ]
  },
  {
   "cell_type": "code",
   "execution_count": 62,
   "metadata": {
    "_uuid": "df8894f5492a07693b5af6106d3bac84fabfe73d"
   },
   "outputs": [],
   "source": [
    "#del cnd\n",
    "cnd = cc.join(pp.set_index('PartyAcro'), on='PartyAcro')"
   ]
  },
  {
   "cell_type": "code",
   "execution_count": 63,
   "metadata": {
    "_uuid": "54e2e13d47e763edc301d7b30a452a310e4e7125"
   },
   "outputs": [
    {
     "name": "stdout",
     "output_type": "stream",
     "text": [
      "<class 'pandas.core.frame.DataFrame'>\n",
      "RangeIndex: 3438 entries, 0 to 3437\n",
      "Data columns (total 9 columns):\n",
      " #   Column            Non-Null Count  Dtype \n",
      "---  ------            --------------  ----- \n",
      " 0   NA#               3438 non-null   object\n",
      " 1   Name              3435 non-null   object\n",
      " 2   PartyAcro         3438 non-null   object\n",
      " 3   Province          3438 non-null   object\n",
      " 4   Seat              3438 non-null   object\n",
      " 5   2013 Seat Number  3438 non-null   object\n",
      " 6   Distirct          3438 non-null   object\n",
      " 7   Party             1706 non-null   object\n",
      " 8   Symbol            1686 non-null   object\n",
      "dtypes: object(9)\n",
      "memory usage: 241.9+ KB\n"
     ]
    },
    {
     "data": {
      "text/html": [
       "<div>\n",
       "<style scoped>\n",
       "    .dataframe tbody tr th:only-of-type {\n",
       "        vertical-align: middle;\n",
       "    }\n",
       "\n",
       "    .dataframe tbody tr th {\n",
       "        vertical-align: top;\n",
       "    }\n",
       "\n",
       "    .dataframe thead th {\n",
       "        text-align: right;\n",
       "    }\n",
       "</style>\n",
       "<table border=\"1\" class=\"dataframe\">\n",
       "  <thead>\n",
       "    <tr style=\"text-align: right;\">\n",
       "      <th></th>\n",
       "      <th>NA#</th>\n",
       "      <th>Name</th>\n",
       "      <th>PartyAcro</th>\n",
       "      <th>Province</th>\n",
       "      <th>Seat</th>\n",
       "      <th>2013 Seat Number</th>\n",
       "      <th>Distirct</th>\n",
       "      <th>Party</th>\n",
       "      <th>Symbol</th>\n",
       "    </tr>\n",
       "  </thead>\n",
       "  <tbody>\n",
       "    <tr>\n",
       "      <th>0</th>\n",
       "      <td>NA-1</td>\n",
       "      <td>Eid Ul Hussain</td>\n",
       "      <td>ANP</td>\n",
       "      <td>Khyber Pakhtunkhwa</td>\n",
       "      <td>Chitral</td>\n",
       "      <td>NA-032</td>\n",
       "      <td>Chitral</td>\n",
       "      <td>Awami National Party</td>\n",
       "      <td>Lantern</td>\n",
       "    </tr>\n",
       "    <tr>\n",
       "      <th>1</th>\n",
       "      <td>NA-1</td>\n",
       "      <td>Mohammad Amjad</td>\n",
       "      <td>APML</td>\n",
       "      <td>Khyber Pakhtunkhwa</td>\n",
       "      <td>Chitral</td>\n",
       "      <td>NA-032</td>\n",
       "      <td>Chitral</td>\n",
       "      <td>All Pakistan Muslim League</td>\n",
       "      <td>Eagle</td>\n",
       "    </tr>\n",
       "    <tr>\n",
       "      <th>2</th>\n",
       "      <td>NA-1</td>\n",
       "      <td>Mohammad Yahya</td>\n",
       "      <td>Independent</td>\n",
       "      <td>Khyber Pakhtunkhwa</td>\n",
       "      <td>Chitral</td>\n",
       "      <td>NA-032</td>\n",
       "      <td>Chitral</td>\n",
       "      <td>NaN</td>\n",
       "      <td>NaN</td>\n",
       "    </tr>\n",
       "    <tr>\n",
       "      <th>3</th>\n",
       "      <td>NA-1</td>\n",
       "      <td>Nisar Dastageer</td>\n",
       "      <td>Independent</td>\n",
       "      <td>Khyber Pakhtunkhwa</td>\n",
       "      <td>Chitral</td>\n",
       "      <td>NA-032</td>\n",
       "      <td>Chitral</td>\n",
       "      <td>NaN</td>\n",
       "      <td>NaN</td>\n",
       "    </tr>\n",
       "    <tr>\n",
       "      <th>4</th>\n",
       "      <td>NA-1</td>\n",
       "      <td>Shahzada Muharamad Taim</td>\n",
       "      <td>Independent</td>\n",
       "      <td>Khyber Pakhtunkhwa</td>\n",
       "      <td>Chitral</td>\n",
       "      <td>NA-032</td>\n",
       "      <td>Chitral</td>\n",
       "      <td>NaN</td>\n",
       "      <td>NaN</td>\n",
       "    </tr>\n",
       "  </tbody>\n",
       "</table>\n",
       "</div>"
      ],
      "text/plain": [
       "    NA#                     Name    PartyAcro            Province     Seat  \\\n",
       "0  NA-1           Eid Ul Hussain          ANP  Khyber Pakhtunkhwa  Chitral   \n",
       "1  NA-1           Mohammad Amjad         APML  Khyber Pakhtunkhwa  Chitral   \n",
       "2  NA-1           Mohammad Yahya  Independent  Khyber Pakhtunkhwa  Chitral   \n",
       "3  NA-1          Nisar Dastageer  Independent  Khyber Pakhtunkhwa  Chitral   \n",
       "4  NA-1  Shahzada Muharamad Taim  Independent  Khyber Pakhtunkhwa  Chitral   \n",
       "\n",
       "  2013 Seat Number Distirct                       Party   Symbol  \n",
       "0           NA-032  Chitral        Awami National Party  Lantern  \n",
       "1           NA-032  Chitral  All Pakistan Muslim League    Eagle  \n",
       "2           NA-032  Chitral                         NaN      NaN  \n",
       "3           NA-032  Chitral                         NaN      NaN  \n",
       "4           NA-032  Chitral                         NaN      NaN  "
      ]
     },
     "execution_count": 63,
     "metadata": {},
     "output_type": "execute_result"
    }
   ],
   "source": [
    "cnd.info()\n",
    "cnd.head()"
   ]
  },
  {
   "cell_type": "code",
   "execution_count": 64,
   "metadata": {
    "_uuid": "5867bd7a56b07efc0aa184ac9f98a0f866236f52"
   },
   "outputs": [
    {
     "name": "stderr",
     "output_type": "stream",
     "text": [
      "C:\\Users\\HP\\AppData\\Local\\Temp\\ipykernel_8976\\1262647537.py:3: FutureWarning: The default value of regex will change from True to False in a future version.\n",
      "  cnd['Name'] = cnd['Name'].str.replace('[^a-zA-Z ]', '')\n"
     ]
    },
    {
     "data": {
      "text/html": [
       "<div>\n",
       "<style scoped>\n",
       "    .dataframe tbody tr th:only-of-type {\n",
       "        vertical-align: middle;\n",
       "    }\n",
       "\n",
       "    .dataframe tbody tr th {\n",
       "        vertical-align: top;\n",
       "    }\n",
       "\n",
       "    .dataframe thead th {\n",
       "        text-align: right;\n",
       "    }\n",
       "</style>\n",
       "<table border=\"1\" class=\"dataframe\">\n",
       "  <thead>\n",
       "    <tr style=\"text-align: right;\">\n",
       "      <th></th>\n",
       "      <th>NA#</th>\n",
       "      <th>Name</th>\n",
       "      <th>PartyAcro</th>\n",
       "      <th>Province</th>\n",
       "      <th>Seat</th>\n",
       "      <th>2013 Seat Number</th>\n",
       "      <th>Distirct</th>\n",
       "      <th>Party</th>\n",
       "      <th>Symbol</th>\n",
       "    </tr>\n",
       "  </thead>\n",
       "  <tbody>\n",
       "    <tr>\n",
       "      <th>10</th>\n",
       "      <td>NA-1</td>\n",
       "      <td>abdul latif</td>\n",
       "      <td>PTI</td>\n",
       "      <td>Khyber Pakhtunkhwa</td>\n",
       "      <td>Chitral</td>\n",
       "      <td>NA-032</td>\n",
       "      <td>Chitral</td>\n",
       "      <td>pakistan tehreek-e-insaf</td>\n",
       "      <td>Bat</td>\n",
       "    </tr>\n",
       "    <tr>\n",
       "      <th>20</th>\n",
       "      <td>NA-2</td>\n",
       "      <td>dr haider ali khan</td>\n",
       "      <td>PTI</td>\n",
       "      <td>Khyber Pakhtunkhwa</td>\n",
       "      <td>Swat I</td>\n",
       "      <td>NA-029</td>\n",
       "      <td>Swat</td>\n",
       "      <td>pakistan tehreek-e-insaf</td>\n",
       "      <td>Bat</td>\n",
       "    </tr>\n",
       "    <tr>\n",
       "      <th>28</th>\n",
       "      <td>NA-3</td>\n",
       "      <td>saleem rehman</td>\n",
       "      <td>PTI</td>\n",
       "      <td>Khyber Pakhtunkhwa</td>\n",
       "      <td>Swat II</td>\n",
       "      <td>NA-030</td>\n",
       "      <td>Swat</td>\n",
       "      <td>pakistan tehreek-e-insaf</td>\n",
       "      <td>Bat</td>\n",
       "    </tr>\n",
       "    <tr>\n",
       "      <th>37</th>\n",
       "      <td>NA-4</td>\n",
       "      <td>murad saeed</td>\n",
       "      <td>PTI</td>\n",
       "      <td>Khyber Pakhtunkhwa</td>\n",
       "      <td>Swat III</td>\n",
       "      <td>Newly Added</td>\n",
       "      <td>Swat</td>\n",
       "      <td>pakistan tehreek-e-insaf</td>\n",
       "      <td>Bat</td>\n",
       "    </tr>\n",
       "    <tr>\n",
       "      <th>49</th>\n",
       "      <td>NA-5</td>\n",
       "      <td>sahibzada sibghat ullah</td>\n",
       "      <td>PTI</td>\n",
       "      <td>Khyber Pakhtunkhwa</td>\n",
       "      <td>Upper Dir</td>\n",
       "      <td>NA-033</td>\n",
       "      <td>Upper Dir</td>\n",
       "      <td>pakistan tehreek-e-insaf</td>\n",
       "      <td>Bat</td>\n",
       "    </tr>\n",
       "  </tbody>\n",
       "</table>\n",
       "</div>"
      ],
      "text/plain": [
       "     NA#                     Name PartyAcro            Province       Seat  \\\n",
       "10  NA-1              abdul latif       PTI  Khyber Pakhtunkhwa    Chitral   \n",
       "20  NA-2       dr haider ali khan       PTI  Khyber Pakhtunkhwa     Swat I   \n",
       "28  NA-3            saleem rehman       PTI  Khyber Pakhtunkhwa    Swat II   \n",
       "37  NA-4              murad saeed       PTI  Khyber Pakhtunkhwa   Swat III   \n",
       "49  NA-5  sahibzada sibghat ullah       PTI  Khyber Pakhtunkhwa  Upper Dir   \n",
       "\n",
       "   2013 Seat Number   Distirct                     Party Symbol  \n",
       "10           NA-032    Chitral  pakistan tehreek-e-insaf    Bat  \n",
       "20           NA-029       Swat  pakistan tehreek-e-insaf    Bat  \n",
       "28           NA-030       Swat  pakistan tehreek-e-insaf    Bat  \n",
       "37      Newly Added       Swat  pakistan tehreek-e-insaf    Bat  \n",
       "49           NA-033  Upper Dir  pakistan tehreek-e-insaf    Bat  "
      ]
     },
     "execution_count": 64,
     "metadata": {},
     "output_type": "execute_result"
    }
   ],
   "source": [
    "cnd[cnd['PartyAcro']==\"PTI\"].head()\n",
    "#remove non-aplhabetic characters from Name\n",
    "cnd['Name'] = cnd['Name'].str.replace('[^a-zA-Z ]', '')\n",
    "cnd['Name'] = cnd['Name'].str.lower()\n",
    "cnd['Name'] = cnd['Name'].str.strip()\n",
    "\n",
    "cnd['Party'] = cnd['Party'].str.lower()\n",
    "cnd['Party'] = cnd['Party'].str.strip()\n",
    "\n",
    "cnd[cnd['PartyAcro']==\"PTI\"].head()"
   ]
  },
  {
   "cell_type": "markdown",
   "metadata": {
    "_uuid": "3fdb2ba0adee39b7b3e9a7fae3d5fc78c680b001"
   },
   "source": [
    "Merging .. "
   ]
  },
  {
   "cell_type": "code",
   "execution_count": 65,
   "metadata": {
    "_uuid": "c87c33a2dbeba70c4fdca506ba74b683dcf11845"
   },
   "outputs": [
    {
     "name": "stdout",
     "output_type": "stream",
     "text": [
      "Index(['District', 'Seat', 'ConstituencyTitle', 'CandidateName', 'Party',\n",
      "       'Votes', 'TotalValidVotes', 'TotalRejectedVotes', 'TotalVotes',\n",
      "       'TotalRegisteredVoters', 'Turnout', 'Year'],\n",
      "      dtype='object') Index(['NA#', 'Name', 'PartyAcro', 'Province', 'Seat', '2013 Seat Number',\n",
      "       'Distirct', 'Party', 'Symbol'],\n",
      "      dtype='object')\n",
      "<class 'pandas.core.frame.DataFrame'>\n",
      "Int64Index: 8619 entries, 0 to 4509\n",
      "Data columns (total 12 columns):\n",
      " #   Column                 Non-Null Count  Dtype  \n",
      "---  ------                 --------------  -----  \n",
      " 0   District               6425 non-null   object \n",
      " 1   Seat                   8619 non-null   object \n",
      " 2   ConstituencyTitle      8619 non-null   object \n",
      " 3   CandidateName          8619 non-null   object \n",
      " 4   Party                  8619 non-null   object \n",
      " 5   Votes                  8619 non-null   int64  \n",
      " 6   TotalValidVotes        8619 non-null   int64  \n",
      " 7   TotalRejectedVotes     8619 non-null   int64  \n",
      " 8   TotalVotes             8619 non-null   int64  \n",
      " 9   TotalRegisteredVoters  8619 non-null   int64  \n",
      " 10  Turnout                8619 non-null   float64\n",
      " 11  Year                   8619 non-null   object \n",
      "dtypes: float64(1), int64(5), object(6)\n",
      "memory usage: 875.4+ KB\n",
      "<class 'pandas.core.frame.DataFrame'>\n",
      "RangeIndex: 3438 entries, 0 to 3437\n",
      "Data columns (total 9 columns):\n",
      " #   Column            Non-Null Count  Dtype \n",
      "---  ------            --------------  ----- \n",
      " 0   NA#               3438 non-null   object\n",
      " 1   Name              3435 non-null   object\n",
      " 2   PartyAcro         3438 non-null   object\n",
      " 3   Province          3438 non-null   object\n",
      " 4   Seat              3438 non-null   object\n",
      " 5   2013 Seat Number  3438 non-null   object\n",
      " 6   Distirct          3438 non-null   object\n",
      " 7   Party             1706 non-null   object\n",
      " 8   Symbol            1686 non-null   object\n",
      "dtypes: object(9)\n",
      "memory usage: 241.9+ KB\n"
     ]
    }
   ],
   "source": [
    "print(df.columns, cnd.columns)\n",
    "df.info()\n",
    "cnd.info()"
   ]
  },
  {
   "cell_type": "code",
   "execution_count": 66,
   "metadata": {
    "_uuid": "c36d02132a91a0c1fb8b74374bd71ffe4186eac1"
   },
   "outputs": [],
   "source": [
    "cnd.rename(columns={'NA#':'ConstituencyTitle'}, inplace=True)\n",
    "cnd.rename(columns={'Name of Political Party':'Party'}, inplace=True)\n",
    "cnd.rename(columns={'Name':'CandidateName'}, inplace=True)"
   ]
  },
  {
   "cell_type": "code",
   "execution_count": 67,
   "metadata": {
    "_uuid": "901804d91350723531234b9e915891eb41203861"
   },
   "outputs": [],
   "source": [
    "cnd.to_csv('Canditates2018.csv', index=None) \n",
    "pp.to_csv('Parties_cleand.csv', index=None)"
   ]
  },
  {
   "cell_type": "markdown",
   "metadata": {
    "_uuid": "6ce295be10792bb460a2183067157215d1eea33c"
   },
   "source": [
    "<h3><u>Note: Both files can not is mergered easily as NA mapping is changed for current year.  </u></h3>\n",
    "I will use both files in EDA and Feature Engineering."
   ]
  },
  {
   "cell_type": "markdown",
   "metadata": {
    "_uuid": "ab9cd3068a97a8e9768c6656d5418bccd3807965",
    "collapsed": true
   },
   "source": [
    "That's all from me. I tried to clean maximum of the data inconsistency issues. So, I am saving this file for the audience for the seek a reusability. You can fork kernel and continue from here.\n",
    "\n",
    "We are all set to move towards <b>Exploratory Data Analysis </b>. \n",
    "\n",
    "Do share your comments and if you find it helpful, <b>please upvote! </b>\n",
    "<h2> Happy Exploratory Analsysis :-) </h2>"
   ]
  },
  {
   "cell_type": "markdown",
   "metadata": {
    "_uuid": "6f51256f580890b9ed0b49ecf39062c9b1b101b5"
   },
   "source": [
    "<h2> Data Cleaning of NA 2018 Election Results <h2>"
   ]
  },
  {
   "cell_type": "code",
   "execution_count": 68,
   "metadata": {
    "_uuid": "8efad6f264f12071815e3ebaac1bb08e91c51f4c"
   },
   "outputs": [
    {
     "name": "stdout",
     "output_type": "stream",
     "text": [
      "Data Dimensions of NA18 are:  (3428, 12)\n",
      "\n",
      "NA 2018.csv\n",
      "<class 'pandas.core.frame.DataFrame'>\n",
      "RangeIndex: 3428 entries, 0 to 3427\n",
      "Data columns (total 12 columns):\n",
      " #   Column                   Non-Null Count  Dtype \n",
      "---  ------                   --------------  ----- \n",
      " 0   Unnamed: 0               3428 non-null   int64 \n",
      " 1   district                 3428 non-null   object\n",
      " 2   Seat                     3428 non-null   object\n",
      " 3   Constituency_Title       3428 non-null   object\n",
      " 4   Candidate_Name           3428 non-null   object\n",
      " 5   Part                     3428 non-null   object\n",
      " 6   Votes                    3428 non-null   int64 \n",
      " 7   Total_Valid_Votes        3428 non-null   int64 \n",
      " 8   Total_Rejected_Votes     3428 non-null   int64 \n",
      " 9   Total_Votes              3428 non-null   int64 \n",
      " 10  Total_Registered_Voters  3428 non-null   int64 \n",
      " 11  Turnout                  3428 non-null   object\n",
      "dtypes: int64(6), object(6)\n",
      "memory usage: 321.5+ KB\n"
     ]
    },
    {
     "name": "stderr",
     "output_type": "stream",
     "text": [
      "C:\\Users\\HP\\AppData\\Local\\Temp\\ipykernel_8976\\515740270.py:12: FutureWarning: The default value of regex will change from True to False in a future version. In addition, single character regular expressions will *not* be treated as literal strings when regex=True.\n",
      "  NA18['District'] = NA18['District'].str.replace(\".\",\" \") # to deal with D.I. Khan\n",
      "C:\\Users\\HP\\AppData\\Local\\Temp\\ipykernel_8976\\515740270.py:13: FutureWarning: The default value of regex will change from True to False in a future version.\n",
      "  NA18['District'] = NA18['District'].str.replace(r\"\\(.*\\)\",\"\")\n",
      "C:\\Users\\HP\\AppData\\Local\\Temp\\ipykernel_8976\\515740270.py:14: FutureWarning: The default value of regex will change from True to False in a future version.\n",
      "  NA18['District']  = NA18['District'] .str.replace('[^a-zA-Z -]', '')\n",
      "C:\\Users\\HP\\AppData\\Local\\Temp\\ipykernel_8976\\515740270.py:15: FutureWarning: The default value of regex will change from True to False in a future version.\n",
      "  NA18['District'] = NA18['District'].str.replace(r\"-.*\",\"\")\n",
      "C:\\Users\\HP\\AppData\\Local\\Temp\\ipykernel_8976\\515740270.py:16: FutureWarning: The default value of regex will change from True to False in a future version.\n",
      "  NA18['District']  = NA18['District'] .str.replace(r\" (XX|IX|X?I{0,3})(IX|IV|V?I{0,3})$\", '')\n",
      "C:\\Users\\HP\\AppData\\Local\\Temp\\ipykernel_8976\\515740270.py:17: FutureWarning: The default value of regex will change from True to False in a future version.\n",
      "  NA18['District']  = NA18['District'] .str.replace(r\" (XX|IX|X?I{0,3})(IX|IV|V?I{0,3})$\", '')\n"
     ]
    },
    {
     "data": {
      "text/plain": [
       "Index(['District', 'Seat', 'ConstituencyTitle', 'CandidateName', 'Party',\n",
       "       'Votes', 'TotalValidVotes', 'TotalRejectedVotes', 'TotalVotes',\n",
       "       'TotalRegisteredVoters', 'Turnout'],\n",
       "      dtype='object')"
      ]
     },
     "execution_count": 68,
     "metadata": {},
     "output_type": "execute_result"
    }
   ],
   "source": [
    "\n",
    "# Reading 2018 Results Data\n",
    "NA18 = pd.read_csv(\"data/NA-Results2018 Ver 2.csv\", encoding = \"ISO-8859-1\")\n",
    "print(\"Data Dimensions of NA18 are: \", NA18.shape)\n",
    "\n",
    "print(\"\\nNA 2018.csv\")\n",
    "NA18.info()\n",
    "\n",
    "NA18 = NA18.drop('Unnamed: 0', axis=1)\n",
    "NA18.rename(columns={'district':'District'}, inplace=True)\n",
    "\n",
    "NA18.District = NA18.Seat\n",
    "NA18['District'] = NA18['District'].str.replace(\".\",\" \") # to deal with D.I. Khan\n",
    "NA18['District'] = NA18['District'].str.replace(r\"\\(.*\\)\",\"\")\n",
    "NA18['District']  = NA18['District'] .str.replace('[^a-zA-Z -]', '')\n",
    "NA18['District'] = NA18['District'].str.replace(r\"-.*\",\"\")\n",
    "NA18['District']  = NA18['District'] .str.replace(r\" (XX|IX|X?I{0,3})(IX|IV|V?I{0,3})$\", '')\n",
    "NA18['District']  = NA18['District'] .str.replace(r\" (XX|IX|X?I{0,3})(IX|IV|V?I{0,3})$\", '')\n",
    "NA18['District'].unique()\n",
    "\n",
    "NA18['Turnout'] = NA18['Turnout'].str.rstrip('%').str.rstrip(' ')\n",
    "NA18['Turnout'] = pd.to_numeric(NA18['Turnout'], errors='coerce')\n",
    "NA18.rename(columns={'Constituency_Title':'ConstituencyTitle', 'Candidate_Name':'CandidateName', 'Total_Valid_Votes':'TotalValidVotes', 'Total_Rejected_Votes':'TotalRejectedVotes', 'Total_Votes':'TotalVotes', 'Total_Registered_Voters':'TotalRegisteredVoters', 'Part':'Party' }, inplace=True)\n",
    "NA18.columns"
   ]
  },
  {
   "cell_type": "code",
   "execution_count": 69,
   "metadata": {
    "_uuid": "db989e24539d99823de182a6454f80a98386b3de"
   },
   "outputs": [],
   "source": [
    "# convert to lower case\n",
    "NA18['District'] = NA18['District'].str.lower()\n",
    "# remove trailing white spaces\n",
    "NA18['District'] = NA18['District'].str.strip()\n",
    "\n",
    "# convert to lower case\n",
    "NA18['CandidateName'] = NA18['CandidateName'].str.lower()\n",
    "# remove trailing white spaces\n",
    "NA18['CandidateName'] = NA18['CandidateName'].str.strip()\n",
    "\n",
    "# convert to lower case\n",
    "NA18['Party'] = NA18['Party'].str.lower()\n",
    "# remove trailing white spaces\n",
    "NA18['Party'] = NA18['Party'].str.strip()"
   ]
  },
  {
   "cell_type": "code",
   "execution_count": 70,
   "metadata": {
    "_uuid": "3eaa2045fd05aeadbf858568c0cc68a63741eef6"
   },
   "outputs": [
    {
     "data": {
      "text/html": [
       "<div>\n",
       "<style scoped>\n",
       "    .dataframe tbody tr th:only-of-type {\n",
       "        vertical-align: middle;\n",
       "    }\n",
       "\n",
       "    .dataframe tbody tr th {\n",
       "        vertical-align: top;\n",
       "    }\n",
       "\n",
       "    .dataframe thead th {\n",
       "        text-align: right;\n",
       "    }\n",
       "</style>\n",
       "<table border=\"1\" class=\"dataframe\">\n",
       "  <thead>\n",
       "    <tr style=\"text-align: right;\">\n",
       "      <th></th>\n",
       "      <th>District</th>\n",
       "      <th>Seat</th>\n",
       "      <th>ConstituencyTitle</th>\n",
       "      <th>CandidateName</th>\n",
       "      <th>Party</th>\n",
       "      <th>Votes</th>\n",
       "      <th>TotalValidVotes</th>\n",
       "      <th>TotalRejectedVotes</th>\n",
       "      <th>TotalVotes</th>\n",
       "      <th>TotalRegisteredVoters</th>\n",
       "      <th>Turnout</th>\n",
       "    </tr>\n",
       "  </thead>\n",
       "  <tbody>\n",
       "    <tr>\n",
       "      <th>0</th>\n",
       "      <td>chitral</td>\n",
       "      <td>Chitral</td>\n",
       "      <td>NA-1</td>\n",
       "      <td>moulana abdul akbar chitrali</td>\n",
       "      <td>muttahida majlis-e-amal pakistan</td>\n",
       "      <td>48616</td>\n",
       "      <td>158925</td>\n",
       "      <td>5430</td>\n",
       "      <td>164355</td>\n",
       "      <td>269579</td>\n",
       "      <td>60.97</td>\n",
       "    </tr>\n",
       "    <tr>\n",
       "      <th>1</th>\n",
       "      <td>chitral</td>\n",
       "      <td>Chitral</td>\n",
       "      <td>NA-1</td>\n",
       "      <td>saeed ur rehman</td>\n",
       "      <td>pakistan rah-e-haq party</td>\n",
       "      <td>3223</td>\n",
       "      <td>0</td>\n",
       "      <td>0</td>\n",
       "      <td>0</td>\n",
       "      <td>0</td>\n",
       "      <td>60.97</td>\n",
       "    </tr>\n",
       "    <tr>\n",
       "      <th>2</th>\n",
       "      <td>chitral</td>\n",
       "      <td>Chitral</td>\n",
       "      <td>NA-1</td>\n",
       "      <td>muhammad yahya</td>\n",
       "      <td>independent</td>\n",
       "      <td>698</td>\n",
       "      <td>0</td>\n",
       "      <td>0</td>\n",
       "      <td>0</td>\n",
       "      <td>0</td>\n",
       "      <td>60.97</td>\n",
       "    </tr>\n",
       "    <tr>\n",
       "      <th>3</th>\n",
       "      <td>chitral</td>\n",
       "      <td>Chitral</td>\n",
       "      <td>NA-1</td>\n",
       "      <td>shahzada muhammad taimur khisrao</td>\n",
       "      <td>independent</td>\n",
       "      <td>2414</td>\n",
       "      <td>0</td>\n",
       "      <td>0</td>\n",
       "      <td>0</td>\n",
       "      <td>0</td>\n",
       "      <td>60.97</td>\n",
       "    </tr>\n",
       "    <tr>\n",
       "      <th>4</th>\n",
       "      <td>chitral</td>\n",
       "      <td>Chitral</td>\n",
       "      <td>NA-1</td>\n",
       "      <td>eid ul hussain</td>\n",
       "      <td>awami national party</td>\n",
       "      <td>3613</td>\n",
       "      <td>0</td>\n",
       "      <td>0</td>\n",
       "      <td>0</td>\n",
       "      <td>0</td>\n",
       "      <td>60.97</td>\n",
       "    </tr>\n",
       "  </tbody>\n",
       "</table>\n",
       "</div>"
      ],
      "text/plain": [
       "  District     Seat ConstituencyTitle                     CandidateName  \\\n",
       "0  chitral  Chitral              NA-1      moulana abdul akbar chitrali   \n",
       "1  chitral  Chitral              NA-1                   saeed ur rehman   \n",
       "2  chitral  Chitral              NA-1                    muhammad yahya   \n",
       "3  chitral  Chitral              NA-1  shahzada muhammad taimur khisrao   \n",
       "4  chitral  Chitral              NA-1                    eid ul hussain   \n",
       "\n",
       "                              Party  Votes  TotalValidVotes  \\\n",
       "0  muttahida majlis-e-amal pakistan  48616           158925   \n",
       "1          pakistan rah-e-haq party   3223                0   \n",
       "2                       independent    698                0   \n",
       "3                       independent   2414                0   \n",
       "4              awami national party   3613                0   \n",
       "\n",
       "   TotalRejectedVotes  TotalVotes  TotalRegisteredVoters  Turnout  \n",
       "0                5430      164355                 269579    60.97  \n",
       "1                   0           0                      0    60.97  \n",
       "2                   0           0                      0    60.97  \n",
       "3                   0           0                      0    60.97  \n",
       "4                   0           0                      0    60.97  "
      ]
     },
     "execution_count": 70,
     "metadata": {},
     "output_type": "execute_result"
    }
   ],
   "source": [
    "NA18.head()"
   ]
  },
  {
   "cell_type": "code",
   "execution_count": 71,
   "metadata": {
    "_uuid": "4a6d294118f68d2f446bddd2d84f0e6855b41260"
   },
   "outputs": [],
   "source": [
    "NA18.to_csv('NA2018_Clean.csv', index=None)"
   ]
  }
 ],
 "metadata": {
  "kernelspec": {
   "display_name": "Python 3 (ipykernel)",
   "language": "python",
   "name": "python3"
  },
  "language_info": {
   "codemirror_mode": {
    "name": "ipython",
    "version": 3
   },
   "file_extension": ".py",
   "mimetype": "text/x-python",
   "name": "python",
   "nbconvert_exporter": "python",
   "pygments_lexer": "ipython3",
   "version": "3.9.12"
  },
  "latex_envs": {
   "LaTeX_envs_menu_present": true,
   "autoclose": false,
   "autocomplete": true,
   "bibliofile": "biblio.bib",
   "cite_by": "apalike",
   "current_citInitial": 1,
   "eqLabelWithNumbers": true,
   "eqNumInitial": 1,
   "hotkeys": {
    "equation": "Ctrl-E",
    "itemize": "Ctrl-I"
   },
   "labels_anchors": false,
   "latex_user_defs": false,
   "report_style_numbering": false,
   "user_envs_cfg": false
  },
  "toc": {
   "base_numbering": 1,
   "nav_menu": {},
   "number_sections": true,
   "sideBar": true,
   "skip_h1_title": false,
   "title_cell": "Table of Contents",
   "title_sidebar": "Contents",
   "toc_cell": false,
   "toc_position": {},
   "toc_section_display": true,
   "toc_window_display": false
  }
 },
 "nbformat": 4,
 "nbformat_minor": 1
}
