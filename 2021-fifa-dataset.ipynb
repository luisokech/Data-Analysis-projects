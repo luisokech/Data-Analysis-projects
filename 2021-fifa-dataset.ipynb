{
 "cells": [
  {
   "cell_type": "code",
   "execution_count": 1,
   "id": "dfd18e49",
   "metadata": {
    "execution": {
     "iopub.execute_input": "2023-06-11T13:50:57.149617Z",
     "iopub.status.busy": "2023-06-11T13:50:57.149123Z",
     "iopub.status.idle": "2023-06-11T13:50:57.163273Z",
     "shell.execute_reply": "2023-06-11T13:50:57.161753Z"
    },
    "papermill": {
     "duration": 0.034601,
     "end_time": "2023-06-11T13:50:57.166070",
     "exception": false,
     "start_time": "2023-06-11T13:50:57.131469",
     "status": "completed"
    },
    "tags": []
   },
   "outputs": [],
   "source": [
    "import pandas as pd\n",
    "import numpy as np"
   ]
  },
  {
   "cell_type": "markdown",
   "id": "e6d02f8c",
   "metadata": {
    "papermill": {
     "duration": 0.014077,
     "end_time": "2023-06-11T13:50:57.194832",
     "exception": false,
     "start_time": "2023-06-11T13:50:57.180755",
     "status": "completed"
    },
    "tags": []
   },
   "source": [
    "# Import and Clean Dataset"
   ]
  },
  {
   "cell_type": "code",
   "execution_count": 2,
   "id": "7384fb7c",
   "metadata": {
    "execution": {
     "iopub.execute_input": "2023-06-11T13:50:57.225372Z",
     "iopub.status.busy": "2023-06-11T13:50:57.224644Z",
     "iopub.status.idle": "2023-06-11T13:50:57.740388Z",
     "shell.execute_reply": "2023-06-11T13:50:57.739396Z"
    },
    "papermill": {
     "duration": 0.53412,
     "end_time": "2023-06-11T13:50:57.743237",
     "exception": false,
     "start_time": "2023-06-11T13:50:57.209117",
     "status": "completed"
    },
    "tags": []
   },
   "outputs": [],
   "source": [
    "data = pd.read_csv('../input/fifa-21-messy-raw-dataset-for-cleaning-exploring/fifa21_raw_data.csv',low_memory=False)\n",
    "df = data.copy()"
   ]
  },
  {
   "cell_type": "code",
   "execution_count": 3,
   "id": "07275303",
   "metadata": {
    "execution": {
     "iopub.execute_input": "2023-06-11T13:50:57.773823Z",
     "iopub.status.busy": "2023-06-11T13:50:57.773405Z",
     "iopub.status.idle": "2023-06-11T13:50:57.811348Z",
     "shell.execute_reply": "2023-06-11T13:50:57.810191Z"
    },
    "papermill": {
     "duration": 0.057029,
     "end_time": "2023-06-11T13:50:57.814653",
     "exception": false,
     "start_time": "2023-06-11T13:50:57.757624",
     "status": "completed"
    },
    "tags": []
   },
   "outputs": [
    {
     "data": {
      "text/html": [
       "<div>\n",
       "<style scoped>\n",
       "    .dataframe tbody tr th:only-of-type {\n",
       "        vertical-align: middle;\n",
       "    }\n",
       "\n",
       "    .dataframe tbody tr th {\n",
       "        vertical-align: top;\n",
       "    }\n",
       "\n",
       "    .dataframe thead th {\n",
       "        text-align: right;\n",
       "    }\n",
       "</style>\n",
       "<table border=\"1\" class=\"dataframe\">\n",
       "  <thead>\n",
       "    <tr style=\"text-align: right;\">\n",
       "      <th></th>\n",
       "      <th>photoUrl</th>\n",
       "      <th>LongName</th>\n",
       "      <th>playerUrl</th>\n",
       "      <th>Nationality</th>\n",
       "      <th>Positions</th>\n",
       "      <th>Name</th>\n",
       "      <th>Age</th>\n",
       "      <th>↓OVA</th>\n",
       "      <th>POT</th>\n",
       "      <th>Team &amp; Contract</th>\n",
       "      <th>...</th>\n",
       "      <th>A/W</th>\n",
       "      <th>D/W</th>\n",
       "      <th>IR</th>\n",
       "      <th>PAC</th>\n",
       "      <th>SHO</th>\n",
       "      <th>PAS</th>\n",
       "      <th>DRI</th>\n",
       "      <th>DEF</th>\n",
       "      <th>PHY</th>\n",
       "      <th>Hits</th>\n",
       "    </tr>\n",
       "  </thead>\n",
       "  <tbody>\n",
       "    <tr>\n",
       "      <th>0</th>\n",
       "      <td>https://cdn.sofifa.com/players/158/023/21_60.png</td>\n",
       "      <td>Lionel Messi</td>\n",
       "      <td>http://sofifa.com/player/158023/lionel-messi/2...</td>\n",
       "      <td>Argentina</td>\n",
       "      <td>RW ST CF</td>\n",
       "      <td>L. Messi</td>\n",
       "      <td>33</td>\n",
       "      <td>93</td>\n",
       "      <td>93</td>\n",
       "      <td>\\n\\n\\n\\nFC Barcelona\\n2004 ~ 2021\\n\\n</td>\n",
       "      <td>...</td>\n",
       "      <td>Medium</td>\n",
       "      <td>Low</td>\n",
       "      <td>5 ★</td>\n",
       "      <td>85</td>\n",
       "      <td>92</td>\n",
       "      <td>91</td>\n",
       "      <td>95</td>\n",
       "      <td>38</td>\n",
       "      <td>65</td>\n",
       "      <td>\\n372</td>\n",
       "    </tr>\n",
       "    <tr>\n",
       "      <th>1</th>\n",
       "      <td>https://cdn.sofifa.com/players/020/801/21_60.png</td>\n",
       "      <td>C. Ronaldo dos Santos Aveiro</td>\n",
       "      <td>http://sofifa.com/player/20801/c-ronaldo-dos-s...</td>\n",
       "      <td>Portugal</td>\n",
       "      <td>ST LW</td>\n",
       "      <td>Cristiano Ronaldo</td>\n",
       "      <td>35</td>\n",
       "      <td>92</td>\n",
       "      <td>92</td>\n",
       "      <td>\\n\\n\\n\\nJuventus\\n2018 ~ 2022\\n\\n</td>\n",
       "      <td>...</td>\n",
       "      <td>High</td>\n",
       "      <td>Low</td>\n",
       "      <td>5 ★</td>\n",
       "      <td>89</td>\n",
       "      <td>93</td>\n",
       "      <td>81</td>\n",
       "      <td>89</td>\n",
       "      <td>35</td>\n",
       "      <td>77</td>\n",
       "      <td>\\n344</td>\n",
       "    </tr>\n",
       "    <tr>\n",
       "      <th>2</th>\n",
       "      <td>https://cdn.sofifa.com/players/200/389/21_60.png</td>\n",
       "      <td>Jan Oblak</td>\n",
       "      <td>http://sofifa.com/player/200389/jan-oblak/210005/</td>\n",
       "      <td>Slovenia</td>\n",
       "      <td>GK</td>\n",
       "      <td>J. Oblak</td>\n",
       "      <td>27</td>\n",
       "      <td>91</td>\n",
       "      <td>93</td>\n",
       "      <td>\\n\\n\\n\\nAtlético Madrid\\n2014 ~ 2023\\n\\n</td>\n",
       "      <td>...</td>\n",
       "      <td>Medium</td>\n",
       "      <td>Medium</td>\n",
       "      <td>3 ★</td>\n",
       "      <td>87</td>\n",
       "      <td>92</td>\n",
       "      <td>78</td>\n",
       "      <td>90</td>\n",
       "      <td>52</td>\n",
       "      <td>90</td>\n",
       "      <td>\\n86</td>\n",
       "    </tr>\n",
       "    <tr>\n",
       "      <th>3</th>\n",
       "      <td>https://cdn.sofifa.com/players/192/985/21_60.png</td>\n",
       "      <td>Kevin De Bruyne</td>\n",
       "      <td>http://sofifa.com/player/192985/kevin-de-bruyn...</td>\n",
       "      <td>Belgium</td>\n",
       "      <td>CAM CM</td>\n",
       "      <td>K. De Bruyne</td>\n",
       "      <td>29</td>\n",
       "      <td>91</td>\n",
       "      <td>91</td>\n",
       "      <td>\\n\\n\\n\\nManchester City\\n2015 ~ 2023\\n\\n</td>\n",
       "      <td>...</td>\n",
       "      <td>High</td>\n",
       "      <td>High</td>\n",
       "      <td>4 ★</td>\n",
       "      <td>76</td>\n",
       "      <td>86</td>\n",
       "      <td>93</td>\n",
       "      <td>88</td>\n",
       "      <td>64</td>\n",
       "      <td>78</td>\n",
       "      <td>\\n163</td>\n",
       "    </tr>\n",
       "    <tr>\n",
       "      <th>4</th>\n",
       "      <td>https://cdn.sofifa.com/players/190/871/21_60.png</td>\n",
       "      <td>Neymar da Silva Santos Jr.</td>\n",
       "      <td>http://sofifa.com/player/190871/neymar-da-silv...</td>\n",
       "      <td>Brazil</td>\n",
       "      <td>LW CAM</td>\n",
       "      <td>Neymar Jr</td>\n",
       "      <td>28</td>\n",
       "      <td>91</td>\n",
       "      <td>91</td>\n",
       "      <td>\\n\\n\\n\\nParis Saint-Germain\\n2017 ~ 2022\\n\\n</td>\n",
       "      <td>...</td>\n",
       "      <td>High</td>\n",
       "      <td>Medium</td>\n",
       "      <td>5 ★</td>\n",
       "      <td>91</td>\n",
       "      <td>85</td>\n",
       "      <td>86</td>\n",
       "      <td>94</td>\n",
       "      <td>36</td>\n",
       "      <td>59</td>\n",
       "      <td>\\n273</td>\n",
       "    </tr>\n",
       "  </tbody>\n",
       "</table>\n",
       "<p>5 rows × 77 columns</p>\n",
       "</div>"
      ],
      "text/plain": [
       "                                           photoUrl  \\\n",
       "0  https://cdn.sofifa.com/players/158/023/21_60.png   \n",
       "1  https://cdn.sofifa.com/players/020/801/21_60.png   \n",
       "2  https://cdn.sofifa.com/players/200/389/21_60.png   \n",
       "3  https://cdn.sofifa.com/players/192/985/21_60.png   \n",
       "4  https://cdn.sofifa.com/players/190/871/21_60.png   \n",
       "\n",
       "                       LongName  \\\n",
       "0                  Lionel Messi   \n",
       "1  C. Ronaldo dos Santos Aveiro   \n",
       "2                     Jan Oblak   \n",
       "3               Kevin De Bruyne   \n",
       "4    Neymar da Silva Santos Jr.   \n",
       "\n",
       "                                           playerUrl Nationality Positions  \\\n",
       "0  http://sofifa.com/player/158023/lionel-messi/2...   Argentina  RW ST CF   \n",
       "1  http://sofifa.com/player/20801/c-ronaldo-dos-s...    Portugal     ST LW   \n",
       "2  http://sofifa.com/player/200389/jan-oblak/210005/    Slovenia        GK   \n",
       "3  http://sofifa.com/player/192985/kevin-de-bruyn...     Belgium    CAM CM   \n",
       "4  http://sofifa.com/player/190871/neymar-da-silv...      Brazil    LW CAM   \n",
       "\n",
       "                Name  Age  ↓OVA  POT  \\\n",
       "0           L. Messi   33    93   93   \n",
       "1  Cristiano Ronaldo   35    92   92   \n",
       "2           J. Oblak   27    91   93   \n",
       "3       K. De Bruyne   29    91   91   \n",
       "4          Neymar Jr   28    91   91   \n",
       "\n",
       "                                Team & Contract  ...     A/W     D/W   IR PAC  \\\n",
       "0         \\n\\n\\n\\nFC Barcelona\\n2004 ~ 2021\\n\\n  ...  Medium     Low  5 ★  85   \n",
       "1             \\n\\n\\n\\nJuventus\\n2018 ~ 2022\\n\\n  ...    High     Low  5 ★  89   \n",
       "2      \\n\\n\\n\\nAtlético Madrid\\n2014 ~ 2023\\n\\n  ...  Medium  Medium  3 ★  87   \n",
       "3      \\n\\n\\n\\nManchester City\\n2015 ~ 2023\\n\\n  ...    High    High  4 ★  76   \n",
       "4  \\n\\n\\n\\nParis Saint-Germain\\n2017 ~ 2022\\n\\n  ...    High  Medium  5 ★  91   \n",
       "\n",
       "   SHO PAS  DRI DEF PHY   Hits  \n",
       "0   92  91   95  38  65  \\n372  \n",
       "1   93  81   89  35  77  \\n344  \n",
       "2   92  78   90  52  90   \\n86  \n",
       "3   86  93   88  64  78  \\n163  \n",
       "4   85  86   94  36  59  \\n273  \n",
       "\n",
       "[5 rows x 77 columns]"
      ]
     },
     "execution_count": 3,
     "metadata": {},
     "output_type": "execute_result"
    }
   ],
   "source": [
    "df.head()"
   ]
  },
  {
   "cell_type": "code",
   "execution_count": 4,
   "id": "94657bbe",
   "metadata": {
    "execution": {
     "iopub.execute_input": "2023-06-11T13:50:57.847462Z",
     "iopub.status.busy": "2023-06-11T13:50:57.847059Z",
     "iopub.status.idle": "2023-06-11T13:50:57.883246Z",
     "shell.execute_reply": "2023-06-11T13:50:57.882014Z"
    },
    "papermill": {
     "duration": 0.054937,
     "end_time": "2023-06-11T13:50:57.885637",
     "exception": false,
     "start_time": "2023-06-11T13:50:57.830700",
     "status": "completed"
    },
    "tags": []
   },
   "outputs": [
    {
     "data": {
      "text/html": [
       "<div>\n",
       "<style scoped>\n",
       "    .dataframe tbody tr th:only-of-type {\n",
       "        vertical-align: middle;\n",
       "    }\n",
       "\n",
       "    .dataframe tbody tr th {\n",
       "        vertical-align: top;\n",
       "    }\n",
       "\n",
       "    .dataframe thead th {\n",
       "        text-align: right;\n",
       "    }\n",
       "</style>\n",
       "<table border=\"1\" class=\"dataframe\">\n",
       "  <thead>\n",
       "    <tr style=\"text-align: right;\">\n",
       "      <th></th>\n",
       "      <th>photoUrl</th>\n",
       "      <th>LongName</th>\n",
       "      <th>playerUrl</th>\n",
       "      <th>Nationality</th>\n",
       "      <th>Positions</th>\n",
       "      <th>Name</th>\n",
       "      <th>Age</th>\n",
       "      <th>↓OVA</th>\n",
       "      <th>POT</th>\n",
       "      <th>Team &amp; Contract</th>\n",
       "      <th>...</th>\n",
       "      <th>A/W</th>\n",
       "      <th>D/W</th>\n",
       "      <th>IR</th>\n",
       "      <th>PAC</th>\n",
       "      <th>SHO</th>\n",
       "      <th>PAS</th>\n",
       "      <th>DRI</th>\n",
       "      <th>DEF</th>\n",
       "      <th>PHY</th>\n",
       "      <th>Hits</th>\n",
       "    </tr>\n",
       "  </thead>\n",
       "  <tbody>\n",
       "    <tr>\n",
       "      <th>0</th>\n",
       "      <td>https://cdn.sofifa.com/players/158/023/21_60.png</td>\n",
       "      <td>Lionel Messi</td>\n",
       "      <td>http://sofifa.com/player/158023/lionel-messi/2...</td>\n",
       "      <td>Argentina</td>\n",
       "      <td>RW ST CF</td>\n",
       "      <td>L. Messi</td>\n",
       "      <td>33</td>\n",
       "      <td>93</td>\n",
       "      <td>93</td>\n",
       "      <td>\\n\\n\\n\\nFC Barcelona\\n2004 ~ 2021\\n\\n</td>\n",
       "      <td>...</td>\n",
       "      <td>Medium</td>\n",
       "      <td>Low</td>\n",
       "      <td>5 ★</td>\n",
       "      <td>85</td>\n",
       "      <td>92</td>\n",
       "      <td>91</td>\n",
       "      <td>95</td>\n",
       "      <td>38</td>\n",
       "      <td>65</td>\n",
       "      <td>\\n372</td>\n",
       "    </tr>\n",
       "    <tr>\n",
       "      <th>1</th>\n",
       "      <td>https://cdn.sofifa.com/players/020/801/21_60.png</td>\n",
       "      <td>C. Ronaldo dos Santos Aveiro</td>\n",
       "      <td>http://sofifa.com/player/20801/c-ronaldo-dos-s...</td>\n",
       "      <td>Portugal</td>\n",
       "      <td>ST LW</td>\n",
       "      <td>Cristiano Ronaldo</td>\n",
       "      <td>35</td>\n",
       "      <td>92</td>\n",
       "      <td>92</td>\n",
       "      <td>\\n\\n\\n\\nJuventus\\n2018 ~ 2022\\n\\n</td>\n",
       "      <td>...</td>\n",
       "      <td>High</td>\n",
       "      <td>Low</td>\n",
       "      <td>5 ★</td>\n",
       "      <td>89</td>\n",
       "      <td>93</td>\n",
       "      <td>81</td>\n",
       "      <td>89</td>\n",
       "      <td>35</td>\n",
       "      <td>77</td>\n",
       "      <td>\\n344</td>\n",
       "    </tr>\n",
       "    <tr>\n",
       "      <th>2</th>\n",
       "      <td>https://cdn.sofifa.com/players/200/389/21_60.png</td>\n",
       "      <td>Jan Oblak</td>\n",
       "      <td>http://sofifa.com/player/200389/jan-oblak/210005/</td>\n",
       "      <td>Slovenia</td>\n",
       "      <td>GK</td>\n",
       "      <td>J. Oblak</td>\n",
       "      <td>27</td>\n",
       "      <td>91</td>\n",
       "      <td>93</td>\n",
       "      <td>\\n\\n\\n\\nAtlético Madrid\\n2014 ~ 2023\\n\\n</td>\n",
       "      <td>...</td>\n",
       "      <td>Medium</td>\n",
       "      <td>Medium</td>\n",
       "      <td>3 ★</td>\n",
       "      <td>87</td>\n",
       "      <td>92</td>\n",
       "      <td>78</td>\n",
       "      <td>90</td>\n",
       "      <td>52</td>\n",
       "      <td>90</td>\n",
       "      <td>\\n86</td>\n",
       "    </tr>\n",
       "    <tr>\n",
       "      <th>3</th>\n",
       "      <td>https://cdn.sofifa.com/players/192/985/21_60.png</td>\n",
       "      <td>Kevin De Bruyne</td>\n",
       "      <td>http://sofifa.com/player/192985/kevin-de-bruyn...</td>\n",
       "      <td>Belgium</td>\n",
       "      <td>CAM CM</td>\n",
       "      <td>K. De Bruyne</td>\n",
       "      <td>29</td>\n",
       "      <td>91</td>\n",
       "      <td>91</td>\n",
       "      <td>\\n\\n\\n\\nManchester City\\n2015 ~ 2023\\n\\n</td>\n",
       "      <td>...</td>\n",
       "      <td>High</td>\n",
       "      <td>High</td>\n",
       "      <td>4 ★</td>\n",
       "      <td>76</td>\n",
       "      <td>86</td>\n",
       "      <td>93</td>\n",
       "      <td>88</td>\n",
       "      <td>64</td>\n",
       "      <td>78</td>\n",
       "      <td>\\n163</td>\n",
       "    </tr>\n",
       "    <tr>\n",
       "      <th>4</th>\n",
       "      <td>https://cdn.sofifa.com/players/190/871/21_60.png</td>\n",
       "      <td>Neymar da Silva Santos Jr.</td>\n",
       "      <td>http://sofifa.com/player/190871/neymar-da-silv...</td>\n",
       "      <td>Brazil</td>\n",
       "      <td>LW CAM</td>\n",
       "      <td>Neymar Jr</td>\n",
       "      <td>28</td>\n",
       "      <td>91</td>\n",
       "      <td>91</td>\n",
       "      <td>\\n\\n\\n\\nParis Saint-Germain\\n2017 ~ 2022\\n\\n</td>\n",
       "      <td>...</td>\n",
       "      <td>High</td>\n",
       "      <td>Medium</td>\n",
       "      <td>5 ★</td>\n",
       "      <td>91</td>\n",
       "      <td>85</td>\n",
       "      <td>86</td>\n",
       "      <td>94</td>\n",
       "      <td>36</td>\n",
       "      <td>59</td>\n",
       "      <td>\\n273</td>\n",
       "    </tr>\n",
       "  </tbody>\n",
       "</table>\n",
       "<p>5 rows × 77 columns</p>\n",
       "</div>"
      ],
      "text/plain": [
       "                                           photoUrl  \\\n",
       "0  https://cdn.sofifa.com/players/158/023/21_60.png   \n",
       "1  https://cdn.sofifa.com/players/020/801/21_60.png   \n",
       "2  https://cdn.sofifa.com/players/200/389/21_60.png   \n",
       "3  https://cdn.sofifa.com/players/192/985/21_60.png   \n",
       "4  https://cdn.sofifa.com/players/190/871/21_60.png   \n",
       "\n",
       "                       LongName  \\\n",
       "0                  Lionel Messi   \n",
       "1  C. Ronaldo dos Santos Aveiro   \n",
       "2                     Jan Oblak   \n",
       "3               Kevin De Bruyne   \n",
       "4    Neymar da Silva Santos Jr.   \n",
       "\n",
       "                                           playerUrl Nationality Positions  \\\n",
       "0  http://sofifa.com/player/158023/lionel-messi/2...   Argentina  RW ST CF   \n",
       "1  http://sofifa.com/player/20801/c-ronaldo-dos-s...    Portugal     ST LW   \n",
       "2  http://sofifa.com/player/200389/jan-oblak/210005/    Slovenia        GK   \n",
       "3  http://sofifa.com/player/192985/kevin-de-bruyn...     Belgium    CAM CM   \n",
       "4  http://sofifa.com/player/190871/neymar-da-silv...      Brazil    LW CAM   \n",
       "\n",
       "                Name  Age  ↓OVA  POT  \\\n",
       "0           L. Messi   33    93   93   \n",
       "1  Cristiano Ronaldo   35    92   92   \n",
       "2           J. Oblak   27    91   93   \n",
       "3       K. De Bruyne   29    91   91   \n",
       "4          Neymar Jr   28    91   91   \n",
       "\n",
       "                                Team & Contract  ...     A/W     D/W   IR PAC  \\\n",
       "0         \\n\\n\\n\\nFC Barcelona\\n2004 ~ 2021\\n\\n  ...  Medium     Low  5 ★  85   \n",
       "1             \\n\\n\\n\\nJuventus\\n2018 ~ 2022\\n\\n  ...    High     Low  5 ★  89   \n",
       "2      \\n\\n\\n\\nAtlético Madrid\\n2014 ~ 2023\\n\\n  ...  Medium  Medium  3 ★  87   \n",
       "3      \\n\\n\\n\\nManchester City\\n2015 ~ 2023\\n\\n  ...    High    High  4 ★  76   \n",
       "4  \\n\\n\\n\\nParis Saint-Germain\\n2017 ~ 2022\\n\\n  ...    High  Medium  5 ★  91   \n",
       "\n",
       "   SHO PAS  DRI DEF PHY   Hits  \n",
       "0   92  91   95  38  65  \\n372  \n",
       "1   93  81   89  35  77  \\n344  \n",
       "2   92  78   90  52  90   \\n86  \n",
       "3   86  93   88  64  78  \\n163  \n",
       "4   85  86   94  36  59  \\n273  \n",
       "\n",
       "[5 rows x 77 columns]"
      ]
     },
     "execution_count": 4,
     "metadata": {},
     "output_type": "execute_result"
    }
   ],
   "source": [
    "df1 = df.copy()\n",
    "df1.head()"
   ]
  },
  {
   "cell_type": "code",
   "execution_count": 5,
   "id": "bdf33848",
   "metadata": {
    "execution": {
     "iopub.execute_input": "2023-06-11T13:50:57.918569Z",
     "iopub.status.busy": "2023-06-11T13:50:57.918165Z",
     "iopub.status.idle": "2023-06-11T13:50:57.959655Z",
     "shell.execute_reply": "2023-06-11T13:50:57.958386Z"
    },
    "papermill": {
     "duration": 0.060913,
     "end_time": "2023-06-11T13:50:57.962186",
     "exception": false,
     "start_time": "2023-06-11T13:50:57.901273",
     "status": "completed"
    },
    "tags": []
   },
   "outputs": [
    {
     "data": {
      "text/html": [
       "<div>\n",
       "<style scoped>\n",
       "    .dataframe tbody tr th:only-of-type {\n",
       "        vertical-align: middle;\n",
       "    }\n",
       "\n",
       "    .dataframe tbody tr th {\n",
       "        vertical-align: top;\n",
       "    }\n",
       "\n",
       "    .dataframe thead th {\n",
       "        text-align: right;\n",
       "    }\n",
       "</style>\n",
       "<table border=\"1\" class=\"dataframe\">\n",
       "  <thead>\n",
       "    <tr style=\"text-align: right;\">\n",
       "      <th></th>\n",
       "      <th>LongName</th>\n",
       "      <th>Nationality</th>\n",
       "      <th>Positions</th>\n",
       "      <th>Name</th>\n",
       "      <th>Age</th>\n",
       "      <th>↓OVA</th>\n",
       "      <th>POT</th>\n",
       "      <th>Team &amp; Contract</th>\n",
       "      <th>ID</th>\n",
       "      <th>Height</th>\n",
       "      <th>...</th>\n",
       "      <th>A/W</th>\n",
       "      <th>D/W</th>\n",
       "      <th>IR</th>\n",
       "      <th>PAC</th>\n",
       "      <th>SHO</th>\n",
       "      <th>PAS</th>\n",
       "      <th>DRI</th>\n",
       "      <th>DEF</th>\n",
       "      <th>PHY</th>\n",
       "      <th>Hits</th>\n",
       "    </tr>\n",
       "  </thead>\n",
       "  <tbody>\n",
       "    <tr>\n",
       "      <th>0</th>\n",
       "      <td>Lionel Messi</td>\n",
       "      <td>Argentina</td>\n",
       "      <td>RW ST CF</td>\n",
       "      <td>L. Messi</td>\n",
       "      <td>33</td>\n",
       "      <td>93</td>\n",
       "      <td>93</td>\n",
       "      <td>\\n\\n\\n\\nFC Barcelona\\n2004 ~ 2021\\n\\n</td>\n",
       "      <td>158023</td>\n",
       "      <td>5'7\"</td>\n",
       "      <td>...</td>\n",
       "      <td>Medium</td>\n",
       "      <td>Low</td>\n",
       "      <td>5 ★</td>\n",
       "      <td>85</td>\n",
       "      <td>92</td>\n",
       "      <td>91</td>\n",
       "      <td>95</td>\n",
       "      <td>38</td>\n",
       "      <td>65</td>\n",
       "      <td>\\n372</td>\n",
       "    </tr>\n",
       "    <tr>\n",
       "      <th>1</th>\n",
       "      <td>C. Ronaldo dos Santos Aveiro</td>\n",
       "      <td>Portugal</td>\n",
       "      <td>ST LW</td>\n",
       "      <td>Cristiano Ronaldo</td>\n",
       "      <td>35</td>\n",
       "      <td>92</td>\n",
       "      <td>92</td>\n",
       "      <td>\\n\\n\\n\\nJuventus\\n2018 ~ 2022\\n\\n</td>\n",
       "      <td>20801</td>\n",
       "      <td>6'2\"</td>\n",
       "      <td>...</td>\n",
       "      <td>High</td>\n",
       "      <td>Low</td>\n",
       "      <td>5 ★</td>\n",
       "      <td>89</td>\n",
       "      <td>93</td>\n",
       "      <td>81</td>\n",
       "      <td>89</td>\n",
       "      <td>35</td>\n",
       "      <td>77</td>\n",
       "      <td>\\n344</td>\n",
       "    </tr>\n",
       "    <tr>\n",
       "      <th>2</th>\n",
       "      <td>Jan Oblak</td>\n",
       "      <td>Slovenia</td>\n",
       "      <td>GK</td>\n",
       "      <td>J. Oblak</td>\n",
       "      <td>27</td>\n",
       "      <td>91</td>\n",
       "      <td>93</td>\n",
       "      <td>\\n\\n\\n\\nAtlético Madrid\\n2014 ~ 2023\\n\\n</td>\n",
       "      <td>200389</td>\n",
       "      <td>6'2\"</td>\n",
       "      <td>...</td>\n",
       "      <td>Medium</td>\n",
       "      <td>Medium</td>\n",
       "      <td>3 ★</td>\n",
       "      <td>87</td>\n",
       "      <td>92</td>\n",
       "      <td>78</td>\n",
       "      <td>90</td>\n",
       "      <td>52</td>\n",
       "      <td>90</td>\n",
       "      <td>\\n86</td>\n",
       "    </tr>\n",
       "    <tr>\n",
       "      <th>3</th>\n",
       "      <td>Kevin De Bruyne</td>\n",
       "      <td>Belgium</td>\n",
       "      <td>CAM CM</td>\n",
       "      <td>K. De Bruyne</td>\n",
       "      <td>29</td>\n",
       "      <td>91</td>\n",
       "      <td>91</td>\n",
       "      <td>\\n\\n\\n\\nManchester City\\n2015 ~ 2023\\n\\n</td>\n",
       "      <td>192985</td>\n",
       "      <td>5'11\"</td>\n",
       "      <td>...</td>\n",
       "      <td>High</td>\n",
       "      <td>High</td>\n",
       "      <td>4 ★</td>\n",
       "      <td>76</td>\n",
       "      <td>86</td>\n",
       "      <td>93</td>\n",
       "      <td>88</td>\n",
       "      <td>64</td>\n",
       "      <td>78</td>\n",
       "      <td>\\n163</td>\n",
       "    </tr>\n",
       "    <tr>\n",
       "      <th>4</th>\n",
       "      <td>Neymar da Silva Santos Jr.</td>\n",
       "      <td>Brazil</td>\n",
       "      <td>LW CAM</td>\n",
       "      <td>Neymar Jr</td>\n",
       "      <td>28</td>\n",
       "      <td>91</td>\n",
       "      <td>91</td>\n",
       "      <td>\\n\\n\\n\\nParis Saint-Germain\\n2017 ~ 2022\\n\\n</td>\n",
       "      <td>190871</td>\n",
       "      <td>5'9\"</td>\n",
       "      <td>...</td>\n",
       "      <td>High</td>\n",
       "      <td>Medium</td>\n",
       "      <td>5 ★</td>\n",
       "      <td>91</td>\n",
       "      <td>85</td>\n",
       "      <td>86</td>\n",
       "      <td>94</td>\n",
       "      <td>36</td>\n",
       "      <td>59</td>\n",
       "      <td>\\n273</td>\n",
       "    </tr>\n",
       "  </tbody>\n",
       "</table>\n",
       "<p>5 rows × 75 columns</p>\n",
       "</div>"
      ],
      "text/plain": [
       "                       LongName Nationality Positions               Name  Age  \\\n",
       "0                  Lionel Messi   Argentina  RW ST CF           L. Messi   33   \n",
       "1  C. Ronaldo dos Santos Aveiro    Portugal     ST LW  Cristiano Ronaldo   35   \n",
       "2                     Jan Oblak    Slovenia        GK           J. Oblak   27   \n",
       "3               Kevin De Bruyne     Belgium    CAM CM       K. De Bruyne   29   \n",
       "4    Neymar da Silva Santos Jr.      Brazil    LW CAM          Neymar Jr   28   \n",
       "\n",
       "   ↓OVA  POT                               Team & Contract      ID Height  \\\n",
       "0    93   93         \\n\\n\\n\\nFC Barcelona\\n2004 ~ 2021\\n\\n  158023   5'7\"   \n",
       "1    92   92             \\n\\n\\n\\nJuventus\\n2018 ~ 2022\\n\\n   20801   6'2\"   \n",
       "2    91   93      \\n\\n\\n\\nAtlético Madrid\\n2014 ~ 2023\\n\\n  200389   6'2\"   \n",
       "3    91   91      \\n\\n\\n\\nManchester City\\n2015 ~ 2023\\n\\n  192985  5'11\"   \n",
       "4    91   91  \\n\\n\\n\\nParis Saint-Germain\\n2017 ~ 2022\\n\\n  190871   5'9\"   \n",
       "\n",
       "   ...     A/W     D/W   IR PAC  SHO PAS DRI DEF PHY   Hits  \n",
       "0  ...  Medium     Low  5 ★  85   92  91  95  38  65  \\n372  \n",
       "1  ...    High     Low  5 ★  89   93  81  89  35  77  \\n344  \n",
       "2  ...  Medium  Medium  3 ★  87   92  78  90  52  90   \\n86  \n",
       "3  ...    High    High  4 ★  76   86  93  88  64  78  \\n163  \n",
       "4  ...    High  Medium  5 ★  91   85  86  94  36  59  \\n273  \n",
       "\n",
       "[5 rows x 75 columns]"
      ]
     },
     "execution_count": 5,
     "metadata": {},
     "output_type": "execute_result"
    }
   ],
   "source": [
    "df1 = df1.drop(['playerUrl','photoUrl'], axis=1)\n",
    "df1.head()"
   ]
  },
  {
   "cell_type": "code",
   "execution_count": 6,
   "id": "bf86f2d3",
   "metadata": {
    "execution": {
     "iopub.execute_input": "2023-06-11T13:50:57.995945Z",
     "iopub.status.busy": "2023-06-11T13:50:57.995514Z",
     "iopub.status.idle": "2023-06-11T13:50:58.046172Z",
     "shell.execute_reply": "2023-06-11T13:50:58.044459Z"
    },
    "papermill": {
     "duration": 0.07088,
     "end_time": "2023-06-11T13:50:58.048876",
     "exception": false,
     "start_time": "2023-06-11T13:50:57.977996",
     "status": "completed"
    },
    "tags": []
   },
   "outputs": [
    {
     "data": {
      "text/html": [
       "<div>\n",
       "<style scoped>\n",
       "    .dataframe tbody tr th:only-of-type {\n",
       "        vertical-align: middle;\n",
       "    }\n",
       "\n",
       "    .dataframe tbody tr th {\n",
       "        vertical-align: top;\n",
       "    }\n",
       "\n",
       "    .dataframe thead th {\n",
       "        text-align: right;\n",
       "    }\n",
       "</style>\n",
       "<table border=\"1\" class=\"dataframe\">\n",
       "  <thead>\n",
       "    <tr style=\"text-align: right;\">\n",
       "      <th></th>\n",
       "      <th>LongName</th>\n",
       "      <th>Nationality</th>\n",
       "      <th>Positions</th>\n",
       "      <th>Name</th>\n",
       "      <th>Age</th>\n",
       "      <th>↓OVA</th>\n",
       "      <th>POT</th>\n",
       "      <th>Team &amp; Contract</th>\n",
       "      <th>ID</th>\n",
       "      <th>Height</th>\n",
       "      <th>...</th>\n",
       "      <th>A/W</th>\n",
       "      <th>D/W</th>\n",
       "      <th>IR</th>\n",
       "      <th>PAC</th>\n",
       "      <th>SHO</th>\n",
       "      <th>PAS</th>\n",
       "      <th>DRI</th>\n",
       "      <th>DEF</th>\n",
       "      <th>PHY</th>\n",
       "      <th>Hits</th>\n",
       "    </tr>\n",
       "  </thead>\n",
       "  <tbody>\n",
       "    <tr>\n",
       "      <th>0</th>\n",
       "      <td>Lionel Messi</td>\n",
       "      <td>Argentina</td>\n",
       "      <td>RW ST CF</td>\n",
       "      <td>L. Messi</td>\n",
       "      <td>33</td>\n",
       "      <td>93</td>\n",
       "      <td>93</td>\n",
       "      <td>FC Barcelona2004 ~ 2021</td>\n",
       "      <td>158023</td>\n",
       "      <td>5'7\"</td>\n",
       "      <td>...</td>\n",
       "      <td>Medium</td>\n",
       "      <td>Low</td>\n",
       "      <td>5 ★</td>\n",
       "      <td>85</td>\n",
       "      <td>92</td>\n",
       "      <td>91</td>\n",
       "      <td>95</td>\n",
       "      <td>38</td>\n",
       "      <td>65</td>\n",
       "      <td>\\n372</td>\n",
       "    </tr>\n",
       "    <tr>\n",
       "      <th>1</th>\n",
       "      <td>C. Ronaldo dos Santos Aveiro</td>\n",
       "      <td>Portugal</td>\n",
       "      <td>ST LW</td>\n",
       "      <td>Cristiano Ronaldo</td>\n",
       "      <td>35</td>\n",
       "      <td>92</td>\n",
       "      <td>92</td>\n",
       "      <td>Juventus2018 ~ 2022</td>\n",
       "      <td>20801</td>\n",
       "      <td>6'2\"</td>\n",
       "      <td>...</td>\n",
       "      <td>High</td>\n",
       "      <td>Low</td>\n",
       "      <td>5 ★</td>\n",
       "      <td>89</td>\n",
       "      <td>93</td>\n",
       "      <td>81</td>\n",
       "      <td>89</td>\n",
       "      <td>35</td>\n",
       "      <td>77</td>\n",
       "      <td>\\n344</td>\n",
       "    </tr>\n",
       "    <tr>\n",
       "      <th>2</th>\n",
       "      <td>Jan Oblak</td>\n",
       "      <td>Slovenia</td>\n",
       "      <td>GK</td>\n",
       "      <td>J. Oblak</td>\n",
       "      <td>27</td>\n",
       "      <td>91</td>\n",
       "      <td>93</td>\n",
       "      <td>Atlético Madrid2014 ~ 2023</td>\n",
       "      <td>200389</td>\n",
       "      <td>6'2\"</td>\n",
       "      <td>...</td>\n",
       "      <td>Medium</td>\n",
       "      <td>Medium</td>\n",
       "      <td>3 ★</td>\n",
       "      <td>87</td>\n",
       "      <td>92</td>\n",
       "      <td>78</td>\n",
       "      <td>90</td>\n",
       "      <td>52</td>\n",
       "      <td>90</td>\n",
       "      <td>\\n86</td>\n",
       "    </tr>\n",
       "    <tr>\n",
       "      <th>3</th>\n",
       "      <td>Kevin De Bruyne</td>\n",
       "      <td>Belgium</td>\n",
       "      <td>CAM CM</td>\n",
       "      <td>K. De Bruyne</td>\n",
       "      <td>29</td>\n",
       "      <td>91</td>\n",
       "      <td>91</td>\n",
       "      <td>Manchester City2015 ~ 2023</td>\n",
       "      <td>192985</td>\n",
       "      <td>5'11\"</td>\n",
       "      <td>...</td>\n",
       "      <td>High</td>\n",
       "      <td>High</td>\n",
       "      <td>4 ★</td>\n",
       "      <td>76</td>\n",
       "      <td>86</td>\n",
       "      <td>93</td>\n",
       "      <td>88</td>\n",
       "      <td>64</td>\n",
       "      <td>78</td>\n",
       "      <td>\\n163</td>\n",
       "    </tr>\n",
       "    <tr>\n",
       "      <th>4</th>\n",
       "      <td>Neymar da Silva Santos Jr.</td>\n",
       "      <td>Brazil</td>\n",
       "      <td>LW CAM</td>\n",
       "      <td>Neymar Jr</td>\n",
       "      <td>28</td>\n",
       "      <td>91</td>\n",
       "      <td>91</td>\n",
       "      <td>Paris Saint-Germain2017 ~ 2022</td>\n",
       "      <td>190871</td>\n",
       "      <td>5'9\"</td>\n",
       "      <td>...</td>\n",
       "      <td>High</td>\n",
       "      <td>Medium</td>\n",
       "      <td>5 ★</td>\n",
       "      <td>91</td>\n",
       "      <td>85</td>\n",
       "      <td>86</td>\n",
       "      <td>94</td>\n",
       "      <td>36</td>\n",
       "      <td>59</td>\n",
       "      <td>\\n273</td>\n",
       "    </tr>\n",
       "  </tbody>\n",
       "</table>\n",
       "<p>5 rows × 75 columns</p>\n",
       "</div>"
      ],
      "text/plain": [
       "                       LongName Nationality Positions               Name  Age  \\\n",
       "0                  Lionel Messi   Argentina  RW ST CF           L. Messi   33   \n",
       "1  C. Ronaldo dos Santos Aveiro    Portugal     ST LW  Cristiano Ronaldo   35   \n",
       "2                     Jan Oblak    Slovenia        GK           J. Oblak   27   \n",
       "3               Kevin De Bruyne     Belgium    CAM CM       K. De Bruyne   29   \n",
       "4    Neymar da Silva Santos Jr.      Brazil    LW CAM          Neymar Jr   28   \n",
       "\n",
       "   ↓OVA  POT                 Team & Contract      ID Height  ...     A/W  \\\n",
       "0    93   93         FC Barcelona2004 ~ 2021  158023   5'7\"  ...  Medium   \n",
       "1    92   92             Juventus2018 ~ 2022   20801   6'2\"  ...    High   \n",
       "2    91   93      Atlético Madrid2014 ~ 2023  200389   6'2\"  ...  Medium   \n",
       "3    91   91      Manchester City2015 ~ 2023  192985  5'11\"  ...    High   \n",
       "4    91   91  Paris Saint-Germain2017 ~ 2022  190871   5'9\"  ...    High   \n",
       "\n",
       "      D/W   IR PAC  SHO PAS DRI DEF PHY   Hits  \n",
       "0     Low  5 ★  85   92  91  95  38  65  \\n372  \n",
       "1     Low  5 ★  89   93  81  89  35  77  \\n344  \n",
       "2  Medium  3 ★  87   92  78  90  52  90   \\n86  \n",
       "3    High  4 ★  76   86  93  88  64  78  \\n163  \n",
       "4  Medium  5 ★  91   85  86  94  36  59  \\n273  \n",
       "\n",
       "[5 rows x 75 columns]"
      ]
     },
     "execution_count": 6,
     "metadata": {},
     "output_type": "execute_result"
    }
   ],
   "source": [
    "df1['Team & Contract'] = df1['Team & Contract'].str.replace('\\n','',regex=True)\n",
    "df1.head()"
   ]
  },
  {
   "cell_type": "code",
   "execution_count": 7,
   "id": "c4c818bc",
   "metadata": {
    "execution": {
     "iopub.execute_input": "2023-06-11T13:50:58.083893Z",
     "iopub.status.busy": "2023-06-11T13:50:58.083479Z",
     "iopub.status.idle": "2023-06-11T13:50:58.109980Z",
     "shell.execute_reply": "2023-06-11T13:50:58.108702Z"
    },
    "papermill": {
     "duration": 0.047699,
     "end_time": "2023-06-11T13:50:58.113252",
     "exception": false,
     "start_time": "2023-06-11T13:50:58.065553",
     "status": "completed"
    },
    "tags": []
   },
   "outputs": [
    {
     "data": {
      "text/html": [
       "<div>\n",
       "<style scoped>\n",
       "    .dataframe tbody tr th:only-of-type {\n",
       "        vertical-align: middle;\n",
       "    }\n",
       "\n",
       "    .dataframe tbody tr th {\n",
       "        vertical-align: top;\n",
       "    }\n",
       "\n",
       "    .dataframe thead th {\n",
       "        text-align: right;\n",
       "    }\n",
       "</style>\n",
       "<table border=\"1\" class=\"dataframe\">\n",
       "  <thead>\n",
       "    <tr style=\"text-align: right;\">\n",
       "      <th></th>\n",
       "      <th>LongName</th>\n",
       "      <th>Nationality</th>\n",
       "      <th>Positions</th>\n",
       "      <th>Name</th>\n",
       "      <th>Age</th>\n",
       "      <th>↓OVA</th>\n",
       "      <th>POT</th>\n",
       "      <th>Team &amp; Contract</th>\n",
       "      <th>ID</th>\n",
       "      <th>Height</th>\n",
       "      <th>...</th>\n",
       "      <th>A/W</th>\n",
       "      <th>D/W</th>\n",
       "      <th>IR</th>\n",
       "      <th>PAC</th>\n",
       "      <th>SHO</th>\n",
       "      <th>PAS</th>\n",
       "      <th>DRI</th>\n",
       "      <th>DEF</th>\n",
       "      <th>PHY</th>\n",
       "      <th>Hits</th>\n",
       "    </tr>\n",
       "  </thead>\n",
       "  <tbody>\n",
       "    <tr>\n",
       "      <th>0</th>\n",
       "      <td>Lionel Messi</td>\n",
       "      <td>Argentina</td>\n",
       "      <td>RW ST CF</td>\n",
       "      <td>L. Messi</td>\n",
       "      <td>33</td>\n",
       "      <td>93</td>\n",
       "      <td>93</td>\n",
       "      <td>FC Barcelona2004 ~ 2021</td>\n",
       "      <td>158023</td>\n",
       "      <td>5'7\"</td>\n",
       "      <td>...</td>\n",
       "      <td>Medium</td>\n",
       "      <td>Low</td>\n",
       "      <td>5 ★</td>\n",
       "      <td>85</td>\n",
       "      <td>92</td>\n",
       "      <td>91</td>\n",
       "      <td>95</td>\n",
       "      <td>38</td>\n",
       "      <td>65</td>\n",
       "      <td>\\n372</td>\n",
       "    </tr>\n",
       "    <tr>\n",
       "      <th>1</th>\n",
       "      <td>C. Ronaldo dos Santos Aveiro</td>\n",
       "      <td>Portugal</td>\n",
       "      <td>ST LW</td>\n",
       "      <td>Cristiano Ronaldo</td>\n",
       "      <td>35</td>\n",
       "      <td>92</td>\n",
       "      <td>92</td>\n",
       "      <td>Juventus2018 ~ 2022</td>\n",
       "      <td>20801</td>\n",
       "      <td>6'2\"</td>\n",
       "      <td>...</td>\n",
       "      <td>High</td>\n",
       "      <td>Low</td>\n",
       "      <td>5 ★</td>\n",
       "      <td>89</td>\n",
       "      <td>93</td>\n",
       "      <td>81</td>\n",
       "      <td>89</td>\n",
       "      <td>35</td>\n",
       "      <td>77</td>\n",
       "      <td>\\n344</td>\n",
       "    </tr>\n",
       "    <tr>\n",
       "      <th>2</th>\n",
       "      <td>Jan Oblak</td>\n",
       "      <td>Slovenia</td>\n",
       "      <td>GK</td>\n",
       "      <td>J. Oblak</td>\n",
       "      <td>27</td>\n",
       "      <td>91</td>\n",
       "      <td>93</td>\n",
       "      <td>Atlético Madrid2014 ~ 2023</td>\n",
       "      <td>200389</td>\n",
       "      <td>6'2\"</td>\n",
       "      <td>...</td>\n",
       "      <td>Medium</td>\n",
       "      <td>Medium</td>\n",
       "      <td>3 ★</td>\n",
       "      <td>87</td>\n",
       "      <td>92</td>\n",
       "      <td>78</td>\n",
       "      <td>90</td>\n",
       "      <td>52</td>\n",
       "      <td>90</td>\n",
       "      <td>\\n86</td>\n",
       "    </tr>\n",
       "    <tr>\n",
       "      <th>3</th>\n",
       "      <td>Kevin De Bruyne</td>\n",
       "      <td>Belgium</td>\n",
       "      <td>CAM CM</td>\n",
       "      <td>K. De Bruyne</td>\n",
       "      <td>29</td>\n",
       "      <td>91</td>\n",
       "      <td>91</td>\n",
       "      <td>Manchester City2015 ~ 2023</td>\n",
       "      <td>192985</td>\n",
       "      <td>5'11\"</td>\n",
       "      <td>...</td>\n",
       "      <td>High</td>\n",
       "      <td>High</td>\n",
       "      <td>4 ★</td>\n",
       "      <td>76</td>\n",
       "      <td>86</td>\n",
       "      <td>93</td>\n",
       "      <td>88</td>\n",
       "      <td>64</td>\n",
       "      <td>78</td>\n",
       "      <td>\\n163</td>\n",
       "    </tr>\n",
       "    <tr>\n",
       "      <th>4</th>\n",
       "      <td>Neymar da Silva Santos Jr.</td>\n",
       "      <td>Brazil</td>\n",
       "      <td>LW CAM</td>\n",
       "      <td>Neymar Jr</td>\n",
       "      <td>28</td>\n",
       "      <td>91</td>\n",
       "      <td>91</td>\n",
       "      <td>Paris Saint-Germain2017 ~ 2022</td>\n",
       "      <td>190871</td>\n",
       "      <td>5'9\"</td>\n",
       "      <td>...</td>\n",
       "      <td>High</td>\n",
       "      <td>Medium</td>\n",
       "      <td>5 ★</td>\n",
       "      <td>91</td>\n",
       "      <td>85</td>\n",
       "      <td>86</td>\n",
       "      <td>94</td>\n",
       "      <td>36</td>\n",
       "      <td>59</td>\n",
       "      <td>\\n273</td>\n",
       "    </tr>\n",
       "  </tbody>\n",
       "</table>\n",
       "<p>5 rows × 75 columns</p>\n",
       "</div>"
      ],
      "text/plain": [
       "                       LongName Nationality Positions               Name  Age  \\\n",
       "0                  Lionel Messi   Argentina  RW ST CF           L. Messi   33   \n",
       "1  C. Ronaldo dos Santos Aveiro    Portugal     ST LW  Cristiano Ronaldo   35   \n",
       "2                     Jan Oblak    Slovenia        GK           J. Oblak   27   \n",
       "3               Kevin De Bruyne     Belgium    CAM CM       K. De Bruyne   29   \n",
       "4    Neymar da Silva Santos Jr.      Brazil    LW CAM          Neymar Jr   28   \n",
       "\n",
       "   ↓OVA  POT                 Team & Contract      ID Height  ...     A/W  \\\n",
       "0    93   93         FC Barcelona2004 ~ 2021  158023   5'7\"  ...  Medium   \n",
       "1    92   92             Juventus2018 ~ 2022   20801   6'2\"  ...    High   \n",
       "2    91   93      Atlético Madrid2014 ~ 2023  200389   6'2\"  ...  Medium   \n",
       "3    91   91      Manchester City2015 ~ 2023  192985  5'11\"  ...    High   \n",
       "4    91   91  Paris Saint-Germain2017 ~ 2022  190871   5'9\"  ...    High   \n",
       "\n",
       "      D/W   IR PAC  SHO PAS DRI DEF PHY   Hits  \n",
       "0     Low  5 ★  85   92  91  95  38  65  \\n372  \n",
       "1     Low  5 ★  89   93  81  89  35  77  \\n344  \n",
       "2  Medium  3 ★  87   92  78  90  52  90   \\n86  \n",
       "3    High  4 ★  76   86  93  88  64  78  \\n163  \n",
       "4  Medium  5 ★  91   85  86  94  36  59  \\n273  \n",
       "\n",
       "[5 rows x 75 columns]"
      ]
     },
     "execution_count": 7,
     "metadata": {},
     "output_type": "execute_result"
    }
   ],
   "source": [
    "df1.head()"
   ]
  },
  {
   "cell_type": "code",
   "execution_count": 8,
   "id": "7f0aa9ac",
   "metadata": {
    "execution": {
     "iopub.execute_input": "2023-06-11T13:50:58.150616Z",
     "iopub.status.busy": "2023-06-11T13:50:58.150220Z",
     "iopub.status.idle": "2023-06-11T13:50:58.616077Z",
     "shell.execute_reply": "2023-06-11T13:50:58.614897Z"
    },
    "papermill": {
     "duration": 0.487946,
     "end_time": "2023-06-11T13:50:58.618922",
     "exception": false,
     "start_time": "2023-06-11T13:50:58.130976",
     "status": "completed"
    },
    "tags": []
   },
   "outputs": [],
   "source": [
    "#splitting team and contract into 2 seperate columns \n",
    "df1['Team & Contract'] = df1['Team & Contract'].astype('str') \n",
    "df1['Team & Contract'].replace('\\n', '', regex=True, inplace=True)\n",
    "test = df1['Team & Contract'][0]\n",
    "Team = []\n",
    "Contract_Duration = []\n",
    "for x in range(len(df1['Team & Contract'])):\n",
    "    Team.append(str(df1['Team & Contract'][x][:-11]))\n",
    "    c = str(df1['Team & Contract'][x][-11:])\n",
    "    if c.startswith(\"2\") == True: \n",
    "        Contract_Duration.append(c)\n",
    "    else:\n",
    "        Contract_Duration.append(\"0\")\n",
    "df1 = df1.drop(columns = ['Team & Contract'])   \n",
    "df1['Team'] = Team\n",
    "df1['Contract Duration'] = Contract_Duration"
   ]
  },
  {
   "cell_type": "code",
   "execution_count": 9,
   "id": "07d85393",
   "metadata": {
    "execution": {
     "iopub.execute_input": "2023-06-11T13:50:58.654572Z",
     "iopub.status.busy": "2023-06-11T13:50:58.654170Z",
     "iopub.status.idle": "2023-06-11T13:50:58.729680Z",
     "shell.execute_reply": "2023-06-11T13:50:58.728475Z"
    },
    "papermill": {
     "duration": 0.097075,
     "end_time": "2023-06-11T13:50:58.732979",
     "exception": false,
     "start_time": "2023-06-11T13:50:58.635904",
     "status": "completed"
    },
    "tags": []
   },
   "outputs": [
    {
     "name": "stdout",
     "output_type": "stream",
     "text": [
      "<class 'pandas.core.frame.DataFrame'>\n",
      "RangeIndex: 18979 entries, 0 to 18978\n",
      "Data columns (total 77 columns):\n",
      " #   Column            Non-Null Count  Dtype \n",
      "---  ------            --------------  ----- \n",
      " 0   photoUrl          18979 non-null  object\n",
      " 1   LongName          18979 non-null  object\n",
      " 2   playerUrl         18979 non-null  object\n",
      " 3   Nationality       18979 non-null  object\n",
      " 4   Positions         18979 non-null  object\n",
      " 5   Name              18979 non-null  object\n",
      " 6   Age               18979 non-null  int64 \n",
      " 7   ↓OVA              18979 non-null  int64 \n",
      " 8   POT               18979 non-null  int64 \n",
      " 9   Team & Contract   18979 non-null  object\n",
      " 10  ID                18979 non-null  int64 \n",
      " 11  Height            18979 non-null  object\n",
      " 12  Weight            18979 non-null  object\n",
      " 13  foot              18979 non-null  object\n",
      " 14  BOV               18979 non-null  int64 \n",
      " 15  BP                18979 non-null  object\n",
      " 16  Growth            18979 non-null  int64 \n",
      " 17  Joined            18979 non-null  object\n",
      " 18  Loan Date End     1013 non-null   object\n",
      " 19  Value             18979 non-null  object\n",
      " 20  Wage              18979 non-null  object\n",
      " 21  Release Clause    18979 non-null  object\n",
      " 22  Attacking         18979 non-null  int64 \n",
      " 23  Crossing          18979 non-null  int64 \n",
      " 24  Finishing         18979 non-null  int64 \n",
      " 25  Heading Accuracy  18979 non-null  int64 \n",
      " 26  Short Passing     18979 non-null  int64 \n",
      " 27  Volleys           18979 non-null  int64 \n",
      " 28  Skill             18979 non-null  int64 \n",
      " 29  Dribbling         18979 non-null  int64 \n",
      " 30  Curve             18979 non-null  int64 \n",
      " 31  FK Accuracy       18979 non-null  int64 \n",
      " 32  Long Passing      18979 non-null  int64 \n",
      " 33  Ball Control      18979 non-null  int64 \n",
      " 34  Movement          18979 non-null  int64 \n",
      " 35  Acceleration      18979 non-null  int64 \n",
      " 36  Sprint Speed      18979 non-null  int64 \n",
      " 37  Agility           18979 non-null  int64 \n",
      " 38  Reactions         18979 non-null  int64 \n",
      " 39  Balance           18979 non-null  int64 \n",
      " 40  Power             18979 non-null  int64 \n",
      " 41  Shot Power        18979 non-null  int64 \n",
      " 42  Jumping           18979 non-null  int64 \n",
      " 43  Stamina           18979 non-null  int64 \n",
      " 44  Strength          18979 non-null  int64 \n",
      " 45  Long Shots        18979 non-null  int64 \n",
      " 46  Mentality         18979 non-null  int64 \n",
      " 47  Aggression        18979 non-null  int64 \n",
      " 48  Interceptions     18979 non-null  int64 \n",
      " 49  Positioning       18979 non-null  int64 \n",
      " 50  Vision            18979 non-null  int64 \n",
      " 51  Penalties         18979 non-null  int64 \n",
      " 52  Composure         18979 non-null  int64 \n",
      " 53  Defending         18979 non-null  int64 \n",
      " 54  Marking           18979 non-null  int64 \n",
      " 55  Standing Tackle   18979 non-null  int64 \n",
      " 56  Sliding Tackle    18979 non-null  int64 \n",
      " 57  Goalkeeping       18979 non-null  int64 \n",
      " 58  GK Diving         18979 non-null  int64 \n",
      " 59  GK Handling       18979 non-null  int64 \n",
      " 60  GK Kicking        18979 non-null  int64 \n",
      " 61  GK Positioning    18979 non-null  int64 \n",
      " 62  GK Reflexes       18979 non-null  int64 \n",
      " 63  Total Stats       18979 non-null  int64 \n",
      " 64  Base Stats        18979 non-null  int64 \n",
      " 65  W/F               18979 non-null  object\n",
      " 66  SM                18979 non-null  object\n",
      " 67  A/W               18979 non-null  object\n",
      " 68  D/W               18979 non-null  object\n",
      " 69  IR                18979 non-null  object\n",
      " 70  PAC               18979 non-null  int64 \n",
      " 71  SHO               18979 non-null  int64 \n",
      " 72  PAS               18979 non-null  int64 \n",
      " 73  DRI               18979 non-null  int64 \n",
      " 74  DEF               18979 non-null  int64 \n",
      " 75  PHY               18979 non-null  int64 \n",
      " 76  Hits              18979 non-null  object\n",
      "dtypes: int64(55), object(22)\n",
      "memory usage: 11.1+ MB\n"
     ]
    }
   ],
   "source": [
    "df.info()"
   ]
  },
  {
   "cell_type": "markdown",
   "id": "9d4dfaa4",
   "metadata": {
    "papermill": {
     "duration": 0.0166,
     "end_time": "2023-06-11T13:50:58.766658",
     "exception": false,
     "start_time": "2023-06-11T13:50:58.750058",
     "status": "completed"
    },
    "tags": []
   },
   "source": [
    "Columns to clean\n",
    "- Team & Contract\n",
    "- hits\n",
    "- joined\n",
    "- Height\n",
    "- Weight\n",
    "- Value\n",
    "- Wage\n",
    "- Positons"
   ]
  },
  {
   "cell_type": "code",
   "execution_count": 10,
   "id": "d64a4061",
   "metadata": {
    "execution": {
     "iopub.execute_input": "2023-06-11T13:50:58.802012Z",
     "iopub.status.busy": "2023-06-11T13:50:58.801616Z",
     "iopub.status.idle": "2023-06-11T13:50:58.818089Z",
     "shell.execute_reply": "2023-06-11T13:50:58.816998Z"
    },
    "papermill": {
     "duration": 0.037192,
     "end_time": "2023-06-11T13:50:58.820738",
     "exception": false,
     "start_time": "2023-06-11T13:50:58.783546",
     "status": "completed"
    },
    "tags": []
   },
   "outputs": [],
   "source": [
    "#some of the 77 columns arent needed so they will be dropped\n",
    "columns_to_drop = ['photoUrl','playerUrl','Loan Date End', 'Release Clause']\n",
    "df = df.drop(columns = columns_to_drop)"
   ]
  },
  {
   "cell_type": "code",
   "execution_count": 11,
   "id": "f67a72f0",
   "metadata": {
    "execution": {
     "iopub.execute_input": "2023-06-11T13:50:58.856541Z",
     "iopub.status.busy": "2023-06-11T13:50:58.856114Z",
     "iopub.status.idle": "2023-06-11T13:50:59.331894Z",
     "shell.execute_reply": "2023-06-11T13:50:59.330863Z"
    },
    "papermill": {
     "duration": 0.496845,
     "end_time": "2023-06-11T13:50:59.334768",
     "exception": false,
     "start_time": "2023-06-11T13:50:58.837923",
     "status": "completed"
    },
    "tags": []
   },
   "outputs": [],
   "source": [
    "#splitting team and contract into 2 seperate columns \n",
    "df['Team & Contract'] = df['Team & Contract'].astype('str') \n",
    "df['Team & Contract'].replace('\\n', '', regex=True, inplace=True)\n",
    "test = df['Team & Contract'][0]\n",
    "Team = []\n",
    "Contract_Duration = []\n",
    "for x in range(len(df['Team & Contract'])):\n",
    "    Team.append(str(df['Team & Contract'][x][:-11]))\n",
    "    c = str(df['Team & Contract'][x][-11:])\n",
    "    if c.startswith(\"2\") == True: \n",
    "        Contract_Duration.append(c)\n",
    "    else:\n",
    "        Contract_Duration.append(\"0\")\n",
    "df = df.drop(columns = ['Team & Contract'])   \n",
    "df['Team'] = Team\n",
    "df['Contract Duration'] = Contract_Duration"
   ]
  },
  {
   "cell_type": "code",
   "execution_count": 12,
   "id": "dc9a6d2d",
   "metadata": {
    "execution": {
     "iopub.execute_input": "2023-06-11T13:50:59.371474Z",
     "iopub.status.busy": "2023-06-11T13:50:59.370896Z",
     "iopub.status.idle": "2023-06-11T13:50:59.397768Z",
     "shell.execute_reply": "2023-06-11T13:50:59.396450Z"
    },
    "papermill": {
     "duration": 0.048195,
     "end_time": "2023-06-11T13:50:59.400488",
     "exception": false,
     "start_time": "2023-06-11T13:50:59.352293",
     "status": "completed"
    },
    "tags": []
   },
   "outputs": [
    {
     "data": {
      "text/html": [
       "<div>\n",
       "<style scoped>\n",
       "    .dataframe tbody tr th:only-of-type {\n",
       "        vertical-align: middle;\n",
       "    }\n",
       "\n",
       "    .dataframe tbody tr th {\n",
       "        vertical-align: top;\n",
       "    }\n",
       "\n",
       "    .dataframe thead th {\n",
       "        text-align: right;\n",
       "    }\n",
       "</style>\n",
       "<table border=\"1\" class=\"dataframe\">\n",
       "  <thead>\n",
       "    <tr style=\"text-align: right;\">\n",
       "      <th></th>\n",
       "      <th>LongName</th>\n",
       "      <th>Nationality</th>\n",
       "      <th>Positions</th>\n",
       "      <th>Name</th>\n",
       "      <th>Age</th>\n",
       "      <th>↓OVA</th>\n",
       "      <th>POT</th>\n",
       "      <th>ID</th>\n",
       "      <th>Height</th>\n",
       "      <th>Weight</th>\n",
       "      <th>...</th>\n",
       "      <th>IR</th>\n",
       "      <th>PAC</th>\n",
       "      <th>SHO</th>\n",
       "      <th>PAS</th>\n",
       "      <th>DRI</th>\n",
       "      <th>DEF</th>\n",
       "      <th>PHY</th>\n",
       "      <th>Hits</th>\n",
       "      <th>Team</th>\n",
       "      <th>Contract Duration</th>\n",
       "    </tr>\n",
       "  </thead>\n",
       "  <tbody>\n",
       "    <tr>\n",
       "      <th>0</th>\n",
       "      <td>Lionel Messi</td>\n",
       "      <td>Argentina</td>\n",
       "      <td>RW ST CF</td>\n",
       "      <td>L. Messi</td>\n",
       "      <td>33</td>\n",
       "      <td>93</td>\n",
       "      <td>93</td>\n",
       "      <td>158023</td>\n",
       "      <td>5'7\"</td>\n",
       "      <td>159lbs</td>\n",
       "      <td>...</td>\n",
       "      <td>5 ★</td>\n",
       "      <td>85</td>\n",
       "      <td>92</td>\n",
       "      <td>91</td>\n",
       "      <td>95</td>\n",
       "      <td>38</td>\n",
       "      <td>65</td>\n",
       "      <td>\\n372</td>\n",
       "      <td>FC Barcelona</td>\n",
       "      <td>2004 ~ 2021</td>\n",
       "    </tr>\n",
       "    <tr>\n",
       "      <th>1</th>\n",
       "      <td>C. Ronaldo dos Santos Aveiro</td>\n",
       "      <td>Portugal</td>\n",
       "      <td>ST LW</td>\n",
       "      <td>Cristiano Ronaldo</td>\n",
       "      <td>35</td>\n",
       "      <td>92</td>\n",
       "      <td>92</td>\n",
       "      <td>20801</td>\n",
       "      <td>6'2\"</td>\n",
       "      <td>183lbs</td>\n",
       "      <td>...</td>\n",
       "      <td>5 ★</td>\n",
       "      <td>89</td>\n",
       "      <td>93</td>\n",
       "      <td>81</td>\n",
       "      <td>89</td>\n",
       "      <td>35</td>\n",
       "      <td>77</td>\n",
       "      <td>\\n344</td>\n",
       "      <td>Juventus</td>\n",
       "      <td>2018 ~ 2022</td>\n",
       "    </tr>\n",
       "    <tr>\n",
       "      <th>2</th>\n",
       "      <td>Jan Oblak</td>\n",
       "      <td>Slovenia</td>\n",
       "      <td>GK</td>\n",
       "      <td>J. Oblak</td>\n",
       "      <td>27</td>\n",
       "      <td>91</td>\n",
       "      <td>93</td>\n",
       "      <td>200389</td>\n",
       "      <td>6'2\"</td>\n",
       "      <td>192lbs</td>\n",
       "      <td>...</td>\n",
       "      <td>3 ★</td>\n",
       "      <td>87</td>\n",
       "      <td>92</td>\n",
       "      <td>78</td>\n",
       "      <td>90</td>\n",
       "      <td>52</td>\n",
       "      <td>90</td>\n",
       "      <td>\\n86</td>\n",
       "      <td>Atlético Madrid</td>\n",
       "      <td>2014 ~ 2023</td>\n",
       "    </tr>\n",
       "    <tr>\n",
       "      <th>3</th>\n",
       "      <td>Kevin De Bruyne</td>\n",
       "      <td>Belgium</td>\n",
       "      <td>CAM CM</td>\n",
       "      <td>K. De Bruyne</td>\n",
       "      <td>29</td>\n",
       "      <td>91</td>\n",
       "      <td>91</td>\n",
       "      <td>192985</td>\n",
       "      <td>5'11\"</td>\n",
       "      <td>154lbs</td>\n",
       "      <td>...</td>\n",
       "      <td>4 ★</td>\n",
       "      <td>76</td>\n",
       "      <td>86</td>\n",
       "      <td>93</td>\n",
       "      <td>88</td>\n",
       "      <td>64</td>\n",
       "      <td>78</td>\n",
       "      <td>\\n163</td>\n",
       "      <td>Manchester City</td>\n",
       "      <td>2015 ~ 2023</td>\n",
       "    </tr>\n",
       "    <tr>\n",
       "      <th>4</th>\n",
       "      <td>Neymar da Silva Santos Jr.</td>\n",
       "      <td>Brazil</td>\n",
       "      <td>LW CAM</td>\n",
       "      <td>Neymar Jr</td>\n",
       "      <td>28</td>\n",
       "      <td>91</td>\n",
       "      <td>91</td>\n",
       "      <td>190871</td>\n",
       "      <td>5'9\"</td>\n",
       "      <td>150lbs</td>\n",
       "      <td>...</td>\n",
       "      <td>5 ★</td>\n",
       "      <td>91</td>\n",
       "      <td>85</td>\n",
       "      <td>86</td>\n",
       "      <td>94</td>\n",
       "      <td>36</td>\n",
       "      <td>59</td>\n",
       "      <td>\\n273</td>\n",
       "      <td>Paris Saint-Germain</td>\n",
       "      <td>2017 ~ 2022</td>\n",
       "    </tr>\n",
       "  </tbody>\n",
       "</table>\n",
       "<p>5 rows × 74 columns</p>\n",
       "</div>"
      ],
      "text/plain": [
       "                       LongName Nationality Positions               Name  Age  \\\n",
       "0                  Lionel Messi   Argentina  RW ST CF           L. Messi   33   \n",
       "1  C. Ronaldo dos Santos Aveiro    Portugal     ST LW  Cristiano Ronaldo   35   \n",
       "2                     Jan Oblak    Slovenia        GK           J. Oblak   27   \n",
       "3               Kevin De Bruyne     Belgium    CAM CM       K. De Bruyne   29   \n",
       "4    Neymar da Silva Santos Jr.      Brazil    LW CAM          Neymar Jr   28   \n",
       "\n",
       "   ↓OVA  POT      ID Height  Weight  ...   IR  PAC SHO  PAS DRI DEF PHY  \\\n",
       "0    93   93  158023   5'7\"  159lbs  ...  5 ★   85  92   91  95  38  65   \n",
       "1    92   92   20801   6'2\"  183lbs  ...  5 ★   89  93   81  89  35  77   \n",
       "2    91   93  200389   6'2\"  192lbs  ...  3 ★   87  92   78  90  52  90   \n",
       "3    91   91  192985  5'11\"  154lbs  ...  4 ★   76  86   93  88  64  78   \n",
       "4    91   91  190871   5'9\"  150lbs  ...  5 ★   91  85   86  94  36  59   \n",
       "\n",
       "    Hits                 Team  Contract Duration  \n",
       "0  \\n372         FC Barcelona        2004 ~ 2021  \n",
       "1  \\n344             Juventus        2018 ~ 2022  \n",
       "2   \\n86      Atlético Madrid        2014 ~ 2023  \n",
       "3  \\n163      Manchester City        2015 ~ 2023  \n",
       "4  \\n273  Paris Saint-Germain        2017 ~ 2022  \n",
       "\n",
       "[5 rows x 74 columns]"
      ]
     },
     "execution_count": 12,
     "metadata": {},
     "output_type": "execute_result"
    }
   ],
   "source": [
    "df.head()"
   ]
  },
  {
   "cell_type": "code",
   "execution_count": 13,
   "id": "c2c87587",
   "metadata": {
    "execution": {
     "iopub.execute_input": "2023-06-11T13:50:59.437895Z",
     "iopub.status.busy": "2023-06-11T13:50:59.437208Z",
     "iopub.status.idle": "2023-06-11T13:50:59.449523Z",
     "shell.execute_reply": "2023-06-11T13:50:59.448444Z"
    },
    "papermill": {
     "duration": 0.033848,
     "end_time": "2023-06-11T13:50:59.452070",
     "exception": false,
     "start_time": "2023-06-11T13:50:59.418222",
     "status": "completed"
    },
    "tags": []
   },
   "outputs": [
    {
     "data": {
      "text/plain": [
       "\\n1      4321\n",
       "\\n2      3095\n",
       "\\n3      2083\n",
       "\\n4      1407\n",
       "\\n5      1064\n",
       "         ... \n",
       "\\n356       1\n",
       "\\n984       1\n",
       "\\n2K        1\n",
       "\\n603       1\n",
       "\\n208       1\n",
       "Name: Hits, Length: 374, dtype: int64"
      ]
     },
     "execution_count": 13,
     "metadata": {},
     "output_type": "execute_result"
    }
   ],
   "source": [
    "df1.Hits.value_counts()"
   ]
  },
  {
   "cell_type": "code",
   "execution_count": 14,
   "id": "3c7d2c3a",
   "metadata": {
    "execution": {
     "iopub.execute_input": "2023-06-11T13:50:59.488997Z",
     "iopub.status.busy": "2023-06-11T13:50:59.488603Z",
     "iopub.status.idle": "2023-06-11T13:50:59.727538Z",
     "shell.execute_reply": "2023-06-11T13:50:59.726545Z"
    },
    "papermill": {
     "duration": 0.260644,
     "end_time": "2023-06-11T13:50:59.730263",
     "exception": false,
     "start_time": "2023-06-11T13:50:59.469619",
     "status": "completed"
    },
    "tags": []
   },
   "outputs": [],
   "source": [
    "#cleaning hits column from object format to int objects \n",
    "hits = []\n",
    "for x in range(len(df[\"Hits\"])):\n",
    "    s = str(df[\"Hits\"][x][1:])\n",
    "    s = s.replace('K','00')\n",
    "    s = s.replace('.','')\n",
    "    hits.append(s)\n",
    "df['Hits'] = hits\n",
    "df = df.astype({'Hits':'int'})"
   ]
  },
  {
   "cell_type": "code",
   "execution_count": 15,
   "id": "8d0f9d02",
   "metadata": {
    "execution": {
     "iopub.execute_input": "2023-06-11T13:50:59.767203Z",
     "iopub.status.busy": "2023-06-11T13:50:59.766718Z",
     "iopub.status.idle": "2023-06-11T13:50:59.777839Z",
     "shell.execute_reply": "2023-06-11T13:50:59.776747Z"
    },
    "papermill": {
     "duration": 0.032498,
     "end_time": "2023-06-11T13:50:59.780418",
     "exception": false,
     "start_time": "2023-06-11T13:50:59.747920",
     "status": "completed"
    },
    "tags": []
   },
   "outputs": [
    {
     "data": {
      "text/plain": [
       "1      4321\n",
       "2      3095\n",
       "3      2083\n",
       "4      1407\n",
       "5      1064\n",
       "       ... \n",
       "794       1\n",
       "243       1\n",
       "356       1\n",
       "984       1\n",
       "208       1\n",
       "Name: Hits, Length: 372, dtype: int64"
      ]
     },
     "execution_count": 15,
     "metadata": {},
     "output_type": "execute_result"
    }
   ],
   "source": [
    "df.Hits.value_counts()"
   ]
  },
  {
   "cell_type": "code",
   "execution_count": 16,
   "id": "24bf58f8",
   "metadata": {
    "execution": {
     "iopub.execute_input": "2023-06-11T13:50:59.817636Z",
     "iopub.status.busy": "2023-06-11T13:50:59.817161Z",
     "iopub.status.idle": "2023-06-11T13:50:59.826271Z",
     "shell.execute_reply": "2023-06-11T13:50:59.825162Z"
    },
    "jupyter": {
     "source_hidden": true
    },
    "papermill": {
     "duration": 0.030645,
     "end_time": "2023-06-11T13:50:59.828782",
     "exception": false,
     "start_time": "2023-06-11T13:50:59.798137",
     "status": "completed"
    },
    "tags": []
   },
   "outputs": [
    {
     "data": {
      "text/plain": [
       "0         Jul 1, 2004\n",
       "1        Jul 10, 2018\n",
       "2        Jul 16, 2014\n",
       "3        Aug 30, 2015\n",
       "4         Aug 3, 2017\n",
       "             ...     \n",
       "18974     Aug 1, 2020\n",
       "18975     Aug 1, 2020\n",
       "18976    Jul 13, 2018\n",
       "18977     Aug 1, 2020\n",
       "18978     Jan 1, 2020\n",
       "Name: Joined, Length: 18979, dtype: object"
      ]
     },
     "execution_count": 16,
     "metadata": {},
     "output_type": "execute_result"
    }
   ],
   "source": [
    "#will have to convert Joined to proper date-time format\n",
    "df['Joined']"
   ]
  },
  {
   "cell_type": "code",
   "execution_count": 17,
   "id": "b7741632",
   "metadata": {
    "execution": {
     "iopub.execute_input": "2023-06-11T13:50:59.866177Z",
     "iopub.status.busy": "2023-06-11T13:50:59.865741Z",
     "iopub.status.idle": "2023-06-11T13:50:59.875208Z",
     "shell.execute_reply": "2023-06-11T13:50:59.874108Z"
    },
    "papermill": {
     "duration": 0.030946,
     "end_time": "2023-06-11T13:50:59.877686",
     "exception": false,
     "start_time": "2023-06-11T13:50:59.846740",
     "status": "completed"
    },
    "tags": []
   },
   "outputs": [
    {
     "data": {
      "text/plain": [
       "0         Jul 1, 2004\n",
       "1        Jul 10, 2018\n",
       "2        Jul 16, 2014\n",
       "3        Aug 30, 2015\n",
       "4         Aug 3, 2017\n",
       "             ...     \n",
       "18974     Aug 1, 2020\n",
       "18975     Aug 1, 2020\n",
       "18976    Jul 13, 2018\n",
       "18977     Aug 1, 2020\n",
       "18978     Jan 1, 2020\n",
       "Name: Joined, Length: 18979, dtype: object"
      ]
     },
     "execution_count": 17,
     "metadata": {},
     "output_type": "execute_result"
    }
   ],
   "source": [
    "df.Joined"
   ]
  },
  {
   "cell_type": "code",
   "execution_count": 18,
   "id": "3ec6cb10",
   "metadata": {
    "execution": {
     "iopub.execute_input": "2023-06-11T13:50:59.916093Z",
     "iopub.status.busy": "2023-06-11T13:50:59.914957Z",
     "iopub.status.idle": "2023-06-11T13:50:59.923984Z",
     "shell.execute_reply": "2023-06-11T13:50:59.923066Z"
    },
    "papermill": {
     "duration": 0.030685,
     "end_time": "2023-06-11T13:50:59.926371",
     "exception": false,
     "start_time": "2023-06-11T13:50:59.895686",
     "status": "completed"
    },
    "tags": []
   },
   "outputs": [],
   "source": [
    "#Switching string of months to interger equivelents, wish we could use a case statement\n",
    "def month_to_number(x):\n",
    "            if x== 'Jan':\n",
    "                return 1\n",
    "            elif x == 'Feb':\n",
    "                return 2\n",
    "            elif x == 'Mar': \n",
    "                return 3\n",
    "            elif x == 'Apr':\n",
    "                return 4\n",
    "            elif x == 'May':\n",
    "                return 5\n",
    "            elif x == 'Jun': \n",
    "                return 6\n",
    "            elif x == 'Jul': \n",
    "                return 7\n",
    "            elif x == 'Aug': \n",
    "                return 8\n",
    "            elif x == 'Sep': \n",
    "                return 9\n",
    "            elif x == 'Oct': \n",
    "                return 10\n",
    "            elif x == 'Nov':  \n",
    "                return 11\n",
    "            elif x == 'Dec':  \n",
    "                return 12"
   ]
  },
  {
   "cell_type": "code",
   "execution_count": 19,
   "id": "236fe85a",
   "metadata": {
    "execution": {
     "iopub.execute_input": "2023-06-11T13:50:59.964503Z",
     "iopub.status.busy": "2023-06-11T13:50:59.963806Z",
     "iopub.status.idle": "2023-06-11T13:51:05.045946Z",
     "shell.execute_reply": "2023-06-11T13:51:05.044665Z"
    },
    "papermill": {
     "duration": 5.104411,
     "end_time": "2023-06-11T13:51:05.048954",
     "exception": false,
     "start_time": "2023-06-11T13:50:59.944543",
     "status": "completed"
    },
    "tags": []
   },
   "outputs": [],
   "source": [
    "date = []\n",
    "for x in range(len(df['Joined'])):\n",
    "    d = df['Joined'][x]\n",
    "    c = d.split(\" \")\n",
    "    month = str(month_to_number(c[0]))\n",
    "    day = str(c[1].replace(',',''))\n",
    "    year = str(c[2])\n",
    "    if len(day) == 1:\n",
    "        day = ('0'+str(day))\n",
    "    date_long = (str(month)+'/'+str(day)+'/'+str(year))\n",
    "    date_con = pd.to_datetime(date_long)\n",
    "    date.append(date_con)  \n"
   ]
  },
  {
   "cell_type": "code",
   "execution_count": 20,
   "id": "d57bad38",
   "metadata": {
    "execution": {
     "iopub.execute_input": "2023-06-11T13:51:05.087990Z",
     "iopub.status.busy": "2023-06-11T13:51:05.086963Z",
     "iopub.status.idle": "2023-06-11T13:51:05.149845Z",
     "shell.execute_reply": "2023-06-11T13:51:05.148785Z"
    },
    "papermill": {
     "duration": 0.085623,
     "end_time": "2023-06-11T13:51:05.152533",
     "exception": false,
     "start_time": "2023-06-11T13:51:05.066910",
     "status": "completed"
    },
    "tags": []
   },
   "outputs": [
    {
     "data": {
      "text/plain": [
       "0       2004-07-01\n",
       "1       2018-07-10\n",
       "2       2014-07-16\n",
       "3       2015-08-30\n",
       "4       2017-08-03\n",
       "           ...    \n",
       "18974   2020-08-01\n",
       "18975   2020-08-01\n",
       "18976   2018-07-13\n",
       "18977   2020-08-01\n",
       "18978   2020-01-01\n",
       "Name: Joined, Length: 18979, dtype: datetime64[ns]"
      ]
     },
     "execution_count": 20,
     "metadata": {},
     "output_type": "execute_result"
    }
   ],
   "source": [
    "df['Joined'] = date\n",
    "df['Joined']"
   ]
  },
  {
   "cell_type": "code",
   "execution_count": 21,
   "id": "775ddbb4",
   "metadata": {
    "execution": {
     "iopub.execute_input": "2023-06-11T13:51:05.190594Z",
     "iopub.status.busy": "2023-06-11T13:51:05.189663Z",
     "iopub.status.idle": "2023-06-11T13:51:05.197856Z",
     "shell.execute_reply": "2023-06-11T13:51:05.197085Z"
    },
    "papermill": {
     "duration": 0.029749,
     "end_time": "2023-06-11T13:51:05.199998",
     "exception": false,
     "start_time": "2023-06-11T13:51:05.170249",
     "status": "completed"
    },
    "tags": []
   },
   "outputs": [
    {
     "data": {
      "text/plain": [
       "0     5'7\"\n",
       "1     6'2\"\n",
       "2     6'2\"\n",
       "3    5'11\"\n",
       "4     5'9\"\n",
       "Name: Height, dtype: object"
      ]
     },
     "execution_count": 21,
     "metadata": {},
     "output_type": "execute_result"
    }
   ],
   "source": [
    "df['Height'].head()"
   ]
  },
  {
   "cell_type": "code",
   "execution_count": 22,
   "id": "8857782a",
   "metadata": {
    "execution": {
     "iopub.execute_input": "2023-06-11T13:51:05.238977Z",
     "iopub.status.busy": "2023-06-11T13:51:05.238184Z",
     "iopub.status.idle": "2023-06-11T13:51:05.475706Z",
     "shell.execute_reply": "2023-06-11T13:51:05.474465Z"
    },
    "papermill": {
     "duration": 0.259932,
     "end_time": "2023-06-11T13:51:05.478414",
     "exception": false,
     "start_time": "2023-06-11T13:51:05.218482",
     "status": "completed"
    },
    "tags": []
   },
   "outputs": [
    {
     "data": {
      "text/plain": [
       "0        67\n",
       "1        74\n",
       "2        74\n",
       "3        71\n",
       "4        69\n",
       "         ..\n",
       "18974    70\n",
       "18975    67\n",
       "18976    70\n",
       "18977    69\n",
       "18978    69\n",
       "Name: Height, Length: 18979, dtype: int64"
      ]
     },
     "execution_count": 22,
     "metadata": {},
     "output_type": "execute_result"
    }
   ],
   "source": [
    "#height to inches \n",
    "temp_height = []\n",
    "for x in range(len(df['Height'])):\n",
    "    x = df['Height'][x].replace('\"', '').split(\"'\")\n",
    "    inches = int(x[0]) * 12 + int(x[1])\n",
    "    temp_height.append(inches)\n",
    "df['Height'] = temp_height\n",
    "df['Height']"
   ]
  },
  {
   "cell_type": "code",
   "execution_count": 23,
   "id": "cc739c27",
   "metadata": {
    "execution": {
     "iopub.execute_input": "2023-06-11T13:51:05.516854Z",
     "iopub.status.busy": "2023-06-11T13:51:05.516426Z",
     "iopub.status.idle": "2023-06-11T13:51:05.525194Z",
     "shell.execute_reply": "2023-06-11T13:51:05.524106Z"
    },
    "papermill": {
     "duration": 0.030898,
     "end_time": "2023-06-11T13:51:05.527460",
     "exception": false,
     "start_time": "2023-06-11T13:51:05.496562",
     "status": "completed"
    },
    "tags": []
   },
   "outputs": [
    {
     "data": {
      "text/plain": [
       "0    159lbs\n",
       "1    183lbs\n",
       "2    192lbs\n",
       "3    154lbs\n",
       "4    150lbs\n",
       "Name: Weight, dtype: object"
      ]
     },
     "execution_count": 23,
     "metadata": {},
     "output_type": "execute_result"
    }
   ],
   "source": [
    "df['Weight'].head()"
   ]
  },
  {
   "cell_type": "code",
   "execution_count": 24,
   "id": "533add83",
   "metadata": {
    "execution": {
     "iopub.execute_input": "2023-06-11T13:51:05.566313Z",
     "iopub.status.busy": "2023-06-11T13:51:05.565874Z",
     "iopub.status.idle": "2023-06-11T13:51:05.789195Z",
     "shell.execute_reply": "2023-06-11T13:51:05.788073Z"
    },
    "papermill": {
     "duration": 0.246137,
     "end_time": "2023-06-11T13:51:05.791861",
     "exception": false,
     "start_time": "2023-06-11T13:51:05.545724",
     "status": "completed"
    },
    "tags": []
   },
   "outputs": [
    {
     "data": {
      "text/plain": [
       "0        159\n",
       "1        183\n",
       "2        192\n",
       "3        154\n",
       "4        150\n",
       "        ... \n",
       "18974    154\n",
       "18975    128\n",
       "18976    146\n",
       "18977    143\n",
       "18978    150\n",
       "Name: Weight, Length: 18979, dtype: int64"
      ]
     },
     "execution_count": 24,
     "metadata": {},
     "output_type": "execute_result"
    }
   ],
   "source": [
    "#weight in lbs\n",
    "temp_weight= []\n",
    "for x in range(len(df['Weight'])):\n",
    "    temp_weight.append(int(df['Weight'][x].replace('lbs','')))\n",
    "    \n",
    "df['Weight'] = temp_weight\n",
    "df['Weight']"
   ]
  },
  {
   "cell_type": "code",
   "execution_count": 25,
   "id": "367c53bb",
   "metadata": {
    "execution": {
     "iopub.execute_input": "2023-06-11T13:51:05.830892Z",
     "iopub.status.busy": "2023-06-11T13:51:05.830500Z",
     "iopub.status.idle": "2023-06-11T13:51:05.839097Z",
     "shell.execute_reply": "2023-06-11T13:51:05.838072Z"
    },
    "papermill": {
     "duration": 0.031029,
     "end_time": "2023-06-11T13:51:05.841617",
     "exception": false,
     "start_time": "2023-06-11T13:51:05.810588",
     "status": "completed"
    },
    "tags": []
   },
   "outputs": [
    {
     "data": {
      "text/plain": [
       "0    €67.5M\n",
       "1      €46M\n",
       "2      €75M\n",
       "3      €87M\n",
       "4      €90M\n",
       "Name: Value, dtype: object"
      ]
     },
     "execution_count": 25,
     "metadata": {},
     "output_type": "execute_result"
    }
   ],
   "source": [
    "df['Value'].head()"
   ]
  },
  {
   "cell_type": "code",
   "execution_count": 26,
   "id": "48f15ef9",
   "metadata": {
    "execution": {
     "iopub.execute_input": "2023-06-11T13:51:05.881424Z",
     "iopub.status.busy": "2023-06-11T13:51:05.880484Z",
     "iopub.status.idle": "2023-06-11T13:51:06.127152Z",
     "shell.execute_reply": "2023-06-11T13:51:06.125810Z"
    },
    "papermill": {
     "duration": 0.269527,
     "end_time": "2023-06-11T13:51:06.130074",
     "exception": false,
     "start_time": "2023-06-11T13:51:05.860547",
     "status": "completed"
    },
    "tags": []
   },
   "outputs": [
    {
     "data": {
      "text/plain": [
       "0        67500000\n",
       "1        46000000\n",
       "2        75000000\n",
       "3        87000000\n",
       "4        90000000\n",
       "           ...   \n",
       "18974       35000\n",
       "18975       60000\n",
       "18976       40000\n",
       "18977       60000\n",
       "18978       60000\n",
       "Name: Value, Length: 18979, dtype: int64"
      ]
     },
     "execution_count": 26,
     "metadata": {},
     "output_type": "execute_result"
    }
   ],
   "source": [
    "#value\n",
    "temp_value = []\n",
    "for x in range(len(df['Value'])):\n",
    "    value = df['Value'][x]\n",
    "    value = value.replace('€','')\n",
    "    value = value.replace('K','000')\n",
    "    value = value.replace('M','000000')\n",
    "    value = value.replace('.','F')\n",
    "    if  'F' in value:\n",
    "        value = value.replace('F','')\n",
    "        value = value = int(value) / 10\n",
    "    temp_value.append(int(value))\n",
    "\n",
    "df['Value']= temp_value\n",
    "df['Value']"
   ]
  },
  {
   "cell_type": "code",
   "execution_count": 27,
   "id": "2c45db71",
   "metadata": {
    "execution": {
     "iopub.execute_input": "2023-06-11T13:51:06.169946Z",
     "iopub.status.busy": "2023-06-11T13:51:06.169553Z",
     "iopub.status.idle": "2023-06-11T13:51:06.237819Z",
     "shell.execute_reply": "2023-06-11T13:51:06.236120Z"
    },
    "papermill": {
     "duration": 0.091453,
     "end_time": "2023-06-11T13:51:06.240625",
     "exception": false,
     "start_time": "2023-06-11T13:51:06.149172",
     "status": "completed"
    },
    "tags": []
   },
   "outputs": [
    {
     "name": "stdout",
     "output_type": "stream",
     "text": [
      "<class 'pandas.core.frame.DataFrame'>\n",
      "RangeIndex: 18979 entries, 0 to 18978\n",
      "Data columns (total 74 columns):\n",
      " #   Column             Non-Null Count  Dtype         \n",
      "---  ------             --------------  -----         \n",
      " 0   LongName           18979 non-null  object        \n",
      " 1   Nationality        18979 non-null  object        \n",
      " 2   Positions          18979 non-null  object        \n",
      " 3   Name               18979 non-null  object        \n",
      " 4   Age                18979 non-null  int64         \n",
      " 5   ↓OVA               18979 non-null  int64         \n",
      " 6   POT                18979 non-null  int64         \n",
      " 7   ID                 18979 non-null  int64         \n",
      " 8   Height             18979 non-null  int64         \n",
      " 9   Weight             18979 non-null  int64         \n",
      " 10  foot               18979 non-null  object        \n",
      " 11  BOV                18979 non-null  int64         \n",
      " 12  BP                 18979 non-null  object        \n",
      " 13  Growth             18979 non-null  int64         \n",
      " 14  Joined             18979 non-null  datetime64[ns]\n",
      " 15  Value              18979 non-null  int64         \n",
      " 16  Wage               18979 non-null  object        \n",
      " 17  Attacking          18979 non-null  int64         \n",
      " 18  Crossing           18979 non-null  int64         \n",
      " 19  Finishing          18979 non-null  int64         \n",
      " 20  Heading Accuracy   18979 non-null  int64         \n",
      " 21  Short Passing      18979 non-null  int64         \n",
      " 22  Volleys            18979 non-null  int64         \n",
      " 23  Skill              18979 non-null  int64         \n",
      " 24  Dribbling          18979 non-null  int64         \n",
      " 25  Curve              18979 non-null  int64         \n",
      " 26  FK Accuracy        18979 non-null  int64         \n",
      " 27  Long Passing       18979 non-null  int64         \n",
      " 28  Ball Control       18979 non-null  int64         \n",
      " 29  Movement           18979 non-null  int64         \n",
      " 30  Acceleration       18979 non-null  int64         \n",
      " 31  Sprint Speed       18979 non-null  int64         \n",
      " 32  Agility            18979 non-null  int64         \n",
      " 33  Reactions          18979 non-null  int64         \n",
      " 34  Balance            18979 non-null  int64         \n",
      " 35  Power              18979 non-null  int64         \n",
      " 36  Shot Power         18979 non-null  int64         \n",
      " 37  Jumping            18979 non-null  int64         \n",
      " 38  Stamina            18979 non-null  int64         \n",
      " 39  Strength           18979 non-null  int64         \n",
      " 40  Long Shots         18979 non-null  int64         \n",
      " 41  Mentality          18979 non-null  int64         \n",
      " 42  Aggression         18979 non-null  int64         \n",
      " 43  Interceptions      18979 non-null  int64         \n",
      " 44  Positioning        18979 non-null  int64         \n",
      " 45  Vision             18979 non-null  int64         \n",
      " 46  Penalties          18979 non-null  int64         \n",
      " 47  Composure          18979 non-null  int64         \n",
      " 48  Defending          18979 non-null  int64         \n",
      " 49  Marking            18979 non-null  int64         \n",
      " 50  Standing Tackle    18979 non-null  int64         \n",
      " 51  Sliding Tackle     18979 non-null  int64         \n",
      " 52  Goalkeeping        18979 non-null  int64         \n",
      " 53  GK Diving          18979 non-null  int64         \n",
      " 54  GK Handling        18979 non-null  int64         \n",
      " 55  GK Kicking         18979 non-null  int64         \n",
      " 56  GK Positioning     18979 non-null  int64         \n",
      " 57  GK Reflexes        18979 non-null  int64         \n",
      " 58  Total Stats        18979 non-null  int64         \n",
      " 59  Base Stats         18979 non-null  int64         \n",
      " 60  W/F                18979 non-null  object        \n",
      " 61  SM                 18979 non-null  object        \n",
      " 62  A/W                18979 non-null  object        \n",
      " 63  D/W                18979 non-null  object        \n",
      " 64  IR                 18979 non-null  object        \n",
      " 65  PAC                18979 non-null  int64         \n",
      " 66  SHO                18979 non-null  int64         \n",
      " 67  PAS                18979 non-null  int64         \n",
      " 68  DRI                18979 non-null  int64         \n",
      " 69  DEF                18979 non-null  int64         \n",
      " 70  PHY                18979 non-null  int64         \n",
      " 71  Hits               18979 non-null  int64         \n",
      " 72  Team               18979 non-null  object        \n",
      " 73  Contract Duration  18979 non-null  object        \n",
      "dtypes: datetime64[ns](1), int64(59), object(14)\n",
      "memory usage: 10.7+ MB\n"
     ]
    }
   ],
   "source": [
    "df.info()"
   ]
  },
  {
   "cell_type": "code",
   "execution_count": 28,
   "id": "d3fbe594",
   "metadata": {
    "execution": {
     "iopub.execute_input": "2023-06-11T13:51:06.284090Z",
     "iopub.status.busy": "2023-06-11T13:51:06.283450Z",
     "iopub.status.idle": "2023-06-11T13:51:06.295266Z",
     "shell.execute_reply": "2023-06-11T13:51:06.293579Z"
    },
    "papermill": {
     "duration": 0.037781,
     "end_time": "2023-06-11T13:51:06.297958",
     "exception": false,
     "start_time": "2023-06-11T13:51:06.260177",
     "status": "completed"
    },
    "tags": []
   },
   "outputs": [
    {
     "data": {
      "text/plain": [
       "0    €560K\n",
       "1    €220K\n",
       "2    €125K\n",
       "3    €370K\n",
       "4    €270K\n",
       "Name: Wage, dtype: object"
      ]
     },
     "execution_count": 28,
     "metadata": {},
     "output_type": "execute_result"
    }
   ],
   "source": [
    "df['Wage'].head()"
   ]
  },
  {
   "cell_type": "code",
   "execution_count": 29,
   "id": "29f0a8a8",
   "metadata": {
    "execution": {
     "iopub.execute_input": "2023-06-11T13:51:06.351104Z",
     "iopub.status.busy": "2023-06-11T13:51:06.350487Z",
     "iopub.status.idle": "2023-06-11T13:51:06.598275Z",
     "shell.execute_reply": "2023-06-11T13:51:06.597068Z"
    },
    "papermill": {
     "duration": 0.275553,
     "end_time": "2023-06-11T13:51:06.600707",
     "exception": false,
     "start_time": "2023-06-11T13:51:06.325154",
     "status": "completed"
    },
    "tags": []
   },
   "outputs": [
    {
     "data": {
      "text/plain": [
       "0        560000\n",
       "1        220000\n",
       "2        125000\n",
       "3        370000\n",
       "4        270000\n",
       "          ...  \n",
       "18974      1000\n",
       "18975       500\n",
       "18976      1000\n",
       "18977       500\n",
       "18978       500\n",
       "Name: Wage, Length: 18979, dtype: int64"
      ]
     },
     "execution_count": 29,
     "metadata": {},
     "output_type": "execute_result"
    }
   ],
   "source": [
    "#Wage\n",
    "Temp_Wage = []\n",
    "for x in range(len(df['Wage'])):\n",
    "    Wage = df['Wage'][x]\n",
    "    Wage = Wage.replace('€','')\n",
    "    Wage = Wage.replace('K','000')\n",
    "    Wage = Wage.replace('M','000000')\n",
    "    Wage = Wage.replace('.','F')\n",
    "    if  'F' in Wage:\n",
    "        Wage = Wage.replace('F','')\n",
    "        Wage = Wage = int(Wage) / 10\n",
    "    Temp_Wage.append(int(Wage))\n",
    "\n",
    "df['Wage']= Temp_Wage\n",
    "df['Wage']"
   ]
  },
  {
   "cell_type": "code",
   "execution_count": 30,
   "id": "99c88339",
   "metadata": {
    "collapsed": true,
    "execution": {
     "iopub.execute_input": "2023-06-11T13:51:06.642059Z",
     "iopub.status.busy": "2023-06-11T13:51:06.640758Z",
     "iopub.status.idle": "2023-06-11T13:51:06.653305Z",
     "shell.execute_reply": "2023-06-11T13:51:06.652457Z"
    },
    "jupyter": {
     "outputs_hidden": true
    },
    "papermill": {
     "duration": 0.035372,
     "end_time": "2023-06-11T13:51:06.655476",
     "exception": false,
     "start_time": "2023-06-11T13:51:06.620104",
     "status": "completed"
    },
    "tags": []
   },
   "outputs": [
    {
     "data": {
      "text/plain": [
       "array(['RW ST CF', 'ST LW', 'GK', 'CAM CM', 'LW CAM', 'ST', 'ST LW RW',\n",
       "       'RW', 'LW', 'CB', 'CDM', 'CF ST', 'CDM CM', 'CDM RB', 'CF CAM',\n",
       "       'LW RW', 'LW ST', 'CM', 'RM LM CAM', 'RB', 'RW CAM CM', 'LB', 'CF',\n",
       "       'LM CF', 'ST CF LW', 'RW LW', 'CM CDM', 'CAM RM RW', 'CAM CF ST',\n",
       "       'CAM RM CF', 'LM ST', 'CM CDM CAM', 'LM', 'CAM RW', 'CB CDM',\n",
       "       'RM LM RW', 'RW RM', 'CF LW CAM', 'CAM CM CF', 'LW CF', 'CM RM LM',\n",
       "       'LB LM', 'CAM CM RM', 'CAM CF', 'LM RM LW', 'LM LB CM', 'CM LM LB',\n",
       "       'RM CM', 'CAM CM LW', 'CB LB', 'RM RB', 'ST RW', 'LM RW LW',\n",
       "       'RM RW', 'RB LB', 'RB RM', 'RM', 'CAM RM', 'RB RWB', 'CDM CB CM',\n",
       "       'LM LW RM', 'CM CAM', 'CAM RM ST', 'LM RM', 'LM LWB', 'ST RM CF',\n",
       "       'RW RM CF', 'LM RM CF', 'RM CF', 'RB CM', 'LW CAM RW', 'CAM LW CM',\n",
       "       'CM CAM CDM', 'RW LW CAM', 'CM CAM LM', 'CM RM ST', 'CDM CM RB',\n",
       "       'ST CAM', 'RM ST', 'LB CB LWB', 'CAM LW ST', 'RWB RM', 'CB CDM LB',\n",
       "       'CM LM RM', 'LM LW', 'RW LW RM', 'RB CDM CM', 'RM LM CF', 'LM LB',\n",
       "       'CM LM', 'LB LM RM', 'ST LW RM', 'CAM CM ST', 'ST CF',\n",
       "       'CDM CM CAM', 'LWB LB', 'LW RW LM', 'RB CB', 'RM RW ST',\n",
       "       'CF ST CAM', 'LM CAM RM', 'LWB', 'ST LM', 'RW CAM', 'LM CAM',\n",
       "       'RWB RB', 'ST RW LW', 'CAM', 'RB RM RW', 'LB LWB', 'RM CAM',\n",
       "       'CAM ST', 'CDM CB', 'CF LM LW', 'CAM LM LW', 'CB RB', 'LW RW CAM',\n",
       "       'RB CB RWB', 'LW ST CM', 'CB RB RWB', 'RW ST LW', 'LM LW ST',\n",
       "       'RM CAM CM', 'LW CAM CM', 'RWB RB RM', 'CB LB RB', 'LB LM LWB',\n",
       "       'CM LM CDM', 'RM CAM RW', 'CF CAM ST', 'CAM LW', 'RW ST', 'LW LM',\n",
       "       'RB RM CM', 'ST CAM RW', 'CM RB LB', 'CAM LM RM', 'RB RW', 'LM CM',\n",
       "       'RM LM CM', 'CDM CM CB', 'CM CF', 'CF LW RW', 'ST RM',\n",
       "       'CAM CM CDM', 'LB CB', 'ST LM RM', 'RW RWB', 'RM RWB RB',\n",
       "       'LM ST CAM', 'RM LM', 'LW CM', 'RB RWB LB', 'CAM ST CF',\n",
       "       'CM CAM RM', 'ST LW CAM', 'RM RW CAM', 'CM CDM RM', 'RB RM RWB',\n",
       "       'CAM ST LM', 'CDM CB LB', 'LM CM RM', 'CF RW', 'CAM RM LW',\n",
       "       'CM RM CDM', 'LB LWB LM', 'LW RW CF', 'LWB LW LB', 'CDM CM LM',\n",
       "       'LW LM CAM', 'CB CM', 'RWB RW RB', 'ST RW RM', 'LW RW CM',\n",
       "       'LM RM CAM', 'LB RB', 'LM RB LB', 'RWB RM RB', 'ST RM LM',\n",
       "       'CAM CM LM', 'LW ST RW', 'LW LM ST', 'CF CM', 'LB CB LM', 'RM RWB',\n",
       "       'CM CDM LM', 'ST CAM CF', 'CF CAM LW', 'RM LWB', 'RB LB CB',\n",
       "       'LB LM RB', 'CF ST RW', 'CM CAM LW', 'LB CM', 'CM CDM RB',\n",
       "       'LM RM RB', 'CF ST LM', 'LB RB CB', 'CM RM CAM', 'LW CF ST',\n",
       "       'RM ST CAM', 'LW RW ST', 'CDM CM LB', 'CM LW', 'ST LW LM',\n",
       "       'RW LW ST', 'RWB', 'CM LM CAM', 'CAM LM CM', 'CAM CDM',\n",
       "       'LWB LB LM', 'ST CF CAM', 'CAM RM CM', 'CF ST LW', 'LB LM CAM',\n",
       "       'RM CM CAM', 'CAM RM LM', 'CDM LB', 'RM ST RW', 'RW RB RM',\n",
       "       'CB RB RM', 'LM ST RM', 'RM ST LM', 'RB CDM', 'LM RM CM',\n",
       "       'LB LWB CB', 'RWB RB LWB', 'CDM RWB', 'ST LM CAM', 'CAM CF RW',\n",
       "       'RB RWB RM', 'CF LM CAM', 'RB RM LB', 'ST RM CAM', 'LM RM ST',\n",
       "       'CM RW CAM', 'ST CF LM', 'RM LM RWB', 'RB LB RM', 'CAM LM',\n",
       "       'ST LM LW', 'RM LM ST', 'LM LW LB', 'LW RW RM', 'CM RM',\n",
       "       'CB RB LB', 'RB CB CDM', 'LWB CB', 'CAM RW RM', 'LWB LM',\n",
       "       'CAM CF CM', 'LW CF LM', 'CM CDM LW', 'LB CM RB', 'CF LW',\n",
       "       'LM CM LB', 'RM RW LM', 'RM CAM LM', 'LM RM RW', 'CM CDM CB',\n",
       "       'LWB RM LB', 'RM LB RB', 'RW LW CF', 'CM CF RM', 'RM RB LB',\n",
       "       'ST LM RW', 'CF LW ST', 'LM LW CAM', 'RM RW CF', 'CAM ST LW',\n",
       "       'LM CM CAM', 'CM RW LW', 'LW LM CF', 'CAM RW ST', 'RW LWB LW',\n",
       "       'CM CAM CF', 'RW RM LW', 'ST CAM LM', 'CM CB', 'LW ST LM',\n",
       "       'CB RB CDM', 'LWB CM', 'RM LM LB', 'LM CAM CM', 'RM RW CM',\n",
       "       'RM CAM ST', 'CDM RM RB', 'RWB RW', 'LM LB RB', 'LB RB RWB',\n",
       "       'RM RWB CAM', 'CAM LM CF', 'ST RM LW', 'CB CDM CM', 'CF CAM CM',\n",
       "       'CF CAM RW', 'RB RW LB', 'CDM CM RM', 'CM LB', 'ST RW CAM',\n",
       "       'RM CF LM', 'LB RB RM', 'LW RM RW', 'CM RM RW', 'CF LM RM',\n",
       "       'RM RW LW', 'CAM ST RM', 'RW CF', 'CM CAM ST', 'CAM LM LB',\n",
       "       'CAM CDM CM', 'LWB LM LB', 'CDM CAM', 'RB LB RWB', 'CAM RW LW',\n",
       "       'LW CAM CF', 'RW LB', 'RB RWB CB', 'RM LW', 'LM CF RM', 'RM CM RB',\n",
       "       'LW LM LB', 'CAM LM ST', 'ST RM RW', 'CDM RB RM', 'CM LWB',\n",
       "       'LM RM LWB', 'CM CDM LB', 'LB CDM', 'ST LM RB', 'RW LW LM',\n",
       "       'LW CF RW', 'RW ST RM', 'CM CB CDM', 'RB CDM RM', 'LM RWB RM',\n",
       "       'CB LB CDM', 'RB CM RM', 'RM ST CF', 'CAM LW LM', 'LM ST LW',\n",
       "       'CAM RM RB', 'ST CAM RM', 'CM LW LM', 'RW ST CAM', 'CM LB LM',\n",
       "       'RB CB LB', 'CAM LW RW', 'LM CAM LB', 'RW CAM LW', 'LM LWB CM',\n",
       "       'RW RB', 'CM RM RWB', 'LB LM LW', 'RM CAM RB', 'RM CM ST',\n",
       "       'LM ST CF', 'LW LWB RWB', 'RM LM RB', 'LM LB LW', 'RW LWB RM',\n",
       "       'LM CAM LW', 'RB RM LM', 'CB RWB', 'RM LW CAM', 'LB LW',\n",
       "       'CDM CM ST', 'LB CM CDM', 'CF CAM LM', 'RW CAM RM', 'RW CM CAM',\n",
       "       'LM LW RW', 'RW LM LW', 'RM LW RW', 'ST CAM CM', 'CAM RW CM',\n",
       "       'CB CDM RB', 'LWB LM CM', 'CB LB LWB', 'RW LW RWB', 'CM LM ST',\n",
       "       'LWB LM RB', 'LB LW LM', 'RW RM CAM', 'RB CM CAM', 'RM CAM CF',\n",
       "       'CM RW', 'CM LWB LM', 'CB LWB', 'LM CM CDM', 'CAM RB', 'RM LB LM',\n",
       "       'CB RB CM', 'RB CM RWB', 'LB RB LM', 'LB LW RW', 'LM CAM ST',\n",
       "       'CAM ST CM', 'LM ST CM', 'CDM CAM CM', 'CF ST RM', 'LM ST LB',\n",
       "       'CAM CF RM', 'CM RM RB', 'ST CAM LW', 'LWB CM LB', 'RWB RM LWB',\n",
       "       'CM LW ST', 'LB LM CB', 'CAM ST RW', 'RWB CB', 'LM LWB LB',\n",
       "       'CF ST CM', 'RM RWB ST', 'RM RB RWB', 'ST LW CF', 'LM LB LWB',\n",
       "       'CM CF CAM', 'RW RM ST', 'LM RW', 'LB LWB RB', 'RM RB LM',\n",
       "       'RM CM LM', 'LW ST CAM', 'RB RM CB', 'LB CM LM', 'LWB RWB LB',\n",
       "       'RM CF CAM', 'CF RM RW', 'LM LW CF', 'RB LM LB', 'RB RWB RW',\n",
       "       'CAM CM RW', 'LB CM LW', 'CDM RB CM', 'CM RB', 'LM RM LB',\n",
       "       'CDM RB CB', 'CM RB CDM', 'LM RW RM', 'ST CF RW', 'RB CB RM',\n",
       "       'LM CF ST', 'RM CM CDM', 'RWB LW LM', 'LW CAM LM', 'CDM LM CM',\n",
       "       'ST CM CAM', 'LM RM RWB', 'CM CAM RW', 'CAM LM RW', 'LW LM RM',\n",
       "       'LM ST RW', 'CB LWB LB', 'CB CM CDM', 'CB CAM', 'RW CF LW',\n",
       "       'CDM RB LB', 'CAM RW CF', 'LW LB', 'LB RM RB', 'RWB LWB RB',\n",
       "       'ST CM RB', 'CM CB RB', 'LB LW RB', 'CF RM RWB', 'LB RM',\n",
       "       'RM RW RB', 'CDM RM CM', 'CDM LB CM', 'LM CDM CM', 'RM CF ST',\n",
       "       'RW LM CAM', 'RW CM', 'LM LB RM', 'CF CM ST', 'RM RWB LM',\n",
       "       'RW RM LM', 'CM CB CAM', 'LM CM RW', 'RB RM CDM', 'CF CM LM',\n",
       "       'RWB LWB RM', 'CF RM', 'CM CF ST', 'RWB RB CB', 'LWB RWB',\n",
       "       'RM LM LW', 'ST CM', 'ST RM RWB', 'LW RM CM', 'LW CAM ST',\n",
       "       'CB ST CAM', 'CDM CM RWB', 'RWB CM', 'LB CB RB', 'CF RM CM',\n",
       "       'CDM CB RB', 'RB CB LWB', 'LM LB CDM', 'CM LM RB', 'LW LWB',\n",
       "       'RW CF CAM', 'RM RB CAM', 'RM CDM LM', 'LB RB CM', 'LWB LB CB',\n",
       "       'LB RB CDM', 'RB CM LB', 'CDM RM', 'LM RB CB', 'RW RWB RM',\n",
       "       'RM LW ST', 'LB RB LWB', 'RM LM CDM', 'RM ST LW', 'RB RM CAM',\n",
       "       'RB LB CDM', 'CF LM', 'RW LW RB', 'RB RWB CDM', 'CM CAM LB',\n",
       "       'LW RW LWB', 'LWB LB RW', 'LB CB CDM', 'CB LWB RWB', 'ST RB RM',\n",
       "       'CM RB RM', 'RW LM', 'RM CF RB', 'CB RM RB', 'RWB LWB', 'LWB LW',\n",
       "       'CM ST CDM', 'CB RB ST', 'LB LWB CDM', 'CB RWB RM', 'CB ST',\n",
       "       'RWB CM RM', 'LM CDM RM', 'RB CM CB', 'LM RW ST', 'LM LWB CB',\n",
       "       'CM ST', 'ST LW LWB', 'CM RM LW', 'ST RW LM', 'CAM RWB CM',\n",
       "       'RM RB RW', 'CM RB LM', 'LW LM CM', 'LW RM CAM', 'RM LM LWB',\n",
       "       'RB RWB LWB', 'ST LM CF', 'LB CM ST', 'ST LWB', 'RB ST LM',\n",
       "       'CDM CAM LM', 'LM ST LWB', 'LB RB RW', 'RM CDM', 'CB LM',\n",
       "       'RW CAM LM', 'LB CDM LM', 'RB LB LWB', 'RW RB LM', 'RW RB LB',\n",
       "       'RW LM RM', 'RM LB CM', 'LW CAM RM', 'LB CDM CB', 'LW LB LM',\n",
       "       'CDM RB RWB', 'CB RW', 'CM LM LW', 'LM RM CB', 'ST CB CDM',\n",
       "       'LM LWB ST', 'RB RWB CM', 'CDM CB RM', 'ST RW CF', 'ST CB',\n",
       "       'ST LW CM', 'LM LB ST', 'GK RB', 'RB LM', 'ST CB RB', 'RB CAM',\n",
       "       'LM LW CM', 'LM CM LW', 'CB CAM CM', 'LM RB', 'RWB CAM',\n",
       "       'CB CDM RM', 'ST RB', 'ST RWB', 'LM LWB RM', 'CM CF LM',\n",
       "       'CAM CDM LM', 'CB RWB RB', 'LB LM CM', 'CM RWB', 'ST CF RM',\n",
       "       'CDM LM', 'CAM LB', 'RB RM ST', 'LM CDM', 'CDM RW RB', 'LM CF CAM',\n",
       "       'CF RM ST', 'LWB LM RWB', 'CAM CF LM', 'RB ST CB', 'RW RB LW',\n",
       "       'LB LM CDM', 'RB CB ST', 'CDM ST', 'LW RM LM', 'RB LWB',\n",
       "       'CDM LB CB', 'RWB CB RB', 'LM LB CF', 'RB CDM LB', 'LB LWB CM',\n",
       "       'RM LM CB', 'CAM LW CF', 'LB LW CM', 'RB CM CDM', 'LWB LM ST',\n",
       "       'CM RW RM', 'CB RM', 'CM LM CB', 'LM LB CB', 'ST RW CM',\n",
       "       'RM ST CM', 'CM CAM RB', 'RWB RM LM', 'CM RWB CDM', 'LB LWB LW'],\n",
       "      dtype=object)"
      ]
     },
     "execution_count": 30,
     "metadata": {},
     "output_type": "execute_result"
    }
   ],
   "source": [
    "#positions\n",
    "df['Positions'].unique()\n",
    "#far too many unique groupings of positions will need to order them to reduce size"
   ]
  },
  {
   "cell_type": "code",
   "execution_count": 31,
   "id": "958ac145",
   "metadata": {
    "execution": {
     "iopub.execute_input": "2023-06-11T13:51:06.697346Z",
     "iopub.status.busy": "2023-06-11T13:51:06.696568Z",
     "iopub.status.idle": "2023-06-11T13:51:06.918184Z",
     "shell.execute_reply": "2023-06-11T13:51:06.917014Z"
    },
    "papermill": {
     "duration": 0.245443,
     "end_time": "2023-06-11T13:51:06.920808",
     "exception": false,
     "start_time": "2023-06-11T13:51:06.675365",
     "status": "completed"
    },
    "tags": []
   },
   "outputs": [
    {
     "data": {
      "text/plain": [
       "array(['CF RW ST', 'LW ST', 'GK', 'CAM CM', 'CAM LW', 'ST', 'LW RW ST',\n",
       "       'RW', 'LW', 'CB', 'CDM', 'CF ST', 'CDM CM', 'CDM RB', 'CAM CF',\n",
       "       'LW RW', 'CM', 'CAM LM RM', 'RB', 'CAM CM RW', 'LB', 'CF', 'CF LM',\n",
       "       'CF LW ST', 'CAM RM RW', 'CAM CF ST', 'CAM CF RM', 'LM ST',\n",
       "       'CAM CDM CM', 'LM', 'CAM RW', 'CB CDM', 'LM RM RW', 'RM RW',\n",
       "       'CAM CF LW', 'CAM CF CM', 'CF LW', 'CM LM RM', 'LB LM',\n",
       "       'CAM CM RM', 'LM LW RM', 'CM LB LM', 'CM RM', 'CAM CM LW', 'CB LB',\n",
       "       'RB RM', 'RW ST', 'LM LW RW', 'LB RB', 'RM', 'CAM RM', 'RB RWB',\n",
       "       'CB CDM CM', 'CAM RM ST', 'LM RM', 'LM LWB', 'CF RM ST',\n",
       "       'CF RM RW', 'CF LM RM', 'CF RM', 'CM RB', 'CAM LW RW', 'CAM CM LM',\n",
       "       'CM RM ST', 'CDM CM RB', 'CAM ST', 'RM ST', 'CB LB LWB',\n",
       "       'CAM LW ST', 'RM RWB', 'CB CDM LB', 'LM LW', 'LW RM RW', 'CM LM',\n",
       "       'LB LM RM', 'LW RM ST', 'CAM CM ST', 'LB LWB', 'CB RB', 'RM RW ST',\n",
       "       'LWB', 'CAM LM', 'CAM', 'RB RM RW', 'CF LM LW', 'CAM LM LW',\n",
       "       'CB RB RWB', 'CM LW ST', 'LM LW ST', 'RB RM RWB', 'CB LB RB',\n",
       "       'LB LM LWB', 'CDM CM LM', 'CM RB RM', 'CAM RW ST', 'CM LB RB',\n",
       "       'RB RW', 'CF CM', 'CF LW RW', 'LM RM ST', 'RW RWB', 'CAM LM ST',\n",
       "       'CM LW', 'LB RB RWB', 'CDM CM RM', 'CF RW', 'CAM LW RM',\n",
       "       'LB LW LWB', 'CB CM', 'RB RW RWB', 'CM LW RW', 'LB LM RB',\n",
       "       'CB LB LM', 'LWB RM', 'CM LB', 'LM RB RM', 'CF LM ST', 'CDM CM LB',\n",
       "       'RWB', 'CAM CDM', 'CAM LB LM', 'CDM LB', 'CB RB RM', 'LWB RB RWB',\n",
       "       'CDM RWB', 'CAM CF RW', 'CAM CF LM', 'LB RB RM', 'LM RM RWB',\n",
       "       'LB LM LW', 'CB CDM RB', 'CB LWB', 'CDM CM LW', 'LB LWB RM',\n",
       "       'CF CM RM', 'LM RW ST', 'LW LWB RW', 'CM LWB', 'CM RM RW',\n",
       "       'CDM RB RM', 'CAM RM RWB', 'LB RB RW', 'LB RW', 'LW RM',\n",
       "       'LM LWB RM', 'LM RB ST', 'CAM RB RM', 'CM LM LW', 'CM LM LWB',\n",
       "       'CM RM RWB', 'LW LWB RWB', 'LWB RM RW', 'CB RWB', 'LB LW',\n",
       "       'CDM CM ST', 'LW RW RWB', 'CM LM ST', 'LM LWB RB', 'CAM CM RB',\n",
       "       'CM RW', 'CAM RB', 'CB CM RB', 'CM RB RWB', 'LB LW RW', 'LB LM ST',\n",
       "       'CM LB LWB', 'LWB RM RWB', 'CF CM ST', 'RM RWB ST', 'LM RW',\n",
       "       'LB LWB RB', 'LB LWB RWB', 'CM LB LW', 'LM LW RWB', 'CAM LM RW',\n",
       "       'CAM CB', 'CDM LB RB', 'CM RB ST', 'LB LW RB', 'CF RM RWB',\n",
       "       'LB RM', 'CAM CB CM', 'CM LM RW', 'CF CM LM', 'LWB RWB', 'CM ST',\n",
       "       'CM LW RM', 'CAM CB ST', 'CDM CM RWB', 'CM RWB', 'CB LWB RB',\n",
       "       'CDM LB LM', 'CM LM RB', 'LW LWB', 'CDM LM RM', 'CDM RM',\n",
       "       'CB LM RB', 'RM RW RWB', 'LW RB RW', 'CDM RB RWB', 'CAM CM LB',\n",
       "       'LB LWB RW', 'CB LWB RWB', 'RB RM ST', 'CF RB RM', 'CB RB ST',\n",
       "       'CDM LB LWB', 'CB RM RWB', 'CB ST', 'CB LM LWB', 'LW LWB ST',\n",
       "       'CAM CM RWB', 'CM LB ST', 'LWB ST', 'CAM CDM LM', 'LM LWB ST',\n",
       "       'CB LM', 'LM RB RW', 'CM LB RM', 'CB RW', 'CB LM RM', 'CB CDM ST',\n",
       "       'CB CDM RM', 'GK RB', 'LM RB', 'CAM RWB', 'RB ST', 'RWB ST',\n",
       "       'CDM LM', 'CAM LB', 'CDM RB RW', 'LM LWB RWB', 'CDM ST', 'LWB RB',\n",
       "       'CF LB LM', 'CB RM', 'CB CM LM', 'CM RW ST'], dtype=object)"
      ]
     },
     "execution_count": 31,
     "metadata": {},
     "output_type": "execute_result"
    }
   ],
   "source": [
    "temp_position = []\n",
    "for x in range(len(df['Positions'])):\n",
    "    y = sorted(df['Positions'][x].split(\" \"))\n",
    "    yx = ' '.join(y)\n",
    "    temp_position.append(yx)\n",
    "\n",
    "df['Positions'] = temp_position\n",
    "df['Positions'] = df['Positions'].astype(object)\n",
    "df['Positions'].unique()\n",
    "#ordered the list of positions leaving them in groups"
   ]
  },
  {
   "cell_type": "markdown",
   "id": "835d3c0a",
   "metadata": {
    "papermill": {
     "duration": 0.02014,
     "end_time": "2023-06-11T13:51:06.961360",
     "exception": false,
     "start_time": "2023-06-11T13:51:06.941220",
     "status": "completed"
    },
    "tags": []
   },
   "source": [
    "# **Visualize Relationships**\n"
   ]
  },
  {
   "cell_type": "code",
   "execution_count": 32,
   "id": "ac3bd379",
   "metadata": {
    "execution": {
     "iopub.execute_input": "2023-06-11T13:51:07.004357Z",
     "iopub.status.busy": "2023-06-11T13:51:07.003175Z",
     "iopub.status.idle": "2023-06-11T13:51:08.100363Z",
     "shell.execute_reply": "2023-06-11T13:51:08.099165Z"
    },
    "papermill": {
     "duration": 1.122044,
     "end_time": "2023-06-11T13:51:08.103635",
     "exception": false,
     "start_time": "2023-06-11T13:51:06.981591",
     "status": "completed"
    },
    "tags": []
   },
   "outputs": [],
   "source": [
    "import seaborn as sns\n",
    "import matplotlib.pyplot as plt"
   ]
  },
  {
   "cell_type": "code",
   "execution_count": 33,
   "id": "bdf71bf5",
   "metadata": {
    "execution": {
     "iopub.execute_input": "2023-06-11T13:51:08.146082Z",
     "iopub.status.busy": "2023-06-11T13:51:08.145372Z",
     "iopub.status.idle": "2023-06-11T13:51:09.707214Z",
     "shell.execute_reply": "2023-06-11T13:51:09.705867Z"
    },
    "papermill": {
     "duration": 1.587428,
     "end_time": "2023-06-11T13:51:09.710978",
     "exception": false,
     "start_time": "2023-06-11T13:51:08.123550",
     "status": "completed"
    },
    "tags": []
   },
   "outputs": [
    {
     "data": {
      "text/plain": [
       "<seaborn.axisgrid.JointGrid at 0x7a07b28c4190>"
      ]
     },
     "execution_count": 33,
     "metadata": {},
     "output_type": "execute_result"
    },
    {
     "data": {
      "image/png": "[encoded data removed]",
      "text/plain": [
       "<Figure size 432x432 with 3 Axes>"
      ]
     },
     "metadata": {
      "needs_background": "light"
     },
     "output_type": "display_data"
    }
   ],
   "source": [
    "sns.jointplot(data=df, x=\"Age\", y=\"↓OVA\", hue=\"foot\")"
   ]
  },
  {
   "cell_type": "markdown",
   "id": "2ce9519f",
   "metadata": {
    "papermill": {
     "duration": 0.022042,
     "end_time": "2023-06-11T13:51:09.755941",
     "exception": false,
     "start_time": "2023-06-11T13:51:09.733899",
     "status": "completed"
    },
    "tags": []
   },
   "source": [
    "#There seems to be an outlier for a 53 year old player"
   ]
  },
  {
   "cell_type": "code",
   "execution_count": 34,
   "id": "78fbf562",
   "metadata": {
    "execution": {
     "iopub.execute_input": "2023-06-11T13:51:09.802587Z",
     "iopub.status.busy": "2023-06-11T13:51:09.802158Z",
     "iopub.status.idle": "2023-06-11T13:51:09.835684Z",
     "shell.execute_reply": "2023-06-11T13:51:09.834389Z"
    },
    "papermill": {
     "duration": 0.05989,
     "end_time": "2023-06-11T13:51:09.838149",
     "exception": false,
     "start_time": "2023-06-11T13:51:09.778259",
     "status": "completed"
    },
    "tags": []
   },
   "outputs": [
    {
     "data": {
      "text/html": [
       "<div>\n",
       "<style scoped>\n",
       "    .dataframe tbody tr th:only-of-type {\n",
       "        vertical-align: middle;\n",
       "    }\n",
       "\n",
       "    .dataframe tbody tr th {\n",
       "        vertical-align: top;\n",
       "    }\n",
       "\n",
       "    .dataframe thead th {\n",
       "        text-align: right;\n",
       "    }\n",
       "</style>\n",
       "<table border=\"1\" class=\"dataframe\">\n",
       "  <thead>\n",
       "    <tr style=\"text-align: right;\">\n",
       "      <th></th>\n",
       "      <th>LongName</th>\n",
       "      <th>Nationality</th>\n",
       "      <th>Team</th>\n",
       "    </tr>\n",
       "  </thead>\n",
       "  <tbody>\n",
       "    <tr>\n",
       "      <th>16121</th>\n",
       "      <td>Kazuyoshi Miura</td>\n",
       "      <td>Japan</td>\n",
       "      <td>Yokohama FC</td>\n",
       "    </tr>\n",
       "  </tbody>\n",
       "</table>\n",
       "</div>"
      ],
      "text/plain": [
       "              LongName Nationality         Team\n",
       "16121  Kazuyoshi Miura       Japan  Yokohama FC"
      ]
     },
     "execution_count": 34,
     "metadata": {},
     "output_type": "execute_result"
    }
   ],
   "source": [
    "df.loc[df['Age'] == 53, ['LongName', 'Nationality', 'Team']]\n",
    "#The oldest Fifa Player plays for a Japanese Team"
   ]
  },
  {
   "cell_type": "code",
   "execution_count": 35,
   "id": "b8c2d13d",
   "metadata": {
    "execution": {
     "iopub.execute_input": "2023-06-11T13:51:09.884805Z",
     "iopub.status.busy": "2023-06-11T13:51:09.884136Z",
     "iopub.status.idle": "2023-06-11T13:51:10.251168Z",
     "shell.execute_reply": "2023-06-11T13:51:10.249990Z"
    },
    "papermill": {
     "duration": 0.393526,
     "end_time": "2023-06-11T13:51:10.254051",
     "exception": false,
     "start_time": "2023-06-11T13:51:09.860525",
     "status": "completed"
    },
    "tags": []
   },
   "outputs": [
    {
     "data": {
      "text/plain": [
       "<seaborn.axisgrid.FacetGrid at 0x7a07b0098690>"
      ]
     },
     "execution_count": 35,
     "metadata": {},
     "output_type": "execute_result"
    },
    {
     "data": {
      "image/png": "[encoded data removed]",
      "text/plain": [
       "<Figure size 360x360 with 1 Axes>"
      ]
     },
     "metadata": {
      "needs_background": "light"
     },
     "output_type": "display_data"
    }
   ],
   "source": [
    "sns.relplot(data=df, x=\"Wage\", y=\"↓OVA\")\n",
    "#It seems the best performing players are naturally paid the most with one player costing the most by far"
   ]
  },
  {
   "cell_type": "code",
   "execution_count": 36,
   "id": "d3dde624",
   "metadata": {
    "execution": {
     "iopub.execute_input": "2023-06-11T13:51:10.304141Z",
     "iopub.status.busy": "2023-06-11T13:51:10.303627Z",
     "iopub.status.idle": "2023-06-11T13:51:10.333204Z",
     "shell.execute_reply": "2023-06-11T13:51:10.332353Z"
    },
    "papermill": {
     "duration": 0.05805,
     "end_time": "2023-06-11T13:51:10.335577",
     "exception": false,
     "start_time": "2023-06-11T13:51:10.277527",
     "status": "completed"
    },
    "tags": []
   },
   "outputs": [
    {
     "data": {
      "text/html": [
       "<div>\n",
       "<style scoped>\n",
       "    .dataframe tbody tr th:only-of-type {\n",
       "        vertical-align: middle;\n",
       "    }\n",
       "\n",
       "    .dataframe tbody tr th {\n",
       "        vertical-align: top;\n",
       "    }\n",
       "\n",
       "    .dataframe thead th {\n",
       "        text-align: right;\n",
       "    }\n",
       "</style>\n",
       "<table border=\"1\" class=\"dataframe\">\n",
       "  <thead>\n",
       "    <tr style=\"text-align: right;\">\n",
       "      <th></th>\n",
       "      <th>Wage</th>\n",
       "      <th>LongName</th>\n",
       "      <th>Nationality</th>\n",
       "      <th>Team</th>\n",
       "      <th>↓OVA</th>\n",
       "    </tr>\n",
       "  </thead>\n",
       "  <tbody>\n",
       "    <tr>\n",
       "      <th>0</th>\n",
       "      <td>560000</td>\n",
       "      <td>Lionel Messi</td>\n",
       "      <td>Argentina</td>\n",
       "      <td>FC Barcelona</td>\n",
       "      <td>93</td>\n",
       "    </tr>\n",
       "    <tr>\n",
       "      <th>3</th>\n",
       "      <td>370000</td>\n",
       "      <td>Kevin De Bruyne</td>\n",
       "      <td>Belgium</td>\n",
       "      <td>Manchester City</td>\n",
       "      <td>91</td>\n",
       "    </tr>\n",
       "    <tr>\n",
       "      <th>15</th>\n",
       "      <td>350000</td>\n",
       "      <td>Karim Benzema</td>\n",
       "      <td>France</td>\n",
       "      <td>Real Madrid</td>\n",
       "      <td>89</td>\n",
       "    </tr>\n",
       "    <tr>\n",
       "      <th>25</th>\n",
       "      <td>350000</td>\n",
       "      <td>Eden Hazard</td>\n",
       "      <td>Belgium</td>\n",
       "      <td>Real Madrid</td>\n",
       "      <td>88</td>\n",
       "    </tr>\n",
       "    <tr>\n",
       "      <th>12</th>\n",
       "      <td>310000</td>\n",
       "      <td>Carlos Henrique Venancio Casimiro</td>\n",
       "      <td>Brazil</td>\n",
       "      <td>Real Madrid</td>\n",
       "      <td>89</td>\n",
       "    </tr>\n",
       "    <tr>\n",
       "      <th>26</th>\n",
       "      <td>310000</td>\n",
       "      <td>Toni Kroos</td>\n",
       "      <td>Germany</td>\n",
       "      <td>Real Madrid</td>\n",
       "      <td>88</td>\n",
       "    </tr>\n",
       "    <tr>\n",
       "      <th>16</th>\n",
       "      <td>300000</td>\n",
       "      <td>Sergio Ramos García</td>\n",
       "      <td>Spain</td>\n",
       "      <td>Real Madrid</td>\n",
       "      <td>89</td>\n",
       "    </tr>\n",
       "    <tr>\n",
       "      <th>17</th>\n",
       "      <td>300000</td>\n",
       "      <td>Sergio Agüero</td>\n",
       "      <td>Argentina</td>\n",
       "      <td>Manchester City</td>\n",
       "      <td>89</td>\n",
       "    </tr>\n",
       "    <tr>\n",
       "      <th>37</th>\n",
       "      <td>290000</td>\n",
       "      <td>Antoine Griezmann</td>\n",
       "      <td>France</td>\n",
       "      <td>FC Barcelona</td>\n",
       "      <td>87</td>\n",
       "    </tr>\n",
       "    <tr>\n",
       "      <th>4</th>\n",
       "      <td>270000</td>\n",
       "      <td>Neymar da Silva Santos Jr.</td>\n",
       "      <td>Brazil</td>\n",
       "      <td>Paris Saint-Germain</td>\n",
       "      <td>91</td>\n",
       "    </tr>\n",
       "    <tr>\n",
       "      <th>22</th>\n",
       "      <td>270000</td>\n",
       "      <td>Raheem Sterling</td>\n",
       "      <td>England</td>\n",
       "      <td>Manchester City</td>\n",
       "      <td>88</td>\n",
       "    </tr>\n",
       "  </tbody>\n",
       "</table>\n",
       "</div>"
      ],
      "text/plain": [
       "      Wage                           LongName Nationality  \\\n",
       "0   560000                       Lionel Messi   Argentina   \n",
       "3   370000                    Kevin De Bruyne     Belgium   \n",
       "15  350000                      Karim Benzema      France   \n",
       "25  350000                        Eden Hazard     Belgium   \n",
       "12  310000  Carlos Henrique Venancio Casimiro      Brazil   \n",
       "26  310000                         Toni Kroos     Germany   \n",
       "16  300000                Sergio Ramos García       Spain   \n",
       "17  300000                      Sergio Agüero   Argentina   \n",
       "37  290000                  Antoine Griezmann      France   \n",
       "4   270000         Neymar da Silva Santos Jr.      Brazil   \n",
       "22  270000                    Raheem Sterling     England   \n",
       "\n",
       "                   Team  ↓OVA  \n",
       "0          FC Barcelona    93  \n",
       "3       Manchester City    91  \n",
       "15          Real Madrid    89  \n",
       "25          Real Madrid    88  \n",
       "12          Real Madrid    89  \n",
       "26          Real Madrid    88  \n",
       "16          Real Madrid    89  \n",
       "17      Manchester City    89  \n",
       "37         FC Barcelona    87  \n",
       "4   Paris Saint-Germain    91  \n",
       "22      Manchester City    88  "
      ]
     },
     "execution_count": 36,
     "metadata": {},
     "output_type": "execute_result"
    }
   ],
   "source": [
    "#the top 10 most paid players\n",
    "most_payed = df.nlargest(n=10, columns=['Wage'], keep='all')\n",
    "most_payed[[\"Wage\",'LongName', 'Nationality', 'Team','↓OVA']]"
   ]
  },
  {
   "cell_type": "code",
   "execution_count": 37,
   "id": "5b38a1e7",
   "metadata": {
    "execution": {
     "iopub.execute_input": "2023-06-11T13:51:10.385099Z",
     "iopub.status.busy": "2023-06-11T13:51:10.384381Z",
     "iopub.status.idle": "2023-06-11T13:51:11.851766Z",
     "shell.execute_reply": "2023-06-11T13:51:11.850945Z"
    },
    "papermill": {
     "duration": 1.494832,
     "end_time": "2023-06-11T13:51:11.854289",
     "exception": false,
     "start_time": "2023-06-11T13:51:10.359457",
     "status": "completed"
    },
    "tags": []
   },
   "outputs": [
    {
     "data": {
      "text/plain": [
       "<seaborn.axisgrid.JointGrid at 0x7a07a7fbad90>"
      ]
     },
     "execution_count": 37,
     "metadata": {},
     "output_type": "execute_result"
    },
    {
     "data": {
      "image/png": "[encoded data removed]",
      "text/plain": [
       "<Figure size 432x432 with 3 Axes>"
      ]
     },
     "metadata": {
      "needs_background": "light"
     },
     "output_type": "display_data"
    }
   ],
   "source": [
    "g = sns.JointGrid(data=df, x=\"Weight\", y=\"Height\")\n",
    "g.plot_marginals(sns.histplot, kde=True)\n",
    "g.plot(sns.scatterplot, sns.histplot)"
   ]
  },
  {
   "cell_type": "code",
   "execution_count": 38,
   "id": "4be6e888",
   "metadata": {
    "execution": {
     "iopub.execute_input": "2023-06-11T13:51:11.905096Z",
     "iopub.status.busy": "2023-06-11T13:51:11.904417Z",
     "iopub.status.idle": "2023-06-11T13:51:11.929319Z",
     "shell.execute_reply": "2023-06-11T13:51:11.928102Z"
    },
    "papermill": {
     "duration": 0.052995,
     "end_time": "2023-06-11T13:51:11.931748",
     "exception": false,
     "start_time": "2023-06-11T13:51:11.878753",
     "status": "completed"
    },
    "tags": []
   },
   "outputs": [
    {
     "data": {
      "text/html": [
       "<div>\n",
       "<style scoped>\n",
       "    .dataframe tbody tr th:only-of-type {\n",
       "        vertical-align: middle;\n",
       "    }\n",
       "\n",
       "    .dataframe tbody tr th {\n",
       "        vertical-align: top;\n",
       "    }\n",
       "\n",
       "    .dataframe thead th {\n",
       "        text-align: right;\n",
       "    }\n",
       "</style>\n",
       "<table border=\"1\" class=\"dataframe\">\n",
       "  <thead>\n",
       "    <tr style=\"text-align: right;\">\n",
       "      <th></th>\n",
       "      <th>Weight</th>\n",
       "      <th>LongName</th>\n",
       "      <th>Nationality</th>\n",
       "      <th>Team</th>\n",
       "      <th>↓OVA</th>\n",
       "    </tr>\n",
       "  </thead>\n",
       "  <tbody>\n",
       "    <tr>\n",
       "      <th>10336</th>\n",
       "      <td>243</td>\n",
       "      <td>Adebayo Akinfenwa</td>\n",
       "      <td>England</td>\n",
       "      <td>Wycombe Wanderers</td>\n",
       "      <td>65</td>\n",
       "    </tr>\n",
       "    <tr>\n",
       "      <th>9488</th>\n",
       "      <td>236</td>\n",
       "      <td>Chris Seitz</td>\n",
       "      <td>United States</td>\n",
       "      <td>DC United</td>\n",
       "      <td>66</td>\n",
       "    </tr>\n",
       "    <tr>\n",
       "      <th>4519</th>\n",
       "      <td>229</td>\n",
       "      <td>Obbi Oularé</td>\n",
       "      <td>Belgium</td>\n",
       "      <td>Standard de Liège</td>\n",
       "      <td>71</td>\n",
       "    </tr>\n",
       "    <tr>\n",
       "      <th>4652</th>\n",
       "      <td>229</td>\n",
       "      <td>Fabien Farnolle</td>\n",
       "      <td>Benin</td>\n",
       "      <td>BB Erzurumspor</td>\n",
       "      <td>70</td>\n",
       "    </tr>\n",
       "    <tr>\n",
       "      <th>13608</th>\n",
       "      <td>229</td>\n",
       "      <td>Dennis Corozo</td>\n",
       "      <td>Ecuador</td>\n",
       "      <td>Delfín SC</td>\n",
       "      <td>62</td>\n",
       "    </tr>\n",
       "  </tbody>\n",
       "</table>\n",
       "</div>"
      ],
      "text/plain": [
       "       Weight           LongName    Nationality               Team  ↓OVA\n",
       "10336     243  Adebayo Akinfenwa        England  Wycombe Wanderers    65\n",
       "9488      236        Chris Seitz  United States          DC United    66\n",
       "4519      229        Obbi Oularé        Belgium  Standard de Liège    71\n",
       "4652      229    Fabien Farnolle          Benin     BB Erzurumspor    70\n",
       "13608     229      Dennis Corozo        Ecuador          Delfín SC    62"
      ]
     },
     "execution_count": 38,
     "metadata": {},
     "output_type": "execute_result"
    }
   ],
   "source": [
    "heavyiest = df.nlargest(n=5, columns=['Weight'], keep='all')\n",
    "heavyiest[[\"Weight\",'LongName', 'Nationality', 'Team','↓OVA']]\n",
    "#the heaviest player is Adebayo Akinfenwa from England"
   ]
  },
  {
   "cell_type": "code",
   "execution_count": 39,
   "id": "143ca50d",
   "metadata": {
    "execution": {
     "iopub.execute_input": "2023-06-11T13:51:11.982604Z",
     "iopub.status.busy": "2023-06-11T13:51:11.981898Z",
     "iopub.status.idle": "2023-06-11T13:51:12.004139Z",
     "shell.execute_reply": "2023-06-11T13:51:12.002955Z"
    },
    "papermill": {
     "duration": 0.050455,
     "end_time": "2023-06-11T13:51:12.006634",
     "exception": false,
     "start_time": "2023-06-11T13:51:11.956179",
     "status": "completed"
    },
    "tags": []
   },
   "outputs": [
    {
     "data": {
      "text/html": [
       "<div>\n",
       "<style scoped>\n",
       "    .dataframe tbody tr th:only-of-type {\n",
       "        vertical-align: middle;\n",
       "    }\n",
       "\n",
       "    .dataframe tbody tr th {\n",
       "        vertical-align: top;\n",
       "    }\n",
       "\n",
       "    .dataframe thead th {\n",
       "        text-align: right;\n",
       "    }\n",
       "</style>\n",
       "<table border=\"1\" class=\"dataframe\">\n",
       "  <thead>\n",
       "    <tr style=\"text-align: right;\">\n",
       "      <th></th>\n",
       "      <th>Height</th>\n",
       "      <th>LongName</th>\n",
       "      <th>Nationality</th>\n",
       "      <th>Team</th>\n",
       "      <th>↓OVA</th>\n",
       "    </tr>\n",
       "  </thead>\n",
       "  <tbody>\n",
       "    <tr>\n",
       "      <th>10305</th>\n",
       "      <td>81</td>\n",
       "      <td>Tomáš Holý</td>\n",
       "      <td>Czech Republic</td>\n",
       "      <td>Ipswich Town</td>\n",
       "      <td>65</td>\n",
       "    </tr>\n",
       "    <tr>\n",
       "      <th>4124</th>\n",
       "      <td>80</td>\n",
       "      <td>Costel Pantilimon</td>\n",
       "      <td>Romania</td>\n",
       "      <td>Denizlispor</td>\n",
       "      <td>71</td>\n",
       "    </tr>\n",
       "    <tr>\n",
       "      <th>6615</th>\n",
       "      <td>80</td>\n",
       "      <td>Vanja Milinković-Savić</td>\n",
       "      <td>Serbia</td>\n",
       "      <td>Torino</td>\n",
       "      <td>68</td>\n",
       "    </tr>\n",
       "    <tr>\n",
       "      <th>8304</th>\n",
       "      <td>80</td>\n",
       "      <td>Kjell Scherpen</td>\n",
       "      <td>Netherlands</td>\n",
       "      <td>Ajax</td>\n",
       "      <td>67</td>\n",
       "    </tr>\n",
       "    <tr>\n",
       "      <th>10905</th>\n",
       "      <td>80</td>\n",
       "      <td>Abdoul Ba</td>\n",
       "      <td>Mauritania</td>\n",
       "      <td>AJ Auxerre</td>\n",
       "      <td>64</td>\n",
       "    </tr>\n",
       "    <tr>\n",
       "      <th>11216</th>\n",
       "      <td>80</td>\n",
       "      <td>Stefan Maierhofer</td>\n",
       "      <td>Austria</td>\n",
       "      <td>FC Admira Wacker Mödling</td>\n",
       "      <td>64</td>\n",
       "    </tr>\n",
       "    <tr>\n",
       "      <th>18191</th>\n",
       "      <td>80</td>\n",
       "      <td>Demba Thiam</td>\n",
       "      <td>Senegal</td>\n",
       "      <td>SPAL</td>\n",
       "      <td>53</td>\n",
       "    </tr>\n",
       "  </tbody>\n",
       "</table>\n",
       "</div>"
      ],
      "text/plain": [
       "       Height                LongName     Nationality  \\\n",
       "10305      81              Tomáš Holý  Czech Republic   \n",
       "4124       80       Costel Pantilimon         Romania   \n",
       "6615       80  Vanja Milinković-Savić          Serbia   \n",
       "8304       80          Kjell Scherpen     Netherlands   \n",
       "10905      80               Abdoul Ba      Mauritania   \n",
       "11216      80       Stefan Maierhofer         Austria   \n",
       "18191      80             Demba Thiam         Senegal   \n",
       "\n",
       "                           Team  ↓OVA  \n",
       "10305              Ipswich Town    65  \n",
       "4124                Denizlispor    71  \n",
       "6615                     Torino    68  \n",
       "8304                       Ajax    67  \n",
       "10905                AJ Auxerre    64  \n",
       "11216  FC Admira Wacker Mödling    64  \n",
       "18191                      SPAL    53  "
      ]
     },
     "execution_count": 39,
     "metadata": {},
     "output_type": "execute_result"
    }
   ],
   "source": [
    "Tallest = df.nlargest(n=5, columns=['Height'], keep='all')\n",
    "Tallest[[\"Height\",'LongName', 'Nationality', 'Team','↓OVA']]\n",
    "#the tallest player is Tomáš Holý from the Czech Republic"
   ]
  },
  {
   "cell_type": "code",
   "execution_count": 40,
   "id": "18350bfb",
   "metadata": {
    "execution": {
     "iopub.execute_input": "2023-06-11T13:51:12.057862Z",
     "iopub.status.busy": "2023-06-11T13:51:12.057428Z",
     "iopub.status.idle": "2023-06-11T13:51:12.419738Z",
     "shell.execute_reply": "2023-06-11T13:51:12.418595Z"
    },
    "papermill": {
     "duration": 0.39124,
     "end_time": "2023-06-11T13:51:12.422935",
     "exception": false,
     "start_time": "2023-06-11T13:51:12.031695",
     "status": "completed"
    },
    "tags": []
   },
   "outputs": [
    {
     "data": {
      "image/png": "[encoded data removed]",
      "text/plain": [
       "<Figure size 360x360 with 1 Axes>"
      ]
     },
     "metadata": {
      "needs_background": "light"
     },
     "output_type": "display_data"
    }
   ],
   "source": [
    "g = sns.relplot(x=\"Hits\", y=\"↓OVA\", data=df)"
   ]
  },
  {
   "cell_type": "code",
   "execution_count": 41,
   "id": "c2ed3b94",
   "metadata": {
    "execution": {
     "iopub.execute_input": "2023-06-11T13:51:12.476283Z",
     "iopub.status.busy": "2023-06-11T13:51:12.475847Z",
     "iopub.status.idle": "2023-06-11T13:51:12.503699Z",
     "shell.execute_reply": "2023-06-11T13:51:12.502539Z"
    },
    "papermill": {
     "duration": 0.058061,
     "end_time": "2023-06-11T13:51:12.506254",
     "exception": false,
     "start_time": "2023-06-11T13:51:12.448193",
     "status": "completed"
    },
    "tags": []
   },
   "outputs": [
    {
     "data": {
      "text/html": [
       "<div>\n",
       "<style scoped>\n",
       "    .dataframe tbody tr th:only-of-type {\n",
       "        vertical-align: middle;\n",
       "    }\n",
       "\n",
       "    .dataframe tbody tr th {\n",
       "        vertical-align: top;\n",
       "    }\n",
       "\n",
       "    .dataframe thead th {\n",
       "        text-align: right;\n",
       "    }\n",
       "</style>\n",
       "<table border=\"1\" class=\"dataframe\">\n",
       "  <thead>\n",
       "    <tr style=\"text-align: right;\">\n",
       "      <th></th>\n",
       "      <th>Hits</th>\n",
       "      <th>LongName</th>\n",
       "      <th>Nationality</th>\n",
       "      <th>Team</th>\n",
       "      <th>↓OVA</th>\n",
       "    </tr>\n",
       "  </thead>\n",
       "  <tbody>\n",
       "    <tr>\n",
       "      <th>4064</th>\n",
       "      <td>4500</td>\n",
       "      <td>Reinier Jesus Carvalho</td>\n",
       "      <td>Brazil</td>\n",
       "      <td>Borussia DortmundJun 30, 2</td>\n",
       "      <td>71</td>\n",
       "    </tr>\n",
       "    <tr>\n",
       "      <th>279</th>\n",
       "      <td>2900</td>\n",
       "      <td>Marc Cucurella Saseta</td>\n",
       "      <td>Spain</td>\n",
       "      <td>Getafe CF</td>\n",
       "      <td>81</td>\n",
       "    </tr>\n",
       "    <tr>\n",
       "      <th>4680</th>\n",
       "      <td>1900</td>\n",
       "      <td>Giovanni Reyna</td>\n",
       "      <td>United States</td>\n",
       "      <td>Borussia Dortmund</td>\n",
       "      <td>70</td>\n",
       "    </tr>\n",
       "    <tr>\n",
       "      <th>9707</th>\n",
       "      <td>1900</td>\n",
       "      <td>Enzo Loiodice</td>\n",
       "      <td>France</td>\n",
       "      <td>UD Las Palmas</td>\n",
       "      <td>65</td>\n",
       "    </tr>\n",
       "    <tr>\n",
       "      <th>6203</th>\n",
       "      <td>1800</td>\n",
       "      <td>Jude Bellingham</td>\n",
       "      <td>England</td>\n",
       "      <td>Borussia Dortmund</td>\n",
       "      <td>69</td>\n",
       "    </tr>\n",
       "  </tbody>\n",
       "</table>\n",
       "</div>"
      ],
      "text/plain": [
       "      Hits                LongName    Nationality                        Team  \\\n",
       "4064  4500  Reinier Jesus Carvalho         Brazil  Borussia DortmundJun 30, 2   \n",
       "279   2900   Marc Cucurella Saseta          Spain                   Getafe CF   \n",
       "4680  1900          Giovanni Reyna  United States           Borussia Dortmund   \n",
       "9707  1900           Enzo Loiodice         France               UD Las Palmas   \n",
       "6203  1800         Jude Bellingham        England           Borussia Dortmund   \n",
       "\n",
       "      ↓OVA  \n",
       "4064    71  \n",
       "279     81  \n",
       "4680    70  \n",
       "9707    65  \n",
       "6203    69  "
      ]
     },
     "execution_count": 41,
     "metadata": {},
     "output_type": "execute_result"
    }
   ],
   "source": [
    "most_hits = df.nlargest(n=5, columns=['Hits'], keep='all')\n",
    "most_hits[[\"Hits\",'LongName', 'Nationality', 'Team','↓OVA']]\n",
    "#the tallest player is Tomáš Holý from the Czech Republic"
   ]
  }
 ],
 "metadata": {
  "kernelspec": {
   "display_name": "Python 3",
   "language": "python",
   "name": "python3"
  },
  "language_info": {
   "codemirror_mode": {
    "name": "ipython",
    "version": 3
   },
   "file_extension": ".py",
   "mimetype": "text/x-python",
   "name": "python",
   "nbconvert_exporter": "python",
   "pygments_lexer": "ipython3",
   "version": "3.7.12"
  },
  "papermill": {
   "default_parameters": {},
   "duration": 27.010522,
   "end_time": "2023-06-11T13:51:13.353965",
   "environment_variables": {},
   "exception": null,
   "input_path": "__notebook__.ipynb",
   "output_path": "__notebook__.ipynb",
   "parameters": {},
   "start_time": "2023-06-11T13:50:46.343443",
   "version": "2.3.4"
  }
 },
 "nbformat": 4,
 "nbformat_minor": 5
}
