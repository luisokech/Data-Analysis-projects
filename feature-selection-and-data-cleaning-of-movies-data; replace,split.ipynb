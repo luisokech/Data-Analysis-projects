{
 "cells": [
  {
   "cell_type": "markdown",
   "metadata": {},
   "source": [
    "## 1. Importing Relevent Liabraries"
   ]
  },
  {
   "cell_type": "code",
   "execution_count": 1,
   "metadata": {
    "execution": {
     "iopub.execute_input": "2023-06-13T10:49:29.407366Z",
     "iopub.status.busy": "2023-06-13T10:49:29.406855Z",
     "iopub.status.idle": "2023-06-13T10:49:32.945375Z",
     "shell.execute_reply": "2023-06-13T10:49:32.943200Z",
     "shell.execute_reply.started": "2023-06-13T10:49:29.407285Z"
    }
   },
   "outputs": [
    {
     "data": {
      "text/html": [
       "        <script type=\"text/javascript\">\n",
       "        window.PlotlyConfig = {MathJaxConfig: 'local'};\n",
       "        if (window.MathJax && window.MathJax.Hub && window.MathJax.Hub.Config) {window.MathJax.Hub.Config({SVG: {font: \"STIX-Web\"}});}\n",
       "        if (typeof require !== 'undefined') {\n",
       "        require.undef(\"plotly\");\n",
       "        requirejs.config({\n",
       "            paths: {\n",
       "                'plotly': ['https://cdn.plot.ly/plotly-2.12.1.min']\n",
       "            }\n",
       "        });\n",
       "        require(['plotly'], function(Plotly) {\n",
       "            window._Plotly = Plotly;\n",
       "        });\n",
       "        }\n",
       "        </script>\n",
       "        "
      ]
     },
     "metadata": {},
     "output_type": "display_data"
    }
   ],
   "source": [
    "# This Python 3 environment comes with many helpful analytics libraries installed\n",
    "# It is defined by the kaggle/python Docker image: https://github.com/kaggle/docker-python\n",
    "# For example, here's several helpful packages to load\n",
    "\n",
    "import pandas as pd \n",
    "import numpy as np\n",
    "import matplotlib.pyplot as plt\n",
    "import seaborn as sns\n",
    "import re\n",
    "import os \n",
    "import warnings\n",
    "\n",
    "\n",
    "import plotly.express as px\n",
    "from plotly.offline import init_notebook_mode, iplot\n",
    "import plotly.graph_objects as go\n",
    "init_notebook_mode(connected=True)\n",
    "\n",
    "\n",
    "%matplotlib inline\n",
    "warnings.filterwarnings(\"ignore\")\n",
    "\n",
    "# Input data files are available in the read-only \"../input/\" directory\n",
    "# For example, running this (by clicking run or pressing Shift+Enter) will list all files under the input directory\n",
    "\n",
    "import os\n",
    "for dirname, _, filenames in os.walk('/kaggle/input'):\n",
    "    for filename in filenames:\n",
    "        print(os.path.join(dirname, filename))\n",
    "\n",
    "# You can write up to 20GB to the current directory (/kaggle/working/) that gets preserved as output when you create a version using \"Save & Run All\" \n",
    "# You can also write temporary files to /kaggle/temp/, but they won't be saved outside of the current session"
   ]
  },
  {
   "cell_type": "markdown",
   "metadata": {},
   "source": [
    "## 2.Cleaning and feature selection in the data"
   ]
  },
  {
   "cell_type": "code",
   "execution_count": 2,
   "metadata": {
    "execution": {
     "iopub.execute_input": "2023-06-13T10:49:32.952525Z",
     "iopub.status.busy": "2023-06-13T10:49:32.951354Z",
     "iopub.status.idle": "2023-06-13T10:49:32.970235Z",
     "shell.execute_reply": "2023-06-13T10:49:32.969094Z",
     "shell.execute_reply.started": "2023-06-13T10:49:32.952473Z"
    }
   },
   "outputs": [],
   "source": [
    "cwd = os.getcwd()"
   ]
  },
  {
   "cell_type": "code",
   "execution_count": 4,
   "metadata": {
    "execution": {
     "iopub.execute_input": "2023-06-13T10:49:32.973709Z",
     "iopub.status.busy": "2023-06-13T10:49:32.971944Z",
     "iopub.status.idle": "2023-06-13T10:49:33.211131Z",
     "shell.execute_reply": "2023-06-13T10:49:33.210054Z",
     "shell.execute_reply.started": "2023-06-13T10:49:32.973671Z"
    },
    "scrolled": true
   },
   "outputs": [
    {
     "data": {
      "text/html": [
       "<div>\n",
       "<style scoped>\n",
       "    .dataframe tbody tr th:only-of-type {\n",
       "        vertical-align: middle;\n",
       "    }\n",
       "\n",
       "    .dataframe tbody tr th {\n",
       "        vertical-align: top;\n",
       "    }\n",
       "\n",
       "    .dataframe thead th {\n",
       "        text-align: right;\n",
       "    }\n",
       "</style>\n",
       "<table border=\"1\" class=\"dataframe\">\n",
       "  <thead>\n",
       "    <tr style=\"text-align: right;\">\n",
       "      <th></th>\n",
       "      <th>MOVIES</th>\n",
       "      <th>YEAR</th>\n",
       "      <th>GENRE</th>\n",
       "      <th>RATING</th>\n",
       "      <th>ONE-LINE</th>\n",
       "      <th>STARS</th>\n",
       "      <th>VOTES</th>\n",
       "      <th>RunTime</th>\n",
       "      <th>Gross</th>\n",
       "    </tr>\n",
       "  </thead>\n",
       "  <tbody>\n",
       "    <tr>\n",
       "      <th>0</th>\n",
       "      <td>Blood Red Sky</td>\n",
       "      <td>(2021)</td>\n",
       "      <td>\\nAction, Horror, Thriller</td>\n",
       "      <td>6.1</td>\n",
       "      <td>\\nA woman with a mysterious illness is forced ...</td>\n",
       "      <td>\\n    Director:\\nPeter Thorwarth\\n| \\n    Star...</td>\n",
       "      <td>21,062</td>\n",
       "      <td>121.0</td>\n",
       "      <td>NaN</td>\n",
       "    </tr>\n",
       "    <tr>\n",
       "      <th>1</th>\n",
       "      <td>Masters of the Universe: Revelation</td>\n",
       "      <td>(2021– )</td>\n",
       "      <td>\\nAnimation, Action, Adventure</td>\n",
       "      <td>5.0</td>\n",
       "      <td>\\nThe war for Eternia begins again in what may...</td>\n",
       "      <td>\\n            \\n    Stars:\\nChris Wood, \\nSara...</td>\n",
       "      <td>17,870</td>\n",
       "      <td>25.0</td>\n",
       "      <td>NaN</td>\n",
       "    </tr>\n",
       "    <tr>\n",
       "      <th>2</th>\n",
       "      <td>The Walking Dead</td>\n",
       "      <td>(2010–2022)</td>\n",
       "      <td>\\nDrama, Horror, Thriller</td>\n",
       "      <td>8.2</td>\n",
       "      <td>\\nSheriff Deputy Rick Grimes wakes up from a c...</td>\n",
       "      <td>\\n            \\n    Stars:\\nAndrew Lincoln, \\n...</td>\n",
       "      <td>885,805</td>\n",
       "      <td>44.0</td>\n",
       "      <td>NaN</td>\n",
       "    </tr>\n",
       "    <tr>\n",
       "      <th>3</th>\n",
       "      <td>Rick and Morty</td>\n",
       "      <td>(2013– )</td>\n",
       "      <td>\\nAnimation, Adventure, Comedy</td>\n",
       "      <td>9.2</td>\n",
       "      <td>\\nAn animated series that follows the exploits...</td>\n",
       "      <td>\\n            \\n    Stars:\\nJustin Roiland, \\n...</td>\n",
       "      <td>414,849</td>\n",
       "      <td>23.0</td>\n",
       "      <td>NaN</td>\n",
       "    </tr>\n",
       "    <tr>\n",
       "      <th>4</th>\n",
       "      <td>Army of Thieves</td>\n",
       "      <td>(2021)</td>\n",
       "      <td>\\nAction, Crime, Horror</td>\n",
       "      <td>NaN</td>\n",
       "      <td>\\nA prequel, set before the events of Army of ...</td>\n",
       "      <td>\\n    Director:\\nMatthias Schweighöfer\\n| \\n  ...</td>\n",
       "      <td>NaN</td>\n",
       "      <td>NaN</td>\n",
       "      <td>NaN</td>\n",
       "    </tr>\n",
       "  </tbody>\n",
       "</table>\n",
       "</div>"
      ],
      "text/plain": [
       "                                MOVIES         YEAR  \\\n",
       "0                        Blood Red Sky       (2021)   \n",
       "1  Masters of the Universe: Revelation     (2021– )   \n",
       "2                     The Walking Dead  (2010–2022)   \n",
       "3                       Rick and Morty     (2013– )   \n",
       "4                      Army of Thieves       (2021)   \n",
       "\n",
       "                                        GENRE  RATING  \\\n",
       "0      \\nAction, Horror, Thriller                 6.1   \n",
       "1  \\nAnimation, Action, Adventure                 5.0   \n",
       "2       \\nDrama, Horror, Thriller                 8.2   \n",
       "3  \\nAnimation, Adventure, Comedy                 9.2   \n",
       "4         \\nAction, Crime, Horror                 NaN   \n",
       "\n",
       "                                            ONE-LINE  \\\n",
       "0  \\nA woman with a mysterious illness is forced ...   \n",
       "1  \\nThe war for Eternia begins again in what may...   \n",
       "2  \\nSheriff Deputy Rick Grimes wakes up from a c...   \n",
       "3  \\nAn animated series that follows the exploits...   \n",
       "4  \\nA prequel, set before the events of Army of ...   \n",
       "\n",
       "                                               STARS    VOTES  RunTime Gross  \n",
       "0  \\n    Director:\\nPeter Thorwarth\\n| \\n    Star...   21,062    121.0   NaN  \n",
       "1  \\n            \\n    Stars:\\nChris Wood, \\nSara...   17,870     25.0   NaN  \n",
       "2  \\n            \\n    Stars:\\nAndrew Lincoln, \\n...  885,805     44.0   NaN  \n",
       "3  \\n            \\n    Stars:\\nJustin Roiland, \\n...  414,849     23.0   NaN  \n",
       "4  \\n    Director:\\nMatthias Schweighöfer\\n| \\n  ...      NaN      NaN   NaN  "
      ]
     },
     "execution_count": 4,
     "metadata": {},
     "output_type": "execute_result"
    }
   ],
   "source": [
    "df=pd.read_csv(\"data/movies1.csv\")\n",
    "df.head()"
   ]
  },
  {
   "cell_type": "markdown",
   "metadata": {},
   "source": [
    "### 2.1 Cleaning Year column\n",
    "*Types of values in year column*\n",
    "1. year only\n",
    "2. year-\n",
    "3. year-year\n",
    "4. (roman) [(year) or (year-year)]\n",
    "5. (year and some string)\n"
   ]
  },
  {
   "cell_type": "code",
   "execution_count": 4,
   "metadata": {
    "_kg_hide-output": true,
    "execution": {
     "iopub.execute_input": "2023-06-13T10:49:33.215912Z",
     "iopub.status.busy": "2023-06-13T10:49:33.215547Z",
     "iopub.status.idle": "2023-06-13T10:49:33.234870Z",
     "shell.execute_reply": "2023-06-13T10:49:33.232490Z",
     "shell.execute_reply.started": "2023-06-13T10:49:33.215882Z"
    }
   },
   "outputs": [
    {
     "data": {
      "text/plain": [
       "array(['(2021)', '(2021– )', '(2010–2022)', '(2013– )', '(2020– )',\n",
       "       '(2006–2013)', '(2019– )', '(2016–2021)', '(2011– )', '(2005– )',\n",
       "       '(2008–2013)', '(2017– )', '(2017–2021)', '(2016– )',\n",
       "       '(1994–2004)', '(2014– )', '(2013–2020)', '(2015– )',\n",
       "       '(2005–2020)', '(2013–2022)', '(2003– )', '(2009–2020)',\n",
       "       '(I) (2018– )', '(2010–2015)', '(2011–2019)', '(2015–2020)',\n",
       "       '(2005–2014)', '(2009–2015)', '(2008–2014)', '(2016–2018)',\n",
       "       '(2009–2017)', '(2020)', '(2018–2021)', '(2017–2020)',\n",
       "       '(1987–1994)', '(2018– )', '(2012– )', '(2014–2020)',\n",
       "       '(2011–2018)', '(2005–2017)', '(2017)', '(2007–2015)',\n",
       "       '(2000–2007)', '(II) (2007– )', '(1993)', '(1999–2022)',\n",
       "       '(2015–2018)', '(2014–2019)', '(2016)', '(2012–2020)',\n",
       "       '(2013–2019)', '(2007–2012)', '(2011–2020)', '(2010–2017)',\n",
       "       '(2000–2015)', '(2015–2021)', '(2001)', '(1997– )', '(2011–2017)',\n",
       "       '(1993–1999)', '(1989–1998)', '(2010–2013)', '(2010–2020)',\n",
       "       '(2003–2019)', '(I) (2019)', '(2017–2019)', '(1975)',\n",
       "       '(2005–2008)', '(1995–2001)', '(2006)', '(2015–2017)',\n",
       "       '(2008–2020)', '(1984–1996)', '(2010– )', '(2014)', '(2000)',\n",
       "       '(2013–2018)', '(2009–2016)', '(2016–2020)', '(2021 TV Special)',\n",
       "       '(2003)', '(1998–2003)', '(I) (2017)', '(1966–1969)', '(2009– )',\n",
       "       '(2019)', '(1990–1991)', '(2012)', '(1995)', '(2020–2021)',\n",
       "       '(2013–2017)', '(2015)', '(2019–2020)', '(2017–2018)',\n",
       "       '(2013–2015)', '(2012–2017)', '(I) (2013–2016)', '(2002)',\n",
       "       '(I) (2020)', '(III) (2021)', '(2018)', '(II) (2016)', '(1976)',\n",
       "       '(1978)', '(2016–2019)', '(2009–2014)', '(2022)', '(2011–2014)',\n",
       "       '(2007–2013)', '(2006–2007)', '(2002–2007)', '(2014–2017)',\n",
       "       '(2010–2019)', '(2008– )', '(2012–2019)', '(2014–2016)',\n",
       "       '(2009–2012)', '(2018–2020)', '(2001–2005)', '(2011–2015)',\n",
       "       '(2014–2018)', '(2015–2019)', '(1982–1993)', '(1998– )', '(1968)',\n",
       "       '(2010–2018)', '(2014–2021)', '(2007–2010)', '(2011)',\n",
       "       '(2013–2021)', '(1990–1996)', '(2004)', '(2007–2014)',\n",
       "       '(1996–2001)', '(2013)', '(2008)', '(1999–2000)', '(2012–2014)',\n",
       "       '(I) (2013)', '(2012–2018)', '(2018–2019)', '(2009–2013)',\n",
       "       '(1971)', '(2004– )', '(1989)', '(1998)', '(2001–2018)',\n",
       "       '(1987–1995)', '(I) (2014)', '(1998–2020)', '(I) (2015)', '(1997)',\n",
       "       '(2004–2013)', '(2002– )', '(2010)', '(I) (2016)', '(II) (2017– )',\n",
       "       '(I) (2018)', '(I) (2021)', '(2004–2012)', '(2019–2021)',\n",
       "       '(IV) (2020)', '(2006–2010)', '(2006–2012)', '(1996)',\n",
       "       '(1994–2000)', '(II) (2020)', '(1980)', '(I) (2011)',\n",
       "       '(1995–1996)', '(2016–2017)', '(1993–1996)', '(II) (2019– )',\n",
       "       '(2009)', '(1962)', '(1991)', '(2022– )', '(II) (2017)',\n",
       "       '(I) (2012)', '(1984)', '(2011–2016)', '(2009–2019)',\n",
       "       '(II) (2020– )', '(2006–2021)', '(I) (2010)', '(2012–2015)',\n",
       "       '(I) (2013–2014)', '(1960)', '(1988)', '(2007)', '(1987)',\n",
       "       '(2010–2011)', '(1969)', '(2006–2011)', '(II) (2019)', '(1961)',\n",
       "       '(1979)', '(II) (2022)', '(2014–2015)', '(1956)', '(2013–2016)',\n",
       "       '(III) (2018)', '(2005)', '(II) (2012– )', '(II) (2013)', '(1983)',\n",
       "       '(2002–2019)', '(2013 TV Movie)', '(II) (2015)', '(I) (2012–2015)',\n",
       "       '(1975–1979)', '(1990)', nan, '(II) (2018)', '(IV) (2021)',\n",
       "       '(2015–2016)', '(1995–1998)', '(1986)', '(2012–2013)', '(1966)',\n",
       "       '(2011–2012)', '(2011–2021)', '(2016 Video)', '(2017 TV Movie)',\n",
       "       '(2009–2011)', '(2004–2018)', '(1967)', '(1984– )', '(1994)',\n",
       "       '(2003–2006)', '(III) (2015)', '(1974)', '(2000–2004)',\n",
       "       '(1984–2021)', '(I)', '(II) (2021)', '(1994–1999)', '(III)',\n",
       "       '(1992)', '(1969–1974)', '(2012–2016)', '(2013–2014)',\n",
       "       '(I) (2008)', '(1958)', '(2008–2009)', '(II) (2004)',\n",
       "       '(III) (2019)', '(2006–2009)', '(2011–2013)', '(2007–2008)',\n",
       "       '(1988–1999)', '(2010–2012)', '(2010–2014)', '(II) (2012)',\n",
       "       '(1932)', '(2014 TV Movie)', '(1941)', '(2006– )', '(1992–1995)',\n",
       "       '(2016 TV Special)', '(2020 TV Movie)', '(2008–2010)', '(II)',\n",
       "       '(2020 Video)', '(1999– )', '(1950)', '(2020 TV Special)',\n",
       "       '(1992–2014)', '(2002–2005)', '(2013 TV Special)', '(I) (2021– )',\n",
       "       '(1999)', '(2016 TV Movie)', '(XII)', '(VII)', '(2021 TV Movie)',\n",
       "       '(1983– )', '(1996 Video)', '(1993 TV Movie)', '(2018 TV Movie)',\n",
       "       '(2005–2009)', '(2001–2002)', '(2015 TV Movie)', '(I) (2020– )',\n",
       "       '(2011 Video)', '(2008 Video)', '(2012 Video)', '(1946)',\n",
       "       '(II) (2014)', '(2019 Video)', '(1981–1989)', '(IV) (2016)',\n",
       "       '(III) (2016)', '(2019 TV Movie)', '(1952)', '(2007 Video)',\n",
       "       '(2000–2014)', '(1992– )', '(1957)', '(2003–2007)', '(IV)',\n",
       "       '(2008–2017)', '(2008–2019)', '(1998–2000)', '(I) (2004)',\n",
       "       '(2007–2016)', '(2017 TV Special)', '(2009 TV Movie)',\n",
       "       '(2013 Video)', '(2017 Video)', '(1994–1996)', '(IV) (2017)',\n",
       "       '(IV) (2018)', '(2007– )', '(1954)', '(2012 TV Movie)', '(1995– )',\n",
       "       '(1982)', '(1955)', '(2014 TV Short)', '(I) (2022– )',\n",
       "       '(I) (2019–2020)', '(1975 TV Movie)', '(2019 TV Special)',\n",
       "       '(2015 TV Special)', '(2015 TV Short)', '(2018 TV Special)',\n",
       "       '(1948)', '(2014 Video)', '(VI) (2014)', '(2003–2013)',\n",
       "       '(2021 Video)', '(1947)', '(2001– )', '(II) (2021– )',\n",
       "       '(1997–2000)', '(III) (2020)', '(I) (2019– )', '(1993– )',\n",
       "       '(1977)', '(I) (2009)', '(V)', '(2023)', '(I) (2000)',\n",
       "       '(TV Special)', '(II) (2011)', '(TV Movie)', '(1945)',\n",
       "       '(2015 Video)', '(III) (2010)', '(2009 Video)', '(1998–2002)',\n",
       "       '(2008 TV Movie)', '(2019 TV Short)', '(2004 Video)',\n",
       "       '(II) (1998)', '(2014 TV Special)', '(1953)', '(1985)', '(VIII)',\n",
       "       '(1973)', '(2012 TV Special)', '(V) (2016)', '(1972)',\n",
       "       '(V) (2018)', '(II) (2010)', '(2021 TV Short)', '(VI) (2019)',\n",
       "       '(I) (2005)', '(1965)', '(2010–2016)', '(V) (2010)', '(2005–2013)',\n",
       "       '(2006 TV Special)', '(2006 Video)', '(2011 TV Movie)',\n",
       "       '(1988 TV Movie)', '(XXIII)', '(2011 TV Special)',\n",
       "       '(2020 TV Short)', '(VI) (2018)', '(2008 TV Special)',\n",
       "       '(1998–1999)', '(I) (2015– )', '(III) (2012)', '(VI)',\n",
       "       '(2010 TV Special)', '(III) (2017)', '(1993 TV Special)',\n",
       "       '(2004–2005)', '(1992 Video)', '(1989 TV Special)', '(XI)',\n",
       "       '(III) (2014)', '(1966 TV Special)', '(1999 TV Movie)',\n",
       "       '(1987 TV Special)', '(1944)', '(1998 TV Special)',\n",
       "       '(2006 TV Movie)', '(2022 TV Special)', '(1989 Video)',\n",
       "       '(1991 TV Special)', '(XLI)', '(IV) (2014)', '(2005 Video)',\n",
       "       '(2007 TV Special)', '(1965 TV Special)', '(1990 TV Special)',\n",
       "       '(2001 TV Special)', '(IX)', '(II) (2016– )', '(XIV) (2017)',\n",
       "       '(2009–2010)', '(XIII)', '(II) (2012–2019)', '(1933)',\n",
       "       '(II) (2009)', '(2010 Video)', '(2009 TV Special)', '(1938)',\n",
       "       '(2003 TV Special)', '(Video)', '(2001 TV Movie)', '(VI) (2016)',\n",
       "       '(III) (2011)', '(2007 TV Movie)', '(2017 TV Short)',\n",
       "       '(2018 Video)', '(2000 Video)', '(1995 Video)', '(2003 Video)',\n",
       "       '(II) (2016 TV Movie)', '(1998 Video)', '(2005 TV Special)',\n",
       "       '(2004–2009)', '(2018 Video Game)', '(1988– )', '(1985– )'],\n",
       "      dtype=object)"
      ]
     },
     "execution_count": 4,
     "metadata": {},
     "output_type": "execute_result"
    }
   ],
   "source": [
    "df['YEAR'].unique()"
   ]
  },
  {
   "cell_type": "code",
   "execution_count": 5,
   "metadata": {
    "execution": {
     "iopub.execute_input": "2023-06-13T10:50:33.532417Z",
     "iopub.status.busy": "2023-06-13T10:50:33.531181Z",
     "iopub.status.idle": "2023-06-13T10:50:33.538417Z",
     "shell.execute_reply": "2023-06-13T10:50:33.537258Z",
     "shell.execute_reply.started": "2023-06-13T10:50:33.532375Z"
    }
   },
   "outputs": [],
   "source": [
    "df1 = df.copy()"
   ]
  },
  {
   "cell_type": "code",
   "execution_count": 7,
   "metadata": {
    "collapsed": true,
    "execution": {
     "iopub.execute_input": "2023-06-13T10:55:34.878101Z",
     "iopub.status.busy": "2023-06-13T10:55:34.877333Z",
     "iopub.status.idle": "2023-06-13T10:55:34.891344Z",
     "shell.execute_reply": "2023-06-13T10:55:34.890245Z",
     "shell.execute_reply.started": "2023-06-13T10:55:34.878059Z"
    },
    "jupyter": {
     "outputs_hidden": true
    }
   },
   "outputs": [
    {
     "data": {
      "text/plain": [
       "array(['2021', '2021– ', '2010–2022', '2013– ', '2020– ', '2006–2013',\n",
       "       '2019– ', '2016–2021', '2011– ', '2005– ', '2008–2013', '2017– ',\n",
       "       '2017–2021', '2016– ', '1994–2004', '2014– ', '2013–2020',\n",
       "       '2015– ', '2005–2020', '2013–2022', '2003– ', '2009–2020',\n",
       "       '2018– ', '2010–2015', '2011–2019', '2015–2020', '2005–2014',\n",
       "       '2009–2015', '2008–2014', '2016–2018', '2009–2017', '2020',\n",
       "       '2018–2021', '2017–2020', '1987–1994', '2012– ', '2014–2020',\n",
       "       '2011–2018', '2005–2017', '2017', '2007–2015', '2000–2007',\n",
       "       '2007– ', '1993', '1999–2022', '2015–2018', '2014–2019', '2016',\n",
       "       '2012–2020', '2013–2019', '2007–2012', '2011–2020', '2010–2017',\n",
       "       '2000–2015', '2015–2021', '2001', '1997– ', '2011–2017',\n",
       "       '1993–1999', '1989–1998', '2010–2013', '2010–2020', '2003–2019',\n",
       "       '2019', '2017–2019', '1975', '2005–2008', '1995–2001', '2006',\n",
       "       '2015–2017', '2008–2020', '1984–1996', '2010– ', '2014', '2000',\n",
       "       '2013–2018', '2009–2016', '2016–2020', '2021 TV Special', '2003',\n",
       "       '1998–2003', '1966–1969', '2009– ', '1990–1991', '2012', '1995',\n",
       "       '2020–2021', '2013–2017', '2015', '2019–2020', '2017–2018',\n",
       "       '2013–2015', '2012–2017', '2013–2016', '2002', '2018', '1976',\n",
       "       '1978', '2016–2019', '2009–2014', '2022', '2011–2014', '2007–2013',\n",
       "       '2006–2007', '2002–2007', '2014–2017', '2010–2019', '2008– ',\n",
       "       '2012–2019', '2014–2016', '2009–2012', '2018–2020', '2001–2005',\n",
       "       '2011–2015', '2014–2018', '2015–2019', '1982–1993', '1998– ',\n",
       "       '1968', '2010–2018', '2014–2021', '2007–2010', '2011', '2013–2021',\n",
       "       '1990–1996', '2004', '2007–2014', '1996–2001', '2013', '2008',\n",
       "       '1999–2000', '2012–2014', '2012–2018', '2018–2019', '2009–2013',\n",
       "       '1971', '2004– ', '1989', '1998', '2001–2018', '1987–1995',\n",
       "       '1998–2020', '1997', '2004–2013', '2002– ', '2010', '2004–2012',\n",
       "       '2019–2021', '2006–2010', '2006–2012', '1996', '1994–2000', '1980',\n",
       "       '1995–1996', '2016–2017', '1993–1996', '2009', '1962', '1991',\n",
       "       '2022– ', '1984', '2011–2016', '2009–2019', '2006–2021',\n",
       "       '2012–2015', '2013–2014', '1960', '1988', '2007', '1987',\n",
       "       '2010–2011', '1969', '2006–2011', '1961', '1979', '2014–2015',\n",
       "       '1956', '2005', '1983', '2002–2019', '2013 TV Movie', '1975–1979',\n",
       "       '1990', 'nan', '2015–2016', '1995–1998', '1986', '2012–2013',\n",
       "       '1966', '2011–2012', '2011–2021', '2016 Video', '2017 TV Movie',\n",
       "       '2009–2011', '2004–2018', '1967', '1984– ', '1994', '2003–2006',\n",
       "       '1974', '2000–2004', '1984–2021', 'I', '1994–1999', 'III', '1992',\n",
       "       '1969–1974', '2012–2016', '1958', '2008–2009', '2006–2009',\n",
       "       '2011–2013', '2007–2008', '1988–1999', '2010–2012', '2010–2014',\n",
       "       '1932', '2014 TV Movie', '1941', '2006– ', '1992–1995',\n",
       "       '2016 TV Special', '2020 TV Movie', '2008–2010', 'II',\n",
       "       '2020 Video', '1999– ', '1950', '2020 TV Special', '1992–2014',\n",
       "       '2002–2005', '2013 TV Special', '1999', '2016 TV Movie', 'XII',\n",
       "       'VII', '2021 TV Movie', '1983– ', '1996 Video', '1993 TV Movie',\n",
       "       '2018 TV Movie', '2005–2009', '2001–2002', '2015 TV Movie',\n",
       "       '2011 Video', '2008 Video', '2012 Video', '1946', '2019 Video',\n",
       "       '1981–1989', '2019 TV Movie', '1952', '2007 Video', '2000–2014',\n",
       "       '1992– ', '1957', '2003–2007', 'IV', '2008–2017', '2008–2019',\n",
       "       '1998–2000', '2007–2016', '2017 TV Special', '2009 TV Movie',\n",
       "       '2013 Video', '2017 Video', '1994–1996', '1954', '2012 TV Movie',\n",
       "       '1995– ', '1982', '1955', '2014 TV Short', '1975 TV Movie',\n",
       "       '2019 TV Special', '2015 TV Special', '2015 TV Short',\n",
       "       '2018 TV Special', '1948', '2014 Video', '2003–2013', '2021 Video',\n",
       "       '1947', '2001– ', '1997–2000', '1993– ', '1977', 'V', '2023',\n",
       "       'TV Special', 'TV Movie', '1945', '2015 Video', '2009 Video',\n",
       "       '1998–2002', '2008 TV Movie', '2019 TV Short', '2004 Video',\n",
       "       '2014 TV Special', '1953', '1985', 'VIII', '1973',\n",
       "       '2012 TV Special', '1972', '2021 TV Short', '1965', '2010–2016',\n",
       "       '2005–2013', '2006 TV Special', '2006 Video', '2011 TV Movie',\n",
       "       '1988 TV Movie', 'XXIII', '2011 TV Special', '2020 TV Short',\n",
       "       '2008 TV Special', '1998–1999', 'VI', '2010 TV Special',\n",
       "       '1993 TV Special', '2004–2005', '1992 Video', '1989 TV Special',\n",
       "       'XI', '1966 TV Special', '1999 TV Movie', '1987 TV Special',\n",
       "       '1944', '1998 TV Special', '2006 TV Movie', '2022 TV Special',\n",
       "       '1989 Video', '1991 TV Special', 'XLI', '2005 Video',\n",
       "       '2007 TV Special', '1965 TV Special', '1990 TV Special',\n",
       "       '2001 TV Special', 'IX', '2009–2010', 'XIII', '1933', '2010 Video',\n",
       "       '2009 TV Special', '1938', '2003 TV Special', 'Video',\n",
       "       '2001 TV Movie', '2007 TV Movie', '2017 TV Short', '2018 Video',\n",
       "       '2000 Video', '1995 Video', '2003 Video', '1998 Video',\n",
       "       '2005 TV Special', '2004–2009', '2018 Video Game', '1988– ',\n",
       "       '1985– '], dtype=object)"
      ]
     },
     "execution_count": 7,
     "metadata": {},
     "output_type": "execute_result"
    }
   ],
   "source": [
    "df1['YEAR'].unique()"
   ]
  },
  {
   "cell_type": "code",
   "execution_count": 6,
   "metadata": {
    "execution": {
     "iopub.execute_input": "2023-06-13T10:51:15.421551Z",
     "iopub.status.busy": "2023-06-13T10:51:15.421043Z",
     "iopub.status.idle": "2023-06-13T10:51:15.468923Z",
     "shell.execute_reply": "2023-06-13T10:51:15.467466Z",
     "shell.execute_reply.started": "2023-06-13T10:51:15.421505Z"
    }
   },
   "outputs": [
    {
     "data": {
      "text/html": [
       "<div>\n",
       "<style scoped>\n",
       "    .dataframe tbody tr th:only-of-type {\n",
       "        vertical-align: middle;\n",
       "    }\n",
       "\n",
       "    .dataframe tbody tr th {\n",
       "        vertical-align: top;\n",
       "    }\n",
       "\n",
       "    .dataframe thead th {\n",
       "        text-align: right;\n",
       "    }\n",
       "</style>\n",
       "<table border=\"1\" class=\"dataframe\">\n",
       "  <thead>\n",
       "    <tr style=\"text-align: right;\">\n",
       "      <th></th>\n",
       "      <th>MOVIES</th>\n",
       "      <th>YEAR</th>\n",
       "      <th>GENRE</th>\n",
       "      <th>RATING</th>\n",
       "      <th>ONE-LINE</th>\n",
       "      <th>STARS</th>\n",
       "      <th>VOTES</th>\n",
       "      <th>RunTime</th>\n",
       "      <th>Gross</th>\n",
       "    </tr>\n",
       "  </thead>\n",
       "  <tbody>\n",
       "    <tr>\n",
       "      <th>0</th>\n",
       "      <td>Blood Red Sky</td>\n",
       "      <td>2021</td>\n",
       "      <td>\\nAction, Horror, Thriller</td>\n",
       "      <td>6.1</td>\n",
       "      <td>\\nA woman with a mysterious illness is forced ...</td>\n",
       "      <td>\\n    Director:\\nPeter Thorwarth\\n| \\n    Star...</td>\n",
       "      <td>21,062</td>\n",
       "      <td>121.0</td>\n",
       "      <td>NaN</td>\n",
       "    </tr>\n",
       "    <tr>\n",
       "      <th>1</th>\n",
       "      <td>Masters of the Universe: Revelation</td>\n",
       "      <td>2021–</td>\n",
       "      <td>\\nAnimation, Action, Adventure</td>\n",
       "      <td>5.0</td>\n",
       "      <td>\\nThe war for Eternia begins again in what may...</td>\n",
       "      <td>\\n            \\n    Stars:\\nChris Wood, \\nSara...</td>\n",
       "      <td>17,870</td>\n",
       "      <td>25.0</td>\n",
       "      <td>NaN</td>\n",
       "    </tr>\n",
       "    <tr>\n",
       "      <th>2</th>\n",
       "      <td>The Walking Dead</td>\n",
       "      <td>2010–2022</td>\n",
       "      <td>\\nDrama, Horror, Thriller</td>\n",
       "      <td>8.2</td>\n",
       "      <td>\\nSheriff Deputy Rick Grimes wakes up from a c...</td>\n",
       "      <td>\\n            \\n    Stars:\\nAndrew Lincoln, \\n...</td>\n",
       "      <td>885,805</td>\n",
       "      <td>44.0</td>\n",
       "      <td>NaN</td>\n",
       "    </tr>\n",
       "    <tr>\n",
       "      <th>3</th>\n",
       "      <td>Rick and Morty</td>\n",
       "      <td>2013–</td>\n",
       "      <td>\\nAnimation, Adventure, Comedy</td>\n",
       "      <td>9.2</td>\n",
       "      <td>\\nAn animated series that follows the exploits...</td>\n",
       "      <td>\\n            \\n    Stars:\\nJustin Roiland, \\n...</td>\n",
       "      <td>414,849</td>\n",
       "      <td>23.0</td>\n",
       "      <td>NaN</td>\n",
       "    </tr>\n",
       "    <tr>\n",
       "      <th>4</th>\n",
       "      <td>Army of Thieves</td>\n",
       "      <td>2021</td>\n",
       "      <td>\\nAction, Crime, Horror</td>\n",
       "      <td>NaN</td>\n",
       "      <td>\\nA prequel, set before the events of Army of ...</td>\n",
       "      <td>\\n    Director:\\nMatthias Schweighöfer\\n| \\n  ...</td>\n",
       "      <td>NaN</td>\n",
       "      <td>NaN</td>\n",
       "      <td>NaN</td>\n",
       "    </tr>\n",
       "  </tbody>\n",
       "</table>\n",
       "</div>"
      ],
      "text/plain": [
       "                                MOVIES       YEAR  \\\n",
       "0                        Blood Red Sky       2021   \n",
       "1  Masters of the Universe: Revelation     2021–    \n",
       "2                     The Walking Dead  2010–2022   \n",
       "3                       Rick and Morty     2013–    \n",
       "4                      Army of Thieves       2021   \n",
       "\n",
       "                                        GENRE  RATING  \\\n",
       "0      \\nAction, Horror, Thriller                 6.1   \n",
       "1  \\nAnimation, Action, Adventure                 5.0   \n",
       "2       \\nDrama, Horror, Thriller                 8.2   \n",
       "3  \\nAnimation, Adventure, Comedy                 9.2   \n",
       "4         \\nAction, Crime, Horror                 NaN   \n",
       "\n",
       "                                            ONE-LINE  \\\n",
       "0  \\nA woman with a mysterious illness is forced ...   \n",
       "1  \\nThe war for Eternia begins again in what may...   \n",
       "2  \\nSheriff Deputy Rick Grimes wakes up from a c...   \n",
       "3  \\nAn animated series that follows the exploits...   \n",
       "4  \\nA prequel, set before the events of Army of ...   \n",
       "\n",
       "                                               STARS    VOTES  RunTime Gross  \n",
       "0  \\n    Director:\\nPeter Thorwarth\\n| \\n    Star...   21,062    121.0   NaN  \n",
       "1  \\n            \\n    Stars:\\nChris Wood, \\nSara...   17,870     25.0   NaN  \n",
       "2  \\n            \\n    Stars:\\nAndrew Lincoln, \\n...  885,805     44.0   NaN  \n",
       "3  \\n            \\n    Stars:\\nJustin Roiland, \\n...  414,849     23.0   NaN  \n",
       "4  \\n    Director:\\nMatthias Schweighöfer\\n| \\n  ...      NaN      NaN   NaN  "
      ]
     },
     "execution_count": 6,
     "metadata": {},
     "output_type": "execute_result"
    }
   ],
   "source": [
    "df1['YEAR'] = df1.YEAR.apply(lambda x: str(str(x).split(\"(\")[-1]).split(\")\")[0])\n",
    "df1.head()"
   ]
  },
  {
   "cell_type": "code",
   "execution_count": 8,
   "metadata": {
    "execution": {
     "iopub.execute_input": "2023-06-13T10:59:03.111800Z",
     "iopub.status.busy": "2023-06-13T10:59:03.111404Z",
     "iopub.status.idle": "2023-06-13T10:59:03.559124Z",
     "shell.execute_reply": "2023-06-13T10:59:03.558039Z",
     "shell.execute_reply.started": "2023-06-13T10:59:03.111767Z"
    }
   },
   "outputs": [],
   "source": [
    "df['YEAR'] = df.YEAR.apply(lambda x: str(str(x).split(\"(\")[-1]).split(\")\")[0])\n",
    "years= df.YEAR\n",
    "\n",
    "## years that end in \"-\" means that the show is still going,so its better to take this account in order to update it later on to current year.\n",
    "with_hypen=[]\n",
    "for i in range(len(years)):\n",
    "    if years[i][-1]==\" \":\n",
    "        with_hypen.append(1)\n",
    "    else:\n",
    "        with_hypen.append(0)\n",
    "df['hypen_year']=with_hypen\n",
    "\n",
    "## Getting only the interger values and joining the integere values to create year-like pattern YYYY-YYYY and separating them into differetn columns\n",
    "def convert(list):\n",
    "      \n",
    "    # Converting integer list to string list\n",
    "    s = [str(i) for i in list]\n",
    "      \n",
    "    # Join list items using join()\n",
    "    res = \"\".join(s)\n",
    "      \n",
    "    return(res)\n",
    "\n",
    "year=[]\n",
    "year_1=[]\n",
    "year_2=[]\n",
    "for i in range(len(df)):\n",
    "    a = re.findall(\"\\w\\d\",df.YEAR[i])\n",
    "    year.append(convert(a))\n",
    "    year_1.append(year[i][:4])\n",
    "    year_2.append(year[i][-4:])\n",
    "df['YEAR']=year\n",
    "df['beg_year']=year_1\n",
    "df['end_year']=year_2\n",
    "\n",
    "## Converting values to numeric values\n",
    "df['beg_year']=pd.to_numeric(df['beg_year'])\n",
    "df['end_year']=pd.to_numeric(df['end_year'])\n",
    "\n",
    "# updating all end years with - (eg:-2021-) to 2022\n",
    "hypen=[]\n",
    "for i in range(len(df)):\n",
    "    if df['hypen_year'][i]==1:\n",
    "        hypen.append(2022)\n",
    "    else:\n",
    "        hypen.append(df['end_year'][i])\n",
    "df['end_year']=hypen\n",
    "\n",
    "df['Num_years']=df['end_year']-df['beg_year']\n",
    "df.beg_year.fillna(0,inplace=True)\n",
    "df.end_year.fillna(0,inplace=True)\n",
    "df.Num_years.fillna(0,inplace=True)"
   ]
  },
  {
   "cell_type": "code",
   "execution_count": 12,
   "metadata": {
    "execution": {
     "iopub.execute_input": "2023-06-13T11:01:12.460340Z",
     "iopub.status.busy": "2023-06-13T11:01:12.459679Z",
     "iopub.status.idle": "2023-06-13T11:01:12.496565Z",
     "shell.execute_reply": "2023-06-13T11:01:12.495528Z",
     "shell.execute_reply.started": "2023-06-13T11:01:12.460290Z"
    }
   },
   "outputs": [
    {
     "data": {
      "text/html": [
       "<div>\n",
       "<style scoped>\n",
       "    .dataframe tbody tr th:only-of-type {\n",
       "        vertical-align: middle;\n",
       "    }\n",
       "\n",
       "    .dataframe tbody tr th {\n",
       "        vertical-align: top;\n",
       "    }\n",
       "\n",
       "    .dataframe thead th {\n",
       "        text-align: right;\n",
       "    }\n",
       "</style>\n",
       "<table border=\"1\" class=\"dataframe\">\n",
       "  <thead>\n",
       "    <tr style=\"text-align: right;\">\n",
       "      <th></th>\n",
       "      <th>MOVIES</th>\n",
       "      <th>YEAR</th>\n",
       "      <th>GENRE</th>\n",
       "      <th>RATING</th>\n",
       "      <th>ONE-LINE</th>\n",
       "      <th>STARS</th>\n",
       "      <th>VOTES</th>\n",
       "      <th>RunTime</th>\n",
       "      <th>Gross</th>\n",
       "      <th>hypen_year</th>\n",
       "      <th>beg_year</th>\n",
       "      <th>end_year</th>\n",
       "      <th>Num_years</th>\n",
       "    </tr>\n",
       "  </thead>\n",
       "  <tbody>\n",
       "    <tr>\n",
       "      <th>0</th>\n",
       "      <td>Blood Red Sky</td>\n",
       "      <td>2021</td>\n",
       "      <td>\\nAction, Horror, Thriller</td>\n",
       "      <td>6.1</td>\n",
       "      <td>\\nA woman with a mysterious illness is forced ...</td>\n",
       "      <td>\\n    Director:\\nPeter Thorwarth\\n| \\n    Star...</td>\n",
       "      <td>21,062</td>\n",
       "      <td>121.0</td>\n",
       "      <td>NaN</td>\n",
       "      <td>0</td>\n",
       "      <td>2021.0</td>\n",
       "      <td>2021.0</td>\n",
       "      <td>0.0</td>\n",
       "    </tr>\n",
       "    <tr>\n",
       "      <th>1</th>\n",
       "      <td>Masters of the Universe: Revelation</td>\n",
       "      <td>2021</td>\n",
       "      <td>\\nAnimation, Action, Adventure</td>\n",
       "      <td>5.0</td>\n",
       "      <td>\\nThe war for Eternia begins again in what may...</td>\n",
       "      <td>\\n            \\n    Stars:\\nChris Wood, \\nSara...</td>\n",
       "      <td>17,870</td>\n",
       "      <td>25.0</td>\n",
       "      <td>NaN</td>\n",
       "      <td>1</td>\n",
       "      <td>2021.0</td>\n",
       "      <td>2022.0</td>\n",
       "      <td>1.0</td>\n",
       "    </tr>\n",
       "    <tr>\n",
       "      <th>2</th>\n",
       "      <td>The Walking Dead</td>\n",
       "      <td>20102022</td>\n",
       "      <td>\\nDrama, Horror, Thriller</td>\n",
       "      <td>8.2</td>\n",
       "      <td>\\nSheriff Deputy Rick Grimes wakes up from a c...</td>\n",
       "      <td>\\n            \\n    Stars:\\nAndrew Lincoln, \\n...</td>\n",
       "      <td>885,805</td>\n",
       "      <td>44.0</td>\n",
       "      <td>NaN</td>\n",
       "      <td>0</td>\n",
       "      <td>2010.0</td>\n",
       "      <td>2022.0</td>\n",
       "      <td>12.0</td>\n",
       "    </tr>\n",
       "    <tr>\n",
       "      <th>3</th>\n",
       "      <td>Rick and Morty</td>\n",
       "      <td>2013</td>\n",
       "      <td>\\nAnimation, Adventure, Comedy</td>\n",
       "      <td>9.2</td>\n",
       "      <td>\\nAn animated series that follows the exploits...</td>\n",
       "      <td>\\n            \\n    Stars:\\nJustin Roiland, \\n...</td>\n",
       "      <td>414,849</td>\n",
       "      <td>23.0</td>\n",
       "      <td>NaN</td>\n",
       "      <td>1</td>\n",
       "      <td>2013.0</td>\n",
       "      <td>2022.0</td>\n",
       "      <td>9.0</td>\n",
       "    </tr>\n",
       "    <tr>\n",
       "      <th>4</th>\n",
       "      <td>Army of Thieves</td>\n",
       "      <td>2021</td>\n",
       "      <td>\\nAction, Crime, Horror</td>\n",
       "      <td>NaN</td>\n",
       "      <td>\\nA prequel, set before the events of Army of ...</td>\n",
       "      <td>\\n    Director:\\nMatthias Schweighöfer\\n| \\n  ...</td>\n",
       "      <td>NaN</td>\n",
       "      <td>NaN</td>\n",
       "      <td>NaN</td>\n",
       "      <td>0</td>\n",
       "      <td>2021.0</td>\n",
       "      <td>2021.0</td>\n",
       "      <td>0.0</td>\n",
       "    </tr>\n",
       "  </tbody>\n",
       "</table>\n",
       "</div>"
      ],
      "text/plain": [
       "                                MOVIES      YEAR  \\\n",
       "0                        Blood Red Sky      2021   \n",
       "1  Masters of the Universe: Revelation      2021   \n",
       "2                     The Walking Dead  20102022   \n",
       "3                       Rick and Morty      2013   \n",
       "4                      Army of Thieves      2021   \n",
       "\n",
       "                                        GENRE  RATING  \\\n",
       "0      \\nAction, Horror, Thriller                 6.1   \n",
       "1  \\nAnimation, Action, Adventure                 5.0   \n",
       "2       \\nDrama, Horror, Thriller                 8.2   \n",
       "3  \\nAnimation, Adventure, Comedy                 9.2   \n",
       "4         \\nAction, Crime, Horror                 NaN   \n",
       "\n",
       "                                            ONE-LINE  \\\n",
       "0  \\nA woman with a mysterious illness is forced ...   \n",
       "1  \\nThe war for Eternia begins again in what may...   \n",
       "2  \\nSheriff Deputy Rick Grimes wakes up from a c...   \n",
       "3  \\nAn animated series that follows the exploits...   \n",
       "4  \\nA prequel, set before the events of Army of ...   \n",
       "\n",
       "                                               STARS    VOTES  RunTime Gross  \\\n",
       "0  \\n    Director:\\nPeter Thorwarth\\n| \\n    Star...   21,062    121.0   NaN   \n",
       "1  \\n            \\n    Stars:\\nChris Wood, \\nSara...   17,870     25.0   NaN   \n",
       "2  \\n            \\n    Stars:\\nAndrew Lincoln, \\n...  885,805     44.0   NaN   \n",
       "3  \\n            \\n    Stars:\\nJustin Roiland, \\n...  414,849     23.0   NaN   \n",
       "4  \\n    Director:\\nMatthias Schweighöfer\\n| \\n  ...      NaN      NaN   NaN   \n",
       "\n",
       "   hypen_year  beg_year  end_year  Num_years  \n",
       "0           0    2021.0    2021.0        0.0  \n",
       "1           1    2021.0    2022.0        1.0  \n",
       "2           0    2010.0    2022.0       12.0  \n",
       "3           1    2013.0    2022.0        9.0  \n",
       "4           0    2021.0    2021.0        0.0  "
      ]
     },
     "execution_count": 12,
     "metadata": {},
     "output_type": "execute_result"
    }
   ],
   "source": [
    "df.head()"
   ]
  },
  {
   "cell_type": "markdown",
   "metadata": {},
   "source": [
    "### 2.2 Filling up the missing values "
   ]
  },
  {
   "cell_type": "code",
   "execution_count": 13,
   "metadata": {
    "execution": {
     "iopub.execute_input": "2023-06-13T11:01:41.312402Z",
     "iopub.status.busy": "2023-06-13T11:01:41.311975Z",
     "iopub.status.idle": "2023-06-13T11:01:41.342117Z",
     "shell.execute_reply": "2023-06-13T11:01:41.341213Z",
     "shell.execute_reply.started": "2023-06-13T11:01:41.312362Z"
    }
   },
   "outputs": [],
   "source": [
    "df['VOTES']=df['VOTES'].str.replace(\",\",\"\")\n",
    "df['VOTES']=pd.to_numeric(df['VOTES'])\n",
    "df['VOTES']=df['VOTES'].fillna(df.VOTES.median())\n",
    "\n",
    "df['RunTime']=df['RunTime'].fillna(df.RunTime.median())\n",
    "\n",
    "df['RATING']=df['RATING'].fillna(df.RATING.median())\n",
    "\n",
    "df['Gross'].fillna(\"0\",inplace=True)\n"
   ]
  },
  {
   "cell_type": "markdown",
   "metadata": {},
   "source": [
    "### 2.3 Creating features using genre column "
   ]
  },
  {
   "cell_type": "code",
   "execution_count": 14,
   "metadata": {
    "execution": {
     "iopub.execute_input": "2023-06-13T11:02:14.865987Z",
     "iopub.status.busy": "2023-06-13T11:02:14.865600Z",
     "iopub.status.idle": "2023-06-13T11:02:14.975026Z",
     "shell.execute_reply": "2023-06-13T11:02:14.973838Z",
     "shell.execute_reply.started": "2023-06-13T11:02:14.865954Z"
    }
   },
   "outputs": [
    {
     "data": {
      "text/plain": [
       "[(('Drama',), 4325),\n",
       " (('Comedy',), 2832),\n",
       " (('Action',), 2258),\n",
       " (('Adventure',), 1792),\n",
       " (('Animation',), 1732),\n",
       " (('Crime',), 1566),\n",
       " (('Documentary',), 1224),\n",
       " (('Thriller',), 910),\n",
       " (('Mystery',), 880),\n",
       " (('Romance',), 853)]"
      ]
     },
     "execution_count": 14,
     "metadata": {},
     "output_type": "execute_result"
    }
   ],
   "source": [
    "## Extracting the string values in genre's column\n",
    "\n",
    "df['GENRE'] = df['GENRE'].apply(lambda x: str(x).split(\"\\n\")[-1]) ## to remove \"\\n\" and fetch the value of the genre's\n",
    "\n",
    "df['GENRE'] = df['GENRE'].str.replace(' ', '') ## There are multiple unncessary spaces in genre \n",
    "\n",
    "df.head()\n",
    "\n",
    "\n",
    "## Counting the number of movies in which each genre is featured\n",
    "\n",
    "from itertools import combinations\n",
    "from collections import Counter\n",
    "\n",
    "count=Counter()\n",
    "\n",
    "for row in df['GENRE']:\n",
    "    row_split=row.split(\",\")\n",
    "    count.update(Counter(combinations(row_split,1)))\n",
    "    \n",
    "count.most_common(10)"
   ]
  },
  {
   "cell_type": "code",
   "execution_count": 15,
   "metadata": {
    "execution": {
     "iopub.execute_input": "2023-06-13T11:02:25.948249Z",
     "iopub.status.busy": "2023-06-13T11:02:25.947625Z",
     "iopub.status.idle": "2023-06-13T11:02:25.984029Z",
     "shell.execute_reply": "2023-06-13T11:02:25.982954Z",
     "shell.execute_reply.started": "2023-06-13T11:02:25.948168Z"
    }
   },
   "outputs": [
    {
     "data": {
      "text/html": [
       "<div>\n",
       "<style scoped>\n",
       "    .dataframe tbody tr th:only-of-type {\n",
       "        vertical-align: middle;\n",
       "    }\n",
       "\n",
       "    .dataframe tbody tr th {\n",
       "        vertical-align: top;\n",
       "    }\n",
       "\n",
       "    .dataframe thead th {\n",
       "        text-align: right;\n",
       "    }\n",
       "</style>\n",
       "<table border=\"1\" class=\"dataframe\">\n",
       "  <thead>\n",
       "    <tr style=\"text-align: right;\">\n",
       "      <th></th>\n",
       "      <th>MOVIES</th>\n",
       "      <th>YEAR</th>\n",
       "      <th>GENRE</th>\n",
       "      <th>RATING</th>\n",
       "      <th>ONE-LINE</th>\n",
       "      <th>STARS</th>\n",
       "      <th>VOTES</th>\n",
       "      <th>RunTime</th>\n",
       "      <th>Gross</th>\n",
       "      <th>hypen_year</th>\n",
       "      <th>beg_year</th>\n",
       "      <th>end_year</th>\n",
       "      <th>Num_years</th>\n",
       "    </tr>\n",
       "  </thead>\n",
       "  <tbody>\n",
       "    <tr>\n",
       "      <th>0</th>\n",
       "      <td>Blood Red Sky</td>\n",
       "      <td>2021</td>\n",
       "      <td>Action,Horror,Thriller</td>\n",
       "      <td>6.1</td>\n",
       "      <td>\\nA woman with a mysterious illness is forced ...</td>\n",
       "      <td>\\n    Director:\\nPeter Thorwarth\\n| \\n    Star...</td>\n",
       "      <td>21062.0</td>\n",
       "      <td>121.0</td>\n",
       "      <td>0</td>\n",
       "      <td>0</td>\n",
       "      <td>2021.0</td>\n",
       "      <td>2021.0</td>\n",
       "      <td>0.0</td>\n",
       "    </tr>\n",
       "    <tr>\n",
       "      <th>1</th>\n",
       "      <td>Masters of the Universe: Revelation</td>\n",
       "      <td>2021</td>\n",
       "      <td>Animation,Action,Adventure</td>\n",
       "      <td>5.0</td>\n",
       "      <td>\\nThe war for Eternia begins again in what may...</td>\n",
       "      <td>\\n            \\n    Stars:\\nChris Wood, \\nSara...</td>\n",
       "      <td>17870.0</td>\n",
       "      <td>25.0</td>\n",
       "      <td>0</td>\n",
       "      <td>1</td>\n",
       "      <td>2021.0</td>\n",
       "      <td>2022.0</td>\n",
       "      <td>1.0</td>\n",
       "    </tr>\n",
       "    <tr>\n",
       "      <th>2</th>\n",
       "      <td>The Walking Dead</td>\n",
       "      <td>20102022</td>\n",
       "      <td>Drama,Horror,Thriller</td>\n",
       "      <td>8.2</td>\n",
       "      <td>\\nSheriff Deputy Rick Grimes wakes up from a c...</td>\n",
       "      <td>\\n            \\n    Stars:\\nAndrew Lincoln, \\n...</td>\n",
       "      <td>885805.0</td>\n",
       "      <td>44.0</td>\n",
       "      <td>0</td>\n",
       "      <td>0</td>\n",
       "      <td>2010.0</td>\n",
       "      <td>2022.0</td>\n",
       "      <td>12.0</td>\n",
       "    </tr>\n",
       "    <tr>\n",
       "      <th>3</th>\n",
       "      <td>Rick and Morty</td>\n",
       "      <td>2013</td>\n",
       "      <td>Animation,Adventure,Comedy</td>\n",
       "      <td>9.2</td>\n",
       "      <td>\\nAn animated series that follows the exploits...</td>\n",
       "      <td>\\n            \\n    Stars:\\nJustin Roiland, \\n...</td>\n",
       "      <td>414849.0</td>\n",
       "      <td>23.0</td>\n",
       "      <td>0</td>\n",
       "      <td>1</td>\n",
       "      <td>2013.0</td>\n",
       "      <td>2022.0</td>\n",
       "      <td>9.0</td>\n",
       "    </tr>\n",
       "    <tr>\n",
       "      <th>4</th>\n",
       "      <td>Army of Thieves</td>\n",
       "      <td>2021</td>\n",
       "      <td>Action,Crime,Horror</td>\n",
       "      <td>7.1</td>\n",
       "      <td>\\nA prequel, set before the events of Army of ...</td>\n",
       "      <td>\\n    Director:\\nMatthias Schweighöfer\\n| \\n  ...</td>\n",
       "      <td>789.0</td>\n",
       "      <td>60.0</td>\n",
       "      <td>0</td>\n",
       "      <td>0</td>\n",
       "      <td>2021.0</td>\n",
       "      <td>2021.0</td>\n",
       "      <td>0.0</td>\n",
       "    </tr>\n",
       "  </tbody>\n",
       "</table>\n",
       "</div>"
      ],
      "text/plain": [
       "                                MOVIES      YEAR                       GENRE  \\\n",
       "0                        Blood Red Sky      2021      Action,Horror,Thriller   \n",
       "1  Masters of the Universe: Revelation      2021  Animation,Action,Adventure   \n",
       "2                     The Walking Dead  20102022       Drama,Horror,Thriller   \n",
       "3                       Rick and Morty      2013  Animation,Adventure,Comedy   \n",
       "4                      Army of Thieves      2021         Action,Crime,Horror   \n",
       "\n",
       "   RATING                                           ONE-LINE  \\\n",
       "0     6.1  \\nA woman with a mysterious illness is forced ...   \n",
       "1     5.0  \\nThe war for Eternia begins again in what may...   \n",
       "2     8.2  \\nSheriff Deputy Rick Grimes wakes up from a c...   \n",
       "3     9.2  \\nAn animated series that follows the exploits...   \n",
       "4     7.1  \\nA prequel, set before the events of Army of ...   \n",
       "\n",
       "                                               STARS     VOTES  RunTime Gross  \\\n",
       "0  \\n    Director:\\nPeter Thorwarth\\n| \\n    Star...   21062.0    121.0     0   \n",
       "1  \\n            \\n    Stars:\\nChris Wood, \\nSara...   17870.0     25.0     0   \n",
       "2  \\n            \\n    Stars:\\nAndrew Lincoln, \\n...  885805.0     44.0     0   \n",
       "3  \\n            \\n    Stars:\\nJustin Roiland, \\n...  414849.0     23.0     0   \n",
       "4  \\n    Director:\\nMatthias Schweighöfer\\n| \\n  ...     789.0     60.0     0   \n",
       "\n",
       "   hypen_year  beg_year  end_year  Num_years  \n",
       "0           0    2021.0    2021.0        0.0  \n",
       "1           1    2021.0    2022.0        1.0  \n",
       "2           0    2010.0    2022.0       12.0  \n",
       "3           1    2013.0    2022.0        9.0  \n",
       "4           0    2021.0    2021.0        0.0  "
      ]
     },
     "execution_count": 15,
     "metadata": {},
     "output_type": "execute_result"
    }
   ],
   "source": [
    "df.head()"
   ]
  },
  {
   "cell_type": "code",
   "execution_count": 17,
   "metadata": {
    "execution": {
     "iopub.execute_input": "2023-06-13T11:26:59.753178Z",
     "iopub.status.busy": "2023-06-13T11:26:59.752802Z",
     "iopub.status.idle": "2023-06-13T11:30:33.666797Z",
     "shell.execute_reply": "2023-06-13T11:30:33.665773Z",
     "shell.execute_reply.started": "2023-06-13T11:26:59.753145Z"
    }
   },
   "outputs": [],
   "source": [
    "## getting all genres in a list format\n",
    "\n",
    "genre=[]\n",
    "\n",
    "for i,key in enumerate(count):\n",
    "    genre.append(str(key).split(\"(\")[-1].split(\"'\")[1]) ## getting rid of unncessary parts of the string\n",
    "\n",
    "## creating columns for each genre and updating the respecting values\n",
    "\n",
    "df[genre]=0\n",
    "\n",
    "for i in range(len(df)):\n",
    "    for j in range(len(genre)):\n",
    "        df_temp=pd.DataFrame([df.GENRE[i]],columns=[\"genre\"]) ## creating a temperory dataframe for using str.contains function on each row of genre.\n",
    "        if df_temp['genre'].str.contains(genre[j]).sum()==1:\n",
    "            df[genre[j]][i]=1\n",
    "        else:\n",
    "            pass\n",
    "        \n",
    "## `This cell will take time to run.`"
   ]
  },
  {
   "cell_type": "code",
   "execution_count": null,
   "metadata": {
    "execution": {
     "iopub.status.busy": "2023-06-13T11:26:50.331346Z",
     "iopub.status.idle": "2023-06-13T11:26:50.332160Z",
     "shell.execute_reply": "2023-06-13T11:26:50.331916Z",
     "shell.execute_reply.started": "2023-06-13T11:26:50.331890Z"
    }
   },
   "outputs": [],
   "source": [
    "df.head()"
   ]
  },
  {
   "cell_type": "code",
   "execution_count": null,
   "metadata": {
    "execution": {
     "iopub.execute_input": "2022-10-14T11:29:33.894904Z",
     "iopub.status.busy": "2022-10-14T11:29:33.894541Z",
     "iopub.status.idle": "2022-10-14T11:29:33.901463Z",
     "shell.execute_reply": "2022-10-14T11:29:33.900455Z",
     "shell.execute_reply.started": "2022-10-14T11:29:33.894874Z"
    },
    "scrolled": true
   },
   "outputs": [],
   "source": [
    "df_new =df.copy() ## creating a copy of the data is useful because such commitments to the data can lead to complications."
   ]
  },
  {
   "cell_type": "markdown",
   "metadata": {},
   "source": [
    "### 2.4 Cleaning Stars Column ( separating actors and directors )"
   ]
  },
  {
   "cell_type": "code",
   "execution_count": null,
   "metadata": {
    "execution": {
     "iopub.execute_input": "2022-10-14T11:29:34.954826Z",
     "iopub.status.busy": "2022-10-14T11:29:34.95442Z",
     "iopub.status.idle": "2022-10-14T11:29:35.015034Z",
     "shell.execute_reply": "2022-10-14T11:29:35.014106Z",
     "shell.execute_reply.started": "2022-10-14T11:29:34.954791Z"
    }
   },
   "outputs": [],
   "source": [
    "df['director']=df['STARS'].apply(lambda x: str(x).split(\"Star\")[0])\n",
    "df['actors'] = df['STARS'].apply(lambda x: str(x).split(\"Star\")[-1])\n",
    "\n",
    "df['actors']=df['actors'].str.replace(\"\\n\",\"\").str.replace(\"s:\",\"\")\n",
    "df['director']= df['director'].apply(lambda x: x.split(\":\")[-1]).str.replace(\"\\n\",\"\").str.replace(\"|\",\"\")"
   ]
  },
  {
   "cell_type": "code",
   "execution_count": null,
   "metadata": {
    "execution": {
     "iopub.execute_input": "2022-10-14T11:29:35.31487Z",
     "iopub.status.busy": "2022-10-14T11:29:35.314209Z",
     "iopub.status.idle": "2022-10-14T11:29:35.407672Z",
     "shell.execute_reply": "2022-10-14T11:29:35.406666Z",
     "shell.execute_reply.started": "2022-10-14T11:29:35.314827Z"
    },
    "scrolled": true
   },
   "outputs": [],
   "source": [
    "famous_actors = df['actors'].str.lower().str.replace(\" \",\"\")\n",
    "\n",
    "from itertools import combinations\n",
    "from collections import Counter\n",
    "\n",
    "count=Counter()\n",
    "for row in famous_actors:\n",
    "    row_split=row.split(\",\")\n",
    "    count.update(Counter(combinations(row_split,1)))\n",
    "    \n",
    "count.most_common(10)"
   ]
  },
  {
   "cell_type": "code",
   "execution_count": null,
   "metadata": {
    "execution": {
     "iopub.execute_input": "2022-10-14T11:29:36.694659Z",
     "iopub.status.busy": "2022-10-14T11:29:36.69426Z",
     "iopub.status.idle": "2022-10-14T11:29:36.714632Z",
     "shell.execute_reply": "2022-10-14T11:29:36.713672Z",
     "shell.execute_reply.started": "2022-10-14T11:29:36.694628Z"
    }
   },
   "outputs": [],
   "source": [
    "## Dropping irrelevent columns\n",
    "df_cleaned = df.drop([\"STARS\",'YEAR', 'hypen_year', 'end_year'],axis=1)\n",
    "df_cleaned.drop_duplicates(\"MOVIES\",inplace=True)"
   ]
  },
  {
   "cell_type": "code",
   "execution_count": null,
   "metadata": {
    "execution": {
     "iopub.execute_input": "2022-10-14T11:29:37.1954Z",
     "iopub.status.busy": "2022-10-14T11:29:37.194538Z",
     "iopub.status.idle": "2022-10-14T11:29:37.221283Z",
     "shell.execute_reply": "2022-10-14T11:29:37.22019Z",
     "shell.execute_reply.started": "2022-10-14T11:29:37.195354Z"
    },
    "scrolled": true
   },
   "outputs": [],
   "source": [
    "df_cleaned.head()"
   ]
  },
  {
   "cell_type": "markdown",
   "metadata": {},
   "source": [
    "**You can use this cleaned data to further perform EDA or build some algorithm to predict the ratings of a movie or build a movie recommendation system.**"
   ]
  },
  {
   "cell_type": "markdown",
   "metadata": {},
   "source": [
    "## 3.Exploratory Data Analysis"
   ]
  },
  {
   "cell_type": "markdown",
   "metadata": {},
   "source": [
    "### 3.1 Top Grossing Movies"
   ]
  },
  {
   "cell_type": "code",
   "execution_count": null,
   "metadata": {
    "execution": {
     "iopub.execute_input": "2022-10-14T11:29:40.355163Z",
     "iopub.status.busy": "2022-10-14T11:29:40.35434Z",
     "iopub.status.idle": "2022-10-14T11:29:40.689Z",
     "shell.execute_reply": "2022-10-14T11:29:40.688046Z",
     "shell.execute_reply.started": "2022-10-14T11:29:40.355116Z"
    },
    "scrolled": true
   },
   "outputs": [],
   "source": [
    "df['Gross']=df['Gross'].str.replace(\"$\",\"\").str.replace(\"M\",\"\")\n",
    "df['New_Gross'] = pd.to_numeric(df['Gross'])\n",
    "df['New_Gross']=df['New_Gross']*1000000\n",
    "gross_amount = df['Gross'].sort_values(ascending=False).values[:10]\n",
    "gross_amount = [float(i)*1000000 for i in gross_amount]\n",
    "idx = df['Gross'].sort_values(ascending=False).index[:10]\n",
    "movies=df.iloc[idx]['MOVIES']\n",
    "\n",
    "plt.figure(figsize=(10,5))\n",
    "sns.barplot(x=movies,y=gross_amount,palette=\"autumn\")\n",
    "plt.xlabel(\"Grossing_amount\")\n",
    "plt.ylabel(\"Movies\")\n",
    "plt.xticks(rotation=90)\n",
    "current_values = plt.gca().get_yticks()\n",
    "plt.gca().set_yticklabels(['{:.0f}'.format(x) for x in current_values])\n",
    "plt.title(label=\"TOP GROSSING MOVIES\")"
   ]
  },
  {
   "cell_type": "markdown",
   "metadata": {},
   "source": [
    "### 3.2 Voting recieved by all movies(top 10)"
   ]
  },
  {
   "cell_type": "code",
   "execution_count": null,
   "metadata": {
    "execution": {
     "iopub.execute_input": "2022-10-14T11:29:47.054551Z",
     "iopub.status.busy": "2022-10-14T11:29:47.054186Z",
     "iopub.status.idle": "2022-10-14T11:29:47.383847Z",
     "shell.execute_reply": "2022-10-14T11:29:47.382654Z",
     "shell.execute_reply.started": "2022-10-14T11:29:47.054522Z"
    }
   },
   "outputs": [],
   "source": [
    "movies = df_cleaned.groupby(\"MOVIES\")['VOTES'].sum().sort_values(ascending=False).reset_index(name=\"VOTES\")[0:10]\n",
    "plt.figure(figsize=(12,7))\n",
    "font = {'color':  'navy',\n",
    "        'weight': 'normal',\n",
    "        'size': 20,\n",
    "        }\n",
    "sns.barplot(y='MOVIES',x='VOTES',data=movies,palette=\"icefire\")\n",
    "plt.ylabel(\"Movies\",fontdict=font)\n",
    "plt.xlabel(\"Number of Votes\",fontdict=font)\n",
    "plt.yticks(rotation=0)\n",
    "current_values = plt.gca().get_xticks()\n",
    "plt.gca().set_xticklabels(['{:.0f}'.format(x) for x in current_values])\n",
    "plt.title(label=\"MOST VOTED MOVIES\",fontdict=font)"
   ]
  },
  {
   "cell_type": "markdown",
   "metadata": {},
   "source": [
    "### 3.3 Which genre is most Popuular among viewers"
   ]
  },
  {
   "cell_type": "code",
   "execution_count": null,
   "metadata": {
    "execution": {
     "iopub.execute_input": "2022-10-14T11:29:48.976042Z",
     "iopub.status.busy": "2022-10-14T11:29:48.975047Z",
     "iopub.status.idle": "2022-10-14T11:29:49.021919Z",
     "shell.execute_reply": "2022-10-14T11:29:49.02068Z",
     "shell.execute_reply.started": "2022-10-14T11:29:48.975998Z"
    }
   },
   "outputs": [],
   "source": [
    "## Counting the number of movies in which each genre is featured\n",
    "\n",
    "from itertools import combinations\n",
    "from collections import Counter\n",
    "\n",
    "count=Counter()\n",
    "\n",
    "for row in df_cleaned['GENRE']:\n",
    "    row_split=row.split(\",\")\n",
    "    count.update(Counter(combinations(row_split,1)))\n",
    "genre_counter = count\n",
    "genre_count = dict(count.most_common(10))"
   ]
  },
  {
   "cell_type": "code",
   "execution_count": null,
   "metadata": {
    "execution": {
     "iopub.execute_input": "2022-10-14T11:29:50.705037Z",
     "iopub.status.busy": "2022-10-14T11:29:50.704009Z",
     "iopub.status.idle": "2022-10-14T11:29:50.979241Z",
     "shell.execute_reply": "2022-10-14T11:29:50.978321Z",
     "shell.execute_reply.started": "2022-10-14T11:29:50.704998Z"
    }
   },
   "outputs": [],
   "source": [
    "genres = list(genre_count.keys())\n",
    "genres = [str(a).replace(\",\",\"\").replace(\")\",\"\").replace(\"(\",\"\").replace(\"'\",\"\") for a in genres]\n",
    "\n",
    "count_of_genres = list(genre_count.values())\n",
    "\n",
    "\n",
    "plt.figure(figsize=(10,5))\n",
    "font = {'color':  'navy',\n",
    "        'weight': 'normal',\n",
    "        'size': 20,\n",
    "        }\n",
    "\n",
    "sns.barplot(x=genres,y=count_of_genres,palette=\"dark\")\n",
    "plt.xlabel(\"Genre's\",\n",
    "           fontdict=font)\n",
    "\n",
    "plt.ylabel(\"Popualarity\"\n",
    "           ,fontdict=font)\n",
    "\n",
    "plt.xticks(rotation=90)\n",
    "\n",
    "current_values = plt.gca().get_yticks()\n",
    "plt.gca().set_yticklabels(['{:.0f}'.format(x) for x in current_values])\n",
    "\n",
    "plt.title(label=\"MOST POPULAR GENRE\",fontdict=font)"
   ]
  },
  {
   "cell_type": "code",
   "execution_count": null,
   "metadata": {
    "execution": {
     "iopub.execute_input": "2022-10-14T11:30:00.695249Z",
     "iopub.status.busy": "2022-10-14T11:30:00.694843Z",
     "iopub.status.idle": "2022-10-14T11:30:00.717144Z",
     "shell.execute_reply": "2022-10-14T11:30:00.716204Z",
     "shell.execute_reply.started": "2022-10-14T11:30:00.695216Z"
    }
   },
   "outputs": [],
   "source": [
    "genre_raw = df_cleaned['GENRE'].dropna().to_list()\n",
    "genre_list = list()\n",
    "\n",
    "for genres in genre_raw:\n",
    "    genres = genres.split(\",\")\n",
    "    for g in genres:\n",
    "        genre_list.append(g)\n",
    "        \n",
    "genre_df = pd.DataFrame.from_dict(Counter(genre_list), orient = 'index').rename(columns = {0:'Count'})\n",
    "genre_df.head()"
   ]
  },
  {
   "cell_type": "code",
   "execution_count": null,
   "metadata": {
    "execution": {
     "iopub.execute_input": "2022-10-14T11:30:00.974918Z",
     "iopub.status.busy": "2022-10-14T11:30:00.974563Z",
     "iopub.status.idle": "2022-10-14T11:30:01.746101Z",
     "shell.execute_reply": "2022-10-14T11:30:01.745151Z",
     "shell.execute_reply.started": "2022-10-14T11:30:00.97489Z"
    }
   },
   "outputs": [],
   "source": [
    "fig = px.pie(data_frame = genre_df,\n",
    "             values = 'Count',\n",
    "             names = genre_df.index,\n",
    "             color_discrete_sequence = px.colors.qualitative.Safe)\n",
    "\n",
    "fig.update_traces(textposition = 'inside',\n",
    "                  textinfo = 'label+percent',\n",
    "                  pull = [0.05] * len(genre_df.index.to_list()))\n",
    "\n",
    "fig.update_layout(title = {'text':'Genre Distribution'},\n",
    "                  legend_title = 'Genre',\n",
    "                  uniformtext_minsize=13,\n",
    "                  uniformtext_mode='hide',\n",
    "                  font = dict(\n",
    "                      family = \"Courier New, monospace\",\n",
    "                      size = 18,\n",
    "                      color = 'black'\n",
    "                  ))\n",
    "\n",
    "\n",
    "fig.show()"
   ]
  },
  {
   "cell_type": "markdown",
   "metadata": {},
   "source": [
    "### 3.4 Total Gross amount every year by the industry"
   ]
  },
  {
   "cell_type": "code",
   "execution_count": null,
   "metadata": {
    "execution": {
     "iopub.execute_input": "2022-10-14T11:31:05.405714Z",
     "iopub.status.busy": "2022-10-14T11:31:05.405022Z",
     "iopub.status.idle": "2022-10-14T11:31:05.646043Z",
     "shell.execute_reply": "2022-10-14T11:31:05.645051Z",
     "shell.execute_reply.started": "2022-10-14T11:31:05.405677Z"
    },
    "scrolled": true
   },
   "outputs": [],
   "source": [
    "## Dropping irrelevent columns\n",
    "df_cleaned = df.drop([\"STARS\",'YEAR', 'hypen_year', 'end_year'],axis=1)\n",
    "df_cleaned.drop_duplicates(\"MOVIES\",inplace=True)\n",
    "\n",
    "df['beg_year']=df_cleaned[\"beg_year\"].astype(int)\n",
    "yearwise_earnings = df_cleaned.groupby('beg_year')['New_Gross'].sum().reset_index().sort_values(\"beg_year\",ascending=False).reset_index()\n",
    "\n",
    "plt.figure(figsize=(10,5))\n",
    "sns.lineplot(x=\"beg_year\",y=\"New_Gross\",data=yearwise_earnings[10:20],palette=\"viridis\")\n",
    "plt.xlabel(\"Years\",fontsize=20)\n",
    "plt.ylabel(\"Total Grossings\",fontsize=20)\n",
    "plt.xticks(rotation=90)\n",
    "\n",
    "current_values = plt.gca().get_yticks()\n",
    "plt.gca().set_yticklabels(['{:.0f}'.format(x) for x in current_values])\n",
    "plt.title(label=\"Grossing every Year\",fontsize=\"25\")\n",
    "\n",
    "plt.show()"
   ]
  },
  {
   "cell_type": "markdown",
   "metadata": {},
   "source": [
    "### 3.5 Runtime of the movies (Top 10)"
   ]
  },
  {
   "cell_type": "code",
   "execution_count": null,
   "metadata": {
    "execution": {
     "iopub.execute_input": "2022-10-14T11:31:09.234662Z",
     "iopub.status.busy": "2022-10-14T11:31:09.234296Z",
     "iopub.status.idle": "2022-10-14T11:31:09.543166Z",
     "shell.execute_reply": "2022-10-14T11:31:09.542068Z",
     "shell.execute_reply.started": "2022-10-14T11:31:09.234631Z"
    }
   },
   "outputs": [],
   "source": [
    "runtime_df=df_cleaned.groupby(\"MOVIES\")['RunTime'].sum().sort_values(ascending=False).reset_index()[:10]\n",
    "plt.figure(figsize=(14,8))\n",
    "ax = sns.barplot(x=\"MOVIES\",y=\"RunTime\",data=runtime_df,palette=\"viridis\")\n",
    "plt.xlabel(\"MOVIES\",fontsize=20)\n",
    "plt.ylabel(\"Total Runtime\",fontsize=20)\n",
    "plt.xticks(rotation=90)\n",
    "\n",
    "current_values = plt.gca().get_yticks()\n",
    "plt.gca().set_yticklabels(['{:.0f}'.format(x) for x in current_values])\n",
    "plt.title(label=\"Movies with Most RunTime\",fontsize=\"25\")"
   ]
  },
  {
   "cell_type": "markdown",
   "metadata": {},
   "source": [
    "### 3.6 Most Frequency of Rating"
   ]
  },
  {
   "cell_type": "code",
   "execution_count": null,
   "metadata": {
    "execution": {
     "iopub.execute_input": "2022-10-14T11:31:10.745811Z",
     "iopub.status.busy": "2022-10-14T11:31:10.745105Z",
     "iopub.status.idle": "2022-10-14T11:31:11.005982Z",
     "shell.execute_reply": "2022-10-14T11:31:11.005029Z",
     "shell.execute_reply.started": "2022-10-14T11:31:10.745776Z"
    }
   },
   "outputs": [],
   "source": [
    "df_rating = df_cleaned.sort_values(\"RATING\",ascending=False).reset_index()[[\"MOVIES\",\"RATING\"]]\n",
    "df_rating[\"RATING\"] = np.round(df_rating['RATING'])\n",
    "\n",
    "df_rating = df_rating.groupby(\"RATING\")['MOVIES'].count().reset_index().rename(columns={\"MOVIES\":\"MOVIES_COUNT\"})\n",
    "\n",
    "plt.figure(figsize=(10,5))\n",
    "sns.barplot(x=\"RATING\",y=\"MOVIES_COUNT\",data=df_rating,palette=\"cubehelix\")\n",
    "plt.xlabel(\"Rating\",fontsize=20)\n",
    "plt.ylabel(\"Number of Movies\",fontsize=20)\n",
    "\n",
    "current_values = plt.gca().get_yticks()\n",
    "plt.gca().set_yticklabels(['{:.0f}'.format(x) for x in current_values])\n",
    "plt.title(label=\"Rating v/ Number of Movies\",fontsize=\"25\")\n",
    "\n",
    "plt.show()"
   ]
  },
  {
   "cell_type": "markdown",
   "metadata": {},
   "source": [
    "### 3.7 Most Popular actor"
   ]
  },
  {
   "cell_type": "code",
   "execution_count": null,
   "metadata": {
    "execution": {
     "iopub.execute_input": "2022-10-14T11:31:11.361963Z",
     "iopub.status.busy": "2022-10-14T11:31:11.359367Z",
     "iopub.status.idle": "2022-10-14T11:31:11.683951Z",
     "shell.execute_reply": "2022-10-14T11:31:11.681505Z",
     "shell.execute_reply.started": "2022-10-14T11:31:11.361923Z"
    }
   },
   "outputs": [],
   "source": [
    "from itertools import combinations\n",
    "from collections import Counter\n",
    "\n",
    "count=Counter()\n",
    "\n",
    "for row in df_cleaned['actors']:\n",
    "    row_split=row.split(\",\")\n",
    "    count.update(Counter(combinations(row_split,1)))\n",
    "    \n",
    "actors_count = dict(count.most_common(11))\n",
    "\n",
    "count_of_actors = list(actors_count.values())[1:]\n",
    "\n",
    "actors_count = list(actors_count.keys())\n",
    "actors_count = [str(a).replace(\",\",\"\").replace(\")\",\"\").replace(\"(\",\"\").replace(\"'\",\"\") for a in actors_count][1:]\n",
    "\n",
    "plt.figure(figsize=(10,5))\n",
    "font = {'color':  'navy',\n",
    "        'weight': 'normal',\n",
    "        'size': 20,\n",
    "        }\n",
    "\n",
    "sns.barplot(x=actors_count,y=count_of_actors,palette=\"winter\")\n",
    "plt.xlabel(\"Actors\",fontdict=font)\n",
    "plt.ylabel(\"Number of MOVIES\",fontdict=font)\n",
    "plt.xticks(rotation=90)\n",
    "current_values = plt.gca().get_yticks()\n",
    "plt.gca().set_yticklabels(['{:.0f}'.format(x) for x in current_values])\n",
    "plt.title(label=\"MOST POPULAR ACTOR\",fontdict=font)"
   ]
  },
  {
   "cell_type": "code",
   "execution_count": null,
   "metadata": {
    "execution": {
     "iopub.execute_input": "2022-10-14T11:31:11.687421Z",
     "iopub.status.busy": "2022-10-14T11:31:11.685777Z",
     "iopub.status.idle": "2022-10-14T11:31:11.71107Z",
     "shell.execute_reply": "2022-10-14T11:31:11.710104Z",
     "shell.execute_reply.started": "2022-10-14T11:31:11.68738Z"
    }
   },
   "outputs": [],
   "source": [
    "temp_df= df_cleaned.sort_values(\"RATING\",ascending=False)\n",
    "temp_df =temp_df[temp_df[\"VOTES\"]>5000].reset_index().iloc[:1000]\n",
    "temp_df=temp_df[['MOVIES',\"RATING\",\"VOTES\",\"GENRE\"]]\n",
    "\n",
    "## Counting the number of movies in which each genre is featured\n",
    "\n",
    "from itertools import combinations\n",
    "from collections import Counter\n",
    "\n",
    "count=Counter()\n",
    "\n",
    "for row in temp_df['GENRE']:\n",
    "    row_split=row.split(\",\")\n",
    "    count.update(Counter(combinations(row_split,1)))\n",
    "    \n",
    "count.most_common(10)\n",
    "\n",
    "## To have a higher rating the most famous genres are drama,comdey,action and crime."
   ]
  },
  {
   "cell_type": "markdown",
   "metadata": {},
   "source": [
    "## 4.Movie Recommendation System"
   ]
  },
  {
   "cell_type": "code",
   "execution_count": null,
   "metadata": {
    "execution": {
     "iopub.execute_input": "2022-10-14T11:31:11.945778Z",
     "iopub.status.busy": "2022-10-14T11:31:11.945413Z",
     "iopub.status.idle": "2022-10-14T11:31:14.210148Z",
     "shell.execute_reply": "2022-10-14T11:31:14.209178Z",
     "shell.execute_reply.started": "2022-10-14T11:31:11.945747Z"
    }
   },
   "outputs": [],
   "source": [
    "# Features  using GENRE, RATING??, ONE-LINE, RunTime??, Director, Stars\n",
    "\n",
    "from sklearn.feature_extraction.text import CountVectorizer\n",
    "from sklearn.metrics.pairwise import cosine_similarity\n",
    "\n",
    "features = ['GENRE','ONE-LINE','director','actors']\n",
    "\n",
    "# Filling in missing values with Blank String\n",
    "for feature in features:\n",
    "    df_cleaned[feature] = df_cleaned[feature].fillna(\"\")\n",
    "\n",
    "df_cleaned['combined_features'] = df_cleaned['GENRE'] + \" \" + df_cleaned['ONE-LINE'] + \" \" + df_cleaned['director'] + \" \" + df_cleaned['actors'] \n",
    "cv = CountVectorizer()\n",
    "count_matrix = cv.fit_transform(df_cleaned['combined_features'])\n",
    "cosine_sim = cosine_similarity(count_matrix)"
   ]
  },
  {
   "cell_type": "code",
   "execution_count": null,
   "metadata": {
    "execution": {
     "iopub.execute_input": "2022-10-14T11:31:14.212379Z",
     "iopub.status.busy": "2022-10-14T11:31:14.212014Z",
     "iopub.status.idle": "2022-10-14T11:31:14.221156Z",
     "shell.execute_reply": "2022-10-14T11:31:14.220183Z",
     "shell.execute_reply.started": "2022-10-14T11:31:14.212345Z"
    }
   },
   "outputs": [],
   "source": [
    "def movie_recommendation(mov,sim_num = 5):\n",
    "\n",
    "    user_choice = mov\n",
    "    \n",
    "    try:\n",
    "        ref_index = df_cleaned[df_cleaned['MOVIES'].str.contains(user_choice, case = False)].index[0]\n",
    "\n",
    "        similar_movies = list(enumerate(cosine_sim[ref_index]))\n",
    "\n",
    "        sorted_simmilar_movies = sorted(similar_movies, key = lambda x: x[1], reverse = True)[1:]\n",
    "\n",
    "        print('\\nRecomended Movies for [{}]'.format(user_choice))\n",
    "        print('-'*(24 + len(user_choice)))\n",
    "\n",
    "        for i, element in enumerate(sorted_simmilar_movies):\n",
    "            similar_movie_id = element[0]\n",
    "            similar_movie_title = df_cleaned['MOVIES'].iloc[similar_movie_id]\n",
    "            s_score = element[1]\n",
    "            print('{:40} -> {:.3f}'.format(similar_movie_title, s_score))\n",
    "\n",
    "            if i > sim_num:\n",
    "                break\n",
    "    except IndexError:\n",
    "        print(\"\\n[{}] is not in our database!\".format(user_choice))\n",
    "        print(\"We couldn't recommend anyting...Sorry...\")"
   ]
  },
  {
   "cell_type": "code",
   "execution_count": null,
   "metadata": {
    "execution": {
     "iopub.execute_input": "2022-10-14T11:31:14.223505Z",
     "iopub.status.busy": "2022-10-14T11:31:14.222883Z",
     "iopub.status.idle": "2022-10-14T11:31:14.249499Z",
     "shell.execute_reply": "2022-10-14T11:31:14.248539Z",
     "shell.execute_reply.started": "2022-10-14T11:31:14.223467Z"
    }
   },
   "outputs": [],
   "source": [
    "movie_recommendation(\"spider\",sim_num=10)"
   ]
  }
 ],
 "metadata": {
  "kernelspec": {
   "display_name": "Python 3 (ipykernel)",
   "language": "python",
   "name": "python3"
  },
  "language_info": {
   "codemirror_mode": {
    "name": "ipython",
    "version": 3
   },
   "file_extension": ".py",
   "mimetype": "text/x-python",
   "name": "python",
   "nbconvert_exporter": "python",
   "pygments_lexer": "ipython3",
   "version": "3.9.12"
  },
  "latex_envs": {
   "LaTeX_envs_menu_present": true,
   "autoclose": false,
   "autocomplete": true,
   "bibliofile": "biblio.bib",
   "cite_by": "apalike",
   "current_citInitial": 1,
   "eqLabelWithNumbers": true,
   "eqNumInitial": 1,
   "hotkeys": {
    "equation": "Ctrl-E",
    "itemize": "Ctrl-I"
   },
   "labels_anchors": false,
   "latex_user_defs": false,
   "report_style_numbering": false,
   "user_envs_cfg": false
  },
  "toc": {
   "base_numbering": 1,
   "nav_menu": {},
   "number_sections": true,
   "sideBar": true,
   "skip_h1_title": false,
   "title_cell": "Table of Contents",
   "title_sidebar": "Contents",
   "toc_cell": false,
   "toc_position": {},
   "toc_section_display": true,
   "toc_window_display": false
  }
 },
 "nbformat": 4,
 "nbformat_minor": 4
}
